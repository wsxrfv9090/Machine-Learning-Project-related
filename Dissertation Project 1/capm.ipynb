{
 "cells": [
  {
   "cell_type": "markdown",
   "metadata": {},
   "source": [
    "This project is used to culculate the estimate alpha and beta in capm formala."
   ]
  },
  {
   "cell_type": "code",
   "execution_count": 1,
   "metadata": {},
   "outputs": [],
   "source": [
    "import pandas as pd\n",
    "import file_operations\n",
    "import os\n",
    "import statsmodels.api as sm\n",
    "from numpy import nan as nan\n",
    "from datetime import datetime\n",
    "import csv"
   ]
  },
  {
   "cell_type": "markdown",
   "metadata": {},
   "source": [
    "### Get current date as a tag for later use."
   ]
  },
  {
   "cell_type": "code",
   "execution_count": 2,
   "metadata": {},
   "outputs": [],
   "source": [
    "Current_Date_TAG_1 = datetime.now().strftime(\"%Y-%m-%d\")"
   ]
  },
  {
   "cell_type": "markdown",
   "metadata": {},
   "source": [
    "# Getting the E(R_i) and E(R_m) data."
   ]
  },
  {
   "cell_type": "markdown",
   "metadata": {},
   "source": [
    "## Getting current working directory and data directory."
   ]
  },
  {
   "cell_type": "code",
   "execution_count": 3,
   "metadata": {},
   "outputs": [
    {
     "name": "stdout",
     "output_type": "stream",
     "text": [
      "Current working directory: d:\\ImportanFiles\\Coding Related\\Repositories\\Machine Learning project related\\Dissertation Project 1\n"
     ]
    }
   ],
   "source": [
    "# Get current working directory\n",
    "current_dir = os.getcwd()\n",
    "print(\"Current working directory:\", current_dir)\n",
    "data_dir = os.path.join(current_dir, 'Data')\n",
    "os.makedirs(data_dir, exist_ok=True)\n",
    "\n",
    "default_chosen_security_file_path = os.path.join(data_dir, 'K线导出_600873_日线数据.xlsx')\n",
    "default_index_file_path = os.path.join(data_dir, 'K线导出_000001_日线数据.xlsx')\n",
    "default_R_f_file_path = os.path.join(data_dir, 'R_f.xlsx')"
   ]
  },
  {
   "cell_type": "markdown",
   "metadata": {},
   "source": [
    "## Ask the user if want to change to another file directory"
   ]
  },
  {
   "cell_type": "code",
   "execution_count": 4,
   "metadata": {},
   "outputs": [
    {
     "name": "stdout",
     "output_type": "stream",
     "text": [
      "Chossing security file path: D:\\ImportanFiles\\Coding Related\\Repositories\\Machine Learning project related\\Dissertation Project 1\\Data\\K线导出_603300_日线数据.xlsx\n",
      "Chossing market portfolio file path: d:\\ImportanFiles\\Coding Related\\Repositories\\Machine Learning project related\\Dissertation Project 1\\Data\\K线导出_000001_日线数据.xlsx\n",
      "Chossing risk free rate file path: d:\\ImportanFiles\\Coding Related\\Repositories\\Machine Learning project related\\Dissertation Project 1\\Data\\R_f.xlsx\n"
     ]
    }
   ],
   "source": [
    "change_security_io = input(\"Do you want to change the chosen security's data file path? (yes or no/y or n): \")\n",
    "if change_security_io.lower() in ['yes', 'y']:\n",
    "    security_file_path = input(\"Enter new file path for the chosen security's data: \")\n",
    "else:\n",
    "    security_file_path = default_chosen_security_file_path\n",
    "print(f\"Chossing security file path: {security_file_path}\")\n",
    "\n",
    "change_index_io = input(\"Do you want to change the index's data file path? (yes or no/y or n): \")\n",
    "if change_index_io.lower() in ['yes', 'y']:\n",
    "    index_file_path = input(\"Enter new file path for the index's data: \")\n",
    "else:\n",
    "    index_file_path = default_index_file_path\n",
    "print(f\"Chossing market portfolio file path: {index_file_path}\")\n",
    "    \n",
    "change_R_f_io = input(\"Do you want to change the R_f's data file path? (yes or no/y or n): \")\n",
    "if change_index_io.lower() in ['yes', 'y']:\n",
    "    R_f_file_path = input(\"Enter new file path for the index's data: \")\n",
    "else:\n",
    "    R_f_file_path = default_R_f_file_path\n",
    "print(f\"Chossing risk free rate file path: {R_f_file_path}\")"
   ]
  },
  {
   "cell_type": "markdown",
   "metadata": {},
   "source": [
    "## Create the i_df and m_df pandas dataframe for chosen security and index "
   ]
  },
  {
   "cell_type": "code",
   "execution_count": 5,
   "metadata": {},
   "outputs": [
    {
     "name": "stdout",
     "output_type": "stream",
     "text": [
      "The input file path is: \n",
      "D:\\ImportanFiles\\Coding Related\\Repositories\\Machine Learning project related\\Dissertation Project 1\\Data\\K线导出_603300_日线数据.xlsx\n",
      "Reading the input file...\n",
      "The input file path is: \n",
      "d:\\ImportanFiles\\Coding Related\\Repositories\\Machine Learning project related\\Dissertation Project 1\\Data\\K线导出_000001_日线数据.xlsx\n",
      "Reading the input file...\n",
      "The input file path is: \n",
      "d:\\ImportanFiles\\Coding Related\\Repositories\\Machine Learning project related\\Dissertation Project 1\\Data\\R_f.xlsx\n",
      "Reading the input file...\n"
     ]
    }
   ],
   "source": [
    "i_df = file_operations.read_and_return_pd_df(security_file_path)\n",
    "m_df = file_operations.read_and_return_pd_df(index_file_path)\n",
    "R_f_df = file_operations.read_and_return_pd_df(R_f_file_path)"
   ]
  },
  {
   "cell_type": "markdown",
   "metadata": {},
   "source": [
    "## Change all the data into nice types, e.g securiry code was changed into U6 meaning this is a string that holds up to 6 numbers or characters, head was changed to english, date to datetime datatype, numerical data to float 64"
   ]
  },
  {
   "cell_type": "code",
   "execution_count": 6,
   "metadata": {},
   "outputs": [
    {
     "name": "stdout",
     "output_type": "stream",
     "text": [
      "<class 'pandas.core.frame.DataFrame'>\n",
      "Index: 2347 entries, 0 to 2346\n",
      "Data columns (total 11 columns):\n",
      " #   Column      Non-Null Count  Dtype         \n",
      "---  ------      --------------  -----         \n",
      " 0   SECU_CODE   2347 non-null   object        \n",
      " 1   SECU_NAME   2347 non-null   object        \n",
      " 2   DATE        2347 non-null   datetime64[ns]\n",
      " 3   OPENING     2347 non-null   float64       \n",
      " 4   HIGHEST     2347 non-null   float64       \n",
      " 5   LOWEST      2347 non-null   float64       \n",
      " 6   CLOSING     2347 non-null   float64       \n",
      " 7   CHANGE      2346 non-null   float64       \n",
      " 8   PCT_CHANGE  2346 non-null   float64       \n",
      " 9   VOLUME      2347 non-null   float64       \n",
      " 10  AMOUNT      2347 non-null   float64       \n",
      "dtypes: datetime64[ns](1), float64(8), object(2)\n",
      "memory usage: 220.0+ KB\n"
     ]
    },
    {
     "data": {
      "text/plain": [
       "None"
      ]
     },
     "metadata": {},
     "output_type": "display_data"
    },
    {
     "data": {
      "application/vnd.microsoft.datawrangler.viewer.v0+json": {
       "columns": [
        {
         "name": "index",
         "rawType": "int64",
         "type": "integer"
        },
        {
         "name": "SECU_CODE",
         "rawType": "object",
         "type": "string"
        },
        {
         "name": "SECU_NAME",
         "rawType": "object",
         "type": "string"
        },
        {
         "name": "DATE",
         "rawType": "datetime64[ns]",
         "type": "datetime"
        },
        {
         "name": "OPENING",
         "rawType": "float64",
         "type": "float"
        },
        {
         "name": "HIGHEST",
         "rawType": "float64",
         "type": "float"
        },
        {
         "name": "LOWEST",
         "rawType": "float64",
         "type": "float"
        },
        {
         "name": "CLOSING",
         "rawType": "float64",
         "type": "float"
        },
        {
         "name": "CHANGE",
         "rawType": "float64",
         "type": "float"
        },
        {
         "name": "PCT_CHANGE",
         "rawType": "float64",
         "type": "float"
        },
        {
         "name": "VOLUME",
         "rawType": "float64",
         "type": "float"
        },
        {
         "name": "AMOUNT",
         "rawType": "float64",
         "type": "float"
        }
       ],
       "conversionMethod": "pd.DataFrame",
       "ref": "f880c838-c8d0-47e0-940b-64e40ebd8d6e",
       "rows": [
        [
         "0",
         "603300",
         "海南华铁",
         "2015-05-29 00:00:00",
         "2.12",
         "2.12",
         "2.12",
         "2.12",
         null,
         null,
         "13700.0",
         "162208.0"
        ],
        [
         "1",
         "603300",
         "海南华铁",
         "2015-06-01 00:00:00",
         "2.33",
         "2.33",
         "2.33",
         "2.33",
         "0.211",
         "9.966",
         "5700.0",
         "74214.0"
        ],
        [
         "2",
         "603300",
         "海南华铁",
         "2015-06-02 00:00:00",
         "2.56",
         "2.56",
         "2.56",
         "2.56",
         "0.2324",
         "9.982",
         "3400.0",
         "48688.0"
        ],
        [
         "3",
         "603300",
         "海南华铁",
         "2015-06-03 00:00:00",
         "2.82",
         "2.82",
         "2.82",
         "2.82",
         "0.2558",
         "9.9898",
         "13300.0",
         "209475.0"
        ],
        [
         "4",
         "603300",
         "海南华铁",
         "2015-06-04 00:00:00",
         "3.1",
         "3.1",
         "3.1",
         "3.1",
         "0.2825",
         "10.0305",
         "9700.0",
         "168101.0"
        ]
       ],
       "shape": {
        "columns": 11,
        "rows": 5
       }
      },
      "text/html": [
       "<div>\n",
       "<style scoped>\n",
       "    .dataframe tbody tr th:only-of-type {\n",
       "        vertical-align: middle;\n",
       "    }\n",
       "\n",
       "    .dataframe tbody tr th {\n",
       "        vertical-align: top;\n",
       "    }\n",
       "\n",
       "    .dataframe thead th {\n",
       "        text-align: right;\n",
       "    }\n",
       "</style>\n",
       "<table border=\"1\" class=\"dataframe\">\n",
       "  <thead>\n",
       "    <tr style=\"text-align: right;\">\n",
       "      <th></th>\n",
       "      <th>SECU_CODE</th>\n",
       "      <th>SECU_NAME</th>\n",
       "      <th>DATE</th>\n",
       "      <th>OPENING</th>\n",
       "      <th>HIGHEST</th>\n",
       "      <th>LOWEST</th>\n",
       "      <th>CLOSING</th>\n",
       "      <th>CHANGE</th>\n",
       "      <th>PCT_CHANGE</th>\n",
       "      <th>VOLUME</th>\n",
       "      <th>AMOUNT</th>\n",
       "    </tr>\n",
       "  </thead>\n",
       "  <tbody>\n",
       "    <tr>\n",
       "      <th>0</th>\n",
       "      <td>603300</td>\n",
       "      <td>海南华铁</td>\n",
       "      <td>2015-05-29</td>\n",
       "      <td>2.12</td>\n",
       "      <td>2.12</td>\n",
       "      <td>2.12</td>\n",
       "      <td>2.12</td>\n",
       "      <td>NaN</td>\n",
       "      <td>NaN</td>\n",
       "      <td>13700.0</td>\n",
       "      <td>162208.0</td>\n",
       "    </tr>\n",
       "    <tr>\n",
       "      <th>1</th>\n",
       "      <td>603300</td>\n",
       "      <td>海南华铁</td>\n",
       "      <td>2015-06-01</td>\n",
       "      <td>2.33</td>\n",
       "      <td>2.33</td>\n",
       "      <td>2.33</td>\n",
       "      <td>2.33</td>\n",
       "      <td>0.2110</td>\n",
       "      <td>9.9660</td>\n",
       "      <td>5700.0</td>\n",
       "      <td>74214.0</td>\n",
       "    </tr>\n",
       "    <tr>\n",
       "      <th>2</th>\n",
       "      <td>603300</td>\n",
       "      <td>海南华铁</td>\n",
       "      <td>2015-06-02</td>\n",
       "      <td>2.56</td>\n",
       "      <td>2.56</td>\n",
       "      <td>2.56</td>\n",
       "      <td>2.56</td>\n",
       "      <td>0.2324</td>\n",
       "      <td>9.9820</td>\n",
       "      <td>3400.0</td>\n",
       "      <td>48688.0</td>\n",
       "    </tr>\n",
       "    <tr>\n",
       "      <th>3</th>\n",
       "      <td>603300</td>\n",
       "      <td>海南华铁</td>\n",
       "      <td>2015-06-03</td>\n",
       "      <td>2.82</td>\n",
       "      <td>2.82</td>\n",
       "      <td>2.82</td>\n",
       "      <td>2.82</td>\n",
       "      <td>0.2558</td>\n",
       "      <td>9.9898</td>\n",
       "      <td>13300.0</td>\n",
       "      <td>209475.0</td>\n",
       "    </tr>\n",
       "    <tr>\n",
       "      <th>4</th>\n",
       "      <td>603300</td>\n",
       "      <td>海南华铁</td>\n",
       "      <td>2015-06-04</td>\n",
       "      <td>3.10</td>\n",
       "      <td>3.10</td>\n",
       "      <td>3.10</td>\n",
       "      <td>3.10</td>\n",
       "      <td>0.2825</td>\n",
       "      <td>10.0305</td>\n",
       "      <td>9700.0</td>\n",
       "      <td>168101.0</td>\n",
       "    </tr>\n",
       "  </tbody>\n",
       "</table>\n",
       "</div>"
      ],
      "text/plain": [
       "  SECU_CODE SECU_NAME       DATE  OPENING  HIGHEST  LOWEST  CLOSING  CHANGE  \\\n",
       "0    603300      海南华铁 2015-05-29     2.12     2.12    2.12     2.12     NaN   \n",
       "1    603300      海南华铁 2015-06-01     2.33     2.33    2.33     2.33  0.2110   \n",
       "2    603300      海南华铁 2015-06-02     2.56     2.56    2.56     2.56  0.2324   \n",
       "3    603300      海南华铁 2015-06-03     2.82     2.82    2.82     2.82  0.2558   \n",
       "4    603300      海南华铁 2015-06-04     3.10     3.10    3.10     3.10  0.2825   \n",
       "\n",
       "   PCT_CHANGE   VOLUME    AMOUNT  \n",
       "0         NaN  13700.0  162208.0  \n",
       "1      9.9660   5700.0   74214.0  \n",
       "2      9.9820   3400.0   48688.0  \n",
       "3      9.9898  13300.0  209475.0  \n",
       "4     10.0305   9700.0  168101.0  "
      ]
     },
     "metadata": {},
     "output_type": "display_data"
    },
    {
     "data": {
      "application/vnd.microsoft.datawrangler.viewer.v0+json": {
       "columns": [
        {
         "name": "index",
         "rawType": "int64",
         "type": "integer"
        },
        {
         "name": "SECU_CODE",
         "rawType": "object",
         "type": "string"
        },
        {
         "name": "SECU_NAME",
         "rawType": "object",
         "type": "string"
        },
        {
         "name": "DATE",
         "rawType": "datetime64[ns]",
         "type": "datetime"
        },
        {
         "name": "OPENING",
         "rawType": "float64",
         "type": "float"
        },
        {
         "name": "HIGHEST",
         "rawType": "float64",
         "type": "float"
        },
        {
         "name": "LOWEST",
         "rawType": "float64",
         "type": "float"
        },
        {
         "name": "CLOSING",
         "rawType": "float64",
         "type": "float"
        },
        {
         "name": "CHANGE",
         "rawType": "float64",
         "type": "float"
        },
        {
         "name": "PCT_CHANGE",
         "rawType": "float64",
         "type": "float"
        },
        {
         "name": "VOLUME",
         "rawType": "float64",
         "type": "float"
        },
        {
         "name": "AMOUNT",
         "rawType": "float64",
         "type": "float"
        }
       ],
       "conversionMethod": "pd.DataFrame",
       "ref": "1e1bcc38-2013-4f17-86ba-21d302b6609b",
       "rows": [
        [
         "2342",
         "603300",
         "海南华铁",
         "2025-02-24 00:00:00",
         "9.89",
         "10.98",
         "9.16",
         "10.5",
         "0.52",
         "5.2104",
         "590193231.0",
         "6035273786.0"
        ],
        [
         "2343",
         "603300",
         "海南华铁",
         "2025-02-25 00:00:00",
         "9.76",
         "10.6",
         "9.68",
         "10.0",
         "-0.5",
         "-4.7619",
         "414005331.0",
         "4142212125.0"
        ],
        [
         "2344",
         "603300",
         "海南华铁",
         "2025-02-26 00:00:00",
         "10.5",
         "10.98",
         "10.02",
         "10.43",
         "0.43",
         "4.3",
         "440843503.0",
         "4626222523.0"
        ],
        [
         "2345",
         "603300",
         "海南华铁",
         "2025-02-27 00:00:00",
         "10.12",
         "11.27",
         "10.02",
         "11.03",
         "0.6",
         "5.7526",
         "482724475.0",
         "5227405736.0"
        ],
        [
         "2346",
         "603300",
         "海南华铁",
         "2025-02-28 00:00:00",
         "10.6",
         "10.67",
         "9.93",
         "9.99",
         "-1.04",
         "-9.4288",
         "456895504.0",
         "4630281728.0"
        ]
       ],
       "shape": {
        "columns": 11,
        "rows": 5
       }
      },
      "text/html": [
       "<div>\n",
       "<style scoped>\n",
       "    .dataframe tbody tr th:only-of-type {\n",
       "        vertical-align: middle;\n",
       "    }\n",
       "\n",
       "    .dataframe tbody tr th {\n",
       "        vertical-align: top;\n",
       "    }\n",
       "\n",
       "    .dataframe thead th {\n",
       "        text-align: right;\n",
       "    }\n",
       "</style>\n",
       "<table border=\"1\" class=\"dataframe\">\n",
       "  <thead>\n",
       "    <tr style=\"text-align: right;\">\n",
       "      <th></th>\n",
       "      <th>SECU_CODE</th>\n",
       "      <th>SECU_NAME</th>\n",
       "      <th>DATE</th>\n",
       "      <th>OPENING</th>\n",
       "      <th>HIGHEST</th>\n",
       "      <th>LOWEST</th>\n",
       "      <th>CLOSING</th>\n",
       "      <th>CHANGE</th>\n",
       "      <th>PCT_CHANGE</th>\n",
       "      <th>VOLUME</th>\n",
       "      <th>AMOUNT</th>\n",
       "    </tr>\n",
       "  </thead>\n",
       "  <tbody>\n",
       "    <tr>\n",
       "      <th>2342</th>\n",
       "      <td>603300</td>\n",
       "      <td>海南华铁</td>\n",
       "      <td>2025-02-24</td>\n",
       "      <td>9.89</td>\n",
       "      <td>10.98</td>\n",
       "      <td>9.16</td>\n",
       "      <td>10.50</td>\n",
       "      <td>0.52</td>\n",
       "      <td>5.2104</td>\n",
       "      <td>590193231.0</td>\n",
       "      <td>6.035274e+09</td>\n",
       "    </tr>\n",
       "    <tr>\n",
       "      <th>2343</th>\n",
       "      <td>603300</td>\n",
       "      <td>海南华铁</td>\n",
       "      <td>2025-02-25</td>\n",
       "      <td>9.76</td>\n",
       "      <td>10.60</td>\n",
       "      <td>9.68</td>\n",
       "      <td>10.00</td>\n",
       "      <td>-0.50</td>\n",
       "      <td>-4.7619</td>\n",
       "      <td>414005331.0</td>\n",
       "      <td>4.142212e+09</td>\n",
       "    </tr>\n",
       "    <tr>\n",
       "      <th>2344</th>\n",
       "      <td>603300</td>\n",
       "      <td>海南华铁</td>\n",
       "      <td>2025-02-26</td>\n",
       "      <td>10.50</td>\n",
       "      <td>10.98</td>\n",
       "      <td>10.02</td>\n",
       "      <td>10.43</td>\n",
       "      <td>0.43</td>\n",
       "      <td>4.3000</td>\n",
       "      <td>440843503.0</td>\n",
       "      <td>4.626223e+09</td>\n",
       "    </tr>\n",
       "    <tr>\n",
       "      <th>2345</th>\n",
       "      <td>603300</td>\n",
       "      <td>海南华铁</td>\n",
       "      <td>2025-02-27</td>\n",
       "      <td>10.12</td>\n",
       "      <td>11.27</td>\n",
       "      <td>10.02</td>\n",
       "      <td>11.03</td>\n",
       "      <td>0.60</td>\n",
       "      <td>5.7526</td>\n",
       "      <td>482724475.0</td>\n",
       "      <td>5.227406e+09</td>\n",
       "    </tr>\n",
       "    <tr>\n",
       "      <th>2346</th>\n",
       "      <td>603300</td>\n",
       "      <td>海南华铁</td>\n",
       "      <td>2025-02-28</td>\n",
       "      <td>10.60</td>\n",
       "      <td>10.67</td>\n",
       "      <td>9.93</td>\n",
       "      <td>9.99</td>\n",
       "      <td>-1.04</td>\n",
       "      <td>-9.4288</td>\n",
       "      <td>456895504.0</td>\n",
       "      <td>4.630282e+09</td>\n",
       "    </tr>\n",
       "  </tbody>\n",
       "</table>\n",
       "</div>"
      ],
      "text/plain": [
       "     SECU_CODE SECU_NAME       DATE  OPENING  HIGHEST  LOWEST  CLOSING  \\\n",
       "2342    603300      海南华铁 2025-02-24     9.89    10.98    9.16    10.50   \n",
       "2343    603300      海南华铁 2025-02-25     9.76    10.60    9.68    10.00   \n",
       "2344    603300      海南华铁 2025-02-26    10.50    10.98   10.02    10.43   \n",
       "2345    603300      海南华铁 2025-02-27    10.12    11.27   10.02    11.03   \n",
       "2346    603300      海南华铁 2025-02-28    10.60    10.67    9.93     9.99   \n",
       "\n",
       "      CHANGE  PCT_CHANGE       VOLUME        AMOUNT  \n",
       "2342    0.52      5.2104  590193231.0  6.035274e+09  \n",
       "2343   -0.50     -4.7619  414005331.0  4.142212e+09  \n",
       "2344    0.43      4.3000  440843503.0  4.626223e+09  \n",
       "2345    0.60      5.7526  482724475.0  5.227406e+09  \n",
       "2346   -1.04     -9.4288  456895504.0  4.630282e+09  "
      ]
     },
     "metadata": {},
     "output_type": "display_data"
    },
    {
     "name": "stdout",
     "output_type": "stream",
     "text": [
      "<class 'pandas.core.frame.DataFrame'>\n",
      "Index: 8348 entries, 0 to 8347\n",
      "Data columns (total 11 columns):\n",
      " #   Column      Non-Null Count  Dtype         \n",
      "---  ------      --------------  -----         \n",
      " 0   SECU_CODE   8348 non-null   object        \n",
      " 1   SECU_NAME   8348 non-null   object        \n",
      " 2   DATE        8348 non-null   datetime64[ns]\n",
      " 3   OPENING     8348 non-null   float64       \n",
      " 4   HIGHEST     8348 non-null   float64       \n",
      " 5   LOWEST      8348 non-null   float64       \n",
      " 6   CLOSING     8348 non-null   float64       \n",
      " 7   CHANGE      8347 non-null   float64       \n",
      " 8   PCT_CHANGE  8347 non-null   float64       \n",
      " 9   VOLUME      8348 non-null   float64       \n",
      " 10  AMOUNT      8348 non-null   float64       \n",
      "dtypes: datetime64[ns](1), float64(8), object(2)\n",
      "memory usage: 782.6+ KB\n"
     ]
    },
    {
     "data": {
      "text/plain": [
       "None"
      ]
     },
     "metadata": {},
     "output_type": "display_data"
    },
    {
     "data": {
      "application/vnd.microsoft.datawrangler.viewer.v0+json": {
       "columns": [
        {
         "name": "index",
         "rawType": "int64",
         "type": "integer"
        },
        {
         "name": "SECU_CODE",
         "rawType": "object",
         "type": "string"
        },
        {
         "name": "SECU_NAME",
         "rawType": "object",
         "type": "string"
        },
        {
         "name": "DATE",
         "rawType": "datetime64[ns]",
         "type": "datetime"
        },
        {
         "name": "OPENING",
         "rawType": "float64",
         "type": "float"
        },
        {
         "name": "HIGHEST",
         "rawType": "float64",
         "type": "float"
        },
        {
         "name": "LOWEST",
         "rawType": "float64",
         "type": "float"
        },
        {
         "name": "CLOSING",
         "rawType": "float64",
         "type": "float"
        },
        {
         "name": "CHANGE",
         "rawType": "float64",
         "type": "float"
        },
        {
         "name": "PCT_CHANGE",
         "rawType": "float64",
         "type": "float"
        },
        {
         "name": "VOLUME",
         "rawType": "float64",
         "type": "float"
        },
        {
         "name": "AMOUNT",
         "rawType": "float64",
         "type": "float"
        }
       ],
       "conversionMethod": "pd.DataFrame",
       "ref": "36269ba7-34cf-4aeb-a314-122710aed5f6",
       "rows": [
        [
         "0",
         "000001",
         "上证指数",
         "1990-12-19 00:00:00",
         "96.05",
         "99.98",
         "95.79",
         "99.98",
         null,
         null,
         "126000.0",
         "494000.0"
        ],
        [
         "1",
         "000001",
         "上证指数",
         "1990-12-20 00:00:00",
         "104.3",
         "104.39",
         "99.98",
         "104.39",
         "4.41",
         "4.4109",
         "19700.0",
         "84000.0"
        ],
        [
         "2",
         "000001",
         "上证指数",
         "1990-12-21 00:00:00",
         "109.07",
         "109.13",
         "103.73",
         "109.13",
         "4.74",
         "4.5407",
         "2800.0",
         "16000.0"
        ],
        [
         "3",
         "000001",
         "上证指数",
         "1990-12-24 00:00:00",
         "113.57",
         "114.55",
         "109.13",
         "114.55",
         "5.42",
         "4.9666",
         "3200.0",
         "31000.0"
        ],
        [
         "4",
         "000001",
         "上证指数",
         "1990-12-25 00:00:00",
         "120.09",
         "120.25",
         "114.55",
         "120.25",
         "5.7",
         "4.976",
         "1500.0",
         "6000.0"
        ]
       ],
       "shape": {
        "columns": 11,
        "rows": 5
       }
      },
      "text/html": [
       "<div>\n",
       "<style scoped>\n",
       "    .dataframe tbody tr th:only-of-type {\n",
       "        vertical-align: middle;\n",
       "    }\n",
       "\n",
       "    .dataframe tbody tr th {\n",
       "        vertical-align: top;\n",
       "    }\n",
       "\n",
       "    .dataframe thead th {\n",
       "        text-align: right;\n",
       "    }\n",
       "</style>\n",
       "<table border=\"1\" class=\"dataframe\">\n",
       "  <thead>\n",
       "    <tr style=\"text-align: right;\">\n",
       "      <th></th>\n",
       "      <th>SECU_CODE</th>\n",
       "      <th>SECU_NAME</th>\n",
       "      <th>DATE</th>\n",
       "      <th>OPENING</th>\n",
       "      <th>HIGHEST</th>\n",
       "      <th>LOWEST</th>\n",
       "      <th>CLOSING</th>\n",
       "      <th>CHANGE</th>\n",
       "      <th>PCT_CHANGE</th>\n",
       "      <th>VOLUME</th>\n",
       "      <th>AMOUNT</th>\n",
       "    </tr>\n",
       "  </thead>\n",
       "  <tbody>\n",
       "    <tr>\n",
       "      <th>0</th>\n",
       "      <td>000001</td>\n",
       "      <td>上证指数</td>\n",
       "      <td>1990-12-19</td>\n",
       "      <td>96.05</td>\n",
       "      <td>99.98</td>\n",
       "      <td>95.79</td>\n",
       "      <td>99.98</td>\n",
       "      <td>NaN</td>\n",
       "      <td>NaN</td>\n",
       "      <td>126000.0</td>\n",
       "      <td>494000.0</td>\n",
       "    </tr>\n",
       "    <tr>\n",
       "      <th>1</th>\n",
       "      <td>000001</td>\n",
       "      <td>上证指数</td>\n",
       "      <td>1990-12-20</td>\n",
       "      <td>104.30</td>\n",
       "      <td>104.39</td>\n",
       "      <td>99.98</td>\n",
       "      <td>104.39</td>\n",
       "      <td>4.41</td>\n",
       "      <td>4.4109</td>\n",
       "      <td>19700.0</td>\n",
       "      <td>84000.0</td>\n",
       "    </tr>\n",
       "    <tr>\n",
       "      <th>2</th>\n",
       "      <td>000001</td>\n",
       "      <td>上证指数</td>\n",
       "      <td>1990-12-21</td>\n",
       "      <td>109.07</td>\n",
       "      <td>109.13</td>\n",
       "      <td>103.73</td>\n",
       "      <td>109.13</td>\n",
       "      <td>4.74</td>\n",
       "      <td>4.5407</td>\n",
       "      <td>2800.0</td>\n",
       "      <td>16000.0</td>\n",
       "    </tr>\n",
       "    <tr>\n",
       "      <th>3</th>\n",
       "      <td>000001</td>\n",
       "      <td>上证指数</td>\n",
       "      <td>1990-12-24</td>\n",
       "      <td>113.57</td>\n",
       "      <td>114.55</td>\n",
       "      <td>109.13</td>\n",
       "      <td>114.55</td>\n",
       "      <td>5.42</td>\n",
       "      <td>4.9666</td>\n",
       "      <td>3200.0</td>\n",
       "      <td>31000.0</td>\n",
       "    </tr>\n",
       "    <tr>\n",
       "      <th>4</th>\n",
       "      <td>000001</td>\n",
       "      <td>上证指数</td>\n",
       "      <td>1990-12-25</td>\n",
       "      <td>120.09</td>\n",
       "      <td>120.25</td>\n",
       "      <td>114.55</td>\n",
       "      <td>120.25</td>\n",
       "      <td>5.70</td>\n",
       "      <td>4.9760</td>\n",
       "      <td>1500.0</td>\n",
       "      <td>6000.0</td>\n",
       "    </tr>\n",
       "  </tbody>\n",
       "</table>\n",
       "</div>"
      ],
      "text/plain": [
       "  SECU_CODE SECU_NAME       DATE  OPENING  HIGHEST  LOWEST  CLOSING  CHANGE  \\\n",
       "0    000001      上证指数 1990-12-19    96.05    99.98   95.79    99.98     NaN   \n",
       "1    000001      上证指数 1990-12-20   104.30   104.39   99.98   104.39    4.41   \n",
       "2    000001      上证指数 1990-12-21   109.07   109.13  103.73   109.13    4.74   \n",
       "3    000001      上证指数 1990-12-24   113.57   114.55  109.13   114.55    5.42   \n",
       "4    000001      上证指数 1990-12-25   120.09   120.25  114.55   120.25    5.70   \n",
       "\n",
       "   PCT_CHANGE    VOLUME    AMOUNT  \n",
       "0         NaN  126000.0  494000.0  \n",
       "1      4.4109   19700.0   84000.0  \n",
       "2      4.5407    2800.0   16000.0  \n",
       "3      4.9666    3200.0   31000.0  \n",
       "4      4.9760    1500.0    6000.0  "
      ]
     },
     "metadata": {},
     "output_type": "display_data"
    },
    {
     "data": {
      "application/vnd.microsoft.datawrangler.viewer.v0+json": {
       "columns": [
        {
         "name": "index",
         "rawType": "int64",
         "type": "integer"
        },
        {
         "name": "SECU_CODE",
         "rawType": "object",
         "type": "string"
        },
        {
         "name": "SECU_NAME",
         "rawType": "object",
         "type": "string"
        },
        {
         "name": "DATE",
         "rawType": "datetime64[ns]",
         "type": "datetime"
        },
        {
         "name": "OPENING",
         "rawType": "float64",
         "type": "float"
        },
        {
         "name": "HIGHEST",
         "rawType": "float64",
         "type": "float"
        },
        {
         "name": "LOWEST",
         "rawType": "float64",
         "type": "float"
        },
        {
         "name": "CLOSING",
         "rawType": "float64",
         "type": "float"
        },
        {
         "name": "CHANGE",
         "rawType": "float64",
         "type": "float"
        },
        {
         "name": "PCT_CHANGE",
         "rawType": "float64",
         "type": "float"
        },
        {
         "name": "VOLUME",
         "rawType": "float64",
         "type": "float"
        },
        {
         "name": "AMOUNT",
         "rawType": "float64",
         "type": "float"
        }
       ],
       "conversionMethod": "pd.DataFrame",
       "ref": "95b337f8-df6a-4e94-af81-d51807919b61",
       "rows": [
        [
         "8343",
         "000001",
         "上证指数",
         "2025-02-24 00:00:00",
         "3374.08",
         "3384.81",
         "3355.87",
         "3373.03",
         "-6.085",
         "-0.1801",
         "59818820300.0",
         "802847050067.0"
        ],
        [
         "8344",
         "000001",
         "上证指数",
         "2025-02-25 00:00:00",
         "3345.65",
         "3369.56",
         "3337.84",
         "3346.04",
         "-26.988",
         "-0.8001",
         "52757856200.0",
         "727509770070.0"
        ],
        [
         "8345",
         "000001",
         "上证指数",
         "2025-02-26 00:00:00",
         "3351.21",
         "3380.21",
         "3351.21",
         "3380.21",
         "34.175",
         "1.0214",
         "55399203100.0",
         "747887357857.0"
        ],
        [
         "8346",
         "000001",
         "上证指数",
         "2025-02-27 00:00:00",
         "3378.45",
         "3388.78",
         "3353.57",
         "3388.06",
         "7.848",
         "0.2322",
         "57581502000.0",
         "774059980112.0"
        ],
        [
         "8347",
         "000001",
         "上证指数",
         "2025-02-28 00:00:00",
         "3374.66",
         "3383.19",
         "3318.72",
         "3320.9",
         "-67.162",
         "-1.9823",
         "56831950336.0",
         "758054891520.0"
        ]
       ],
       "shape": {
        "columns": 11,
        "rows": 5
       }
      },
      "text/html": [
       "<div>\n",
       "<style scoped>\n",
       "    .dataframe tbody tr th:only-of-type {\n",
       "        vertical-align: middle;\n",
       "    }\n",
       "\n",
       "    .dataframe tbody tr th {\n",
       "        vertical-align: top;\n",
       "    }\n",
       "\n",
       "    .dataframe thead th {\n",
       "        text-align: right;\n",
       "    }\n",
       "</style>\n",
       "<table border=\"1\" class=\"dataframe\">\n",
       "  <thead>\n",
       "    <tr style=\"text-align: right;\">\n",
       "      <th></th>\n",
       "      <th>SECU_CODE</th>\n",
       "      <th>SECU_NAME</th>\n",
       "      <th>DATE</th>\n",
       "      <th>OPENING</th>\n",
       "      <th>HIGHEST</th>\n",
       "      <th>LOWEST</th>\n",
       "      <th>CLOSING</th>\n",
       "      <th>CHANGE</th>\n",
       "      <th>PCT_CHANGE</th>\n",
       "      <th>VOLUME</th>\n",
       "      <th>AMOUNT</th>\n",
       "    </tr>\n",
       "  </thead>\n",
       "  <tbody>\n",
       "    <tr>\n",
       "      <th>8343</th>\n",
       "      <td>000001</td>\n",
       "      <td>上证指数</td>\n",
       "      <td>2025-02-24</td>\n",
       "      <td>3374.08</td>\n",
       "      <td>3384.81</td>\n",
       "      <td>3355.87</td>\n",
       "      <td>3373.03</td>\n",
       "      <td>-6.085</td>\n",
       "      <td>-0.1801</td>\n",
       "      <td>5.981882e+10</td>\n",
       "      <td>8.028471e+11</td>\n",
       "    </tr>\n",
       "    <tr>\n",
       "      <th>8344</th>\n",
       "      <td>000001</td>\n",
       "      <td>上证指数</td>\n",
       "      <td>2025-02-25</td>\n",
       "      <td>3345.65</td>\n",
       "      <td>3369.56</td>\n",
       "      <td>3337.84</td>\n",
       "      <td>3346.04</td>\n",
       "      <td>-26.988</td>\n",
       "      <td>-0.8001</td>\n",
       "      <td>5.275786e+10</td>\n",
       "      <td>7.275098e+11</td>\n",
       "    </tr>\n",
       "    <tr>\n",
       "      <th>8345</th>\n",
       "      <td>000001</td>\n",
       "      <td>上证指数</td>\n",
       "      <td>2025-02-26</td>\n",
       "      <td>3351.21</td>\n",
       "      <td>3380.21</td>\n",
       "      <td>3351.21</td>\n",
       "      <td>3380.21</td>\n",
       "      <td>34.175</td>\n",
       "      <td>1.0214</td>\n",
       "      <td>5.539920e+10</td>\n",
       "      <td>7.478874e+11</td>\n",
       "    </tr>\n",
       "    <tr>\n",
       "      <th>8346</th>\n",
       "      <td>000001</td>\n",
       "      <td>上证指数</td>\n",
       "      <td>2025-02-27</td>\n",
       "      <td>3378.45</td>\n",
       "      <td>3388.78</td>\n",
       "      <td>3353.57</td>\n",
       "      <td>3388.06</td>\n",
       "      <td>7.848</td>\n",
       "      <td>0.2322</td>\n",
       "      <td>5.758150e+10</td>\n",
       "      <td>7.740600e+11</td>\n",
       "    </tr>\n",
       "    <tr>\n",
       "      <th>8347</th>\n",
       "      <td>000001</td>\n",
       "      <td>上证指数</td>\n",
       "      <td>2025-02-28</td>\n",
       "      <td>3374.66</td>\n",
       "      <td>3383.19</td>\n",
       "      <td>3318.72</td>\n",
       "      <td>3320.90</td>\n",
       "      <td>-67.162</td>\n",
       "      <td>-1.9823</td>\n",
       "      <td>5.683195e+10</td>\n",
       "      <td>7.580549e+11</td>\n",
       "    </tr>\n",
       "  </tbody>\n",
       "</table>\n",
       "</div>"
      ],
      "text/plain": [
       "     SECU_CODE SECU_NAME       DATE  OPENING  HIGHEST   LOWEST  CLOSING  \\\n",
       "8343    000001      上证指数 2025-02-24  3374.08  3384.81  3355.87  3373.03   \n",
       "8344    000001      上证指数 2025-02-25  3345.65  3369.56  3337.84  3346.04   \n",
       "8345    000001      上证指数 2025-02-26  3351.21  3380.21  3351.21  3380.21   \n",
       "8346    000001      上证指数 2025-02-27  3378.45  3388.78  3353.57  3388.06   \n",
       "8347    000001      上证指数 2025-02-28  3374.66  3383.19  3318.72  3320.90   \n",
       "\n",
       "      CHANGE  PCT_CHANGE        VOLUME        AMOUNT  \n",
       "8343  -6.085     -0.1801  5.981882e+10  8.028471e+11  \n",
       "8344 -26.988     -0.8001  5.275786e+10  7.275098e+11  \n",
       "8345  34.175      1.0214  5.539920e+10  7.478874e+11  \n",
       "8346   7.848      0.2322  5.758150e+10  7.740600e+11  \n",
       "8347 -67.162     -1.9823  5.683195e+10  7.580549e+11  "
      ]
     },
     "metadata": {},
     "output_type": "display_data"
    }
   ],
   "source": [
    "for df in [i_df, m_df]:\n",
    "    df.dropna(inplace = True)\n",
    "    file_operations.change_head_to_ENG(df)\n",
    "    file_operations.change_date_to_datetime(df)\n",
    "    file_operations.change_numerical_data_to_float64(df)\n",
    "    file_operations.change_secu_code_to_str(df)\n",
    "    display(df.info())\n",
    "    display(df.head())\n",
    "    display(df.tail())\n"
   ]
  },
  {
   "cell_type": "code",
   "execution_count": 7,
   "metadata": {},
   "outputs": [
    {
     "name": "stdout",
     "output_type": "stream",
     "text": [
      "<class 'pandas.core.frame.DataFrame'>\n",
      "RangeIndex: 7 entries, 0 to 6\n",
      "Data columns (total 2 columns):\n",
      " #   Column  Non-Null Count  Dtype         \n",
      "---  ------  --------------  -----         \n",
      " 0   DATE    7 non-null      datetime64[ns]\n",
      " 1   R_f     7 non-null      float64       \n",
      "dtypes: datetime64[ns](1), float64(1)\n",
      "memory usage: 244.0 bytes\n"
     ]
    },
    {
     "data": {
      "text/plain": [
       "None"
      ]
     },
     "metadata": {},
     "output_type": "display_data"
    },
    {
     "data": {
      "application/vnd.microsoft.datawrangler.viewer.v0+json": {
       "columns": [
        {
         "name": "index",
         "rawType": "int64",
         "type": "integer"
        },
        {
         "name": "DATE",
         "rawType": "datetime64[ns]",
         "type": "datetime"
        },
        {
         "name": "R_f",
         "rawType": "float64",
         "type": "float"
        }
       ],
       "conversionMethod": "pd.DataFrame",
       "ref": "dbfe12a2-891a-4d29-ab65-45386b182519",
       "rows": [
        [
         "0",
         "2022-01-01 00:00:00",
         "0.038"
        ],
        [
         "1",
         "2022-01-20 00:00:00",
         "0.037"
        ],
        [
         "2",
         "2022-08-22 00:00:00",
         "0.0365"
        ],
        [
         "3",
         "2023-06-20 00:00:00",
         "0.0355"
        ],
        [
         "4",
         "2023-08-21 00:00:00",
         "0.0345"
        ],
        [
         "5",
         "2024-07-22 00:00:00",
         "0.0335"
        ],
        [
         "6",
         "2024-10-20 00:00:00",
         "0.031"
        ]
       ],
       "shape": {
        "columns": 2,
        "rows": 7
       }
      },
      "text/html": [
       "<div>\n",
       "<style scoped>\n",
       "    .dataframe tbody tr th:only-of-type {\n",
       "        vertical-align: middle;\n",
       "    }\n",
       "\n",
       "    .dataframe tbody tr th {\n",
       "        vertical-align: top;\n",
       "    }\n",
       "\n",
       "    .dataframe thead th {\n",
       "        text-align: right;\n",
       "    }\n",
       "</style>\n",
       "<table border=\"1\" class=\"dataframe\">\n",
       "  <thead>\n",
       "    <tr style=\"text-align: right;\">\n",
       "      <th></th>\n",
       "      <th>DATE</th>\n",
       "      <th>R_f</th>\n",
       "    </tr>\n",
       "  </thead>\n",
       "  <tbody>\n",
       "    <tr>\n",
       "      <th>0</th>\n",
       "      <td>2022-01-01</td>\n",
       "      <td>0.0380</td>\n",
       "    </tr>\n",
       "    <tr>\n",
       "      <th>1</th>\n",
       "      <td>2022-01-20</td>\n",
       "      <td>0.0370</td>\n",
       "    </tr>\n",
       "    <tr>\n",
       "      <th>2</th>\n",
       "      <td>2022-08-22</td>\n",
       "      <td>0.0365</td>\n",
       "    </tr>\n",
       "    <tr>\n",
       "      <th>3</th>\n",
       "      <td>2023-06-20</td>\n",
       "      <td>0.0355</td>\n",
       "    </tr>\n",
       "    <tr>\n",
       "      <th>4</th>\n",
       "      <td>2023-08-21</td>\n",
       "      <td>0.0345</td>\n",
       "    </tr>\n",
       "    <tr>\n",
       "      <th>5</th>\n",
       "      <td>2024-07-22</td>\n",
       "      <td>0.0335</td>\n",
       "    </tr>\n",
       "    <tr>\n",
       "      <th>6</th>\n",
       "      <td>2024-10-20</td>\n",
       "      <td>0.0310</td>\n",
       "    </tr>\n",
       "  </tbody>\n",
       "</table>\n",
       "</div>"
      ],
      "text/plain": [
       "        DATE     R_f\n",
       "0 2022-01-01  0.0380\n",
       "1 2022-01-20  0.0370\n",
       "2 2022-08-22  0.0365\n",
       "3 2023-06-20  0.0355\n",
       "4 2023-08-21  0.0345\n",
       "5 2024-07-22  0.0335\n",
       "6 2024-10-20  0.0310"
      ]
     },
     "metadata": {},
     "output_type": "display_data"
    }
   ],
   "source": [
    "display(R_f_df.info())\n",
    "display(R_f_df)"
   ]
  },
  {
   "cell_type": "markdown",
   "metadata": {},
   "source": [
    "## Stores the stock ID as a variable for later use."
   ]
  },
  {
   "cell_type": "code",
   "execution_count": 8,
   "metadata": {},
   "outputs": [
    {
     "name": "stdout",
     "output_type": "stream",
     "text": [
      "603300\n",
      "海南华铁\n"
     ]
    }
   ],
   "source": [
    "Stock_ID_TAG_2 = i_df.iat[0, 0]\n",
    "print(Stock_ID_TAG_2)\n",
    "Stock_Name_TAG_3 = i_df.iat[0, 1]\n",
    "print(Stock_Name_TAG_3)"
   ]
  },
  {
   "cell_type": "markdown",
   "metadata": {},
   "source": [
    "## Drop useless columns & Convert string to float for closing price."
   ]
  },
  {
   "cell_type": "code",
   "execution_count": 9,
   "metadata": {},
   "outputs": [
    {
     "data": {
      "application/vnd.microsoft.datawrangler.viewer.v0+json": {
       "columns": [
        {
         "name": "index",
         "rawType": "int64",
         "type": "integer"
        },
        {
         "name": "DATE",
         "rawType": "datetime64[ns]",
         "type": "datetime"
        },
        {
         "name": "CLOSING",
         "rawType": "float64",
         "type": "float"
        }
       ],
       "conversionMethod": "pd.DataFrame",
       "ref": "48a24251-e94c-4d20-83a2-dd7ee85766aa",
       "rows": [
        [
         "0",
         "2015-05-29 00:00:00",
         "2.12"
        ],
        [
         "1",
         "2015-06-01 00:00:00",
         "2.33"
        ],
        [
         "2",
         "2015-06-02 00:00:00",
         "2.56"
        ],
        [
         "3",
         "2015-06-03 00:00:00",
         "2.82"
        ],
        [
         "4",
         "2015-06-04 00:00:00",
         "3.1"
        ]
       ],
       "shape": {
        "columns": 2,
        "rows": 5
       }
      },
      "text/html": [
       "<div>\n",
       "<style scoped>\n",
       "    .dataframe tbody tr th:only-of-type {\n",
       "        vertical-align: middle;\n",
       "    }\n",
       "\n",
       "    .dataframe tbody tr th {\n",
       "        vertical-align: top;\n",
       "    }\n",
       "\n",
       "    .dataframe thead th {\n",
       "        text-align: right;\n",
       "    }\n",
       "</style>\n",
       "<table border=\"1\" class=\"dataframe\">\n",
       "  <thead>\n",
       "    <tr style=\"text-align: right;\">\n",
       "      <th></th>\n",
       "      <th>DATE</th>\n",
       "      <th>CLOSING</th>\n",
       "    </tr>\n",
       "  </thead>\n",
       "  <tbody>\n",
       "    <tr>\n",
       "      <th>0</th>\n",
       "      <td>2015-05-29</td>\n",
       "      <td>2.12</td>\n",
       "    </tr>\n",
       "    <tr>\n",
       "      <th>1</th>\n",
       "      <td>2015-06-01</td>\n",
       "      <td>2.33</td>\n",
       "    </tr>\n",
       "    <tr>\n",
       "      <th>2</th>\n",
       "      <td>2015-06-02</td>\n",
       "      <td>2.56</td>\n",
       "    </tr>\n",
       "    <tr>\n",
       "      <th>3</th>\n",
       "      <td>2015-06-03</td>\n",
       "      <td>2.82</td>\n",
       "    </tr>\n",
       "    <tr>\n",
       "      <th>4</th>\n",
       "      <td>2015-06-04</td>\n",
       "      <td>3.10</td>\n",
       "    </tr>\n",
       "  </tbody>\n",
       "</table>\n",
       "</div>"
      ],
      "text/plain": [
       "        DATE  CLOSING\n",
       "0 2015-05-29     2.12\n",
       "1 2015-06-01     2.33\n",
       "2 2015-06-02     2.56\n",
       "3 2015-06-03     2.82\n",
       "4 2015-06-04     3.10"
      ]
     },
     "metadata": {},
     "output_type": "display_data"
    },
    {
     "data": {
      "application/vnd.microsoft.datawrangler.viewer.v0+json": {
       "columns": [
        {
         "name": "index",
         "rawType": "int64",
         "type": "integer"
        },
        {
         "name": "DATE",
         "rawType": "datetime64[ns]",
         "type": "datetime"
        },
        {
         "name": "CLOSING",
         "rawType": "float64",
         "type": "float"
        }
       ],
       "conversionMethod": "pd.DataFrame",
       "ref": "67ef9862-b960-448f-8a9f-8d5b0f01ac81",
       "rows": [
        [
         "0",
         "1990-12-19 00:00:00",
         "99.98"
        ],
        [
         "1",
         "1990-12-20 00:00:00",
         "104.39"
        ],
        [
         "2",
         "1990-12-21 00:00:00",
         "109.13"
        ],
        [
         "3",
         "1990-12-24 00:00:00",
         "114.55"
        ],
        [
         "4",
         "1990-12-25 00:00:00",
         "120.25"
        ]
       ],
       "shape": {
        "columns": 2,
        "rows": 5
       }
      },
      "text/html": [
       "<div>\n",
       "<style scoped>\n",
       "    .dataframe tbody tr th:only-of-type {\n",
       "        vertical-align: middle;\n",
       "    }\n",
       "\n",
       "    .dataframe tbody tr th {\n",
       "        vertical-align: top;\n",
       "    }\n",
       "\n",
       "    .dataframe thead th {\n",
       "        text-align: right;\n",
       "    }\n",
       "</style>\n",
       "<table border=\"1\" class=\"dataframe\">\n",
       "  <thead>\n",
       "    <tr style=\"text-align: right;\">\n",
       "      <th></th>\n",
       "      <th>DATE</th>\n",
       "      <th>CLOSING</th>\n",
       "    </tr>\n",
       "  </thead>\n",
       "  <tbody>\n",
       "    <tr>\n",
       "      <th>0</th>\n",
       "      <td>1990-12-19</td>\n",
       "      <td>99.98</td>\n",
       "    </tr>\n",
       "    <tr>\n",
       "      <th>1</th>\n",
       "      <td>1990-12-20</td>\n",
       "      <td>104.39</td>\n",
       "    </tr>\n",
       "    <tr>\n",
       "      <th>2</th>\n",
       "      <td>1990-12-21</td>\n",
       "      <td>109.13</td>\n",
       "    </tr>\n",
       "    <tr>\n",
       "      <th>3</th>\n",
       "      <td>1990-12-24</td>\n",
       "      <td>114.55</td>\n",
       "    </tr>\n",
       "    <tr>\n",
       "      <th>4</th>\n",
       "      <td>1990-12-25</td>\n",
       "      <td>120.25</td>\n",
       "    </tr>\n",
       "  </tbody>\n",
       "</table>\n",
       "</div>"
      ],
      "text/plain": [
       "        DATE  CLOSING\n",
       "0 1990-12-19    99.98\n",
       "1 1990-12-20   104.39\n",
       "2 1990-12-21   109.13\n",
       "3 1990-12-24   114.55\n",
       "4 1990-12-25   120.25"
      ]
     },
     "metadata": {},
     "output_type": "display_data"
    }
   ],
   "source": [
    "i_df, m_df = [df[['DATE', 'CLOSING']] for df in [i_df, m_df]]\n",
    "display(i_df.head())\n",
    "display(m_df.head())"
   ]
  },
  {
   "cell_type": "markdown",
   "metadata": {},
   "source": [
    "## Change the data into the same shape based on time."
   ]
  },
  {
   "cell_type": "markdown",
   "metadata": {},
   "source": [
    "Here `df = pd.merge(i_df, m_df, on='DATE', how='inner')`, `i_df` and `m_df` are the dataframe that I want to merge, and on='DATE meaning that this merge will be based on DATE column, and inner means that this will merge the rows that exist a time on both datafram."
   ]
  },
  {
   "cell_type": "code",
   "execution_count": 10,
   "metadata": {},
   "outputs": [
    {
     "data": {
      "application/vnd.microsoft.datawrangler.viewer.v0+json": {
       "columns": [
        {
         "name": "index",
         "rawType": "int64",
         "type": "integer"
        },
        {
         "name": "DATE",
         "rawType": "datetime64[ns]",
         "type": "datetime"
        },
        {
         "name": "Chosen Stock Closing Price",
         "rawType": "float64",
         "type": "float"
        },
        {
         "name": "Market Portfolio Closing Price",
         "rawType": "float64",
         "type": "float"
        }
       ],
       "conversionMethod": "pd.DataFrame",
       "ref": "8778b0c4-2eb8-4366-bf40-ea1d6f9f6312",
       "rows": [
        [
         "0",
         "2015-05-29 00:00:00",
         "2.12",
         "4611.74"
        ],
        [
         "1",
         "2015-06-01 00:00:00",
         "2.33",
         "4828.74"
        ],
        [
         "2",
         "2015-06-02 00:00:00",
         "2.56",
         "4910.53"
        ],
        [
         "3",
         "2015-06-03 00:00:00",
         "2.82",
         "4909.98"
        ],
        [
         "4",
         "2015-06-04 00:00:00",
         "3.1",
         "4947.1"
        ]
       ],
       "shape": {
        "columns": 3,
        "rows": 5
       }
      },
      "text/html": [
       "<div>\n",
       "<style scoped>\n",
       "    .dataframe tbody tr th:only-of-type {\n",
       "        vertical-align: middle;\n",
       "    }\n",
       "\n",
       "    .dataframe tbody tr th {\n",
       "        vertical-align: top;\n",
       "    }\n",
       "\n",
       "    .dataframe thead th {\n",
       "        text-align: right;\n",
       "    }\n",
       "</style>\n",
       "<table border=\"1\" class=\"dataframe\">\n",
       "  <thead>\n",
       "    <tr style=\"text-align: right;\">\n",
       "      <th></th>\n",
       "      <th>DATE</th>\n",
       "      <th>Chosen Stock Closing Price</th>\n",
       "      <th>Market Portfolio Closing Price</th>\n",
       "    </tr>\n",
       "  </thead>\n",
       "  <tbody>\n",
       "    <tr>\n",
       "      <th>0</th>\n",
       "      <td>2015-05-29</td>\n",
       "      <td>2.12</td>\n",
       "      <td>4611.74</td>\n",
       "    </tr>\n",
       "    <tr>\n",
       "      <th>1</th>\n",
       "      <td>2015-06-01</td>\n",
       "      <td>2.33</td>\n",
       "      <td>4828.74</td>\n",
       "    </tr>\n",
       "    <tr>\n",
       "      <th>2</th>\n",
       "      <td>2015-06-02</td>\n",
       "      <td>2.56</td>\n",
       "      <td>4910.53</td>\n",
       "    </tr>\n",
       "    <tr>\n",
       "      <th>3</th>\n",
       "      <td>2015-06-03</td>\n",
       "      <td>2.82</td>\n",
       "      <td>4909.98</td>\n",
       "    </tr>\n",
       "    <tr>\n",
       "      <th>4</th>\n",
       "      <td>2015-06-04</td>\n",
       "      <td>3.10</td>\n",
       "      <td>4947.10</td>\n",
       "    </tr>\n",
       "  </tbody>\n",
       "</table>\n",
       "</div>"
      ],
      "text/plain": [
       "        DATE  Chosen Stock Closing Price  Market Portfolio Closing Price\n",
       "0 2015-05-29                        2.12                         4611.74\n",
       "1 2015-06-01                        2.33                         4828.74\n",
       "2 2015-06-02                        2.56                         4910.53\n",
       "3 2015-06-03                        2.82                         4909.98\n",
       "4 2015-06-04                        3.10                         4947.10"
      ]
     },
     "metadata": {},
     "output_type": "display_data"
    },
    {
     "name": "stdout",
     "output_type": "stream",
     "text": [
      "<class 'pandas.core.frame.DataFrame'>\n",
      "RangeIndex: 2347 entries, 0 to 2346\n",
      "Data columns (total 3 columns):\n",
      " #   Column                          Non-Null Count  Dtype         \n",
      "---  ------                          --------------  -----         \n",
      " 0   DATE                            2347 non-null   datetime64[ns]\n",
      " 1   Chosen Stock Closing Price      2347 non-null   float64       \n",
      " 2   Market Portfolio Closing Price  2347 non-null   float64       \n",
      "dtypes: datetime64[ns](1), float64(2)\n",
      "memory usage: 55.1 KB\n"
     ]
    },
    {
     "data": {
      "text/plain": [
       "None"
      ]
     },
     "metadata": {},
     "output_type": "display_data"
    },
    {
     "data": {
      "application/vnd.microsoft.datawrangler.viewer.v0+json": {
       "columns": [
        {
         "name": "index",
         "rawType": "int64",
         "type": "integer"
        },
        {
         "name": "DATE",
         "rawType": "datetime64[ns]",
         "type": "datetime"
        },
        {
         "name": "Chosen Stock Closing Price",
         "rawType": "float64",
         "type": "float"
        },
        {
         "name": "Market Portfolio Closing Price",
         "rawType": "float64",
         "type": "float"
        }
       ],
       "conversionMethod": "pd.DataFrame",
       "ref": "c13e1e8f-620f-49fe-b903-8fc1f6946a37",
       "rows": [
        [
         "2342",
         "2025-02-24 00:00:00",
         "10.5",
         "3373.03"
        ],
        [
         "2343",
         "2025-02-25 00:00:00",
         "10.0",
         "3346.04"
        ],
        [
         "2344",
         "2025-02-26 00:00:00",
         "10.43",
         "3380.21"
        ],
        [
         "2345",
         "2025-02-27 00:00:00",
         "11.03",
         "3388.06"
        ],
        [
         "2346",
         "2025-02-28 00:00:00",
         "9.99",
         "3320.9"
        ]
       ],
       "shape": {
        "columns": 3,
        "rows": 5
       }
      },
      "text/html": [
       "<div>\n",
       "<style scoped>\n",
       "    .dataframe tbody tr th:only-of-type {\n",
       "        vertical-align: middle;\n",
       "    }\n",
       "\n",
       "    .dataframe tbody tr th {\n",
       "        vertical-align: top;\n",
       "    }\n",
       "\n",
       "    .dataframe thead th {\n",
       "        text-align: right;\n",
       "    }\n",
       "</style>\n",
       "<table border=\"1\" class=\"dataframe\">\n",
       "  <thead>\n",
       "    <tr style=\"text-align: right;\">\n",
       "      <th></th>\n",
       "      <th>DATE</th>\n",
       "      <th>Chosen Stock Closing Price</th>\n",
       "      <th>Market Portfolio Closing Price</th>\n",
       "    </tr>\n",
       "  </thead>\n",
       "  <tbody>\n",
       "    <tr>\n",
       "      <th>2342</th>\n",
       "      <td>2025-02-24</td>\n",
       "      <td>10.50</td>\n",
       "      <td>3373.03</td>\n",
       "    </tr>\n",
       "    <tr>\n",
       "      <th>2343</th>\n",
       "      <td>2025-02-25</td>\n",
       "      <td>10.00</td>\n",
       "      <td>3346.04</td>\n",
       "    </tr>\n",
       "    <tr>\n",
       "      <th>2344</th>\n",
       "      <td>2025-02-26</td>\n",
       "      <td>10.43</td>\n",
       "      <td>3380.21</td>\n",
       "    </tr>\n",
       "    <tr>\n",
       "      <th>2345</th>\n",
       "      <td>2025-02-27</td>\n",
       "      <td>11.03</td>\n",
       "      <td>3388.06</td>\n",
       "    </tr>\n",
       "    <tr>\n",
       "      <th>2346</th>\n",
       "      <td>2025-02-28</td>\n",
       "      <td>9.99</td>\n",
       "      <td>3320.90</td>\n",
       "    </tr>\n",
       "  </tbody>\n",
       "</table>\n",
       "</div>"
      ],
      "text/plain": [
       "           DATE  Chosen Stock Closing Price  Market Portfolio Closing Price\n",
       "2342 2025-02-24                       10.50                         3373.03\n",
       "2343 2025-02-25                       10.00                         3346.04\n",
       "2344 2025-02-26                       10.43                         3380.21\n",
       "2345 2025-02-27                       11.03                         3388.06\n",
       "2346 2025-02-28                        9.99                         3320.90"
      ]
     },
     "metadata": {},
     "output_type": "display_data"
    }
   ],
   "source": [
    "df = pd.merge(i_df, m_df, on='DATE', how='inner')\n",
    "df = df.rename(columns = {'CLOSING_x': 'Chosen Stock Closing Price', 'CLOSING_y': 'Market Portfolio Closing Price'})\n",
    "df.dropna(inplace = True)\n",
    "display(df.head())\n",
    "display(df.info())\n",
    "display(df.tail())"
   ]
  },
  {
   "cell_type": "markdown",
   "metadata": {},
   "source": [
    "## Getting the percentage change columns"
   ]
  },
  {
   "cell_type": "code",
   "execution_count": 11,
   "metadata": {},
   "outputs": [
    {
     "data": {
      "application/vnd.microsoft.datawrangler.viewer.v0+json": {
       "columns": [
        {
         "name": "index",
         "rawType": "int64",
         "type": "integer"
        },
        {
         "name": "DATE",
         "rawType": "datetime64[ns]",
         "type": "datetime"
        },
        {
         "name": "Chosen Stock Closing Price",
         "rawType": "float64",
         "type": "float"
        },
        {
         "name": "Market Portfolio Closing Price",
         "rawType": "float64",
         "type": "float"
        },
        {
         "name": "i_pct_change",
         "rawType": "float64",
         "type": "float"
        },
        {
         "name": "m_pct_change",
         "rawType": "float64",
         "type": "float"
        }
       ],
       "conversionMethod": "pd.DataFrame",
       "ref": "f6ce1308-cc02-48a5-89ac-b59104dc8e07",
       "rows": [
        [
         "0",
         "2015-05-29 00:00:00",
         "2.12",
         "4611.74",
         null,
         null
        ],
        [
         "1",
         "2015-06-01 00:00:00",
         "2.33",
         "4828.74",
         "0.09905660377358494",
         "0.04705382350262588"
        ],
        [
         "2",
         "2015-06-02 00:00:00",
         "2.56",
         "4910.53",
         "0.09871244635193133",
         "0.016938166064024873"
        ],
        [
         "3",
         "2015-06-03 00:00:00",
         "2.82",
         "4909.98",
         "0.1015625",
         "-0.00011200420321233473"
        ],
        [
         "4",
         "2015-06-04 00:00:00",
         "3.1",
         "4947.1",
         "0.09929078014184411",
         "0.007560112261149943"
        ]
       ],
       "shape": {
        "columns": 5,
        "rows": 5
       }
      },
      "text/html": [
       "<div>\n",
       "<style scoped>\n",
       "    .dataframe tbody tr th:only-of-type {\n",
       "        vertical-align: middle;\n",
       "    }\n",
       "\n",
       "    .dataframe tbody tr th {\n",
       "        vertical-align: top;\n",
       "    }\n",
       "\n",
       "    .dataframe thead th {\n",
       "        text-align: right;\n",
       "    }\n",
       "</style>\n",
       "<table border=\"1\" class=\"dataframe\">\n",
       "  <thead>\n",
       "    <tr style=\"text-align: right;\">\n",
       "      <th></th>\n",
       "      <th>DATE</th>\n",
       "      <th>Chosen Stock Closing Price</th>\n",
       "      <th>Market Portfolio Closing Price</th>\n",
       "      <th>i_pct_change</th>\n",
       "      <th>m_pct_change</th>\n",
       "    </tr>\n",
       "  </thead>\n",
       "  <tbody>\n",
       "    <tr>\n",
       "      <th>0</th>\n",
       "      <td>2015-05-29</td>\n",
       "      <td>2.12</td>\n",
       "      <td>4611.74</td>\n",
       "      <td>NaN</td>\n",
       "      <td>NaN</td>\n",
       "    </tr>\n",
       "    <tr>\n",
       "      <th>1</th>\n",
       "      <td>2015-06-01</td>\n",
       "      <td>2.33</td>\n",
       "      <td>4828.74</td>\n",
       "      <td>0.099057</td>\n",
       "      <td>0.047054</td>\n",
       "    </tr>\n",
       "    <tr>\n",
       "      <th>2</th>\n",
       "      <td>2015-06-02</td>\n",
       "      <td>2.56</td>\n",
       "      <td>4910.53</td>\n",
       "      <td>0.098712</td>\n",
       "      <td>0.016938</td>\n",
       "    </tr>\n",
       "    <tr>\n",
       "      <th>3</th>\n",
       "      <td>2015-06-03</td>\n",
       "      <td>2.82</td>\n",
       "      <td>4909.98</td>\n",
       "      <td>0.101562</td>\n",
       "      <td>-0.000112</td>\n",
       "    </tr>\n",
       "    <tr>\n",
       "      <th>4</th>\n",
       "      <td>2015-06-04</td>\n",
       "      <td>3.10</td>\n",
       "      <td>4947.10</td>\n",
       "      <td>0.099291</td>\n",
       "      <td>0.007560</td>\n",
       "    </tr>\n",
       "  </tbody>\n",
       "</table>\n",
       "</div>"
      ],
      "text/plain": [
       "        DATE  Chosen Stock Closing Price  Market Portfolio Closing Price  \\\n",
       "0 2015-05-29                        2.12                         4611.74   \n",
       "1 2015-06-01                        2.33                         4828.74   \n",
       "2 2015-06-02                        2.56                         4910.53   \n",
       "3 2015-06-03                        2.82                         4909.98   \n",
       "4 2015-06-04                        3.10                         4947.10   \n",
       "\n",
       "   i_pct_change  m_pct_change  \n",
       "0           NaN           NaN  \n",
       "1      0.099057      0.047054  \n",
       "2      0.098712      0.016938  \n",
       "3      0.101562     -0.000112  \n",
       "4      0.099291      0.007560  "
      ]
     },
     "metadata": {},
     "output_type": "display_data"
    },
    {
     "name": "stdout",
     "output_type": "stream",
     "text": [
      "<class 'pandas.core.frame.DataFrame'>\n",
      "RangeIndex: 2347 entries, 0 to 2346\n",
      "Data columns (total 5 columns):\n",
      " #   Column                          Non-Null Count  Dtype         \n",
      "---  ------                          --------------  -----         \n",
      " 0   DATE                            2347 non-null   datetime64[ns]\n",
      " 1   Chosen Stock Closing Price      2347 non-null   float64       \n",
      " 2   Market Portfolio Closing Price  2347 non-null   float64       \n",
      " 3   i_pct_change                    2346 non-null   float64       \n",
      " 4   m_pct_change                    2346 non-null   float64       \n",
      "dtypes: datetime64[ns](1), float64(4)\n",
      "memory usage: 91.8 KB\n"
     ]
    },
    {
     "data": {
      "text/plain": [
       "None"
      ]
     },
     "metadata": {},
     "output_type": "display_data"
    }
   ],
   "source": [
    "df['i_pct_change'] = df['Chosen Stock Closing Price'].pct_change()\n",
    "df['m_pct_change'] = df['Market Portfolio Closing Price'].pct_change()\n",
    "display(df.head())\n",
    "display(df.info())"
   ]
  },
  {
   "cell_type": "markdown",
   "metadata": {},
   "source": [
    "## Change the time range to 2022-01-01 to 2025-02-28 and Drop the useless column since now we have the percent change column."
   ]
  },
  {
   "cell_type": "markdown",
   "metadata": {},
   "source": [
    "Getting the start and the end date."
   ]
  },
  {
   "cell_type": "code",
   "execution_count": 12,
   "metadata": {},
   "outputs": [],
   "source": [
    "Start_Date = '2022-01-01'\n",
    "End_Date = df.iat[-1, 0]\n",
    "End_Date = End_Date.strftime('%Y-%m-%d')\n",
    "Sample_Range_TAG_4 = Start_Date + \" to \" + End_Date"
   ]
  },
  {
   "cell_type": "code",
   "execution_count": 13,
   "metadata": {},
   "outputs": [
    {
     "data": {
      "application/vnd.microsoft.datawrangler.viewer.v0+json": {
       "columns": [
        {
         "name": "index",
         "rawType": "int64",
         "type": "integer"
        },
        {
         "name": "DATE",
         "rawType": "datetime64[ns]",
         "type": "datetime"
        },
        {
         "name": "i_pct_change",
         "rawType": "float64",
         "type": "float"
        },
        {
         "name": "m_pct_change",
         "rawType": "float64",
         "type": "float"
        }
       ],
       "conversionMethod": "pd.DataFrame",
       "ref": "d62156aa-6309-4842-8fc8-014311d6cdb9",
       "rows": [
        [
         "1587",
         "2022-01-04 00:00:00",
         "-0.010355029585798703",
         "-0.0020468270060278737"
        ],
        [
         "1588",
         "2022-01-05 00:00:00",
         "-0.010463378176382654",
         "-0.010227594959709041"
        ],
        [
         "1589",
         "2022-01-06 00:00:00",
         "0.04229607250755296",
         "-0.002531166728786838"
        ],
        [
         "1590",
         "2022-01-07 00:00:00",
         "0.01594202898550723",
         "-0.0018237183777272126"
        ],
        [
         "1591",
         "2022-01-10 00:00:00",
         "0.01711840228245376",
         "0.003905529760807269"
        ]
       ],
       "shape": {
        "columns": 3,
        "rows": 5
       }
      },
      "text/html": [
       "<div>\n",
       "<style scoped>\n",
       "    .dataframe tbody tr th:only-of-type {\n",
       "        vertical-align: middle;\n",
       "    }\n",
       "\n",
       "    .dataframe tbody tr th {\n",
       "        vertical-align: top;\n",
       "    }\n",
       "\n",
       "    .dataframe thead th {\n",
       "        text-align: right;\n",
       "    }\n",
       "</style>\n",
       "<table border=\"1\" class=\"dataframe\">\n",
       "  <thead>\n",
       "    <tr style=\"text-align: right;\">\n",
       "      <th></th>\n",
       "      <th>DATE</th>\n",
       "      <th>i_pct_change</th>\n",
       "      <th>m_pct_change</th>\n",
       "    </tr>\n",
       "  </thead>\n",
       "  <tbody>\n",
       "    <tr>\n",
       "      <th>1587</th>\n",
       "      <td>2022-01-04</td>\n",
       "      <td>-0.010355</td>\n",
       "      <td>-0.002047</td>\n",
       "    </tr>\n",
       "    <tr>\n",
       "      <th>1588</th>\n",
       "      <td>2022-01-05</td>\n",
       "      <td>-0.010463</td>\n",
       "      <td>-0.010228</td>\n",
       "    </tr>\n",
       "    <tr>\n",
       "      <th>1589</th>\n",
       "      <td>2022-01-06</td>\n",
       "      <td>0.042296</td>\n",
       "      <td>-0.002531</td>\n",
       "    </tr>\n",
       "    <tr>\n",
       "      <th>1590</th>\n",
       "      <td>2022-01-07</td>\n",
       "      <td>0.015942</td>\n",
       "      <td>-0.001824</td>\n",
       "    </tr>\n",
       "    <tr>\n",
       "      <th>1591</th>\n",
       "      <td>2022-01-10</td>\n",
       "      <td>0.017118</td>\n",
       "      <td>0.003906</td>\n",
       "    </tr>\n",
       "  </tbody>\n",
       "</table>\n",
       "</div>"
      ],
      "text/plain": [
       "           DATE  i_pct_change  m_pct_change\n",
       "1587 2022-01-04     -0.010355     -0.002047\n",
       "1588 2022-01-05     -0.010463     -0.010228\n",
       "1589 2022-01-06      0.042296     -0.002531\n",
       "1590 2022-01-07      0.015942     -0.001824\n",
       "1591 2022-01-10      0.017118      0.003906"
      ]
     },
     "metadata": {},
     "output_type": "display_data"
    },
    {
     "data": {
      "application/vnd.microsoft.datawrangler.viewer.v0+json": {
       "columns": [
        {
         "name": "index",
         "rawType": "int64",
         "type": "integer"
        },
        {
         "name": "DATE",
         "rawType": "datetime64[ns]",
         "type": "datetime"
        },
        {
         "name": "i_pct_change",
         "rawType": "float64",
         "type": "float"
        },
        {
         "name": "m_pct_change",
         "rawType": "float64",
         "type": "float"
        }
       ],
       "conversionMethod": "pd.DataFrame",
       "ref": "da171ece-3913-4aa2-9f68-561321786d21",
       "rows": [
        [
         "0",
         "2022-01-04 00:00:00",
         "-0.010355029585798703",
         "-0.0020468270060278737"
        ],
        [
         "1",
         "2022-01-05 00:00:00",
         "-0.010463378176382654",
         "-0.010227594959709041"
        ],
        [
         "2",
         "2022-01-06 00:00:00",
         "0.04229607250755296",
         "-0.002531166728786838"
        ],
        [
         "3",
         "2022-01-07 00:00:00",
         "0.01594202898550723",
         "-0.0018237183777272126"
        ],
        [
         "4",
         "2022-01-10 00:00:00",
         "0.01711840228245376",
         "0.003905529760807269"
        ]
       ],
       "shape": {
        "columns": 3,
        "rows": 5
       }
      },
      "text/html": [
       "<div>\n",
       "<style scoped>\n",
       "    .dataframe tbody tr th:only-of-type {\n",
       "        vertical-align: middle;\n",
       "    }\n",
       "\n",
       "    .dataframe tbody tr th {\n",
       "        vertical-align: top;\n",
       "    }\n",
       "\n",
       "    .dataframe thead th {\n",
       "        text-align: right;\n",
       "    }\n",
       "</style>\n",
       "<table border=\"1\" class=\"dataframe\">\n",
       "  <thead>\n",
       "    <tr style=\"text-align: right;\">\n",
       "      <th></th>\n",
       "      <th>DATE</th>\n",
       "      <th>i_pct_change</th>\n",
       "      <th>m_pct_change</th>\n",
       "    </tr>\n",
       "  </thead>\n",
       "  <tbody>\n",
       "    <tr>\n",
       "      <th>0</th>\n",
       "      <td>2022-01-04</td>\n",
       "      <td>-0.010355</td>\n",
       "      <td>-0.002047</td>\n",
       "    </tr>\n",
       "    <tr>\n",
       "      <th>1</th>\n",
       "      <td>2022-01-05</td>\n",
       "      <td>-0.010463</td>\n",
       "      <td>-0.010228</td>\n",
       "    </tr>\n",
       "    <tr>\n",
       "      <th>2</th>\n",
       "      <td>2022-01-06</td>\n",
       "      <td>0.042296</td>\n",
       "      <td>-0.002531</td>\n",
       "    </tr>\n",
       "    <tr>\n",
       "      <th>3</th>\n",
       "      <td>2022-01-07</td>\n",
       "      <td>0.015942</td>\n",
       "      <td>-0.001824</td>\n",
       "    </tr>\n",
       "    <tr>\n",
       "      <th>4</th>\n",
       "      <td>2022-01-10</td>\n",
       "      <td>0.017118</td>\n",
       "      <td>0.003906</td>\n",
       "    </tr>\n",
       "  </tbody>\n",
       "</table>\n",
       "</div>"
      ],
      "text/plain": [
       "        DATE  i_pct_change  m_pct_change\n",
       "0 2022-01-04     -0.010355     -0.002047\n",
       "1 2022-01-05     -0.010463     -0.010228\n",
       "2 2022-01-06      0.042296     -0.002531\n",
       "3 2022-01-07      0.015942     -0.001824\n",
       "4 2022-01-10      0.017118      0.003906"
      ]
     },
     "metadata": {},
     "output_type": "display_data"
    },
    {
     "name": "stdout",
     "output_type": "stream",
     "text": [
      "<class 'pandas.core.frame.DataFrame'>\n",
      "RangeIndex: 760 entries, 0 to 759\n",
      "Data columns (total 3 columns):\n",
      " #   Column        Non-Null Count  Dtype         \n",
      "---  ------        --------------  -----         \n",
      " 0   DATE          760 non-null    datetime64[ns]\n",
      " 1   i_pct_change  760 non-null    float64       \n",
      " 2   m_pct_change  760 non-null    float64       \n",
      "dtypes: datetime64[ns](1), float64(2)\n",
      "memory usage: 17.9 KB\n"
     ]
    },
    {
     "data": {
      "text/plain": [
       "None"
      ]
     },
     "metadata": {},
     "output_type": "display_data"
    }
   ],
   "source": [
    "df = df.loc[(df['DATE'] > Start_Date) & (df['DATE'] <= End_Date)]\n",
    "to_drop = ['Chosen Stock Closing Price', 'Market Portfolio Closing Price']\n",
    "df.drop(to_drop, axis = 1, inplace = True)\n",
    "display(df.head())\n",
    "df = df.reset_index(drop=True)\n",
    "display(df.head())\n",
    "display(df.info())"
   ]
  },
  {
   "cell_type": "code",
   "execution_count": 14,
   "metadata": {},
   "outputs": [
    {
     "name": "stdout",
     "output_type": "stream",
     "text": [
      "2022-01-01\n",
      "2025-02-28\n",
      "603300\n",
      "海南华铁\n",
      "2022-01-01 to 2025-02-28\n"
     ]
    }
   ],
   "source": [
    "print(Start_Date)\n",
    "print(End_Date)\n",
    "print(Stock_ID_TAG_2)\n",
    "print(Stock_Name_TAG_3)\n",
    "print(Sample_Range_TAG_4)"
   ]
  },
  {
   "cell_type": "markdown",
   "metadata": {},
   "source": [
    "## Add a new column of R_f"
   ]
  },
  {
   "cell_type": "markdown",
   "metadata": {},
   "source": [
    "### Define a function that calculate the R_f for daily changes from yearly."
   ]
  },
  {
   "cell_type": "code",
   "execution_count": 15,
   "metadata": {},
   "outputs": [
    {
     "data": {
      "application/vnd.microsoft.datawrangler.viewer.v0+json": {
       "columns": [
        {
         "name": "index",
         "rawType": "int64",
         "type": "integer"
        },
        {
         "name": "DATE",
         "rawType": "datetime64[ns]",
         "type": "datetime"
        },
        {
         "name": "R_f",
         "rawType": "float64",
         "type": "float"
        }
       ],
       "conversionMethod": "pd.DataFrame",
       "ref": "e866ac4a-6d26-44bd-8966-4799b525460e",
       "rows": [
        [
         "0",
         "2022-01-01 00:00:00",
         "0.038"
        ],
        [
         "1",
         "2022-01-20 00:00:00",
         "0.037"
        ],
        [
         "2",
         "2022-08-22 00:00:00",
         "0.0365"
        ],
        [
         "3",
         "2023-06-20 00:00:00",
         "0.0355"
        ],
        [
         "4",
         "2023-08-21 00:00:00",
         "0.0345"
        ],
        [
         "5",
         "2024-07-22 00:00:00",
         "0.0335"
        ],
        [
         "6",
         "2024-10-20 00:00:00",
         "0.031"
        ]
       ],
       "shape": {
        "columns": 2,
        "rows": 7
       }
      },
      "text/html": [
       "<div>\n",
       "<style scoped>\n",
       "    .dataframe tbody tr th:only-of-type {\n",
       "        vertical-align: middle;\n",
       "    }\n",
       "\n",
       "    .dataframe tbody tr th {\n",
       "        vertical-align: top;\n",
       "    }\n",
       "\n",
       "    .dataframe thead th {\n",
       "        text-align: right;\n",
       "    }\n",
       "</style>\n",
       "<table border=\"1\" class=\"dataframe\">\n",
       "  <thead>\n",
       "    <tr style=\"text-align: right;\">\n",
       "      <th></th>\n",
       "      <th>DATE</th>\n",
       "      <th>R_f</th>\n",
       "    </tr>\n",
       "  </thead>\n",
       "  <tbody>\n",
       "    <tr>\n",
       "      <th>0</th>\n",
       "      <td>2022-01-01</td>\n",
       "      <td>0.0380</td>\n",
       "    </tr>\n",
       "    <tr>\n",
       "      <th>1</th>\n",
       "      <td>2022-01-20</td>\n",
       "      <td>0.0370</td>\n",
       "    </tr>\n",
       "    <tr>\n",
       "      <th>2</th>\n",
       "      <td>2022-08-22</td>\n",
       "      <td>0.0365</td>\n",
       "    </tr>\n",
       "    <tr>\n",
       "      <th>3</th>\n",
       "      <td>2023-06-20</td>\n",
       "      <td>0.0355</td>\n",
       "    </tr>\n",
       "    <tr>\n",
       "      <th>4</th>\n",
       "      <td>2023-08-21</td>\n",
       "      <td>0.0345</td>\n",
       "    </tr>\n",
       "    <tr>\n",
       "      <th>5</th>\n",
       "      <td>2024-07-22</td>\n",
       "      <td>0.0335</td>\n",
       "    </tr>\n",
       "    <tr>\n",
       "      <th>6</th>\n",
       "      <td>2024-10-20</td>\n",
       "      <td>0.0310</td>\n",
       "    </tr>\n",
       "  </tbody>\n",
       "</table>\n",
       "</div>"
      ],
      "text/plain": [
       "        DATE     R_f\n",
       "0 2022-01-01  0.0380\n",
       "1 2022-01-20  0.0370\n",
       "2 2022-08-22  0.0365\n",
       "3 2023-06-20  0.0355\n",
       "4 2023-08-21  0.0345\n",
       "5 2024-07-22  0.0335\n",
       "6 2024-10-20  0.0310"
      ]
     },
     "metadata": {},
     "output_type": "display_data"
    },
    {
     "data": {
      "application/vnd.microsoft.datawrangler.viewer.v0+json": {
       "columns": [
        {
         "name": "index",
         "rawType": "int64",
         "type": "integer"
        },
        {
         "name": "DATE",
         "rawType": "datetime64[ns]",
         "type": "datetime"
        },
        {
         "name": "R_f",
         "rawType": "float64",
         "type": "float"
        }
       ],
       "conversionMethod": "pd.DataFrame",
       "ref": "64de4965-b4f0-4144-8df8-b71481ea1b55",
       "rows": [
        [
         "0",
         "2022-01-01 00:00:00",
         "0.0001021854527523125"
        ],
        [
         "1",
         "2022-01-20 00:00:00",
         "9.954448640825397e-05"
        ],
        [
         "2",
         "2022-08-22 00:00:00",
         "9.822305067408443e-05"
        ],
        [
         "3",
         "2023-06-20 00:00:00",
         "9.557827102013583e-05"
        ],
        [
         "4",
         "2023-08-21 00:00:00",
         "9.293094302753602e-05"
        ],
        [
         "5",
         "2024-07-22 00:00:00",
         "9.028106177377815e-05"
        ],
        [
         "6",
         "2024-10-20 00:00:00",
         "8.364515569070363e-05"
        ]
       ],
       "shape": {
        "columns": 2,
        "rows": 7
       }
      },
      "text/html": [
       "<div>\n",
       "<style scoped>\n",
       "    .dataframe tbody tr th:only-of-type {\n",
       "        vertical-align: middle;\n",
       "    }\n",
       "\n",
       "    .dataframe tbody tr th {\n",
       "        vertical-align: top;\n",
       "    }\n",
       "\n",
       "    .dataframe thead th {\n",
       "        text-align: right;\n",
       "    }\n",
       "</style>\n",
       "<table border=\"1\" class=\"dataframe\">\n",
       "  <thead>\n",
       "    <tr style=\"text-align: right;\">\n",
       "      <th></th>\n",
       "      <th>DATE</th>\n",
       "      <th>R_f</th>\n",
       "    </tr>\n",
       "  </thead>\n",
       "  <tbody>\n",
       "    <tr>\n",
       "      <th>0</th>\n",
       "      <td>2022-01-01</td>\n",
       "      <td>0.000102</td>\n",
       "    </tr>\n",
       "    <tr>\n",
       "      <th>1</th>\n",
       "      <td>2022-01-20</td>\n",
       "      <td>0.000100</td>\n",
       "    </tr>\n",
       "    <tr>\n",
       "      <th>2</th>\n",
       "      <td>2022-08-22</td>\n",
       "      <td>0.000098</td>\n",
       "    </tr>\n",
       "    <tr>\n",
       "      <th>3</th>\n",
       "      <td>2023-06-20</td>\n",
       "      <td>0.000096</td>\n",
       "    </tr>\n",
       "    <tr>\n",
       "      <th>4</th>\n",
       "      <td>2023-08-21</td>\n",
       "      <td>0.000093</td>\n",
       "    </tr>\n",
       "    <tr>\n",
       "      <th>5</th>\n",
       "      <td>2024-07-22</td>\n",
       "      <td>0.000090</td>\n",
       "    </tr>\n",
       "    <tr>\n",
       "      <th>6</th>\n",
       "      <td>2024-10-20</td>\n",
       "      <td>0.000084</td>\n",
       "    </tr>\n",
       "  </tbody>\n",
       "</table>\n",
       "</div>"
      ],
      "text/plain": [
       "        DATE       R_f\n",
       "0 2022-01-01  0.000102\n",
       "1 2022-01-20  0.000100\n",
       "2 2022-08-22  0.000098\n",
       "3 2023-06-20  0.000096\n",
       "4 2023-08-21  0.000093\n",
       "5 2024-07-22  0.000090\n",
       "6 2024-10-20  0.000084"
      ]
     },
     "metadata": {},
     "output_type": "display_data"
    }
   ],
   "source": [
    "def yearly_to_daily(R_f_y):\n",
    "    return ((R_f_y + 1) ** (1 / 365)) - 1\n",
    "R_f_df = R_f_df.sort_values(by='DATE')\n",
    "display(R_f_df)\n",
    "R_f_df['R_f'] = yearly_to_daily(R_f_df['R_f'])\n",
    "display(R_f_df)"
   ]
  },
  {
   "cell_type": "code",
   "execution_count": 16,
   "metadata": {},
   "outputs": [],
   "source": [
    "df = pd.merge_asof(df, R_f_df, on='DATE', direction='backward')"
   ]
  },
  {
   "cell_type": "code",
   "execution_count": 17,
   "metadata": {},
   "outputs": [
    {
     "name": "stdout",
     "output_type": "stream",
     "text": [
      "<class 'pandas.core.frame.DataFrame'>\n",
      "RangeIndex: 760 entries, 0 to 759\n",
      "Data columns (total 4 columns):\n",
      " #   Column        Non-Null Count  Dtype         \n",
      "---  ------        --------------  -----         \n",
      " 0   DATE          760 non-null    datetime64[ns]\n",
      " 1   i_pct_change  760 non-null    float64       \n",
      " 2   m_pct_change  760 non-null    float64       \n",
      " 3   R_f           760 non-null    float64       \n",
      "dtypes: datetime64[ns](1), float64(3)\n",
      "memory usage: 23.9 KB\n"
     ]
    },
    {
     "data": {
      "text/plain": [
       "None"
      ]
     },
     "metadata": {},
     "output_type": "display_data"
    },
    {
     "data": {
      "text/plain": [
       "array([1.02185453e-04, 9.95444864e-05, 9.82230507e-05, 9.55782710e-05,\n",
       "       9.29309430e-05, 9.02810618e-05, 8.36451557e-05])"
      ]
     },
     "metadata": {},
     "output_type": "display_data"
    }
   ],
   "source": [
    "display(df.info())\n",
    "display(df['R_f'].unique())"
   ]
  },
  {
   "cell_type": "markdown",
   "metadata": {},
   "source": [
    "## Getting R_i and R_m for each consecutive day. "
   ]
  },
  {
   "cell_type": "code",
   "execution_count": 18,
   "metadata": {},
   "outputs": [
    {
     "data": {
      "application/vnd.microsoft.datawrangler.viewer.v0+json": {
       "columns": [
        {
         "name": "index",
         "rawType": "int64",
         "type": "integer"
        },
        {
         "name": "DATE",
         "rawType": "datetime64[ns]",
         "type": "datetime"
        },
        {
         "name": "i_pct_change",
         "rawType": "float64",
         "type": "float"
        },
        {
         "name": "m_pct_change",
         "rawType": "float64",
         "type": "float"
        },
        {
         "name": "R_f",
         "rawType": "float64",
         "type": "float"
        }
       ],
       "conversionMethod": "pd.DataFrame",
       "ref": "db61056a-b8cf-4aca-a0f6-94a2f71c2619",
       "rows": [
        [
         "0",
         "2022-01-04 00:00:00",
         "-0.010355029585798703",
         "-0.0020468270060278737",
         "0.0001021854527523125"
        ],
        [
         "1",
         "2022-01-05 00:00:00",
         "-0.010463378176382654",
         "-0.010227594959709041",
         "0.0001021854527523125"
        ],
        [
         "2",
         "2022-01-06 00:00:00",
         "0.04229607250755296",
         "-0.002531166728786838",
         "0.0001021854527523125"
        ],
        [
         "3",
         "2022-01-07 00:00:00",
         "0.01594202898550723",
         "-0.0018237183777272126",
         "0.0001021854527523125"
        ],
        [
         "4",
         "2022-01-10 00:00:00",
         "0.01711840228245376",
         "0.003905529760807269",
         "0.0001021854527523125"
        ],
        [
         "5",
         "2022-01-11 00:00:00",
         "-0.02244039270687237",
         "-0.007257507958770226",
         "0.0001021854527523125"
        ],
        [
         "6",
         "2022-01-12 00:00:00",
         "-0.008608321377331363",
         "0.008406588478012234",
         "0.0001021854527523125"
        ],
        [
         "7",
         "2022-01-13 00:00:00",
         "0.0014471780028944004",
         "-0.01172225727811227",
         "0.0001021854527523125"
        ],
        [
         "8",
         "2022-01-14 00:00:00",
         "0.01589595375722541",
         "-0.009563294948892631",
         "0.0001021854527523125"
        ],
        [
         "9",
         "2022-01-17 00:00:00",
         "-0.028449502133712667",
         "0.005796220671009822",
         "0.0001021854527523125"
        ],
        [
         "10",
         "2022-01-18 00:00:00",
         "-0.014641288433382083",
         "0.00797363955422159",
         "0.0001021854527523125"
        ],
        [
         "11",
         "2022-01-19 00:00:00",
         "-0.002971768202080338",
         "-0.003285797120935796",
         "0.0001021854527523125"
        ],
        [
         "12",
         "2022-01-20 00:00:00",
         "0.0",
         "-0.0008768527730468323",
         "9.954448640825397e-05"
        ],
        [
         "13",
         "2022-01-21 00:00:00",
         "-0.046199701937406745",
         "-0.009139086260147478",
         "9.954448640825397e-05"
        ],
        [
         "14",
         "2022-01-24 00:00:00",
         "0.04062499999999991",
         "0.0004371808083303286",
         "9.954448640825397e-05"
        ],
        [
         "15",
         "2022-01-25 00:00:00",
         "-0.012012012012012074",
         "-0.025836310444339206",
         "9.954448640825397e-05"
        ],
        [
         "16",
         "2022-01-26 00:00:00",
         "-0.024316109422492405",
         "0.006585961212446145",
         "9.954448640825397e-05"
        ],
        [
         "17",
         "2022-01-27 00:00:00",
         "0.010903426791277315",
         "-0.017773687881076583",
         "9.954448640825397e-05"
        ],
        [
         "18",
         "2022-01-28 00:00:00",
         "-0.027734976887519358",
         "-0.009666347499447614",
         "9.954448640825397e-05"
        ],
        [
         "19",
         "2022-02-07 00:00:00",
         "0.023771790808240878",
         "0.020271074301489778",
         "9.954448640825397e-05"
        ],
        [
         "20",
         "2022-02-08 00:00:00",
         "0.021671826625387025",
         "0.006720939590270536",
         "9.954448640825397e-05"
        ],
        [
         "21",
         "2022-02-09 00:00:00",
         "-0.009090909090909038",
         "0.007912808496711055",
         "9.954448640825397e-05"
        ],
        [
         "22",
         "2022-02-10 00:00:00",
         "-0.016819571865443472",
         "0.001712668285463792",
         "9.954448640825397e-05"
        ],
        [
         "23",
         "2022-02-11 00:00:00",
         "-0.0015552099533436836",
         "-0.006586515429256701",
         "9.954448640825397e-05"
        ],
        [
         "24",
         "2022-02-14 00:00:00",
         "-0.026479750778816147",
         "-0.009838432550282161",
         "9.954448640825397e-05"
        ],
        [
         "25",
         "2022-02-15 00:00:00",
         "0.025600000000000067",
         "0.005019131611488259",
         "9.954448640825397e-05"
        ],
        [
         "26",
         "2022-02-16 00:00:00",
         "0.026521060842433775",
         "0.005728231125710526",
         "9.954448640825397e-05"
        ],
        [
         "27",
         "2022-02-17 00:00:00",
         "-0.013677811550151908",
         "0.0006376538953152266",
         "9.954448640825397e-05"
        ],
        [
         "28",
         "2022-02-18 00:00:00",
         "-0.0015408320493065508",
         "0.00655125085062469",
         "9.954448640825397e-05"
        ],
        [
         "29",
         "2022-02-21 00:00:00",
         "-0.01851851851851849",
         "-4.297058520208452e-05",
         "9.954448640825397e-05"
        ],
        [
         "30",
         "2022-02-22 00:00:00",
         "-0.02358490566037741",
         "-0.009585717109616976",
         "9.954448640825397e-05"
        ],
        [
         "31",
         "2022-02-23 00:00:00",
         "0.0",
         "0.009256179222770111",
         "9.954448640825397e-05"
        ],
        [
         "32",
         "2022-02-24 00:00:00",
         "-0.033816425120772986",
         "-0.01696401702420358",
         "9.954448640825397e-05"
        ],
        [
         "33",
         "2022-02-25 00:00:00",
         "0.010000000000000009",
         "0.006253717244515844",
         "9.954448640825397e-05"
        ],
        [
         "34",
         "2022-02-28 00:00:00",
         "-0.004950495049504844",
         "0.0031581295760283457",
         "9.954448640825397e-05"
        ],
        [
         "35",
         "2022-03-01 00:00:00",
         "0.0033167495854062867",
         "0.007659626087785254",
         "9.954448640825397e-05"
        ],
        [
         "36",
         "2022-03-02 00:00:00",
         "-0.01157024793388417",
         "-0.0013299587540808178",
         "9.954448640825397e-05"
        ],
        [
         "37",
         "2022-03-03 00:00:00",
         "-0.021739130434782705",
         "-0.0008839931232222931",
         "9.954448640825397e-05"
        ],
        [
         "38",
         "2022-03-04 00:00:00",
         "-0.02564102564102555",
         "-0.009611876671521413",
         "9.954448640825397e-05"
        ],
        [
         "39",
         "2022-03-07 00:00:00",
         "0.010526315789473717",
         "-0.02169303728626748",
         "9.954448640825397e-05"
        ],
        [
         "40",
         "2022-03-08 00:00:00",
         "-0.00868055555555558",
         "-0.0235200986699714",
         "9.954448640825397e-05"
        ],
        [
         "41",
         "2022-03-09 00:00:00",
         "0.003502626970227851",
         "-0.011276654531763852",
         "9.954448640825397e-05"
        ],
        [
         "42",
         "2022-03-10 00:00:00",
         "-0.0017452006980803736",
         "0.012191414419034707",
         "9.954448640825397e-05"
        ],
        [
         "43",
         "2022-03-11 00:00:00",
         "-0.0017482517482516613",
         "0.004144304312078795",
         "9.954448640825397e-05"
        ],
        [
         "44",
         "2022-03-14 00:00:00",
         "-0.05604203152364273",
         "-0.026050305914343874",
         "9.954448640825397e-05"
        ],
        [
         "45",
         "2022-03-15 00:00:00",
         "-0.061224489795918435",
         "-0.04949853111340685",
         "9.954448640825397e-05"
        ],
        [
         "46",
         "2022-03-16 00:00:00",
         "0.04743083003952564",
         "0.03483715571627677",
         "9.954448640825397e-05"
        ],
        [
         "47",
         "2022-03-17 00:00:00",
         "0.060377358490566024",
         "0.013981095716732117",
         "9.954448640825397e-05"
        ],
        [
         "48",
         "2022-03-18 00:00:00",
         "0.0338078291814945",
         "0.011206703493580328",
         "9.954448640825397e-05"
        ],
        [
         "49",
         "2022-03-21 00:00:00",
         "0.03270223752151469",
         "0.000805888522855458",
         "9.954448640825397e-05"
        ]
       ],
       "shape": {
        "columns": 4,
        "rows": 760
       }
      },
      "text/html": [
       "<div>\n",
       "<style scoped>\n",
       "    .dataframe tbody tr th:only-of-type {\n",
       "        vertical-align: middle;\n",
       "    }\n",
       "\n",
       "    .dataframe tbody tr th {\n",
       "        vertical-align: top;\n",
       "    }\n",
       "\n",
       "    .dataframe thead th {\n",
       "        text-align: right;\n",
       "    }\n",
       "</style>\n",
       "<table border=\"1\" class=\"dataframe\">\n",
       "  <thead>\n",
       "    <tr style=\"text-align: right;\">\n",
       "      <th></th>\n",
       "      <th>DATE</th>\n",
       "      <th>i_pct_change</th>\n",
       "      <th>m_pct_change</th>\n",
       "      <th>R_f</th>\n",
       "    </tr>\n",
       "  </thead>\n",
       "  <tbody>\n",
       "    <tr>\n",
       "      <th>0</th>\n",
       "      <td>2022-01-04</td>\n",
       "      <td>-0.010355</td>\n",
       "      <td>-0.002047</td>\n",
       "      <td>0.000102</td>\n",
       "    </tr>\n",
       "    <tr>\n",
       "      <th>1</th>\n",
       "      <td>2022-01-05</td>\n",
       "      <td>-0.010463</td>\n",
       "      <td>-0.010228</td>\n",
       "      <td>0.000102</td>\n",
       "    </tr>\n",
       "    <tr>\n",
       "      <th>2</th>\n",
       "      <td>2022-01-06</td>\n",
       "      <td>0.042296</td>\n",
       "      <td>-0.002531</td>\n",
       "      <td>0.000102</td>\n",
       "    </tr>\n",
       "    <tr>\n",
       "      <th>3</th>\n",
       "      <td>2022-01-07</td>\n",
       "      <td>0.015942</td>\n",
       "      <td>-0.001824</td>\n",
       "      <td>0.000102</td>\n",
       "    </tr>\n",
       "    <tr>\n",
       "      <th>4</th>\n",
       "      <td>2022-01-10</td>\n",
       "      <td>0.017118</td>\n",
       "      <td>0.003906</td>\n",
       "      <td>0.000102</td>\n",
       "    </tr>\n",
       "    <tr>\n",
       "      <th>...</th>\n",
       "      <td>...</td>\n",
       "      <td>...</td>\n",
       "      <td>...</td>\n",
       "      <td>...</td>\n",
       "    </tr>\n",
       "    <tr>\n",
       "      <th>755</th>\n",
       "      <td>2025-02-24</td>\n",
       "      <td>0.052104</td>\n",
       "      <td>-0.001799</td>\n",
       "      <td>0.000084</td>\n",
       "    </tr>\n",
       "    <tr>\n",
       "      <th>756</th>\n",
       "      <td>2025-02-25</td>\n",
       "      <td>-0.047619</td>\n",
       "      <td>-0.008002</td>\n",
       "      <td>0.000084</td>\n",
       "    </tr>\n",
       "    <tr>\n",
       "      <th>757</th>\n",
       "      <td>2025-02-26</td>\n",
       "      <td>0.043000</td>\n",
       "      <td>0.010212</td>\n",
       "      <td>0.000084</td>\n",
       "    </tr>\n",
       "    <tr>\n",
       "      <th>758</th>\n",
       "      <td>2025-02-27</td>\n",
       "      <td>0.057526</td>\n",
       "      <td>0.002322</td>\n",
       "      <td>0.000084</td>\n",
       "    </tr>\n",
       "    <tr>\n",
       "      <th>759</th>\n",
       "      <td>2025-02-28</td>\n",
       "      <td>-0.094288</td>\n",
       "      <td>-0.019823</td>\n",
       "      <td>0.000084</td>\n",
       "    </tr>\n",
       "  </tbody>\n",
       "</table>\n",
       "<p>760 rows × 4 columns</p>\n",
       "</div>"
      ],
      "text/plain": [
       "          DATE  i_pct_change  m_pct_change       R_f\n",
       "0   2022-01-04     -0.010355     -0.002047  0.000102\n",
       "1   2022-01-05     -0.010463     -0.010228  0.000102\n",
       "2   2022-01-06      0.042296     -0.002531  0.000102\n",
       "3   2022-01-07      0.015942     -0.001824  0.000102\n",
       "4   2022-01-10      0.017118      0.003906  0.000102\n",
       "..         ...           ...           ...       ...\n",
       "755 2025-02-24      0.052104     -0.001799  0.000084\n",
       "756 2025-02-25     -0.047619     -0.008002  0.000084\n",
       "757 2025-02-26      0.043000      0.010212  0.000084\n",
       "758 2025-02-27      0.057526      0.002322  0.000084\n",
       "759 2025-02-28     -0.094288     -0.019823  0.000084\n",
       "\n",
       "[760 rows x 4 columns]"
      ]
     },
     "metadata": {},
     "output_type": "display_data"
    },
    {
     "name": "stdout",
     "output_type": "stream",
     "text": [
      "E(R_i):  0.0008674263798859339\n",
      "E(R_m):  -6.463002641069543e-05\n"
     ]
    }
   ],
   "source": [
    "E_R_i = df['i_pct_change'].mean()\n",
    "E_R_m = df['m_pct_change'].mean()\n",
    "display(df)\n",
    "print(f\"E(R_i): \", E_R_i)\n",
    "print(f\"E(R_m): \", E_R_m)"
   ]
  },
  {
   "cell_type": "code",
   "execution_count": 19,
   "metadata": {},
   "outputs": [
    {
     "data": {
      "application/vnd.microsoft.datawrangler.viewer.v0+json": {
       "columns": [
        {
         "name": "index",
         "rawType": "int64",
         "type": "integer"
        },
        {
         "name": "DATE",
         "rawType": "datetime64[ns]",
         "type": "datetime"
        },
        {
         "name": "i_pct_change",
         "rawType": "float64",
         "type": "float"
        },
        {
         "name": "m_pct_change",
         "rawType": "float64",
         "type": "float"
        },
        {
         "name": "R_f",
         "rawType": "float64",
         "type": "float"
        }
       ],
       "conversionMethod": "pd.DataFrame",
       "ref": "07638984-e4f8-446b-9d6a-c59c9d26cbfa",
       "rows": [
        [
         "0",
         "2022-01-04 00:00:00",
         "-0.010355029585798703",
         "-0.0020468270060278737",
         "0.0001021854527523125"
        ],
        [
         "1",
         "2022-01-05 00:00:00",
         "-0.010463378176382654",
         "-0.010227594959709041",
         "0.0001021854527523125"
        ],
        [
         "2",
         "2022-01-06 00:00:00",
         "0.04229607250755296",
         "-0.002531166728786838",
         "0.0001021854527523125"
        ],
        [
         "3",
         "2022-01-07 00:00:00",
         "0.01594202898550723",
         "-0.0018237183777272126",
         "0.0001021854527523125"
        ],
        [
         "4",
         "2022-01-10 00:00:00",
         "0.01711840228245376",
         "0.003905529760807269",
         "0.0001021854527523125"
        ]
       ],
       "shape": {
        "columns": 4,
        "rows": 5
       }
      },
      "text/html": [
       "<div>\n",
       "<style scoped>\n",
       "    .dataframe tbody tr th:only-of-type {\n",
       "        vertical-align: middle;\n",
       "    }\n",
       "\n",
       "    .dataframe tbody tr th {\n",
       "        vertical-align: top;\n",
       "    }\n",
       "\n",
       "    .dataframe thead th {\n",
       "        text-align: right;\n",
       "    }\n",
       "</style>\n",
       "<table border=\"1\" class=\"dataframe\">\n",
       "  <thead>\n",
       "    <tr style=\"text-align: right;\">\n",
       "      <th></th>\n",
       "      <th>DATE</th>\n",
       "      <th>i_pct_change</th>\n",
       "      <th>m_pct_change</th>\n",
       "      <th>R_f</th>\n",
       "    </tr>\n",
       "  </thead>\n",
       "  <tbody>\n",
       "    <tr>\n",
       "      <th>0</th>\n",
       "      <td>2022-01-04</td>\n",
       "      <td>-0.010355</td>\n",
       "      <td>-0.002047</td>\n",
       "      <td>0.000102</td>\n",
       "    </tr>\n",
       "    <tr>\n",
       "      <th>1</th>\n",
       "      <td>2022-01-05</td>\n",
       "      <td>-0.010463</td>\n",
       "      <td>-0.010228</td>\n",
       "      <td>0.000102</td>\n",
       "    </tr>\n",
       "    <tr>\n",
       "      <th>2</th>\n",
       "      <td>2022-01-06</td>\n",
       "      <td>0.042296</td>\n",
       "      <td>-0.002531</td>\n",
       "      <td>0.000102</td>\n",
       "    </tr>\n",
       "    <tr>\n",
       "      <th>3</th>\n",
       "      <td>2022-01-07</td>\n",
       "      <td>0.015942</td>\n",
       "      <td>-0.001824</td>\n",
       "      <td>0.000102</td>\n",
       "    </tr>\n",
       "    <tr>\n",
       "      <th>4</th>\n",
       "      <td>2022-01-10</td>\n",
       "      <td>0.017118</td>\n",
       "      <td>0.003906</td>\n",
       "      <td>0.000102</td>\n",
       "    </tr>\n",
       "  </tbody>\n",
       "</table>\n",
       "</div>"
      ],
      "text/plain": [
       "        DATE  i_pct_change  m_pct_change       R_f\n",
       "0 2022-01-04     -0.010355     -0.002047  0.000102\n",
       "1 2022-01-05     -0.010463     -0.010228  0.000102\n",
       "2 2022-01-06      0.042296     -0.002531  0.000102\n",
       "3 2022-01-07      0.015942     -0.001824  0.000102\n",
       "4 2022-01-10      0.017118      0.003906  0.000102"
      ]
     },
     "metadata": {},
     "output_type": "display_data"
    },
    {
     "name": "stdout",
     "output_type": "stream",
     "text": [
      "<class 'pandas.core.frame.DataFrame'>\n",
      "RangeIndex: 760 entries, 0 to 759\n",
      "Data columns (total 4 columns):\n",
      " #   Column        Non-Null Count  Dtype         \n",
      "---  ------        --------------  -----         \n",
      " 0   DATE          760 non-null    datetime64[ns]\n",
      " 1   i_pct_change  760 non-null    float64       \n",
      " 2   m_pct_change  760 non-null    float64       \n",
      " 3   R_f           760 non-null    float64       \n",
      "dtypes: datetime64[ns](1), float64(3)\n",
      "memory usage: 23.9 KB\n"
     ]
    },
    {
     "data": {
      "text/plain": [
       "None"
      ]
     },
     "metadata": {},
     "output_type": "display_data"
    }
   ],
   "source": [
    "df.dropna(inplace = True)\n",
    "display(df.head())\n",
    "display(df.info())"
   ]
  },
  {
   "cell_type": "markdown",
   "metadata": {},
   "source": [
    "## Get excess_return_i and excess_return_m"
   ]
  },
  {
   "cell_type": "code",
   "execution_count": 20,
   "metadata": {},
   "outputs": [
    {
     "data": {
      "application/vnd.microsoft.datawrangler.viewer.v0+json": {
       "columns": [
        {
         "name": "index",
         "rawType": "int64",
         "type": "integer"
        },
        {
         "name": "DATE",
         "rawType": "datetime64[ns]",
         "type": "datetime"
        },
        {
         "name": "i_pct_change",
         "rawType": "float64",
         "type": "float"
        },
        {
         "name": "m_pct_change",
         "rawType": "float64",
         "type": "float"
        },
        {
         "name": "R_f",
         "rawType": "float64",
         "type": "float"
        },
        {
         "name": "excess_return_i",
         "rawType": "float64",
         "type": "float"
        },
        {
         "name": "excess_return_m",
         "rawType": "float64",
         "type": "float"
        }
       ],
       "conversionMethod": "pd.DataFrame",
       "ref": "7dda0aaa-779e-4bbe-b984-b49774b0af99",
       "rows": [
        [
         "0",
         "2022-01-04 00:00:00",
         "-0.010355029585798703",
         "-0.0020468270060278737",
         "0.0001021854527523125",
         "-0.010457215038551015",
         "-0.002149012458780186"
        ],
        [
         "1",
         "2022-01-05 00:00:00",
         "-0.010463378176382654",
         "-0.010227594959709041",
         "0.0001021854527523125",
         "-0.010565563629134966",
         "-0.010329780412461353"
        ],
        [
         "2",
         "2022-01-06 00:00:00",
         "0.04229607250755296",
         "-0.002531166728786838",
         "0.0001021854527523125",
         "0.04219388705480065",
         "-0.0026333521815391503"
        ],
        [
         "3",
         "2022-01-07 00:00:00",
         "0.01594202898550723",
         "-0.0018237183777272126",
         "0.0001021854527523125",
         "0.015839843532754916",
         "-0.001925903830479525"
        ],
        [
         "4",
         "2022-01-10 00:00:00",
         "0.01711840228245376",
         "0.003905529760807269",
         "0.0001021854527523125",
         "0.017016216829701447",
         "0.0038033443080549567"
        ]
       ],
       "shape": {
        "columns": 6,
        "rows": 5
       }
      },
      "text/html": [
       "<div>\n",
       "<style scoped>\n",
       "    .dataframe tbody tr th:only-of-type {\n",
       "        vertical-align: middle;\n",
       "    }\n",
       "\n",
       "    .dataframe tbody tr th {\n",
       "        vertical-align: top;\n",
       "    }\n",
       "\n",
       "    .dataframe thead th {\n",
       "        text-align: right;\n",
       "    }\n",
       "</style>\n",
       "<table border=\"1\" class=\"dataframe\">\n",
       "  <thead>\n",
       "    <tr style=\"text-align: right;\">\n",
       "      <th></th>\n",
       "      <th>DATE</th>\n",
       "      <th>i_pct_change</th>\n",
       "      <th>m_pct_change</th>\n",
       "      <th>R_f</th>\n",
       "      <th>excess_return_i</th>\n",
       "      <th>excess_return_m</th>\n",
       "    </tr>\n",
       "  </thead>\n",
       "  <tbody>\n",
       "    <tr>\n",
       "      <th>0</th>\n",
       "      <td>2022-01-04</td>\n",
       "      <td>-0.010355</td>\n",
       "      <td>-0.002047</td>\n",
       "      <td>0.000102</td>\n",
       "      <td>-0.010457</td>\n",
       "      <td>-0.002149</td>\n",
       "    </tr>\n",
       "    <tr>\n",
       "      <th>1</th>\n",
       "      <td>2022-01-05</td>\n",
       "      <td>-0.010463</td>\n",
       "      <td>-0.010228</td>\n",
       "      <td>0.000102</td>\n",
       "      <td>-0.010566</td>\n",
       "      <td>-0.010330</td>\n",
       "    </tr>\n",
       "    <tr>\n",
       "      <th>2</th>\n",
       "      <td>2022-01-06</td>\n",
       "      <td>0.042296</td>\n",
       "      <td>-0.002531</td>\n",
       "      <td>0.000102</td>\n",
       "      <td>0.042194</td>\n",
       "      <td>-0.002633</td>\n",
       "    </tr>\n",
       "    <tr>\n",
       "      <th>3</th>\n",
       "      <td>2022-01-07</td>\n",
       "      <td>0.015942</td>\n",
       "      <td>-0.001824</td>\n",
       "      <td>0.000102</td>\n",
       "      <td>0.015840</td>\n",
       "      <td>-0.001926</td>\n",
       "    </tr>\n",
       "    <tr>\n",
       "      <th>4</th>\n",
       "      <td>2022-01-10</td>\n",
       "      <td>0.017118</td>\n",
       "      <td>0.003906</td>\n",
       "      <td>0.000102</td>\n",
       "      <td>0.017016</td>\n",
       "      <td>0.003803</td>\n",
       "    </tr>\n",
       "  </tbody>\n",
       "</table>\n",
       "</div>"
      ],
      "text/plain": [
       "        DATE  i_pct_change  m_pct_change       R_f  excess_return_i  \\\n",
       "0 2022-01-04     -0.010355     -0.002047  0.000102        -0.010457   \n",
       "1 2022-01-05     -0.010463     -0.010228  0.000102        -0.010566   \n",
       "2 2022-01-06      0.042296     -0.002531  0.000102         0.042194   \n",
       "3 2022-01-07      0.015942     -0.001824  0.000102         0.015840   \n",
       "4 2022-01-10      0.017118      0.003906  0.000102         0.017016   \n",
       "\n",
       "   excess_return_m  \n",
       "0        -0.002149  \n",
       "1        -0.010330  \n",
       "2        -0.002633  \n",
       "3        -0.001926  \n",
       "4         0.003803  "
      ]
     },
     "metadata": {},
     "output_type": "display_data"
    }
   ],
   "source": [
    "df['excess_return_i'] = df['i_pct_change'] - df['R_f']\n",
    "df['excess_return_m'] = df['m_pct_change'] - df['R_f']\n",
    "display(df.head())"
   ]
  },
  {
   "cell_type": "markdown",
   "metadata": {},
   "source": [
    "# Fitting the CAPM model"
   ]
  },
  {
   "cell_type": "code",
   "execution_count": 21,
   "metadata": {},
   "outputs": [],
   "source": [
    "X = sm.add_constant(df['excess_return_m'])\n",
    "capm_model = sm.OLS(df['excess_return_i'], X).fit()"
   ]
  },
  {
   "cell_type": "code",
   "execution_count": 22,
   "metadata": {},
   "outputs": [
    {
     "name": "stdout",
     "output_type": "stream",
     "text": [
      "Alpha: 0.0009725329545818295\n",
      "Beta: 1.2542566783690978\n"
     ]
    }
   ],
   "source": [
    "alpha = capm_model.params['const']\n",
    "beta = capm_model.params['excess_return_m']\n",
    "Alpha_TAG_5 = alpha\n",
    "Beta_TAG_6 = beta\n",
    "print(\"Alpha:\", alpha)\n",
    "print(\"Beta:\", beta)"
   ]
  },
  {
   "cell_type": "markdown",
   "metadata": {},
   "source": [
    "# Checking the model and the regression line."
   ]
  },
  {
   "cell_type": "code",
   "execution_count": 23,
   "metadata": {},
   "outputs": [
    {
     "name": "stdout",
     "output_type": "stream",
     "text": [
      "Figure Saved to :d:\\ImportanFiles\\Coding Related\\Repositories\\Machine Learning project related\\Dissertation Project 1\\Output\\Output Figure\\603300.png. \n"
     ]
    },
    {
     "data": {
      "image/png": "[encoded data removed]",
      "text/plain": [
       "<Figure size 640x480 with 1 Axes>"
      ]
     },
     "metadata": {},
     "output_type": "display_data"
    }
   ],
   "source": [
    "import matplotlib.pyplot as plt\n",
    "import numpy as np\n",
    "\n",
    "# Extract x (market returns) and y (stock returns)\n",
    "x = df['excess_return_m']\n",
    "y = df['excess_return_i']\n",
    "\n",
    "# Plot scatter points\n",
    "plt.scatter(x, y, color='blue', label='Data Points')\n",
    "# plt.rcParams['font.family'] = 'Arial Unicode MS'\n",
    "\n",
    "# Create a line for the CAPM regression\n",
    "x_line = np.linspace(x.min(), x.max(), 100)\n",
    "y_line = alpha + beta * x_line\n",
    "\n",
    "# Plot the CAPM regression line\n",
    "plt.plot(x_line, y_line, color='red', label=f'CAPM Fit: y = {alpha:.4f} + {beta:.4f}x')\n",
    "\n",
    "# Labeling the plot\n",
    "plt.xlabel('Market Excess Returns (E(R_m) - R_f)')\n",
    "plt.ylabel('Stock Excess Returns (E(R_i) - R_f)')\n",
    "plt.title('CAPM Scatter Plot with Regression Line (Excess Returns)')\n",
    "plt.suptitle(f\"Stock ID: {Stock_ID_TAG_2}\")\n",
    "plt.legend()\n",
    "plt.tight_layout()\n",
    "\n",
    "output_directory = os.path.join(current_dir, 'Output')\n",
    "output_img_directory = os.path.join(output_directory, 'Output Figure')\n",
    "os.makedirs(output_img_directory, exist_ok=True)\n",
    "output_img = os.path.join(output_img_directory, Stock_ID_TAG_2 + \".png\")\n",
    "if os.path.exists(output_img):\n",
    "    os.remove(output_img)\n",
    "    print(f\"Deleted existing file: {output_img}.\")\n",
    "    plt.savefig(output_img)\n",
    "    print(f\"Recreated a new image at: {output_img}.\")\n",
    "else:\n",
    "    plt.savefig(output_img)\n",
    "    print(f\"Figure Saved to :{output_img}. \")\n",
    "\n",
    "plt.show()"
   ]
  },
  {
   "cell_type": "markdown",
   "metadata": {},
   "source": [
    "# Storing all of the data into a output file."
   ]
  },
  {
   "cell_type": "code",
   "execution_count": 24,
   "metadata": {},
   "outputs": [
    {
     "name": "stdout",
     "output_type": "stream",
     "text": [
      "d:\\ImportanFiles\\Coding Related\\Repositories\\Machine Learning project related\\Dissertation Project 1\\Output\\Output CSV\n"
     ]
    }
   ],
   "source": [
    "output_csv_directory = os.path.join(output_directory, 'Output CSV')\n",
    "print(output_csv_directory)\n",
    "os.makedirs(output_csv_directory, exist_ok=True)"
   ]
  },
  {
   "cell_type": "code",
   "execution_count": 25,
   "metadata": {},
   "outputs": [],
   "source": [
    "csv_path = os.path.join(output_csv_directory, 'output_history.csv')\n",
    "header = ['Run Date', 'Stock ID', 'Stock Name', 'Sample Range', 'Alpha', 'Beta']"
   ]
  },
  {
   "cell_type": "code",
   "execution_count": 26,
   "metadata": {},
   "outputs": [
    {
     "name": "stdout",
     "output_type": "stream",
     "text": [
      "Data appended successfully!\n"
     ]
    }
   ],
   "source": [
    "csv_file_exists = os.path.isfile(csv_path)\n",
    "with open(csv_path, 'a', newline = '', encoding = 'utf-8') as f:\n",
    "    writer = csv.DictWriter(f, fieldnames = header)\n",
    "    if not csv_file_exists:\n",
    "        writer.writeheader()  # Write header if file is new\n",
    "    # Append the new data as a row\n",
    "    writer.writerow({\n",
    "        'Run Date': Current_Date_TAG_1,\n",
    "        'Stock ID': Stock_ID_TAG_2,\n",
    "        'Stock Name': Stock_Name_TAG_3,\n",
    "        'Sample Range': Sample_Range_TAG_4,\n",
    "        'Alpha': Alpha_TAG_5,\n",
    "        'Beta': Beta_TAG_6\n",
    "    })\n",
    "print(\"Data appended successfully!\")"
   ]
  },
  {
   "cell_type": "markdown",
   "metadata": {},
   "source": [
    "## Getting all the columns"
   ]
  },
  {
   "cell_type": "code",
   "execution_count": 27,
   "metadata": {},
   "outputs": [
    {
     "name": "stdout",
     "output_type": "stream",
     "text": [
      "Column 1: 2025-03-02\n",
      "Column 2: 603300\n",
      "Column 3: 海南华铁\n",
      "Column 4: 2022-01-01 to 2025-02-28\n",
      "Column 5: 0.0009725329545818295\n",
      "Column 6: 1.2542566783690978\n"
     ]
    }
   ],
   "source": [
    "print(f\"Column 1: {Current_Date_TAG_1}\")\n",
    "print(f\"Column 2: {Stock_ID_TAG_2}\")\n",
    "print(f\"Column 3: {Stock_Name_TAG_3}\")\n",
    "print(f\"Column 4: {Sample_Range_TAG_4}\")\n",
    "print(f\"Column 5: {Alpha_TAG_5}\")\n",
    "print(f\"Column 6: {Beta_TAG_6}\")"
   ]
  }
 ],
 "metadata": {
  "kernelspec": {
   "display_name": ".venv",
   "language": "python",
   "name": "python3"
  },
  "language_info": {
   "codemirror_mode": {
    "name": "ipython",
    "version": 3
   },
   "file_extension": ".py",
   "mimetype": "text/x-python",
   "name": "python",
   "nbconvert_exporter": "python",
   "pygments_lexer": "ipython3",
   "version": "3.11.8"
  }
 },
 "nbformat": 4,
 "nbformat_minor": 2
}
