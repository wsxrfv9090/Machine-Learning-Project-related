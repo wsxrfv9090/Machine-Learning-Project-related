{
 "cells": [
  {
   "cell_type": "markdown",
   "metadata": {},
   "source": [
    "This project is used to culculate the estimate alpha and beta in capm formala."
   ]
  },
  {
   "cell_type": "code",
   "execution_count": 1,
   "metadata": {},
   "outputs": [],
   "source": [
    "import pandas as pd\n",
    "import file_operations\n",
    "import os\n",
    "import statsmodels.api as sm\n",
    "from numpy import nan as nan\n",
    "from datetime import datetime\n",
    "import csv"
   ]
  },
  {
   "cell_type": "markdown",
   "metadata": {},
   "source": [
    "### Get current date as a tag for later use."
   ]
  },
  {
   "cell_type": "code",
   "execution_count": 2,
   "metadata": {},
   "outputs": [],
   "source": [
    "Current_Date_TAG_1 = datetime.now().strftime(\"%Y-%m-%d\")"
   ]
  },
  {
   "cell_type": "markdown",
   "metadata": {},
   "source": [
    "# Getting the E(R_i) and E(R_m) data."
   ]
  },
  {
   "cell_type": "markdown",
   "metadata": {},
   "source": [
    "## Getting current working directory and data directory."
   ]
  },
  {
   "cell_type": "code",
   "execution_count": 3,
   "metadata": {},
   "outputs": [
    {
     "name": "stdout",
     "output_type": "stream",
     "text": [
      "Current working directory: d:\\Important Files\\Repositories\\Machine-Learning-Project-related\\Dissertation Project 1\n"
     ]
    }
   ],
   "source": [
    "# Get current working directory\n",
    "current_dir = os.getcwd()\n",
    "print(\"Current working directory:\", current_dir)\n",
    "data_dir = os.path.join(current_dir, 'Data')\n",
    "os.makedirs(data_dir, exist_ok=True)\n",
    "\n",
    "default_chosen_security_file_path = os.path.join(data_dir, 'K线导出_600873_日线数据.xlsx')\n",
    "default_index_file_path = os.path.join(data_dir, 'K线导出_000001_日线数据.xlsx')\n",
    "default_R_f_file_path = os.path.join(data_dir, 'R_f.xlsx')"
   ]
  },
  {
   "cell_type": "markdown",
   "metadata": {},
   "source": [
    "## Ask the user if want to change to another file directory"
   ]
  },
  {
   "cell_type": "code",
   "execution_count": 4,
   "metadata": {},
   "outputs": [],
   "source": [
    "change_security_io = input(\"Do you want to change the chosen security's data file path? (yes or no/y or n): \")\n",
    "if change_security_io.lower() in ['yes', 'y']:\n",
    "    security_file_path = input(\"Enter new file path for the chosen security's data: \")\n",
    "else:\n",
    "    security_file_path = default_chosen_security_file_path\n",
    "\n",
    "change_index_io = input(\"Do you want to change the index's data file path? (yes or no/y or n): \")\n",
    "if change_index_io.lower() in ['yes', 'y']:\n",
    "    index_file_path = input(\"Enter new file path for the index's data: \")\n",
    "else:\n",
    "    index_file_path = default_index_file_path\n",
    "    \n",
    "change_R_f_io = input(\"Do you want to change the R_f's data file path? (yes or no/y or n): \")\n",
    "if change_index_io.lower() in ['yes', 'y']:\n",
    "    R_f_file_path = input(\"Enter new file path for the index's data: \")\n",
    "else:\n",
    "    R_f_file_path = default_R_f_file_path"
   ]
  },
  {
   "cell_type": "markdown",
   "metadata": {},
   "source": [
    "## Create the i_df and m_df pandas dataframe for chosen security and index "
   ]
  },
  {
   "cell_type": "code",
   "execution_count": 5,
   "metadata": {},
   "outputs": [
    {
     "name": "stdout",
     "output_type": "stream",
     "text": [
      "The input file path is: \n",
      "D:\\Important Files\\Repositories\\Machine-Learning-Project-related\\Dissertation Project 1\\Data\\K线导出_688088_日线数据.xlsx\n",
      "Reading the input file...\n",
      "The input file path is: \n",
      "d:\\Important Files\\Repositories\\Machine-Learning-Project-related\\Dissertation Project 1\\Data\\K线导出_000001_日线数据.xlsx\n",
      "Reading the input file...\n",
      "The input file path is: \n",
      "d:\\Important Files\\Repositories\\Machine-Learning-Project-related\\Dissertation Project 1\\Data\\R_f.xlsx\n",
      "Reading the input file...\n"
     ]
    }
   ],
   "source": [
    "i_df = file_operations.read_and_return_pd_df(security_file_path)\n",
    "m_df = file_operations.read_and_return_pd_df(index_file_path)\n",
    "R_f_df = file_operations.read_and_return_pd_df(R_f_file_path)"
   ]
  },
  {
   "cell_type": "markdown",
   "metadata": {},
   "source": [
    "## Change all the data into nice types, e.g securiry code was changed into U6 meaning this is a string that holds up to 6 numbers or characters, head was changed to english, date to datetime datatype, numerical data to float 64"
   ]
  },
  {
   "cell_type": "code",
   "execution_count": 6,
   "metadata": {},
   "outputs": [
    {
     "name": "stdout",
     "output_type": "stream",
     "text": [
      "<class 'pandas.core.frame.DataFrame'>\n",
      "Index: 1359 entries, 0 to 1358\n",
      "Data columns (total 11 columns):\n",
      " #   Column      Non-Null Count  Dtype         \n",
      "---  ------      --------------  -----         \n",
      " 0   SECU_CODE   1359 non-null   object        \n",
      " 1   SECU_NAME   1359 non-null   object        \n",
      " 2   DATE        1359 non-null   datetime64[ns]\n",
      " 3   OPENING     1359 non-null   float64       \n",
      " 4   HIGHEST     1359 non-null   float64       \n",
      " 5   LOWEST      1359 non-null   float64       \n",
      " 6   CLOSING     1359 non-null   float64       \n",
      " 7   CHANGE      1358 non-null   float64       \n",
      " 8   PCT_CHANGE  1358 non-null   float64       \n",
      " 9   VOLUME      1359 non-null   float64       \n",
      " 10  AMOUNT      1359 non-null   float64       \n",
      "dtypes: datetime64[ns](1), float64(8), object(2)\n",
      "memory usage: 127.4+ KB\n"
     ]
    },
    {
     "data": {
      "text/plain": [
       "None"
      ]
     },
     "metadata": {},
     "output_type": "display_data"
    },
    {
     "data": {
      "application/vnd.microsoft.datawrangler.viewer.v0+json": {
       "columns": [
        {
         "name": "index",
         "rawType": "int64",
         "type": "integer"
        },
        {
         "name": "SECU_CODE",
         "rawType": "object",
         "type": "string"
        },
        {
         "name": "SECU_NAME",
         "rawType": "object",
         "type": "string"
        },
        {
         "name": "DATE",
         "rawType": "datetime64[ns]",
         "type": "datetime"
        },
        {
         "name": "OPENING",
         "rawType": "float64",
         "type": "float"
        },
        {
         "name": "HIGHEST",
         "rawType": "float64",
         "type": "float"
        },
        {
         "name": "LOWEST",
         "rawType": "float64",
         "type": "float"
        },
        {
         "name": "CLOSING",
         "rawType": "float64",
         "type": "float"
        },
        {
         "name": "CHANGE",
         "rawType": "float64",
         "type": "float"
        },
        {
         "name": "PCT_CHANGE",
         "rawType": "float64",
         "type": "float"
        },
        {
         "name": "VOLUME",
         "rawType": "float64",
         "type": "float"
        },
        {
         "name": "AMOUNT",
         "rawType": "float64",
         "type": "float"
        }
       ],
       "conversionMethod": "pd.DataFrame",
       "ref": "2cb37cf8-0195-4653-a90d-ed352a469f78",
       "rows": [
        [
         "0",
         "688088",
         "虹软科技",
         "2019-07-22 00:00:00",
         "83.92",
         "83.92",
         "43.66",
         "63.59",
         null,
         null,
         "30242070.0",
         "1863405265.0"
        ],
        [
         "1",
         "688088",
         "虹软科技",
         "2019-07-23 00:00:00",
         "54.33",
         "62.51",
         "53.38",
         "57.24",
         "-6.3547",
         "-9.9926",
         "11661948.0",
         "700718813.0"
        ],
        [
         "2",
         "688088",
         "虹软科技",
         "2019-07-24 00:00:00",
         "58.59",
         "60.42",
         "57.35",
         "60.03",
         "2.7941",
         "4.8814",
         "11457185.0",
         "700462683.0"
        ],
        [
         "3",
         "688088",
         "虹软科技",
         "2019-07-25 00:00:00",
         "60.15",
         "65.29",
         "60.15",
         "62.57",
         "2.5322",
         "4.218",
         "14641038.0",
         "950048926.0"
        ],
        [
         "4",
         "688088",
         "虹软科技",
         "2019-07-26 00:00:00",
         "61.0",
         "61.0",
         "56.39",
         "57.14",
         "-5.4233",
         "-8.6682",
         "10024988.0",
         "607991378.0"
        ]
       ],
       "shape": {
        "columns": 11,
        "rows": 5
       }
      },
      "text/html": [
       "<div>\n",
       "<style scoped>\n",
       "    .dataframe tbody tr th:only-of-type {\n",
       "        vertical-align: middle;\n",
       "    }\n",
       "\n",
       "    .dataframe tbody tr th {\n",
       "        vertical-align: top;\n",
       "    }\n",
       "\n",
       "    .dataframe thead th {\n",
       "        text-align: right;\n",
       "    }\n",
       "</style>\n",
       "<table border=\"1\" class=\"dataframe\">\n",
       "  <thead>\n",
       "    <tr style=\"text-align: right;\">\n",
       "      <th></th>\n",
       "      <th>SECU_CODE</th>\n",
       "      <th>SECU_NAME</th>\n",
       "      <th>DATE</th>\n",
       "      <th>OPENING</th>\n",
       "      <th>HIGHEST</th>\n",
       "      <th>LOWEST</th>\n",
       "      <th>CLOSING</th>\n",
       "      <th>CHANGE</th>\n",
       "      <th>PCT_CHANGE</th>\n",
       "      <th>VOLUME</th>\n",
       "      <th>AMOUNT</th>\n",
       "    </tr>\n",
       "  </thead>\n",
       "  <tbody>\n",
       "    <tr>\n",
       "      <th>0</th>\n",
       "      <td>688088</td>\n",
       "      <td>虹软科技</td>\n",
       "      <td>2019-07-22</td>\n",
       "      <td>83.92</td>\n",
       "      <td>83.92</td>\n",
       "      <td>43.66</td>\n",
       "      <td>63.59</td>\n",
       "      <td>NaN</td>\n",
       "      <td>NaN</td>\n",
       "      <td>30242070.0</td>\n",
       "      <td>1.863405e+09</td>\n",
       "    </tr>\n",
       "    <tr>\n",
       "      <th>1</th>\n",
       "      <td>688088</td>\n",
       "      <td>虹软科技</td>\n",
       "      <td>2019-07-23</td>\n",
       "      <td>54.33</td>\n",
       "      <td>62.51</td>\n",
       "      <td>53.38</td>\n",
       "      <td>57.24</td>\n",
       "      <td>-6.3547</td>\n",
       "      <td>-9.9926</td>\n",
       "      <td>11661948.0</td>\n",
       "      <td>7.007188e+08</td>\n",
       "    </tr>\n",
       "    <tr>\n",
       "      <th>2</th>\n",
       "      <td>688088</td>\n",
       "      <td>虹软科技</td>\n",
       "      <td>2019-07-24</td>\n",
       "      <td>58.59</td>\n",
       "      <td>60.42</td>\n",
       "      <td>57.35</td>\n",
       "      <td>60.03</td>\n",
       "      <td>2.7941</td>\n",
       "      <td>4.8814</td>\n",
       "      <td>11457185.0</td>\n",
       "      <td>7.004627e+08</td>\n",
       "    </tr>\n",
       "    <tr>\n",
       "      <th>3</th>\n",
       "      <td>688088</td>\n",
       "      <td>虹软科技</td>\n",
       "      <td>2019-07-25</td>\n",
       "      <td>60.15</td>\n",
       "      <td>65.29</td>\n",
       "      <td>60.15</td>\n",
       "      <td>62.57</td>\n",
       "      <td>2.5322</td>\n",
       "      <td>4.2180</td>\n",
       "      <td>14641038.0</td>\n",
       "      <td>9.500489e+08</td>\n",
       "    </tr>\n",
       "    <tr>\n",
       "      <th>4</th>\n",
       "      <td>688088</td>\n",
       "      <td>虹软科技</td>\n",
       "      <td>2019-07-26</td>\n",
       "      <td>61.00</td>\n",
       "      <td>61.00</td>\n",
       "      <td>56.39</td>\n",
       "      <td>57.14</td>\n",
       "      <td>-5.4233</td>\n",
       "      <td>-8.6682</td>\n",
       "      <td>10024988.0</td>\n",
       "      <td>6.079914e+08</td>\n",
       "    </tr>\n",
       "  </tbody>\n",
       "</table>\n",
       "</div>"
      ],
      "text/plain": [
       "  SECU_CODE SECU_NAME       DATE  OPENING  HIGHEST  LOWEST  CLOSING  CHANGE  \\\n",
       "0    688088      虹软科技 2019-07-22    83.92    83.92   43.66    63.59     NaN   \n",
       "1    688088      虹软科技 2019-07-23    54.33    62.51   53.38    57.24 -6.3547   \n",
       "2    688088      虹软科技 2019-07-24    58.59    60.42   57.35    60.03  2.7941   \n",
       "3    688088      虹软科技 2019-07-25    60.15    65.29   60.15    62.57  2.5322   \n",
       "4    688088      虹软科技 2019-07-26    61.00    61.00   56.39    57.14 -5.4233   \n",
       "\n",
       "   PCT_CHANGE      VOLUME        AMOUNT  \n",
       "0         NaN  30242070.0  1.863405e+09  \n",
       "1     -9.9926  11661948.0  7.007188e+08  \n",
       "2      4.8814  11457185.0  7.004627e+08  \n",
       "3      4.2180  14641038.0  9.500489e+08  \n",
       "4     -8.6682  10024988.0  6.079914e+08  "
      ]
     },
     "metadata": {},
     "output_type": "display_data"
    },
    {
     "data": {
      "application/vnd.microsoft.datawrangler.viewer.v0+json": {
       "columns": [
        {
         "name": "index",
         "rawType": "int64",
         "type": "integer"
        },
        {
         "name": "SECU_CODE",
         "rawType": "object",
         "type": "string"
        },
        {
         "name": "SECU_NAME",
         "rawType": "object",
         "type": "string"
        },
        {
         "name": "DATE",
         "rawType": "datetime64[ns]",
         "type": "datetime"
        },
        {
         "name": "OPENING",
         "rawType": "float64",
         "type": "float"
        },
        {
         "name": "HIGHEST",
         "rawType": "float64",
         "type": "float"
        },
        {
         "name": "LOWEST",
         "rawType": "float64",
         "type": "float"
        },
        {
         "name": "CLOSING",
         "rawType": "float64",
         "type": "float"
        },
        {
         "name": "CHANGE",
         "rawType": "float64",
         "type": "float"
        },
        {
         "name": "PCT_CHANGE",
         "rawType": "float64",
         "type": "float"
        },
        {
         "name": "VOLUME",
         "rawType": "float64",
         "type": "float"
        },
        {
         "name": "AMOUNT",
         "rawType": "float64",
         "type": "float"
        }
       ],
       "conversionMethod": "pd.DataFrame",
       "ref": "3dfb8623-4b05-432f-bfa4-56266b4e432b",
       "rows": [
        [
         "1354",
         "688088",
         "虹软科技",
         "2025-02-24 00:00:00",
         "53.88",
         "53.93",
         "51.7",
         "53.01",
         "-1.05",
         "-1.9423",
         "13593234.0",
         "715140381.0"
        ],
        [
         "1355",
         "688088",
         "虹软科技",
         "2025-02-25 00:00:00",
         "51.15",
         "57.68",
         "51.1",
         "55.77",
         "2.76",
         "5.2066",
         "18736821.0",
         "1029050230.0"
        ],
        [
         "1356",
         "688088",
         "虹软科技",
         "2025-02-26 00:00:00",
         "56.88",
         "57.44",
         "55.0",
         "55.41",
         "-0.36",
         "-0.6455",
         "15411526.0",
         "863619138.0"
        ],
        [
         "1357",
         "688088",
         "虹软科技",
         "2025-02-27 00:00:00",
         "55.21",
         "56.55",
         "53.22",
         "54.4",
         "-1.01",
         "-1.8228",
         "11602957.0",
         "635951054.0"
        ],
        [
         "1358",
         "688088",
         "虹软科技",
         "2025-02-28 00:00:00",
         "53.84",
         "54.39",
         "47.77",
         "48.15",
         "-6.25",
         "-11.489",
         "19330532.0",
         "967509024.0"
        ]
       ],
       "shape": {
        "columns": 11,
        "rows": 5
       }
      },
      "text/html": [
       "<div>\n",
       "<style scoped>\n",
       "    .dataframe tbody tr th:only-of-type {\n",
       "        vertical-align: middle;\n",
       "    }\n",
       "\n",
       "    .dataframe tbody tr th {\n",
       "        vertical-align: top;\n",
       "    }\n",
       "\n",
       "    .dataframe thead th {\n",
       "        text-align: right;\n",
       "    }\n",
       "</style>\n",
       "<table border=\"1\" class=\"dataframe\">\n",
       "  <thead>\n",
       "    <tr style=\"text-align: right;\">\n",
       "      <th></th>\n",
       "      <th>SECU_CODE</th>\n",
       "      <th>SECU_NAME</th>\n",
       "      <th>DATE</th>\n",
       "      <th>OPENING</th>\n",
       "      <th>HIGHEST</th>\n",
       "      <th>LOWEST</th>\n",
       "      <th>CLOSING</th>\n",
       "      <th>CHANGE</th>\n",
       "      <th>PCT_CHANGE</th>\n",
       "      <th>VOLUME</th>\n",
       "      <th>AMOUNT</th>\n",
       "    </tr>\n",
       "  </thead>\n",
       "  <tbody>\n",
       "    <tr>\n",
       "      <th>1354</th>\n",
       "      <td>688088</td>\n",
       "      <td>虹软科技</td>\n",
       "      <td>2025-02-24</td>\n",
       "      <td>53.88</td>\n",
       "      <td>53.93</td>\n",
       "      <td>51.70</td>\n",
       "      <td>53.01</td>\n",
       "      <td>-1.05</td>\n",
       "      <td>-1.9423</td>\n",
       "      <td>13593234.0</td>\n",
       "      <td>7.151404e+08</td>\n",
       "    </tr>\n",
       "    <tr>\n",
       "      <th>1355</th>\n",
       "      <td>688088</td>\n",
       "      <td>虹软科技</td>\n",
       "      <td>2025-02-25</td>\n",
       "      <td>51.15</td>\n",
       "      <td>57.68</td>\n",
       "      <td>51.10</td>\n",
       "      <td>55.77</td>\n",
       "      <td>2.76</td>\n",
       "      <td>5.2066</td>\n",
       "      <td>18736821.0</td>\n",
       "      <td>1.029050e+09</td>\n",
       "    </tr>\n",
       "    <tr>\n",
       "      <th>1356</th>\n",
       "      <td>688088</td>\n",
       "      <td>虹软科技</td>\n",
       "      <td>2025-02-26</td>\n",
       "      <td>56.88</td>\n",
       "      <td>57.44</td>\n",
       "      <td>55.00</td>\n",
       "      <td>55.41</td>\n",
       "      <td>-0.36</td>\n",
       "      <td>-0.6455</td>\n",
       "      <td>15411526.0</td>\n",
       "      <td>8.636191e+08</td>\n",
       "    </tr>\n",
       "    <tr>\n",
       "      <th>1357</th>\n",
       "      <td>688088</td>\n",
       "      <td>虹软科技</td>\n",
       "      <td>2025-02-27</td>\n",
       "      <td>55.21</td>\n",
       "      <td>56.55</td>\n",
       "      <td>53.22</td>\n",
       "      <td>54.40</td>\n",
       "      <td>-1.01</td>\n",
       "      <td>-1.8228</td>\n",
       "      <td>11602957.0</td>\n",
       "      <td>6.359511e+08</td>\n",
       "    </tr>\n",
       "    <tr>\n",
       "      <th>1358</th>\n",
       "      <td>688088</td>\n",
       "      <td>虹软科技</td>\n",
       "      <td>2025-02-28</td>\n",
       "      <td>53.84</td>\n",
       "      <td>54.39</td>\n",
       "      <td>47.77</td>\n",
       "      <td>48.15</td>\n",
       "      <td>-6.25</td>\n",
       "      <td>-11.4890</td>\n",
       "      <td>19330532.0</td>\n",
       "      <td>9.675090e+08</td>\n",
       "    </tr>\n",
       "  </tbody>\n",
       "</table>\n",
       "</div>"
      ],
      "text/plain": [
       "     SECU_CODE SECU_NAME       DATE  OPENING  HIGHEST  LOWEST  CLOSING  \\\n",
       "1354    688088      虹软科技 2025-02-24    53.88    53.93   51.70    53.01   \n",
       "1355    688088      虹软科技 2025-02-25    51.15    57.68   51.10    55.77   \n",
       "1356    688088      虹软科技 2025-02-26    56.88    57.44   55.00    55.41   \n",
       "1357    688088      虹软科技 2025-02-27    55.21    56.55   53.22    54.40   \n",
       "1358    688088      虹软科技 2025-02-28    53.84    54.39   47.77    48.15   \n",
       "\n",
       "      CHANGE  PCT_CHANGE      VOLUME        AMOUNT  \n",
       "1354   -1.05     -1.9423  13593234.0  7.151404e+08  \n",
       "1355    2.76      5.2066  18736821.0  1.029050e+09  \n",
       "1356   -0.36     -0.6455  15411526.0  8.636191e+08  \n",
       "1357   -1.01     -1.8228  11602957.0  6.359511e+08  \n",
       "1358   -6.25    -11.4890  19330532.0  9.675090e+08  "
      ]
     },
     "metadata": {},
     "output_type": "display_data"
    },
    {
     "name": "stdout",
     "output_type": "stream",
     "text": [
      "<class 'pandas.core.frame.DataFrame'>\n",
      "Index: 8348 entries, 0 to 8347\n",
      "Data columns (total 11 columns):\n",
      " #   Column      Non-Null Count  Dtype         \n",
      "---  ------      --------------  -----         \n",
      " 0   SECU_CODE   8348 non-null   object        \n",
      " 1   SECU_NAME   8348 non-null   object        \n",
      " 2   DATE        8348 non-null   datetime64[ns]\n",
      " 3   OPENING     8348 non-null   float64       \n",
      " 4   HIGHEST     8348 non-null   float64       \n",
      " 5   LOWEST      8348 non-null   float64       \n",
      " 6   CLOSING     8348 non-null   float64       \n",
      " 7   CHANGE      8347 non-null   float64       \n",
      " 8   PCT_CHANGE  8347 non-null   float64       \n",
      " 9   VOLUME      8348 non-null   float64       \n",
      " 10  AMOUNT      8348 non-null   float64       \n",
      "dtypes: datetime64[ns](1), float64(8), object(2)\n",
      "memory usage: 782.6+ KB\n"
     ]
    },
    {
     "data": {
      "text/plain": [
       "None"
      ]
     },
     "metadata": {},
     "output_type": "display_data"
    },
    {
     "data": {
      "application/vnd.microsoft.datawrangler.viewer.v0+json": {
       "columns": [
        {
         "name": "index",
         "rawType": "int64",
         "type": "integer"
        },
        {
         "name": "SECU_CODE",
         "rawType": "object",
         "type": "string"
        },
        {
         "name": "SECU_NAME",
         "rawType": "object",
         "type": "string"
        },
        {
         "name": "DATE",
         "rawType": "datetime64[ns]",
         "type": "datetime"
        },
        {
         "name": "OPENING",
         "rawType": "float64",
         "type": "float"
        },
        {
         "name": "HIGHEST",
         "rawType": "float64",
         "type": "float"
        },
        {
         "name": "LOWEST",
         "rawType": "float64",
         "type": "float"
        },
        {
         "name": "CLOSING",
         "rawType": "float64",
         "type": "float"
        },
        {
         "name": "CHANGE",
         "rawType": "float64",
         "type": "float"
        },
        {
         "name": "PCT_CHANGE",
         "rawType": "float64",
         "type": "float"
        },
        {
         "name": "VOLUME",
         "rawType": "float64",
         "type": "float"
        },
        {
         "name": "AMOUNT",
         "rawType": "float64",
         "type": "float"
        }
       ],
       "conversionMethod": "pd.DataFrame",
       "ref": "2589a162-6dd7-42a0-a9b3-de099bfe332c",
       "rows": [
        [
         "0",
         "000001",
         "上证指数",
         "1990-12-19 00:00:00",
         "96.05",
         "99.98",
         "95.79",
         "99.98",
         null,
         null,
         "126000.0",
         "494000.0"
        ],
        [
         "1",
         "000001",
         "上证指数",
         "1990-12-20 00:00:00",
         "104.3",
         "104.39",
         "99.98",
         "104.39",
         "4.41",
         "4.4109",
         "19700.0",
         "84000.0"
        ],
        [
         "2",
         "000001",
         "上证指数",
         "1990-12-21 00:00:00",
         "109.07",
         "109.13",
         "103.73",
         "109.13",
         "4.74",
         "4.5407",
         "2800.0",
         "16000.0"
        ],
        [
         "3",
         "000001",
         "上证指数",
         "1990-12-24 00:00:00",
         "113.57",
         "114.55",
         "109.13",
         "114.55",
         "5.42",
         "4.9666",
         "3200.0",
         "31000.0"
        ],
        [
         "4",
         "000001",
         "上证指数",
         "1990-12-25 00:00:00",
         "120.09",
         "120.25",
         "114.55",
         "120.25",
         "5.7",
         "4.976",
         "1500.0",
         "6000.0"
        ]
       ],
       "shape": {
        "columns": 11,
        "rows": 5
       }
      },
      "text/html": [
       "<div>\n",
       "<style scoped>\n",
       "    .dataframe tbody tr th:only-of-type {\n",
       "        vertical-align: middle;\n",
       "    }\n",
       "\n",
       "    .dataframe tbody tr th {\n",
       "        vertical-align: top;\n",
       "    }\n",
       "\n",
       "    .dataframe thead th {\n",
       "        text-align: right;\n",
       "    }\n",
       "</style>\n",
       "<table border=\"1\" class=\"dataframe\">\n",
       "  <thead>\n",
       "    <tr style=\"text-align: right;\">\n",
       "      <th></th>\n",
       "      <th>SECU_CODE</th>\n",
       "      <th>SECU_NAME</th>\n",
       "      <th>DATE</th>\n",
       "      <th>OPENING</th>\n",
       "      <th>HIGHEST</th>\n",
       "      <th>LOWEST</th>\n",
       "      <th>CLOSING</th>\n",
       "      <th>CHANGE</th>\n",
       "      <th>PCT_CHANGE</th>\n",
       "      <th>VOLUME</th>\n",
       "      <th>AMOUNT</th>\n",
       "    </tr>\n",
       "  </thead>\n",
       "  <tbody>\n",
       "    <tr>\n",
       "      <th>0</th>\n",
       "      <td>000001</td>\n",
       "      <td>上证指数</td>\n",
       "      <td>1990-12-19</td>\n",
       "      <td>96.05</td>\n",
       "      <td>99.98</td>\n",
       "      <td>95.79</td>\n",
       "      <td>99.98</td>\n",
       "      <td>NaN</td>\n",
       "      <td>NaN</td>\n",
       "      <td>126000.0</td>\n",
       "      <td>494000.0</td>\n",
       "    </tr>\n",
       "    <tr>\n",
       "      <th>1</th>\n",
       "      <td>000001</td>\n",
       "      <td>上证指数</td>\n",
       "      <td>1990-12-20</td>\n",
       "      <td>104.30</td>\n",
       "      <td>104.39</td>\n",
       "      <td>99.98</td>\n",
       "      <td>104.39</td>\n",
       "      <td>4.41</td>\n",
       "      <td>4.4109</td>\n",
       "      <td>19700.0</td>\n",
       "      <td>84000.0</td>\n",
       "    </tr>\n",
       "    <tr>\n",
       "      <th>2</th>\n",
       "      <td>000001</td>\n",
       "      <td>上证指数</td>\n",
       "      <td>1990-12-21</td>\n",
       "      <td>109.07</td>\n",
       "      <td>109.13</td>\n",
       "      <td>103.73</td>\n",
       "      <td>109.13</td>\n",
       "      <td>4.74</td>\n",
       "      <td>4.5407</td>\n",
       "      <td>2800.0</td>\n",
       "      <td>16000.0</td>\n",
       "    </tr>\n",
       "    <tr>\n",
       "      <th>3</th>\n",
       "      <td>000001</td>\n",
       "      <td>上证指数</td>\n",
       "      <td>1990-12-24</td>\n",
       "      <td>113.57</td>\n",
       "      <td>114.55</td>\n",
       "      <td>109.13</td>\n",
       "      <td>114.55</td>\n",
       "      <td>5.42</td>\n",
       "      <td>4.9666</td>\n",
       "      <td>3200.0</td>\n",
       "      <td>31000.0</td>\n",
       "    </tr>\n",
       "    <tr>\n",
       "      <th>4</th>\n",
       "      <td>000001</td>\n",
       "      <td>上证指数</td>\n",
       "      <td>1990-12-25</td>\n",
       "      <td>120.09</td>\n",
       "      <td>120.25</td>\n",
       "      <td>114.55</td>\n",
       "      <td>120.25</td>\n",
       "      <td>5.70</td>\n",
       "      <td>4.9760</td>\n",
       "      <td>1500.0</td>\n",
       "      <td>6000.0</td>\n",
       "    </tr>\n",
       "  </tbody>\n",
       "</table>\n",
       "</div>"
      ],
      "text/plain": [
       "  SECU_CODE SECU_NAME       DATE  OPENING  HIGHEST  LOWEST  CLOSING  CHANGE  \\\n",
       "0    000001      上证指数 1990-12-19    96.05    99.98   95.79    99.98     NaN   \n",
       "1    000001      上证指数 1990-12-20   104.30   104.39   99.98   104.39    4.41   \n",
       "2    000001      上证指数 1990-12-21   109.07   109.13  103.73   109.13    4.74   \n",
       "3    000001      上证指数 1990-12-24   113.57   114.55  109.13   114.55    5.42   \n",
       "4    000001      上证指数 1990-12-25   120.09   120.25  114.55   120.25    5.70   \n",
       "\n",
       "   PCT_CHANGE    VOLUME    AMOUNT  \n",
       "0         NaN  126000.0  494000.0  \n",
       "1      4.4109   19700.0   84000.0  \n",
       "2      4.5407    2800.0   16000.0  \n",
       "3      4.9666    3200.0   31000.0  \n",
       "4      4.9760    1500.0    6000.0  "
      ]
     },
     "metadata": {},
     "output_type": "display_data"
    },
    {
     "data": {
      "application/vnd.microsoft.datawrangler.viewer.v0+json": {
       "columns": [
        {
         "name": "index",
         "rawType": "int64",
         "type": "integer"
        },
        {
         "name": "SECU_CODE",
         "rawType": "object",
         "type": "string"
        },
        {
         "name": "SECU_NAME",
         "rawType": "object",
         "type": "string"
        },
        {
         "name": "DATE",
         "rawType": "datetime64[ns]",
         "type": "datetime"
        },
        {
         "name": "OPENING",
         "rawType": "float64",
         "type": "float"
        },
        {
         "name": "HIGHEST",
         "rawType": "float64",
         "type": "float"
        },
        {
         "name": "LOWEST",
         "rawType": "float64",
         "type": "float"
        },
        {
         "name": "CLOSING",
         "rawType": "float64",
         "type": "float"
        },
        {
         "name": "CHANGE",
         "rawType": "float64",
         "type": "float"
        },
        {
         "name": "PCT_CHANGE",
         "rawType": "float64",
         "type": "float"
        },
        {
         "name": "VOLUME",
         "rawType": "float64",
         "type": "float"
        },
        {
         "name": "AMOUNT",
         "rawType": "float64",
         "type": "float"
        }
       ],
       "conversionMethod": "pd.DataFrame",
       "ref": "aab5e485-eb28-4190-a39c-cbb63e8004bc",
       "rows": [
        [
         "8343",
         "000001",
         "上证指数",
         "2025-02-24 00:00:00",
         "3374.08",
         "3384.81",
         "3355.87",
         "3373.03",
         "-6.085",
         "-0.1801",
         "59818820300.0",
         "802847050067.0"
        ],
        [
         "8344",
         "000001",
         "上证指数",
         "2025-02-25 00:00:00",
         "3345.65",
         "3369.56",
         "3337.84",
         "3346.04",
         "-26.988",
         "-0.8001",
         "52757856200.0",
         "727509770070.0"
        ],
        [
         "8345",
         "000001",
         "上证指数",
         "2025-02-26 00:00:00",
         "3351.21",
         "3380.21",
         "3351.21",
         "3380.21",
         "34.175",
         "1.0214",
         "55399203100.0",
         "747887357857.0"
        ],
        [
         "8346",
         "000001",
         "上证指数",
         "2025-02-27 00:00:00",
         "3378.45",
         "3388.78",
         "3353.57",
         "3388.06",
         "7.848",
         "0.2322",
         "57581502000.0",
         "774059980112.0"
        ],
        [
         "8347",
         "000001",
         "上证指数",
         "2025-02-28 00:00:00",
         "3374.66",
         "3383.19",
         "3318.72",
         "3320.9",
         "-67.162",
         "-1.9823",
         "56831950336.0",
         "758054891520.0"
        ]
       ],
       "shape": {
        "columns": 11,
        "rows": 5
       }
      },
      "text/html": [
       "<div>\n",
       "<style scoped>\n",
       "    .dataframe tbody tr th:only-of-type {\n",
       "        vertical-align: middle;\n",
       "    }\n",
       "\n",
       "    .dataframe tbody tr th {\n",
       "        vertical-align: top;\n",
       "    }\n",
       "\n",
       "    .dataframe thead th {\n",
       "        text-align: right;\n",
       "    }\n",
       "</style>\n",
       "<table border=\"1\" class=\"dataframe\">\n",
       "  <thead>\n",
       "    <tr style=\"text-align: right;\">\n",
       "      <th></th>\n",
       "      <th>SECU_CODE</th>\n",
       "      <th>SECU_NAME</th>\n",
       "      <th>DATE</th>\n",
       "      <th>OPENING</th>\n",
       "      <th>HIGHEST</th>\n",
       "      <th>LOWEST</th>\n",
       "      <th>CLOSING</th>\n",
       "      <th>CHANGE</th>\n",
       "      <th>PCT_CHANGE</th>\n",
       "      <th>VOLUME</th>\n",
       "      <th>AMOUNT</th>\n",
       "    </tr>\n",
       "  </thead>\n",
       "  <tbody>\n",
       "    <tr>\n",
       "      <th>8343</th>\n",
       "      <td>000001</td>\n",
       "      <td>上证指数</td>\n",
       "      <td>2025-02-24</td>\n",
       "      <td>3374.08</td>\n",
       "      <td>3384.81</td>\n",
       "      <td>3355.87</td>\n",
       "      <td>3373.03</td>\n",
       "      <td>-6.085</td>\n",
       "      <td>-0.1801</td>\n",
       "      <td>5.981882e+10</td>\n",
       "      <td>8.028471e+11</td>\n",
       "    </tr>\n",
       "    <tr>\n",
       "      <th>8344</th>\n",
       "      <td>000001</td>\n",
       "      <td>上证指数</td>\n",
       "      <td>2025-02-25</td>\n",
       "      <td>3345.65</td>\n",
       "      <td>3369.56</td>\n",
       "      <td>3337.84</td>\n",
       "      <td>3346.04</td>\n",
       "      <td>-26.988</td>\n",
       "      <td>-0.8001</td>\n",
       "      <td>5.275786e+10</td>\n",
       "      <td>7.275098e+11</td>\n",
       "    </tr>\n",
       "    <tr>\n",
       "      <th>8345</th>\n",
       "      <td>000001</td>\n",
       "      <td>上证指数</td>\n",
       "      <td>2025-02-26</td>\n",
       "      <td>3351.21</td>\n",
       "      <td>3380.21</td>\n",
       "      <td>3351.21</td>\n",
       "      <td>3380.21</td>\n",
       "      <td>34.175</td>\n",
       "      <td>1.0214</td>\n",
       "      <td>5.539920e+10</td>\n",
       "      <td>7.478874e+11</td>\n",
       "    </tr>\n",
       "    <tr>\n",
       "      <th>8346</th>\n",
       "      <td>000001</td>\n",
       "      <td>上证指数</td>\n",
       "      <td>2025-02-27</td>\n",
       "      <td>3378.45</td>\n",
       "      <td>3388.78</td>\n",
       "      <td>3353.57</td>\n",
       "      <td>3388.06</td>\n",
       "      <td>7.848</td>\n",
       "      <td>0.2322</td>\n",
       "      <td>5.758150e+10</td>\n",
       "      <td>7.740600e+11</td>\n",
       "    </tr>\n",
       "    <tr>\n",
       "      <th>8347</th>\n",
       "      <td>000001</td>\n",
       "      <td>上证指数</td>\n",
       "      <td>2025-02-28</td>\n",
       "      <td>3374.66</td>\n",
       "      <td>3383.19</td>\n",
       "      <td>3318.72</td>\n",
       "      <td>3320.90</td>\n",
       "      <td>-67.162</td>\n",
       "      <td>-1.9823</td>\n",
       "      <td>5.683195e+10</td>\n",
       "      <td>7.580549e+11</td>\n",
       "    </tr>\n",
       "  </tbody>\n",
       "</table>\n",
       "</div>"
      ],
      "text/plain": [
       "     SECU_CODE SECU_NAME       DATE  OPENING  HIGHEST   LOWEST  CLOSING  \\\n",
       "8343    000001      上证指数 2025-02-24  3374.08  3384.81  3355.87  3373.03   \n",
       "8344    000001      上证指数 2025-02-25  3345.65  3369.56  3337.84  3346.04   \n",
       "8345    000001      上证指数 2025-02-26  3351.21  3380.21  3351.21  3380.21   \n",
       "8346    000001      上证指数 2025-02-27  3378.45  3388.78  3353.57  3388.06   \n",
       "8347    000001      上证指数 2025-02-28  3374.66  3383.19  3318.72  3320.90   \n",
       "\n",
       "      CHANGE  PCT_CHANGE        VOLUME        AMOUNT  \n",
       "8343  -6.085     -0.1801  5.981882e+10  8.028471e+11  \n",
       "8344 -26.988     -0.8001  5.275786e+10  7.275098e+11  \n",
       "8345  34.175      1.0214  5.539920e+10  7.478874e+11  \n",
       "8346   7.848      0.2322  5.758150e+10  7.740600e+11  \n",
       "8347 -67.162     -1.9823  5.683195e+10  7.580549e+11  "
      ]
     },
     "metadata": {},
     "output_type": "display_data"
    }
   ],
   "source": [
    "for df in [i_df, m_df]:\n",
    "    df.dropna(inplace = True)\n",
    "    file_operations.change_head_to_ENG(df)\n",
    "    file_operations.change_date_to_datetime(df)\n",
    "    file_operations.change_numerical_data_to_float64(df)\n",
    "    file_operations.change_secu_code_to_str(df)\n",
    "    display(df.info())\n",
    "    display(df.head())\n",
    "    display(df.tail())\n"
   ]
  },
  {
   "cell_type": "code",
   "execution_count": 7,
   "metadata": {},
   "outputs": [
    {
     "name": "stdout",
     "output_type": "stream",
     "text": [
      "<class 'pandas.core.frame.DataFrame'>\n",
      "RangeIndex: 7 entries, 0 to 6\n",
      "Data columns (total 2 columns):\n",
      " #   Column  Non-Null Count  Dtype         \n",
      "---  ------  --------------  -----         \n",
      " 0   DATE    7 non-null      datetime64[ns]\n",
      " 1   R_f     7 non-null      float64       \n",
      "dtypes: datetime64[ns](1), float64(1)\n",
      "memory usage: 244.0 bytes\n"
     ]
    },
    {
     "data": {
      "text/plain": [
       "None"
      ]
     },
     "metadata": {},
     "output_type": "display_data"
    },
    {
     "data": {
      "application/vnd.microsoft.datawrangler.viewer.v0+json": {
       "columns": [
        {
         "name": "index",
         "rawType": "int64",
         "type": "integer"
        },
        {
         "name": "DATE",
         "rawType": "datetime64[ns]",
         "type": "datetime"
        },
        {
         "name": "R_f",
         "rawType": "float64",
         "type": "float"
        }
       ],
       "conversionMethod": "pd.DataFrame",
       "ref": "c9bd5667-454f-45a7-a4e6-de1b026def21",
       "rows": [
        [
         "0",
         "2022-01-01 00:00:00",
         "0.038"
        ],
        [
         "1",
         "2022-01-20 00:00:00",
         "0.037"
        ],
        [
         "2",
         "2022-08-22 00:00:00",
         "0.0365"
        ],
        [
         "3",
         "2023-06-20 00:00:00",
         "0.0355"
        ],
        [
         "4",
         "2023-08-21 00:00:00",
         "0.0345"
        ],
        [
         "5",
         "2024-07-22 00:00:00",
         "0.0335"
        ],
        [
         "6",
         "2024-10-20 00:00:00",
         "0.031"
        ]
       ],
       "shape": {
        "columns": 2,
        "rows": 7
       }
      },
      "text/html": [
       "<div>\n",
       "<style scoped>\n",
       "    .dataframe tbody tr th:only-of-type {\n",
       "        vertical-align: middle;\n",
       "    }\n",
       "\n",
       "    .dataframe tbody tr th {\n",
       "        vertical-align: top;\n",
       "    }\n",
       "\n",
       "    .dataframe thead th {\n",
       "        text-align: right;\n",
       "    }\n",
       "</style>\n",
       "<table border=\"1\" class=\"dataframe\">\n",
       "  <thead>\n",
       "    <tr style=\"text-align: right;\">\n",
       "      <th></th>\n",
       "      <th>DATE</th>\n",
       "      <th>R_f</th>\n",
       "    </tr>\n",
       "  </thead>\n",
       "  <tbody>\n",
       "    <tr>\n",
       "      <th>0</th>\n",
       "      <td>2022-01-01</td>\n",
       "      <td>0.0380</td>\n",
       "    </tr>\n",
       "    <tr>\n",
       "      <th>1</th>\n",
       "      <td>2022-01-20</td>\n",
       "      <td>0.0370</td>\n",
       "    </tr>\n",
       "    <tr>\n",
       "      <th>2</th>\n",
       "      <td>2022-08-22</td>\n",
       "      <td>0.0365</td>\n",
       "    </tr>\n",
       "    <tr>\n",
       "      <th>3</th>\n",
       "      <td>2023-06-20</td>\n",
       "      <td>0.0355</td>\n",
       "    </tr>\n",
       "    <tr>\n",
       "      <th>4</th>\n",
       "      <td>2023-08-21</td>\n",
       "      <td>0.0345</td>\n",
       "    </tr>\n",
       "    <tr>\n",
       "      <th>5</th>\n",
       "      <td>2024-07-22</td>\n",
       "      <td>0.0335</td>\n",
       "    </tr>\n",
       "    <tr>\n",
       "      <th>6</th>\n",
       "      <td>2024-10-20</td>\n",
       "      <td>0.0310</td>\n",
       "    </tr>\n",
       "  </tbody>\n",
       "</table>\n",
       "</div>"
      ],
      "text/plain": [
       "        DATE     R_f\n",
       "0 2022-01-01  0.0380\n",
       "1 2022-01-20  0.0370\n",
       "2 2022-08-22  0.0365\n",
       "3 2023-06-20  0.0355\n",
       "4 2023-08-21  0.0345\n",
       "5 2024-07-22  0.0335\n",
       "6 2024-10-20  0.0310"
      ]
     },
     "metadata": {},
     "output_type": "display_data"
    }
   ],
   "source": [
    "display(R_f_df.info())\n",
    "display(R_f_df)"
   ]
  },
  {
   "cell_type": "markdown",
   "metadata": {},
   "source": [
    "## Stores the stock ID as a variable for later use."
   ]
  },
  {
   "cell_type": "code",
   "execution_count": 8,
   "metadata": {},
   "outputs": [
    {
     "name": "stdout",
     "output_type": "stream",
     "text": [
      "688088\n",
      "虹软科技\n"
     ]
    }
   ],
   "source": [
    "Stock_ID_TAG_2 = i_df.iat[0, 0]\n",
    "print(Stock_ID_TAG_2)\n",
    "Stock_Name_TAG_3 = i_df.iat[0, 1]\n",
    "print(Stock_Name_TAG_3)"
   ]
  },
  {
   "cell_type": "markdown",
   "metadata": {},
   "source": [
    "## Drop useless columns & Convert string to float for closing price."
   ]
  },
  {
   "cell_type": "code",
   "execution_count": 9,
   "metadata": {},
   "outputs": [
    {
     "data": {
      "application/vnd.microsoft.datawrangler.viewer.v0+json": {
       "columns": [
        {
         "name": "index",
         "rawType": "int64",
         "type": "integer"
        },
        {
         "name": "DATE",
         "rawType": "datetime64[ns]",
         "type": "datetime"
        },
        {
         "name": "CLOSING",
         "rawType": "float64",
         "type": "float"
        }
       ],
       "conversionMethod": "pd.DataFrame",
       "ref": "19f96aa6-f6ee-4151-a6d6-16aae033fcde",
       "rows": [
        [
         "0",
         "2019-07-22 00:00:00",
         "63.59"
        ],
        [
         "1",
         "2019-07-23 00:00:00",
         "57.24"
        ],
        [
         "2",
         "2019-07-24 00:00:00",
         "60.03"
        ],
        [
         "3",
         "2019-07-25 00:00:00",
         "62.57"
        ],
        [
         "4",
         "2019-07-26 00:00:00",
         "57.14"
        ]
       ],
       "shape": {
        "columns": 2,
        "rows": 5
       }
      },
      "text/html": [
       "<div>\n",
       "<style scoped>\n",
       "    .dataframe tbody tr th:only-of-type {\n",
       "        vertical-align: middle;\n",
       "    }\n",
       "\n",
       "    .dataframe tbody tr th {\n",
       "        vertical-align: top;\n",
       "    }\n",
       "\n",
       "    .dataframe thead th {\n",
       "        text-align: right;\n",
       "    }\n",
       "</style>\n",
       "<table border=\"1\" class=\"dataframe\">\n",
       "  <thead>\n",
       "    <tr style=\"text-align: right;\">\n",
       "      <th></th>\n",
       "      <th>DATE</th>\n",
       "      <th>CLOSING</th>\n",
       "    </tr>\n",
       "  </thead>\n",
       "  <tbody>\n",
       "    <tr>\n",
       "      <th>0</th>\n",
       "      <td>2019-07-22</td>\n",
       "      <td>63.59</td>\n",
       "    </tr>\n",
       "    <tr>\n",
       "      <th>1</th>\n",
       "      <td>2019-07-23</td>\n",
       "      <td>57.24</td>\n",
       "    </tr>\n",
       "    <tr>\n",
       "      <th>2</th>\n",
       "      <td>2019-07-24</td>\n",
       "      <td>60.03</td>\n",
       "    </tr>\n",
       "    <tr>\n",
       "      <th>3</th>\n",
       "      <td>2019-07-25</td>\n",
       "      <td>62.57</td>\n",
       "    </tr>\n",
       "    <tr>\n",
       "      <th>4</th>\n",
       "      <td>2019-07-26</td>\n",
       "      <td>57.14</td>\n",
       "    </tr>\n",
       "  </tbody>\n",
       "</table>\n",
       "</div>"
      ],
      "text/plain": [
       "        DATE  CLOSING\n",
       "0 2019-07-22    63.59\n",
       "1 2019-07-23    57.24\n",
       "2 2019-07-24    60.03\n",
       "3 2019-07-25    62.57\n",
       "4 2019-07-26    57.14"
      ]
     },
     "metadata": {},
     "output_type": "display_data"
    },
    {
     "data": {
      "application/vnd.microsoft.datawrangler.viewer.v0+json": {
       "columns": [
        {
         "name": "index",
         "rawType": "int64",
         "type": "integer"
        },
        {
         "name": "DATE",
         "rawType": "datetime64[ns]",
         "type": "datetime"
        },
        {
         "name": "CLOSING",
         "rawType": "float64",
         "type": "float"
        }
       ],
       "conversionMethod": "pd.DataFrame",
       "ref": "fc0806fc-a2e2-49ca-85cc-a2e5be44cbb9",
       "rows": [
        [
         "0",
         "1990-12-19 00:00:00",
         "99.98"
        ],
        [
         "1",
         "1990-12-20 00:00:00",
         "104.39"
        ],
        [
         "2",
         "1990-12-21 00:00:00",
         "109.13"
        ],
        [
         "3",
         "1990-12-24 00:00:00",
         "114.55"
        ],
        [
         "4",
         "1990-12-25 00:00:00",
         "120.25"
        ]
       ],
       "shape": {
        "columns": 2,
        "rows": 5
       }
      },
      "text/html": [
       "<div>\n",
       "<style scoped>\n",
       "    .dataframe tbody tr th:only-of-type {\n",
       "        vertical-align: middle;\n",
       "    }\n",
       "\n",
       "    .dataframe tbody tr th {\n",
       "        vertical-align: top;\n",
       "    }\n",
       "\n",
       "    .dataframe thead th {\n",
       "        text-align: right;\n",
       "    }\n",
       "</style>\n",
       "<table border=\"1\" class=\"dataframe\">\n",
       "  <thead>\n",
       "    <tr style=\"text-align: right;\">\n",
       "      <th></th>\n",
       "      <th>DATE</th>\n",
       "      <th>CLOSING</th>\n",
       "    </tr>\n",
       "  </thead>\n",
       "  <tbody>\n",
       "    <tr>\n",
       "      <th>0</th>\n",
       "      <td>1990-12-19</td>\n",
       "      <td>99.98</td>\n",
       "    </tr>\n",
       "    <tr>\n",
       "      <th>1</th>\n",
       "      <td>1990-12-20</td>\n",
       "      <td>104.39</td>\n",
       "    </tr>\n",
       "    <tr>\n",
       "      <th>2</th>\n",
       "      <td>1990-12-21</td>\n",
       "      <td>109.13</td>\n",
       "    </tr>\n",
       "    <tr>\n",
       "      <th>3</th>\n",
       "      <td>1990-12-24</td>\n",
       "      <td>114.55</td>\n",
       "    </tr>\n",
       "    <tr>\n",
       "      <th>4</th>\n",
       "      <td>1990-12-25</td>\n",
       "      <td>120.25</td>\n",
       "    </tr>\n",
       "  </tbody>\n",
       "</table>\n",
       "</div>"
      ],
      "text/plain": [
       "        DATE  CLOSING\n",
       "0 1990-12-19    99.98\n",
       "1 1990-12-20   104.39\n",
       "2 1990-12-21   109.13\n",
       "3 1990-12-24   114.55\n",
       "4 1990-12-25   120.25"
      ]
     },
     "metadata": {},
     "output_type": "display_data"
    }
   ],
   "source": [
    "i_df, m_df = [df[['DATE', 'CLOSING']] for df in [i_df, m_df]]\n",
    "display(i_df.head())\n",
    "display(m_df.head())"
   ]
  },
  {
   "cell_type": "markdown",
   "metadata": {},
   "source": [
    "## Change the data into the same shape based on time."
   ]
  },
  {
   "cell_type": "markdown",
   "metadata": {},
   "source": [
    "Here `df = pd.merge(i_df, m_df, on='DATE', how='inner')`, `i_df` and `m_df` are the dataframe that I want to merge, and on='DATE meaning that this merge will be based on DATE column, and inner means that this will merge the rows that exist a time on both datafram."
   ]
  },
  {
   "cell_type": "code",
   "execution_count": 10,
   "metadata": {},
   "outputs": [
    {
     "data": {
      "application/vnd.microsoft.datawrangler.viewer.v0+json": {
       "columns": [
        {
         "name": "index",
         "rawType": "int64",
         "type": "integer"
        },
        {
         "name": "DATE",
         "rawType": "datetime64[ns]",
         "type": "datetime"
        },
        {
         "name": "Chosen Stock Closing Price",
         "rawType": "float64",
         "type": "float"
        },
        {
         "name": "Market Portfolio Closing Price",
         "rawType": "float64",
         "type": "float"
        }
       ],
       "conversionMethod": "pd.DataFrame",
       "ref": "0284892c-4014-487a-b52d-6d607ab7d836",
       "rows": [
        [
         "0",
         "2019-07-22 00:00:00",
         "63.59",
         "2886.97"
        ],
        [
         "1",
         "2019-07-23 00:00:00",
         "57.24",
         "2899.94"
        ],
        [
         "2",
         "2019-07-24 00:00:00",
         "60.03",
         "2923.28"
        ],
        [
         "3",
         "2019-07-25 00:00:00",
         "62.57",
         "2937.36"
        ],
        [
         "4",
         "2019-07-26 00:00:00",
         "57.14",
         "2944.54"
        ]
       ],
       "shape": {
        "columns": 3,
        "rows": 5
       }
      },
      "text/html": [
       "<div>\n",
       "<style scoped>\n",
       "    .dataframe tbody tr th:only-of-type {\n",
       "        vertical-align: middle;\n",
       "    }\n",
       "\n",
       "    .dataframe tbody tr th {\n",
       "        vertical-align: top;\n",
       "    }\n",
       "\n",
       "    .dataframe thead th {\n",
       "        text-align: right;\n",
       "    }\n",
       "</style>\n",
       "<table border=\"1\" class=\"dataframe\">\n",
       "  <thead>\n",
       "    <tr style=\"text-align: right;\">\n",
       "      <th></th>\n",
       "      <th>DATE</th>\n",
       "      <th>Chosen Stock Closing Price</th>\n",
       "      <th>Market Portfolio Closing Price</th>\n",
       "    </tr>\n",
       "  </thead>\n",
       "  <tbody>\n",
       "    <tr>\n",
       "      <th>0</th>\n",
       "      <td>2019-07-22</td>\n",
       "      <td>63.59</td>\n",
       "      <td>2886.97</td>\n",
       "    </tr>\n",
       "    <tr>\n",
       "      <th>1</th>\n",
       "      <td>2019-07-23</td>\n",
       "      <td>57.24</td>\n",
       "      <td>2899.94</td>\n",
       "    </tr>\n",
       "    <tr>\n",
       "      <th>2</th>\n",
       "      <td>2019-07-24</td>\n",
       "      <td>60.03</td>\n",
       "      <td>2923.28</td>\n",
       "    </tr>\n",
       "    <tr>\n",
       "      <th>3</th>\n",
       "      <td>2019-07-25</td>\n",
       "      <td>62.57</td>\n",
       "      <td>2937.36</td>\n",
       "    </tr>\n",
       "    <tr>\n",
       "      <th>4</th>\n",
       "      <td>2019-07-26</td>\n",
       "      <td>57.14</td>\n",
       "      <td>2944.54</td>\n",
       "    </tr>\n",
       "  </tbody>\n",
       "</table>\n",
       "</div>"
      ],
      "text/plain": [
       "        DATE  Chosen Stock Closing Price  Market Portfolio Closing Price\n",
       "0 2019-07-22                       63.59                         2886.97\n",
       "1 2019-07-23                       57.24                         2899.94\n",
       "2 2019-07-24                       60.03                         2923.28\n",
       "3 2019-07-25                       62.57                         2937.36\n",
       "4 2019-07-26                       57.14                         2944.54"
      ]
     },
     "metadata": {},
     "output_type": "display_data"
    },
    {
     "name": "stdout",
     "output_type": "stream",
     "text": [
      "<class 'pandas.core.frame.DataFrame'>\n",
      "RangeIndex: 1359 entries, 0 to 1358\n",
      "Data columns (total 3 columns):\n",
      " #   Column                          Non-Null Count  Dtype         \n",
      "---  ------                          --------------  -----         \n",
      " 0   DATE                            1359 non-null   datetime64[ns]\n",
      " 1   Chosen Stock Closing Price      1359 non-null   float64       \n",
      " 2   Market Portfolio Closing Price  1359 non-null   float64       \n",
      "dtypes: datetime64[ns](1), float64(2)\n",
      "memory usage: 32.0 KB\n"
     ]
    },
    {
     "data": {
      "text/plain": [
       "None"
      ]
     },
     "metadata": {},
     "output_type": "display_data"
    },
    {
     "data": {
      "application/vnd.microsoft.datawrangler.viewer.v0+json": {
       "columns": [
        {
         "name": "index",
         "rawType": "int64",
         "type": "integer"
        },
        {
         "name": "DATE",
         "rawType": "datetime64[ns]",
         "type": "datetime"
        },
        {
         "name": "Chosen Stock Closing Price",
         "rawType": "float64",
         "type": "float"
        },
        {
         "name": "Market Portfolio Closing Price",
         "rawType": "float64",
         "type": "float"
        }
       ],
       "conversionMethod": "pd.DataFrame",
       "ref": "4f3aaf6c-33c6-4c18-8080-b420ab4cf39a",
       "rows": [
        [
         "1354",
         "2025-02-24 00:00:00",
         "53.01",
         "3373.03"
        ],
        [
         "1355",
         "2025-02-25 00:00:00",
         "55.77",
         "3346.04"
        ],
        [
         "1356",
         "2025-02-26 00:00:00",
         "55.41",
         "3380.21"
        ],
        [
         "1357",
         "2025-02-27 00:00:00",
         "54.4",
         "3388.06"
        ],
        [
         "1358",
         "2025-02-28 00:00:00",
         "48.15",
         "3320.9"
        ]
       ],
       "shape": {
        "columns": 3,
        "rows": 5
       }
      },
      "text/html": [
       "<div>\n",
       "<style scoped>\n",
       "    .dataframe tbody tr th:only-of-type {\n",
       "        vertical-align: middle;\n",
       "    }\n",
       "\n",
       "    .dataframe tbody tr th {\n",
       "        vertical-align: top;\n",
       "    }\n",
       "\n",
       "    .dataframe thead th {\n",
       "        text-align: right;\n",
       "    }\n",
       "</style>\n",
       "<table border=\"1\" class=\"dataframe\">\n",
       "  <thead>\n",
       "    <tr style=\"text-align: right;\">\n",
       "      <th></th>\n",
       "      <th>DATE</th>\n",
       "      <th>Chosen Stock Closing Price</th>\n",
       "      <th>Market Portfolio Closing Price</th>\n",
       "    </tr>\n",
       "  </thead>\n",
       "  <tbody>\n",
       "    <tr>\n",
       "      <th>1354</th>\n",
       "      <td>2025-02-24</td>\n",
       "      <td>53.01</td>\n",
       "      <td>3373.03</td>\n",
       "    </tr>\n",
       "    <tr>\n",
       "      <th>1355</th>\n",
       "      <td>2025-02-25</td>\n",
       "      <td>55.77</td>\n",
       "      <td>3346.04</td>\n",
       "    </tr>\n",
       "    <tr>\n",
       "      <th>1356</th>\n",
       "      <td>2025-02-26</td>\n",
       "      <td>55.41</td>\n",
       "      <td>3380.21</td>\n",
       "    </tr>\n",
       "    <tr>\n",
       "      <th>1357</th>\n",
       "      <td>2025-02-27</td>\n",
       "      <td>54.40</td>\n",
       "      <td>3388.06</td>\n",
       "    </tr>\n",
       "    <tr>\n",
       "      <th>1358</th>\n",
       "      <td>2025-02-28</td>\n",
       "      <td>48.15</td>\n",
       "      <td>3320.90</td>\n",
       "    </tr>\n",
       "  </tbody>\n",
       "</table>\n",
       "</div>"
      ],
      "text/plain": [
       "           DATE  Chosen Stock Closing Price  Market Portfolio Closing Price\n",
       "1354 2025-02-24                       53.01                         3373.03\n",
       "1355 2025-02-25                       55.77                         3346.04\n",
       "1356 2025-02-26                       55.41                         3380.21\n",
       "1357 2025-02-27                       54.40                         3388.06\n",
       "1358 2025-02-28                       48.15                         3320.90"
      ]
     },
     "metadata": {},
     "output_type": "display_data"
    }
   ],
   "source": [
    "df = pd.merge(i_df, m_df, on='DATE', how='inner')\n",
    "df = df.rename(columns = {'CLOSING_x': 'Chosen Stock Closing Price', 'CLOSING_y': 'Market Portfolio Closing Price'})\n",
    "df.dropna(inplace = True)\n",
    "display(df.head())\n",
    "display(df.info())\n",
    "display(df.tail())"
   ]
  },
  {
   "cell_type": "markdown",
   "metadata": {},
   "source": [
    "## Getting the percentage change columns"
   ]
  },
  {
   "cell_type": "code",
   "execution_count": 11,
   "metadata": {},
   "outputs": [
    {
     "data": {
      "application/vnd.microsoft.datawrangler.viewer.v0+json": {
       "columns": [
        {
         "name": "index",
         "rawType": "int64",
         "type": "integer"
        },
        {
         "name": "DATE",
         "rawType": "datetime64[ns]",
         "type": "datetime"
        },
        {
         "name": "Chosen Stock Closing Price",
         "rawType": "float64",
         "type": "float"
        },
        {
         "name": "Market Portfolio Closing Price",
         "rawType": "float64",
         "type": "float"
        },
        {
         "name": "i_pct_change",
         "rawType": "float64",
         "type": "float"
        },
        {
         "name": "m_pct_change",
         "rawType": "float64",
         "type": "float"
        }
       ],
       "conversionMethod": "pd.DataFrame",
       "ref": "7a418858-2816-4ec9-86e5-67d1ffa0a467",
       "rows": [
        [
         "0",
         "2019-07-22 00:00:00",
         "63.59",
         "2886.97",
         null,
         null
        ],
        [
         "1",
         "2019-07-23 00:00:00",
         "57.24",
         "2899.94",
         "-0.09985846831262779",
         "0.004492599507442074"
        ],
        [
         "2",
         "2019-07-24 00:00:00",
         "60.03",
         "2923.28",
         "0.04874213836477992",
         "0.008048442381566545"
        ],
        [
         "3",
         "2019-07-25 00:00:00",
         "62.57",
         "2937.36",
         "0.042312177244711036",
         "0.004816507484743049"
        ],
        [
         "4",
         "2019-07-26 00:00:00",
         "57.14",
         "2944.54",
         "-0.08678280326034837",
         "0.002444371816869406"
        ]
       ],
       "shape": {
        "columns": 5,
        "rows": 5
       }
      },
      "text/html": [
       "<div>\n",
       "<style scoped>\n",
       "    .dataframe tbody tr th:only-of-type {\n",
       "        vertical-align: middle;\n",
       "    }\n",
       "\n",
       "    .dataframe tbody tr th {\n",
       "        vertical-align: top;\n",
       "    }\n",
       "\n",
       "    .dataframe thead th {\n",
       "        text-align: right;\n",
       "    }\n",
       "</style>\n",
       "<table border=\"1\" class=\"dataframe\">\n",
       "  <thead>\n",
       "    <tr style=\"text-align: right;\">\n",
       "      <th></th>\n",
       "      <th>DATE</th>\n",
       "      <th>Chosen Stock Closing Price</th>\n",
       "      <th>Market Portfolio Closing Price</th>\n",
       "      <th>i_pct_change</th>\n",
       "      <th>m_pct_change</th>\n",
       "    </tr>\n",
       "  </thead>\n",
       "  <tbody>\n",
       "    <tr>\n",
       "      <th>0</th>\n",
       "      <td>2019-07-22</td>\n",
       "      <td>63.59</td>\n",
       "      <td>2886.97</td>\n",
       "      <td>NaN</td>\n",
       "      <td>NaN</td>\n",
       "    </tr>\n",
       "    <tr>\n",
       "      <th>1</th>\n",
       "      <td>2019-07-23</td>\n",
       "      <td>57.24</td>\n",
       "      <td>2899.94</td>\n",
       "      <td>-0.099858</td>\n",
       "      <td>0.004493</td>\n",
       "    </tr>\n",
       "    <tr>\n",
       "      <th>2</th>\n",
       "      <td>2019-07-24</td>\n",
       "      <td>60.03</td>\n",
       "      <td>2923.28</td>\n",
       "      <td>0.048742</td>\n",
       "      <td>0.008048</td>\n",
       "    </tr>\n",
       "    <tr>\n",
       "      <th>3</th>\n",
       "      <td>2019-07-25</td>\n",
       "      <td>62.57</td>\n",
       "      <td>2937.36</td>\n",
       "      <td>0.042312</td>\n",
       "      <td>0.004817</td>\n",
       "    </tr>\n",
       "    <tr>\n",
       "      <th>4</th>\n",
       "      <td>2019-07-26</td>\n",
       "      <td>57.14</td>\n",
       "      <td>2944.54</td>\n",
       "      <td>-0.086783</td>\n",
       "      <td>0.002444</td>\n",
       "    </tr>\n",
       "  </tbody>\n",
       "</table>\n",
       "</div>"
      ],
      "text/plain": [
       "        DATE  Chosen Stock Closing Price  Market Portfolio Closing Price  \\\n",
       "0 2019-07-22                       63.59                         2886.97   \n",
       "1 2019-07-23                       57.24                         2899.94   \n",
       "2 2019-07-24                       60.03                         2923.28   \n",
       "3 2019-07-25                       62.57                         2937.36   \n",
       "4 2019-07-26                       57.14                         2944.54   \n",
       "\n",
       "   i_pct_change  m_pct_change  \n",
       "0           NaN           NaN  \n",
       "1     -0.099858      0.004493  \n",
       "2      0.048742      0.008048  \n",
       "3      0.042312      0.004817  \n",
       "4     -0.086783      0.002444  "
      ]
     },
     "metadata": {},
     "output_type": "display_data"
    },
    {
     "name": "stdout",
     "output_type": "stream",
     "text": [
      "<class 'pandas.core.frame.DataFrame'>\n",
      "RangeIndex: 1359 entries, 0 to 1358\n",
      "Data columns (total 5 columns):\n",
      " #   Column                          Non-Null Count  Dtype         \n",
      "---  ------                          --------------  -----         \n",
      " 0   DATE                            1359 non-null   datetime64[ns]\n",
      " 1   Chosen Stock Closing Price      1359 non-null   float64       \n",
      " 2   Market Portfolio Closing Price  1359 non-null   float64       \n",
      " 3   i_pct_change                    1358 non-null   float64       \n",
      " 4   m_pct_change                    1358 non-null   float64       \n",
      "dtypes: datetime64[ns](1), float64(4)\n",
      "memory usage: 53.2 KB\n"
     ]
    },
    {
     "data": {
      "text/plain": [
       "None"
      ]
     },
     "metadata": {},
     "output_type": "display_data"
    }
   ],
   "source": [
    "df['i_pct_change'] = df['Chosen Stock Closing Price'].pct_change()\n",
    "df['m_pct_change'] = df['Market Portfolio Closing Price'].pct_change()\n",
    "display(df.head())\n",
    "display(df.info())"
   ]
  },
  {
   "cell_type": "markdown",
   "metadata": {},
   "source": [
    "## Change the time range to 2022-01-01 to 2025-02-28 and Drop the useless column since now we have the percent change column."
   ]
  },
  {
   "cell_type": "markdown",
   "metadata": {},
   "source": [
    "Getting the start and the end date."
   ]
  },
  {
   "cell_type": "code",
   "execution_count": 12,
   "metadata": {},
   "outputs": [],
   "source": [
    "Start_Date = '2022-01-01'\n",
    "End_Date = df.iat[-1, 0]\n",
    "End_Date = End_Date.strftime('%Y-%m-%d')\n",
    "Sample_Range_TAG_4 = Start_Date + \" to \" + End_Date"
   ]
  },
  {
   "cell_type": "code",
   "execution_count": 13,
   "metadata": {},
   "outputs": [
    {
     "data": {
      "application/vnd.microsoft.datawrangler.viewer.v0+json": {
       "columns": [
        {
         "name": "index",
         "rawType": "int64",
         "type": "integer"
        },
        {
         "name": "DATE",
         "rawType": "datetime64[ns]",
         "type": "datetime"
        },
        {
         "name": "i_pct_change",
         "rawType": "float64",
         "type": "float"
        },
        {
         "name": "m_pct_change",
         "rawType": "float64",
         "type": "float"
        }
       ],
       "conversionMethod": "pd.DataFrame",
       "ref": "6ecad1b0-fbfe-412e-858f-76d8c29e1b41",
       "rows": [
        [
         "597",
         "2022-01-04 00:00:00",
         "0.14079925650557623",
         "-0.0020468270060278737"
        ],
        [
         "598",
         "2022-01-05 00:00:00",
         "-0.06496945010183308",
         "-0.010227594959709041"
        ],
        [
         "599",
         "2022-01-06 00:00:00",
         "-0.01851448486168583",
         "-0.002531166728786838"
        ],
        [
         "600",
         "2022-01-07 00:00:00",
         "-0.03084775854416333",
         "-0.0018237183777272126"
        ],
        [
         "601",
         "2022-01-10 00:00:00",
         "0.016945271353331792",
         "0.003905529760807269"
        ]
       ],
       "shape": {
        "columns": 3,
        "rows": 5
       }
      },
      "text/html": [
       "<div>\n",
       "<style scoped>\n",
       "    .dataframe tbody tr th:only-of-type {\n",
       "        vertical-align: middle;\n",
       "    }\n",
       "\n",
       "    .dataframe tbody tr th {\n",
       "        vertical-align: top;\n",
       "    }\n",
       "\n",
       "    .dataframe thead th {\n",
       "        text-align: right;\n",
       "    }\n",
       "</style>\n",
       "<table border=\"1\" class=\"dataframe\">\n",
       "  <thead>\n",
       "    <tr style=\"text-align: right;\">\n",
       "      <th></th>\n",
       "      <th>DATE</th>\n",
       "      <th>i_pct_change</th>\n",
       "      <th>m_pct_change</th>\n",
       "    </tr>\n",
       "  </thead>\n",
       "  <tbody>\n",
       "    <tr>\n",
       "      <th>597</th>\n",
       "      <td>2022-01-04</td>\n",
       "      <td>0.140799</td>\n",
       "      <td>-0.002047</td>\n",
       "    </tr>\n",
       "    <tr>\n",
       "      <th>598</th>\n",
       "      <td>2022-01-05</td>\n",
       "      <td>-0.064969</td>\n",
       "      <td>-0.010228</td>\n",
       "    </tr>\n",
       "    <tr>\n",
       "      <th>599</th>\n",
       "      <td>2022-01-06</td>\n",
       "      <td>-0.018514</td>\n",
       "      <td>-0.002531</td>\n",
       "    </tr>\n",
       "    <tr>\n",
       "      <th>600</th>\n",
       "      <td>2022-01-07</td>\n",
       "      <td>-0.030848</td>\n",
       "      <td>-0.001824</td>\n",
       "    </tr>\n",
       "    <tr>\n",
       "      <th>601</th>\n",
       "      <td>2022-01-10</td>\n",
       "      <td>0.016945</td>\n",
       "      <td>0.003906</td>\n",
       "    </tr>\n",
       "  </tbody>\n",
       "</table>\n",
       "</div>"
      ],
      "text/plain": [
       "          DATE  i_pct_change  m_pct_change\n",
       "597 2022-01-04      0.140799     -0.002047\n",
       "598 2022-01-05     -0.064969     -0.010228\n",
       "599 2022-01-06     -0.018514     -0.002531\n",
       "600 2022-01-07     -0.030848     -0.001824\n",
       "601 2022-01-10      0.016945      0.003906"
      ]
     },
     "metadata": {},
     "output_type": "display_data"
    },
    {
     "data": {
      "application/vnd.microsoft.datawrangler.viewer.v0+json": {
       "columns": [
        {
         "name": "index",
         "rawType": "int64",
         "type": "integer"
        },
        {
         "name": "DATE",
         "rawType": "datetime64[ns]",
         "type": "datetime"
        },
        {
         "name": "i_pct_change",
         "rawType": "float64",
         "type": "float"
        },
        {
         "name": "m_pct_change",
         "rawType": "float64",
         "type": "float"
        }
       ],
       "conversionMethod": "pd.DataFrame",
       "ref": "48829248-7ef5-4cab-a041-ebff09a4486a",
       "rows": [
        [
         "0",
         "2022-01-04 00:00:00",
         "0.14079925650557623",
         "-0.0020468270060278737"
        ],
        [
         "1",
         "2022-01-05 00:00:00",
         "-0.06496945010183308",
         "-0.010227594959709041"
        ],
        [
         "2",
         "2022-01-06 00:00:00",
         "-0.01851448486168583",
         "-0.002531166728786838"
        ],
        [
         "3",
         "2022-01-07 00:00:00",
         "-0.03084775854416333",
         "-0.0018237183777272126"
        ],
        [
         "4",
         "2022-01-10 00:00:00",
         "0.016945271353331792",
         "0.003905529760807269"
        ]
       ],
       "shape": {
        "columns": 3,
        "rows": 5
       }
      },
      "text/html": [
       "<div>\n",
       "<style scoped>\n",
       "    .dataframe tbody tr th:only-of-type {\n",
       "        vertical-align: middle;\n",
       "    }\n",
       "\n",
       "    .dataframe tbody tr th {\n",
       "        vertical-align: top;\n",
       "    }\n",
       "\n",
       "    .dataframe thead th {\n",
       "        text-align: right;\n",
       "    }\n",
       "</style>\n",
       "<table border=\"1\" class=\"dataframe\">\n",
       "  <thead>\n",
       "    <tr style=\"text-align: right;\">\n",
       "      <th></th>\n",
       "      <th>DATE</th>\n",
       "      <th>i_pct_change</th>\n",
       "      <th>m_pct_change</th>\n",
       "    </tr>\n",
       "  </thead>\n",
       "  <tbody>\n",
       "    <tr>\n",
       "      <th>0</th>\n",
       "      <td>2022-01-04</td>\n",
       "      <td>0.140799</td>\n",
       "      <td>-0.002047</td>\n",
       "    </tr>\n",
       "    <tr>\n",
       "      <th>1</th>\n",
       "      <td>2022-01-05</td>\n",
       "      <td>-0.064969</td>\n",
       "      <td>-0.010228</td>\n",
       "    </tr>\n",
       "    <tr>\n",
       "      <th>2</th>\n",
       "      <td>2022-01-06</td>\n",
       "      <td>-0.018514</td>\n",
       "      <td>-0.002531</td>\n",
       "    </tr>\n",
       "    <tr>\n",
       "      <th>3</th>\n",
       "      <td>2022-01-07</td>\n",
       "      <td>-0.030848</td>\n",
       "      <td>-0.001824</td>\n",
       "    </tr>\n",
       "    <tr>\n",
       "      <th>4</th>\n",
       "      <td>2022-01-10</td>\n",
       "      <td>0.016945</td>\n",
       "      <td>0.003906</td>\n",
       "    </tr>\n",
       "  </tbody>\n",
       "</table>\n",
       "</div>"
      ],
      "text/plain": [
       "        DATE  i_pct_change  m_pct_change\n",
       "0 2022-01-04      0.140799     -0.002047\n",
       "1 2022-01-05     -0.064969     -0.010228\n",
       "2 2022-01-06     -0.018514     -0.002531\n",
       "3 2022-01-07     -0.030848     -0.001824\n",
       "4 2022-01-10      0.016945      0.003906"
      ]
     },
     "metadata": {},
     "output_type": "display_data"
    },
    {
     "name": "stdout",
     "output_type": "stream",
     "text": [
      "<class 'pandas.core.frame.DataFrame'>\n",
      "RangeIndex: 762 entries, 0 to 761\n",
      "Data columns (total 3 columns):\n",
      " #   Column        Non-Null Count  Dtype         \n",
      "---  ------        --------------  -----         \n",
      " 0   DATE          762 non-null    datetime64[ns]\n",
      " 1   i_pct_change  762 non-null    float64       \n",
      " 2   m_pct_change  762 non-null    float64       \n",
      "dtypes: datetime64[ns](1), float64(2)\n",
      "memory usage: 18.0 KB\n"
     ]
    },
    {
     "data": {
      "text/plain": [
       "None"
      ]
     },
     "metadata": {},
     "output_type": "display_data"
    }
   ],
   "source": [
    "df = df.loc[(df['DATE'] > Start_Date) & (df['DATE'] <= End_Date)]\n",
    "to_drop = ['Chosen Stock Closing Price', 'Market Portfolio Closing Price']\n",
    "df.drop(to_drop, axis = 1, inplace = True)\n",
    "display(df.head())\n",
    "df = df.reset_index(drop=True)\n",
    "display(df.head())\n",
    "display(df.info())"
   ]
  },
  {
   "cell_type": "code",
   "execution_count": 14,
   "metadata": {},
   "outputs": [
    {
     "name": "stdout",
     "output_type": "stream",
     "text": [
      "2022-01-01\n",
      "2025-02-28\n",
      "688088\n",
      "虹软科技\n",
      "2022-01-01 to 2025-02-28\n"
     ]
    }
   ],
   "source": [
    "print(Start_Date)\n",
    "print(End_Date)\n",
    "print(Stock_ID_TAG_2)\n",
    "print(Stock_Name_TAG_3)\n",
    "print(Sample_Range_TAG_4)"
   ]
  },
  {
   "cell_type": "markdown",
   "metadata": {},
   "source": [
    "## Add a new column of R_f"
   ]
  },
  {
   "cell_type": "markdown",
   "metadata": {},
   "source": [
    "### Define a function that calculate the R_f for daily changes from yearly."
   ]
  },
  {
   "cell_type": "code",
   "execution_count": 15,
   "metadata": {},
   "outputs": [
    {
     "data": {
      "application/vnd.microsoft.datawrangler.viewer.v0+json": {
       "columns": [
        {
         "name": "index",
         "rawType": "int64",
         "type": "integer"
        },
        {
         "name": "DATE",
         "rawType": "datetime64[ns]",
         "type": "datetime"
        },
        {
         "name": "R_f",
         "rawType": "float64",
         "type": "float"
        }
       ],
       "conversionMethod": "pd.DataFrame",
       "ref": "1cf12361-648b-41e5-9f4f-0c09bcffa3a5",
       "rows": [
        [
         "0",
         "2022-01-01 00:00:00",
         "0.038"
        ],
        [
         "1",
         "2022-01-20 00:00:00",
         "0.037"
        ],
        [
         "2",
         "2022-08-22 00:00:00",
         "0.0365"
        ],
        [
         "3",
         "2023-06-20 00:00:00",
         "0.0355"
        ],
        [
         "4",
         "2023-08-21 00:00:00",
         "0.0345"
        ],
        [
         "5",
         "2024-07-22 00:00:00",
         "0.0335"
        ],
        [
         "6",
         "2024-10-20 00:00:00",
         "0.031"
        ]
       ],
       "shape": {
        "columns": 2,
        "rows": 7
       }
      },
      "text/html": [
       "<div>\n",
       "<style scoped>\n",
       "    .dataframe tbody tr th:only-of-type {\n",
       "        vertical-align: middle;\n",
       "    }\n",
       "\n",
       "    .dataframe tbody tr th {\n",
       "        vertical-align: top;\n",
       "    }\n",
       "\n",
       "    .dataframe thead th {\n",
       "        text-align: right;\n",
       "    }\n",
       "</style>\n",
       "<table border=\"1\" class=\"dataframe\">\n",
       "  <thead>\n",
       "    <tr style=\"text-align: right;\">\n",
       "      <th></th>\n",
       "      <th>DATE</th>\n",
       "      <th>R_f</th>\n",
       "    </tr>\n",
       "  </thead>\n",
       "  <tbody>\n",
       "    <tr>\n",
       "      <th>0</th>\n",
       "      <td>2022-01-01</td>\n",
       "      <td>0.0380</td>\n",
       "    </tr>\n",
       "    <tr>\n",
       "      <th>1</th>\n",
       "      <td>2022-01-20</td>\n",
       "      <td>0.0370</td>\n",
       "    </tr>\n",
       "    <tr>\n",
       "      <th>2</th>\n",
       "      <td>2022-08-22</td>\n",
       "      <td>0.0365</td>\n",
       "    </tr>\n",
       "    <tr>\n",
       "      <th>3</th>\n",
       "      <td>2023-06-20</td>\n",
       "      <td>0.0355</td>\n",
       "    </tr>\n",
       "    <tr>\n",
       "      <th>4</th>\n",
       "      <td>2023-08-21</td>\n",
       "      <td>0.0345</td>\n",
       "    </tr>\n",
       "    <tr>\n",
       "      <th>5</th>\n",
       "      <td>2024-07-22</td>\n",
       "      <td>0.0335</td>\n",
       "    </tr>\n",
       "    <tr>\n",
       "      <th>6</th>\n",
       "      <td>2024-10-20</td>\n",
       "      <td>0.0310</td>\n",
       "    </tr>\n",
       "  </tbody>\n",
       "</table>\n",
       "</div>"
      ],
      "text/plain": [
       "        DATE     R_f\n",
       "0 2022-01-01  0.0380\n",
       "1 2022-01-20  0.0370\n",
       "2 2022-08-22  0.0365\n",
       "3 2023-06-20  0.0355\n",
       "4 2023-08-21  0.0345\n",
       "5 2024-07-22  0.0335\n",
       "6 2024-10-20  0.0310"
      ]
     },
     "metadata": {},
     "output_type": "display_data"
    },
    {
     "data": {
      "application/vnd.microsoft.datawrangler.viewer.v0+json": {
       "columns": [
        {
         "name": "index",
         "rawType": "int64",
         "type": "integer"
        },
        {
         "name": "DATE",
         "rawType": "datetime64[ns]",
         "type": "datetime"
        },
        {
         "name": "R_f",
         "rawType": "float64",
         "type": "float"
        }
       ],
       "conversionMethod": "pd.DataFrame",
       "ref": "4d99f1c4-7f4e-43c1-a13d-16e9fbb72efb",
       "rows": [
        [
         "0",
         "2022-01-01 00:00:00",
         "0.0001021854527523125"
        ],
        [
         "1",
         "2022-01-20 00:00:00",
         "9.954448640825397e-05"
        ],
        [
         "2",
         "2022-08-22 00:00:00",
         "9.822305067408443e-05"
        ],
        [
         "3",
         "2023-06-20 00:00:00",
         "9.557827102013583e-05"
        ],
        [
         "4",
         "2023-08-21 00:00:00",
         "9.293094302753602e-05"
        ],
        [
         "5",
         "2024-07-22 00:00:00",
         "9.028106177377815e-05"
        ],
        [
         "6",
         "2024-10-20 00:00:00",
         "8.364515569070363e-05"
        ]
       ],
       "shape": {
        "columns": 2,
        "rows": 7
       }
      },
      "text/html": [
       "<div>\n",
       "<style scoped>\n",
       "    .dataframe tbody tr th:only-of-type {\n",
       "        vertical-align: middle;\n",
       "    }\n",
       "\n",
       "    .dataframe tbody tr th {\n",
       "        vertical-align: top;\n",
       "    }\n",
       "\n",
       "    .dataframe thead th {\n",
       "        text-align: right;\n",
       "    }\n",
       "</style>\n",
       "<table border=\"1\" class=\"dataframe\">\n",
       "  <thead>\n",
       "    <tr style=\"text-align: right;\">\n",
       "      <th></th>\n",
       "      <th>DATE</th>\n",
       "      <th>R_f</th>\n",
       "    </tr>\n",
       "  </thead>\n",
       "  <tbody>\n",
       "    <tr>\n",
       "      <th>0</th>\n",
       "      <td>2022-01-01</td>\n",
       "      <td>0.000102</td>\n",
       "    </tr>\n",
       "    <tr>\n",
       "      <th>1</th>\n",
       "      <td>2022-01-20</td>\n",
       "      <td>0.000100</td>\n",
       "    </tr>\n",
       "    <tr>\n",
       "      <th>2</th>\n",
       "      <td>2022-08-22</td>\n",
       "      <td>0.000098</td>\n",
       "    </tr>\n",
       "    <tr>\n",
       "      <th>3</th>\n",
       "      <td>2023-06-20</td>\n",
       "      <td>0.000096</td>\n",
       "    </tr>\n",
       "    <tr>\n",
       "      <th>4</th>\n",
       "      <td>2023-08-21</td>\n",
       "      <td>0.000093</td>\n",
       "    </tr>\n",
       "    <tr>\n",
       "      <th>5</th>\n",
       "      <td>2024-07-22</td>\n",
       "      <td>0.000090</td>\n",
       "    </tr>\n",
       "    <tr>\n",
       "      <th>6</th>\n",
       "      <td>2024-10-20</td>\n",
       "      <td>0.000084</td>\n",
       "    </tr>\n",
       "  </tbody>\n",
       "</table>\n",
       "</div>"
      ],
      "text/plain": [
       "        DATE       R_f\n",
       "0 2022-01-01  0.000102\n",
       "1 2022-01-20  0.000100\n",
       "2 2022-08-22  0.000098\n",
       "3 2023-06-20  0.000096\n",
       "4 2023-08-21  0.000093\n",
       "5 2024-07-22  0.000090\n",
       "6 2024-10-20  0.000084"
      ]
     },
     "metadata": {},
     "output_type": "display_data"
    }
   ],
   "source": [
    "def yearly_to_daily(R_f_y):\n",
    "    return ((R_f_y + 1) ** (1 / 365)) - 1\n",
    "R_f_df = R_f_df.sort_values(by='DATE')\n",
    "display(R_f_df)\n",
    "R_f_df['R_f'] = yearly_to_daily(R_f_df['R_f'])\n",
    "display(R_f_df)"
   ]
  },
  {
   "cell_type": "code",
   "execution_count": 16,
   "metadata": {},
   "outputs": [],
   "source": [
    "df = pd.merge_asof(df, R_f_df, on='DATE', direction='backward')"
   ]
  },
  {
   "cell_type": "code",
   "execution_count": 17,
   "metadata": {},
   "outputs": [
    {
     "name": "stdout",
     "output_type": "stream",
     "text": [
      "<class 'pandas.core.frame.DataFrame'>\n",
      "RangeIndex: 762 entries, 0 to 761\n",
      "Data columns (total 4 columns):\n",
      " #   Column        Non-Null Count  Dtype         \n",
      "---  ------        --------------  -----         \n",
      " 0   DATE          762 non-null    datetime64[ns]\n",
      " 1   i_pct_change  762 non-null    float64       \n",
      " 2   m_pct_change  762 non-null    float64       \n",
      " 3   R_f           762 non-null    float64       \n",
      "dtypes: datetime64[ns](1), float64(3)\n",
      "memory usage: 23.9 KB\n"
     ]
    },
    {
     "data": {
      "text/plain": [
       "None"
      ]
     },
     "metadata": {},
     "output_type": "display_data"
    },
    {
     "data": {
      "text/plain": [
       "array([1.02185453e-04, 9.95444864e-05, 9.82230507e-05, 9.55782710e-05,\n",
       "       9.29309430e-05, 9.02810618e-05, 8.36451557e-05])"
      ]
     },
     "metadata": {},
     "output_type": "display_data"
    }
   ],
   "source": [
    "display(df.info())\n",
    "display(df['R_f'].unique())"
   ]
  },
  {
   "cell_type": "markdown",
   "metadata": {},
   "source": [
    "## Getting R_i and R_m for each consecutive day. "
   ]
  },
  {
   "cell_type": "code",
   "execution_count": 18,
   "metadata": {},
   "outputs": [
    {
     "data": {
      "application/vnd.microsoft.datawrangler.viewer.v0+json": {
       "columns": [
        {
         "name": "index",
         "rawType": "int64",
         "type": "integer"
        },
        {
         "name": "DATE",
         "rawType": "datetime64[ns]",
         "type": "datetime"
        },
        {
         "name": "i_pct_change",
         "rawType": "float64",
         "type": "float"
        },
        {
         "name": "m_pct_change",
         "rawType": "float64",
         "type": "float"
        },
        {
         "name": "R_f",
         "rawType": "float64",
         "type": "float"
        }
       ],
       "conversionMethod": "pd.DataFrame",
       "ref": "56eb1a19-bea8-4ba0-809c-7c6274e63fe8",
       "rows": [
        [
         "0",
         "2022-01-04 00:00:00",
         "0.14079925650557623",
         "-0.0020468270060278737",
         "0.0001021854527523125"
        ],
        [
         "1",
         "2022-01-05 00:00:00",
         "-0.06496945010183308",
         "-0.010227594959709041",
         "0.0001021854527523125"
        ],
        [
         "2",
         "2022-01-06 00:00:00",
         "-0.01851448486168583",
         "-0.002531166728786838",
         "0.0001021854527523125"
        ],
        [
         "3",
         "2022-01-07 00:00:00",
         "-0.03084775854416333",
         "-0.0018237183777272126",
         "0.0001021854527523125"
        ],
        [
         "4",
         "2022-01-10 00:00:00",
         "0.016945271353331792",
         "0.003905529760807269",
         "0.0001021854527523125"
        ],
        [
         "5",
         "2022-01-11 00:00:00",
         "-0.042107633415897294",
         "-0.007257507958770226",
         "0.0001021854527523125"
        ],
        [
         "6",
         "2022-01-12 00:00:00",
         "0.005171603196991059",
         "0.008406588478012234",
         "0.0001021854527523125"
        ],
        [
         "7",
         "2022-01-13 00:00:00",
         "-0.04373246024321786",
         "-0.01172225727811227",
         "0.0001021854527523125"
        ],
        [
         "8",
         "2022-01-14 00:00:00",
         "-0.016385424309122043",
         "-0.009563294948892631",
         "0.0001021854527523125"
        ],
        [
         "9",
         "2022-01-17 00:00:00",
         "0.040775733465937325",
         "0.005796220671009822",
         "0.0001021854527523125"
        ],
        [
         "10",
         "2022-01-18 00:00:00",
         "0.010272336359292922",
         "0.00797363955422159",
         "0.0001021854527523125"
        ],
        [
         "11",
         "2022-01-19 00:00:00",
         "0.011113738472452006",
         "-0.003285797120935796",
         "0.0001021854527523125"
        ],
        [
         "12",
         "2022-01-20 00:00:00",
         "-0.03741814780168384",
         "-0.0008768527730468323",
         "9.954448640825397e-05"
        ],
        [
         "13",
         "2022-01-21 00:00:00",
         "-0.015549076773566428",
         "-0.009139086260147478",
         "9.954448640825397e-05"
        ],
        [
         "14",
         "2022-01-24 00:00:00",
         "0.01850937808489639",
         "0.0004371808083303286",
         "9.954448640825397e-05"
        ],
        [
         "15",
         "2022-01-25 00:00:00",
         "-0.05306518051853659",
         "-0.025836310444339206",
         "9.954448640825397e-05"
        ],
        [
         "16",
         "2022-01-26 00:00:00",
         "0.00972364380757429",
         "0.006585961212446145",
         "9.954448640825397e-05"
        ],
        [
         "17",
         "2022-01-27 00:00:00",
         "-0.046122655854029415",
         "-0.017773687881076583",
         "9.954448640825397e-05"
        ],
        [
         "18",
         "2022-01-28 00:00:00",
         "0.0",
         "-0.009666347499447614",
         "9.954448640825397e-05"
        ],
        [
         "19",
         "2022-02-07 00:00:00",
         "0.001328374070137972",
         "0.020271074301489778",
         "9.954448640825397e-05"
        ],
        [
         "20",
         "2022-02-08 00:00:00",
         "0.004245157866808347",
         "0.006720939590270536",
         "9.954448640825397e-05"
        ],
        [
         "21",
         "2022-02-09 00:00:00",
         "0.022457067371202122",
         "0.007912808496711055",
         "9.954448640825397e-05"
        ],
        [
         "22",
         "2022-02-10 00:00:00",
         "-0.003359173126615045",
         "0.001712668285463792",
         "9.954448640825397e-05"
        ],
        [
         "23",
         "2022-02-11 00:00:00",
         "-0.03837179154783499",
         "-0.006586515429256701",
         "9.954448640825397e-05"
        ],
        [
         "24",
         "2022-02-14 00:00:00",
         "-0.013480722566729608",
         "-0.009838432550282161",
         "9.954448640825397e-05"
        ],
        [
         "25",
         "2022-02-15 00:00:00",
         "0.01530472806777805",
         "0.005019131611488259",
         "9.954448640825397e-05"
        ],
        [
         "26",
         "2022-02-16 00:00:00",
         "0.0",
         "0.005728231125710526",
         "9.954448640825397e-05"
        ],
        [
         "27",
         "2022-02-17 00:00:00",
         "-0.00026917900403766737",
         "0.0006376538953152266",
         "9.954448640825397e-05"
        ],
        [
         "28",
         "2022-02-18 00:00:00",
         "0.001077005923532548",
         "0.00655125085062469",
         "9.954448640825397e-05"
        ],
        [
         "29",
         "2022-02-21 00:00:00",
         "0.01882732651963437",
         "-4.297058520208452e-05",
         "9.954448640825397e-05"
        ],
        [
         "30",
         "2022-02-22 00:00:00",
         "-0.025079197465681213",
         "-0.009585717109616976",
         "9.954448640825397e-05"
        ],
        [
         "31",
         "2022-02-23 00:00:00",
         "0.030327646899539706",
         "0.009256179222770111",
         "9.954448640825397e-05"
        ],
        [
         "32",
         "2022-02-24 00:00:00",
         "-0.04441524310118261",
         "-0.01696401702420358",
         "9.954448640825397e-05"
        ],
        [
         "33",
         "2022-02-25 00:00:00",
         "0.00990099009900991",
         "0.006253717244515844",
         "9.954448640825397e-05"
        ],
        [
         "34",
         "2022-02-28 00:00:00",
         "-0.03567538126361658",
         "0.0031581295760283457",
         "9.954448640825397e-05"
        ],
        [
         "35",
         "2022-03-01 00:00:00",
         "-0.023157300197684028",
         "0.007659626087785254",
         "9.954448640825397e-05"
        ],
        [
         "36",
         "2022-03-02 00:00:00",
         "-0.017056952876554066",
         "-0.0013299587540808178",
         "9.954448640825397e-05"
        ],
        [
         "37",
         "2022-03-03 00:00:00",
         "-0.0373529411764707",
         "-0.0008839931232222931",
         "9.954448640825397e-05"
        ],
        [
         "38",
         "2022-03-04 00:00:00",
         "-0.013443324167430437",
         "-0.009611876671521413",
         "9.954448640825397e-05"
        ],
        [
         "39",
         "2022-03-07 00:00:00",
         "-0.037472901827191096",
         "-0.02169303728626748",
         "9.954448640825397e-05"
        ],
        [
         "40",
         "2022-03-08 00:00:00",
         "-0.020270270270270285",
         "-0.0235200986699714",
         "9.954448640825397e-05"
        ],
        [
         "41",
         "2022-03-09 00:00:00",
         "-0.013793103448275779",
         "-0.011276654531763852",
         "9.954448640825397e-05"
        ],
        [
         "42",
         "2022-03-10 00:00:00",
         "-0.00532800532800537",
         "0.012191414419034707",
         "9.954448640825397e-05"
        ],
        [
         "43",
         "2022-03-11 00:00:00",
         "0.014395714763977274",
         "0.004144304312078795",
         "9.954448640825397e-05"
        ],
        [
         "44",
         "2022-03-14 00:00:00",
         "-0.027062706270627124",
         "-0.026050305914343874",
         "9.954448640825397e-05"
        ],
        [
         "45",
         "2022-03-15 00:00:00",
         "-0.04579375848032574",
         "-0.04949853111340685",
         "9.954448640825397e-05"
        ],
        [
         "46",
         "2022-03-16 00:00:00",
         "0.02275151084251692",
         "0.03483715571627677",
         "9.954448640825397e-05"
        ],
        [
         "47",
         "2022-03-17 00:00:00",
         "0.020507473062217674",
         "0.013981095716732117",
         "9.954448640825397e-05"
        ],
        [
         "48",
         "2022-03-18 00:00:00",
         "-0.003065395095367851",
         "0.011206703493580328",
         "9.954448640825397e-05"
        ],
        [
         "49",
         "2022-03-21 00:00:00",
         "0.0010249402118209794",
         "0.000805888522855458",
         "9.954448640825397e-05"
        ]
       ],
       "shape": {
        "columns": 4,
        "rows": 762
       }
      },
      "text/html": [
       "<div>\n",
       "<style scoped>\n",
       "    .dataframe tbody tr th:only-of-type {\n",
       "        vertical-align: middle;\n",
       "    }\n",
       "\n",
       "    .dataframe tbody tr th {\n",
       "        vertical-align: top;\n",
       "    }\n",
       "\n",
       "    .dataframe thead th {\n",
       "        text-align: right;\n",
       "    }\n",
       "</style>\n",
       "<table border=\"1\" class=\"dataframe\">\n",
       "  <thead>\n",
       "    <tr style=\"text-align: right;\">\n",
       "      <th></th>\n",
       "      <th>DATE</th>\n",
       "      <th>i_pct_change</th>\n",
       "      <th>m_pct_change</th>\n",
       "      <th>R_f</th>\n",
       "    </tr>\n",
       "  </thead>\n",
       "  <tbody>\n",
       "    <tr>\n",
       "      <th>0</th>\n",
       "      <td>2022-01-04</td>\n",
       "      <td>0.140799</td>\n",
       "      <td>-0.002047</td>\n",
       "      <td>0.000102</td>\n",
       "    </tr>\n",
       "    <tr>\n",
       "      <th>1</th>\n",
       "      <td>2022-01-05</td>\n",
       "      <td>-0.064969</td>\n",
       "      <td>-0.010228</td>\n",
       "      <td>0.000102</td>\n",
       "    </tr>\n",
       "    <tr>\n",
       "      <th>2</th>\n",
       "      <td>2022-01-06</td>\n",
       "      <td>-0.018514</td>\n",
       "      <td>-0.002531</td>\n",
       "      <td>0.000102</td>\n",
       "    </tr>\n",
       "    <tr>\n",
       "      <th>3</th>\n",
       "      <td>2022-01-07</td>\n",
       "      <td>-0.030848</td>\n",
       "      <td>-0.001824</td>\n",
       "      <td>0.000102</td>\n",
       "    </tr>\n",
       "    <tr>\n",
       "      <th>4</th>\n",
       "      <td>2022-01-10</td>\n",
       "      <td>0.016945</td>\n",
       "      <td>0.003906</td>\n",
       "      <td>0.000102</td>\n",
       "    </tr>\n",
       "    <tr>\n",
       "      <th>...</th>\n",
       "      <td>...</td>\n",
       "      <td>...</td>\n",
       "      <td>...</td>\n",
       "      <td>...</td>\n",
       "    </tr>\n",
       "    <tr>\n",
       "      <th>757</th>\n",
       "      <td>2025-02-24</td>\n",
       "      <td>-0.019423</td>\n",
       "      <td>-0.001799</td>\n",
       "      <td>0.000084</td>\n",
       "    </tr>\n",
       "    <tr>\n",
       "      <th>758</th>\n",
       "      <td>2025-02-25</td>\n",
       "      <td>0.052066</td>\n",
       "      <td>-0.008002</td>\n",
       "      <td>0.000084</td>\n",
       "    </tr>\n",
       "    <tr>\n",
       "      <th>759</th>\n",
       "      <td>2025-02-26</td>\n",
       "      <td>-0.006455</td>\n",
       "      <td>0.010212</td>\n",
       "      <td>0.000084</td>\n",
       "    </tr>\n",
       "    <tr>\n",
       "      <th>760</th>\n",
       "      <td>2025-02-27</td>\n",
       "      <td>-0.018228</td>\n",
       "      <td>0.002322</td>\n",
       "      <td>0.000084</td>\n",
       "    </tr>\n",
       "    <tr>\n",
       "      <th>761</th>\n",
       "      <td>2025-02-28</td>\n",
       "      <td>-0.114890</td>\n",
       "      <td>-0.019823</td>\n",
       "      <td>0.000084</td>\n",
       "    </tr>\n",
       "  </tbody>\n",
       "</table>\n",
       "<p>762 rows × 4 columns</p>\n",
       "</div>"
      ],
      "text/plain": [
       "          DATE  i_pct_change  m_pct_change       R_f\n",
       "0   2022-01-04      0.140799     -0.002047  0.000102\n",
       "1   2022-01-05     -0.064969     -0.010228  0.000102\n",
       "2   2022-01-06     -0.018514     -0.002531  0.000102\n",
       "3   2022-01-07     -0.030848     -0.001824  0.000102\n",
       "4   2022-01-10      0.016945      0.003906  0.000102\n",
       "..         ...           ...           ...       ...\n",
       "757 2025-02-24     -0.019423     -0.001799  0.000084\n",
       "758 2025-02-25      0.052066     -0.008002  0.000084\n",
       "759 2025-02-26     -0.006455      0.010212  0.000084\n",
       "760 2025-02-27     -0.018228      0.002322  0.000084\n",
       "761 2025-02-28     -0.114890     -0.019823  0.000084\n",
       "\n",
       "[762 rows x 4 columns]"
      ]
     },
     "metadata": {},
     "output_type": "display_data"
    },
    {
     "name": "stdout",
     "output_type": "stream",
     "text": [
      "E(R_i):  0.0008267767027481573\n",
      "E(R_m):  -6.443108356686847e-05\n"
     ]
    }
   ],
   "source": [
    "E_R_i = df['i_pct_change'].mean()\n",
    "E_R_m = df['m_pct_change'].mean()\n",
    "display(df)\n",
    "print(f\"E(R_i): \", E_R_i)\n",
    "print(f\"E(R_m): \", E_R_m)"
   ]
  },
  {
   "cell_type": "code",
   "execution_count": 19,
   "metadata": {},
   "outputs": [
    {
     "data": {
      "application/vnd.microsoft.datawrangler.viewer.v0+json": {
       "columns": [
        {
         "name": "index",
         "rawType": "int64",
         "type": "integer"
        },
        {
         "name": "DATE",
         "rawType": "datetime64[ns]",
         "type": "datetime"
        },
        {
         "name": "i_pct_change",
         "rawType": "float64",
         "type": "float"
        },
        {
         "name": "m_pct_change",
         "rawType": "float64",
         "type": "float"
        },
        {
         "name": "R_f",
         "rawType": "float64",
         "type": "float"
        }
       ],
       "conversionMethod": "pd.DataFrame",
       "ref": "6ebff90a-cada-4631-a806-fe589bbf59d2",
       "rows": [
        [
         "0",
         "2022-01-04 00:00:00",
         "0.14079925650557623",
         "-0.0020468270060278737",
         "0.0001021854527523125"
        ],
        [
         "1",
         "2022-01-05 00:00:00",
         "-0.06496945010183308",
         "-0.010227594959709041",
         "0.0001021854527523125"
        ],
        [
         "2",
         "2022-01-06 00:00:00",
         "-0.01851448486168583",
         "-0.002531166728786838",
         "0.0001021854527523125"
        ],
        [
         "3",
         "2022-01-07 00:00:00",
         "-0.03084775854416333",
         "-0.0018237183777272126",
         "0.0001021854527523125"
        ],
        [
         "4",
         "2022-01-10 00:00:00",
         "0.016945271353331792",
         "0.003905529760807269",
         "0.0001021854527523125"
        ]
       ],
       "shape": {
        "columns": 4,
        "rows": 5
       }
      },
      "text/html": [
       "<div>\n",
       "<style scoped>\n",
       "    .dataframe tbody tr th:only-of-type {\n",
       "        vertical-align: middle;\n",
       "    }\n",
       "\n",
       "    .dataframe tbody tr th {\n",
       "        vertical-align: top;\n",
       "    }\n",
       "\n",
       "    .dataframe thead th {\n",
       "        text-align: right;\n",
       "    }\n",
       "</style>\n",
       "<table border=\"1\" class=\"dataframe\">\n",
       "  <thead>\n",
       "    <tr style=\"text-align: right;\">\n",
       "      <th></th>\n",
       "      <th>DATE</th>\n",
       "      <th>i_pct_change</th>\n",
       "      <th>m_pct_change</th>\n",
       "      <th>R_f</th>\n",
       "    </tr>\n",
       "  </thead>\n",
       "  <tbody>\n",
       "    <tr>\n",
       "      <th>0</th>\n",
       "      <td>2022-01-04</td>\n",
       "      <td>0.140799</td>\n",
       "      <td>-0.002047</td>\n",
       "      <td>0.000102</td>\n",
       "    </tr>\n",
       "    <tr>\n",
       "      <th>1</th>\n",
       "      <td>2022-01-05</td>\n",
       "      <td>-0.064969</td>\n",
       "      <td>-0.010228</td>\n",
       "      <td>0.000102</td>\n",
       "    </tr>\n",
       "    <tr>\n",
       "      <th>2</th>\n",
       "      <td>2022-01-06</td>\n",
       "      <td>-0.018514</td>\n",
       "      <td>-0.002531</td>\n",
       "      <td>0.000102</td>\n",
       "    </tr>\n",
       "    <tr>\n",
       "      <th>3</th>\n",
       "      <td>2022-01-07</td>\n",
       "      <td>-0.030848</td>\n",
       "      <td>-0.001824</td>\n",
       "      <td>0.000102</td>\n",
       "    </tr>\n",
       "    <tr>\n",
       "      <th>4</th>\n",
       "      <td>2022-01-10</td>\n",
       "      <td>0.016945</td>\n",
       "      <td>0.003906</td>\n",
       "      <td>0.000102</td>\n",
       "    </tr>\n",
       "  </tbody>\n",
       "</table>\n",
       "</div>"
      ],
      "text/plain": [
       "        DATE  i_pct_change  m_pct_change       R_f\n",
       "0 2022-01-04      0.140799     -0.002047  0.000102\n",
       "1 2022-01-05     -0.064969     -0.010228  0.000102\n",
       "2 2022-01-06     -0.018514     -0.002531  0.000102\n",
       "3 2022-01-07     -0.030848     -0.001824  0.000102\n",
       "4 2022-01-10      0.016945      0.003906  0.000102"
      ]
     },
     "metadata": {},
     "output_type": "display_data"
    },
    {
     "name": "stdout",
     "output_type": "stream",
     "text": [
      "<class 'pandas.core.frame.DataFrame'>\n",
      "RangeIndex: 762 entries, 0 to 761\n",
      "Data columns (total 4 columns):\n",
      " #   Column        Non-Null Count  Dtype         \n",
      "---  ------        --------------  -----         \n",
      " 0   DATE          762 non-null    datetime64[ns]\n",
      " 1   i_pct_change  762 non-null    float64       \n",
      " 2   m_pct_change  762 non-null    float64       \n",
      " 3   R_f           762 non-null    float64       \n",
      "dtypes: datetime64[ns](1), float64(3)\n",
      "memory usage: 23.9 KB\n"
     ]
    },
    {
     "data": {
      "text/plain": [
       "None"
      ]
     },
     "metadata": {},
     "output_type": "display_data"
    }
   ],
   "source": [
    "df.dropna(inplace = True)\n",
    "display(df.head())\n",
    "display(df.info())"
   ]
  },
  {
   "cell_type": "markdown",
   "metadata": {},
   "source": [
    "## Get excess_return_i and excess_return_m"
   ]
  },
  {
   "cell_type": "code",
   "execution_count": 20,
   "metadata": {},
   "outputs": [
    {
     "data": {
      "application/vnd.microsoft.datawrangler.viewer.v0+json": {
       "columns": [
        {
         "name": "index",
         "rawType": "int64",
         "type": "integer"
        },
        {
         "name": "DATE",
         "rawType": "datetime64[ns]",
         "type": "datetime"
        },
        {
         "name": "i_pct_change",
         "rawType": "float64",
         "type": "float"
        },
        {
         "name": "m_pct_change",
         "rawType": "float64",
         "type": "float"
        },
        {
         "name": "R_f",
         "rawType": "float64",
         "type": "float"
        },
        {
         "name": "excess_return_i",
         "rawType": "float64",
         "type": "float"
        },
        {
         "name": "excess_return_m",
         "rawType": "float64",
         "type": "float"
        }
       ],
       "conversionMethod": "pd.DataFrame",
       "ref": "feebe854-afe1-4ad1-8181-97680de36aa0",
       "rows": [
        [
         "0",
         "2022-01-04 00:00:00",
         "0.14079925650557623",
         "-0.0020468270060278737",
         "0.0001021854527523125",
         "0.14069707105282392",
         "-0.002149012458780186"
        ],
        [
         "1",
         "2022-01-05 00:00:00",
         "-0.06496945010183308",
         "-0.010227594959709041",
         "0.0001021854527523125",
         "-0.0650716355545854",
         "-0.010329780412461353"
        ],
        [
         "2",
         "2022-01-06 00:00:00",
         "-0.01851448486168583",
         "-0.002531166728786838",
         "0.0001021854527523125",
         "-0.018616670314438144",
         "-0.0026333521815391503"
        ],
        [
         "3",
         "2022-01-07 00:00:00",
         "-0.03084775854416333",
         "-0.0018237183777272126",
         "0.0001021854527523125",
         "-0.03094994399691564",
         "-0.001925903830479525"
        ],
        [
         "4",
         "2022-01-10 00:00:00",
         "0.016945271353331792",
         "0.003905529760807269",
         "0.0001021854527523125",
         "0.01684308590057948",
         "0.0038033443080549567"
        ]
       ],
       "shape": {
        "columns": 6,
        "rows": 5
       }
      },
      "text/html": [
       "<div>\n",
       "<style scoped>\n",
       "    .dataframe tbody tr th:only-of-type {\n",
       "        vertical-align: middle;\n",
       "    }\n",
       "\n",
       "    .dataframe tbody tr th {\n",
       "        vertical-align: top;\n",
       "    }\n",
       "\n",
       "    .dataframe thead th {\n",
       "        text-align: right;\n",
       "    }\n",
       "</style>\n",
       "<table border=\"1\" class=\"dataframe\">\n",
       "  <thead>\n",
       "    <tr style=\"text-align: right;\">\n",
       "      <th></th>\n",
       "      <th>DATE</th>\n",
       "      <th>i_pct_change</th>\n",
       "      <th>m_pct_change</th>\n",
       "      <th>R_f</th>\n",
       "      <th>excess_return_i</th>\n",
       "      <th>excess_return_m</th>\n",
       "    </tr>\n",
       "  </thead>\n",
       "  <tbody>\n",
       "    <tr>\n",
       "      <th>0</th>\n",
       "      <td>2022-01-04</td>\n",
       "      <td>0.140799</td>\n",
       "      <td>-0.002047</td>\n",
       "      <td>0.000102</td>\n",
       "      <td>0.140697</td>\n",
       "      <td>-0.002149</td>\n",
       "    </tr>\n",
       "    <tr>\n",
       "      <th>1</th>\n",
       "      <td>2022-01-05</td>\n",
       "      <td>-0.064969</td>\n",
       "      <td>-0.010228</td>\n",
       "      <td>0.000102</td>\n",
       "      <td>-0.065072</td>\n",
       "      <td>-0.010330</td>\n",
       "    </tr>\n",
       "    <tr>\n",
       "      <th>2</th>\n",
       "      <td>2022-01-06</td>\n",
       "      <td>-0.018514</td>\n",
       "      <td>-0.002531</td>\n",
       "      <td>0.000102</td>\n",
       "      <td>-0.018617</td>\n",
       "      <td>-0.002633</td>\n",
       "    </tr>\n",
       "    <tr>\n",
       "      <th>3</th>\n",
       "      <td>2022-01-07</td>\n",
       "      <td>-0.030848</td>\n",
       "      <td>-0.001824</td>\n",
       "      <td>0.000102</td>\n",
       "      <td>-0.030950</td>\n",
       "      <td>-0.001926</td>\n",
       "    </tr>\n",
       "    <tr>\n",
       "      <th>4</th>\n",
       "      <td>2022-01-10</td>\n",
       "      <td>0.016945</td>\n",
       "      <td>0.003906</td>\n",
       "      <td>0.000102</td>\n",
       "      <td>0.016843</td>\n",
       "      <td>0.003803</td>\n",
       "    </tr>\n",
       "  </tbody>\n",
       "</table>\n",
       "</div>"
      ],
      "text/plain": [
       "        DATE  i_pct_change  m_pct_change       R_f  excess_return_i  \\\n",
       "0 2022-01-04      0.140799     -0.002047  0.000102         0.140697   \n",
       "1 2022-01-05     -0.064969     -0.010228  0.000102        -0.065072   \n",
       "2 2022-01-06     -0.018514     -0.002531  0.000102        -0.018617   \n",
       "3 2022-01-07     -0.030848     -0.001824  0.000102        -0.030950   \n",
       "4 2022-01-10      0.016945      0.003906  0.000102         0.016843   \n",
       "\n",
       "   excess_return_m  \n",
       "0        -0.002149  \n",
       "1        -0.010330  \n",
       "2        -0.002633  \n",
       "3        -0.001926  \n",
       "4         0.003803  "
      ]
     },
     "metadata": {},
     "output_type": "display_data"
    }
   ],
   "source": [
    "df['excess_return_i'] = df['i_pct_change'] - df['R_f']\n",
    "df['excess_return_m'] = df['m_pct_change'] - df['R_f']\n",
    "display(df.head())"
   ]
  },
  {
   "cell_type": "markdown",
   "metadata": {},
   "source": [
    "# Fitting the CAPM model"
   ]
  },
  {
   "cell_type": "code",
   "execution_count": 21,
   "metadata": {},
   "outputs": [],
   "source": [
    "X = sm.add_constant(df['excess_return_m'])\n",
    "capm_model = sm.OLS(df['excess_return_i'], X).fit()"
   ]
  },
  {
   "cell_type": "code",
   "execution_count": 22,
   "metadata": {},
   "outputs": [
    {
     "name": "stdout",
     "output_type": "stream",
     "text": [
      "Alpha: 0.0010168219608205793\n",
      "Beta: 1.790064109431308\n"
     ]
    }
   ],
   "source": [
    "alpha = capm_model.params['const']\n",
    "beta = capm_model.params['excess_return_m']\n",
    "Alpha_TAG_5 = alpha\n",
    "Beta_TAG_6 = beta\n",
    "print(\"Alpha:\", alpha)\n",
    "print(\"Beta:\", beta)"
   ]
  },
  {
   "cell_type": "markdown",
   "metadata": {},
   "source": [
    "# Checking the model and the regression line."
   ]
  },
  {
   "cell_type": "code",
   "execution_count": 23,
   "metadata": {},
   "outputs": [
    {
     "name": "stdout",
     "output_type": "stream",
     "text": [
      "Figure Saved to :d:\\Important Files\\Repositories\\Machine-Learning-Project-related\\Dissertation Project 1\\Output\\Output Figure\\688088.png. \n"
     ]
    },
    {
     "data": {
      "image/png": "[encoded data removed]",
      "text/plain": [
       "<Figure size 640x480 with 1 Axes>"
      ]
     },
     "metadata": {},
     "output_type": "display_data"
    }
   ],
   "source": [
    "import matplotlib.pyplot as plt\n",
    "import numpy as np\n",
    "\n",
    "# Extract x (market returns) and y (stock returns)\n",
    "x = df['excess_return_m']\n",
    "y = df['excess_return_i']\n",
    "\n",
    "# Plot scatter points\n",
    "plt.scatter(x, y, color='blue', label='Data Points')\n",
    "# plt.rcParams['font.family'] = 'Arial Unicode MS'\n",
    "\n",
    "# Create a line for the CAPM regression\n",
    "x_line = np.linspace(x.min(), x.max(), 100)\n",
    "y_line = alpha + beta * x_line\n",
    "\n",
    "# Plot the CAPM regression line\n",
    "plt.plot(x_line, y_line, color='red', label=f'CAPM Fit: y = {alpha:.4f} + {beta:.4f}x')\n",
    "\n",
    "# Labeling the plot\n",
    "plt.xlabel('Market Excess Returns (E(R_m) - R_f)')\n",
    "plt.ylabel('Stock Excess Returns (E(R_i) - R_f)')\n",
    "plt.title('CAPM Scatter Plot with Regression Line (Excess Returns)')\n",
    "plt.suptitle(f\"Stock ID: {Stock_ID_TAG_2}\")\n",
    "plt.legend()\n",
    "plt.tight_layout()\n",
    "\n",
    "output_directory = os.path.join(current_dir, 'Output')\n",
    "output_img_directory = os.path.join(output_directory, 'Output Figure')\n",
    "os.makedirs(output_img_directory, exist_ok=True)\n",
    "output_img = os.path.join(output_img_directory, Stock_ID_TAG_2 + \".png\")\n",
    "if os.path.exists(output_img):\n",
    "    os.remove(output_img)\n",
    "    print(f\"Deleted existing file: {output_img}.\")\n",
    "    plt.savefig(output_img)\n",
    "    print(f\"Recreated a new image at: {output_img}.\")\n",
    "else:\n",
    "    plt.savefig(output_img)\n",
    "    print(f\"Figure Saved to :{output_img}. \")\n",
    "\n",
    "plt.show()"
   ]
  },
  {
   "cell_type": "markdown",
   "metadata": {},
   "source": [
    "# Storing all of the data into a output file."
   ]
  },
  {
   "cell_type": "code",
   "execution_count": 24,
   "metadata": {},
   "outputs": [
    {
     "name": "stdout",
     "output_type": "stream",
     "text": [
      "d:\\Important Files\\Repositories\\Machine-Learning-Project-related\\Dissertation Project 1\\Output\\Output CSV\n"
     ]
    }
   ],
   "source": [
    "output_csv_directory = os.path.join(output_directory, 'Output CSV')\n",
    "print(output_csv_directory)\n",
    "os.makedirs(output_csv_directory, exist_ok=True)"
   ]
  },
  {
   "cell_type": "code",
   "execution_count": 25,
   "metadata": {},
   "outputs": [],
   "source": [
    "csv_path = os.path.join(output_csv_directory, 'output_history.csv')\n",
    "header = ['Run Date', 'Stock ID', 'Stock Name', 'Sample Range', 'Alpha', 'Beta']"
   ]
  },
  {
   "cell_type": "code",
   "execution_count": 26,
   "metadata": {},
   "outputs": [
    {
     "name": "stdout",
     "output_type": "stream",
     "text": [
      "Data appended successfully!\n"
     ]
    }
   ],
   "source": [
    "csv_file_exists = os.path.isfile(csv_path)\n",
    "with open(csv_path, 'a', newline = '', encoding = 'utf-8') as f:\n",
    "    writer = csv.DictWriter(f, fieldnames = header)\n",
    "    if not csv_file_exists:\n",
    "        writer.writeheader()  # Write header if file is new\n",
    "    # Append the new data as a row\n",
    "    writer.writerow({\n",
    "        'Run Date': Current_Date_TAG_1,\n",
    "        'Stock ID': Stock_ID_TAG_2,\n",
    "        'Stock Name': Stock_Name_TAG_3,\n",
    "        'Sample Range': Sample_Range_TAG_4,\n",
    "        'Alpha': Alpha_TAG_5,\n",
    "        'Beta': Beta_TAG_6\n",
    "    })\n",
    "print(\"Data appended successfully!\")"
   ]
  },
  {
   "cell_type": "markdown",
   "metadata": {},
   "source": [
    "## Getting all the columns"
   ]
  },
  {
   "cell_type": "code",
   "execution_count": 27,
   "metadata": {},
   "outputs": [
    {
     "name": "stdout",
     "output_type": "stream",
     "text": [
      "Column 1: 2025-03-01\n",
      "Column 2: 688088\n",
      "Column 3: 虹软科技\n",
      "Column 4: 2022-01-01 to 2025-02-28\n",
      "Column 5: 0.0010168219608205793\n",
      "Column 6: 1.790064109431308\n"
     ]
    }
   ],
   "source": [
    "print(f\"Column 1: {Current_Date_TAG_1}\")\n",
    "print(f\"Column 2: {Stock_ID_TAG_2}\")\n",
    "print(f\"Column 3: {Stock_Name_TAG_3}\")\n",
    "print(f\"Column 4: {Sample_Range_TAG_4}\")\n",
    "print(f\"Column 5: {Alpha_TAG_5}\")\n",
    "print(f\"Column 6: {Beta_TAG_6}\")"
   ]
  }
 ],
 "metadata": {
  "kernelspec": {
   "display_name": ".venv",
   "language": "python",
   "name": "python3"
  },
  "language_info": {
   "codemirror_mode": {
    "name": "ipython",
    "version": 3
   },
   "file_extension": ".py",
   "mimetype": "text/x-python",
   "name": "python",
   "nbconvert_exporter": "python",
   "pygments_lexer": "ipython3",
   "version": "3.11.8"
  }
 },
 "nbformat": 4,
 "nbformat_minor": 2
}
