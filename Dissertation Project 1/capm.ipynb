{
 "cells": [
  {
   "cell_type": "markdown",
   "metadata": {},
   "source": [
    "This project is used to culculate the estimate alpha and beta in capm formala."
   ]
  },
  {
   "cell_type": "markdown",
   "metadata": {},
   "source": [
    "## Getting the data.\n",
    "Including a single stock's closing price and a index's closing price."
   ]
  },
  {
   "cell_type": "code",
   "execution_count": 4,
   "metadata": {},
   "outputs": [],
   "source": [
    "import pandas as pd"
   ]
  },
  {
   "cell_type": "code",
   "execution_count": 14,
   "metadata": {},
   "outputs": [
    {
     "data": {
      "application/vnd.microsoft.datawrangler.viewer.v0+json": {
       "columns": [
        {
         "name": "index",
         "rawType": "int64",
         "type": "integer"
        },
        {
         "name": "ID",
         "rawType": "int64",
         "type": "integer"
        },
        {
         "name": "NAME",
         "rawType": "object",
         "type": "string"
        },
        {
         "name": "DATE",
         "rawType": "object",
         "type": "string"
        },
        {
         "name": "OPENING",
         "rawType": "float64",
         "type": "float"
        },
        {
         "name": "HIGHEST",
         "rawType": "float64",
         "type": "float"
        },
        {
         "name": "LOWEST",
         "rawType": "float64",
         "type": "float"
        },
        {
         "name": "CLOSING",
         "rawType": "float64",
         "type": "float"
        },
        {
         "name": "PRICE_CHANGE",
         "rawType": "object",
         "type": "string"
        },
        {
         "name": "PERCENTAGE_CHANGE",
         "rawType": "object",
         "type": "string"
        },
        {
         "name": "TRADING_VOLUME",
         "rawType": "object",
         "type": "string"
        },
        {
         "name": "TRANSACTION_AMOUNT",
         "rawType": "object",
         "type": "string"
        }
       ],
       "conversionMethod": "pd.DataFrame",
       "ref": "78fe64ce-138a-479b-be1f-3092124e8f83",
       "rows": [
        [
         "0",
         "600873",
         "????",
         "1995-02-17",
         "0.83",
         "0.95",
         "0.83",
         "0.9",
         "--",
         "--",
         "11,954,900",
         "69,198,000"
        ],
        [
         "1",
         "600873",
         "????",
         "1995-02-20",
         "0.88",
         "0.9",
         "0.86",
         "0.87",
         "-0.0287",
         "-3.1825",
         "3,859,200",
         "22,417,000"
        ],
        [
         "2",
         "600873",
         "????",
         "1995-02-21",
         "0.87",
         "0.89",
         "0.85",
         "0.89",
         "0.0180",
         "2.0616",
         "2,091,500",
         "12,031,000"
        ],
        [
         "3",
         "600873",
         "????",
         "1995-02-22",
         "0.89",
         "1.32",
         "0.88",
         "1.26",
         "0.3698",
         "41.4993",
         "16,299,000",
         "118,230,000"
        ],
        [
         "4",
         "600873",
         "????",
         "1995-02-23",
         "1.21",
         "1.51",
         "1.18",
         "1.51",
         "0.2531",
         "20.0730",
         "18,309,200",
         "158,378,000"
        ]
       ],
       "shape": {
        "columns": 11,
        "rows": 5
       }
      },
      "text/html": [
       "<div>\n",
       "<style scoped>\n",
       "    .dataframe tbody tr th:only-of-type {\n",
       "        vertical-align: middle;\n",
       "    }\n",
       "\n",
       "    .dataframe tbody tr th {\n",
       "        vertical-align: top;\n",
       "    }\n",
       "\n",
       "    .dataframe thead th {\n",
       "        text-align: right;\n",
       "    }\n",
       "</style>\n",
       "<table border=\"1\" class=\"dataframe\">\n",
       "  <thead>\n",
       "    <tr style=\"text-align: right;\">\n",
       "      <th></th>\n",
       "      <th>ID</th>\n",
       "      <th>NAME</th>\n",
       "      <th>DATE</th>\n",
       "      <th>OPENING</th>\n",
       "      <th>HIGHEST</th>\n",
       "      <th>LOWEST</th>\n",
       "      <th>CLOSING</th>\n",
       "      <th>PRICE_CHANGE</th>\n",
       "      <th>PERCENTAGE_CHANGE</th>\n",
       "      <th>TRADING_VOLUME</th>\n",
       "      <th>TRANSACTION_AMOUNT</th>\n",
       "    </tr>\n",
       "  </thead>\n",
       "  <tbody>\n",
       "    <tr>\n",
       "      <th>0</th>\n",
       "      <td>600873</td>\n",
       "      <td>????</td>\n",
       "      <td>1995-02-17</td>\n",
       "      <td>0.83</td>\n",
       "      <td>0.95</td>\n",
       "      <td>0.83</td>\n",
       "      <td>0.90</td>\n",
       "      <td>--</td>\n",
       "      <td>--</td>\n",
       "      <td>11,954,900</td>\n",
       "      <td>69,198,000</td>\n",
       "    </tr>\n",
       "    <tr>\n",
       "      <th>1</th>\n",
       "      <td>600873</td>\n",
       "      <td>????</td>\n",
       "      <td>1995-02-20</td>\n",
       "      <td>0.88</td>\n",
       "      <td>0.90</td>\n",
       "      <td>0.86</td>\n",
       "      <td>0.87</td>\n",
       "      <td>-0.0287</td>\n",
       "      <td>-3.1825</td>\n",
       "      <td>3,859,200</td>\n",
       "      <td>22,417,000</td>\n",
       "    </tr>\n",
       "    <tr>\n",
       "      <th>2</th>\n",
       "      <td>600873</td>\n",
       "      <td>????</td>\n",
       "      <td>1995-02-21</td>\n",
       "      <td>0.87</td>\n",
       "      <td>0.89</td>\n",
       "      <td>0.85</td>\n",
       "      <td>0.89</td>\n",
       "      <td>0.0180</td>\n",
       "      <td>2.0616</td>\n",
       "      <td>2,091,500</td>\n",
       "      <td>12,031,000</td>\n",
       "    </tr>\n",
       "    <tr>\n",
       "      <th>3</th>\n",
       "      <td>600873</td>\n",
       "      <td>????</td>\n",
       "      <td>1995-02-22</td>\n",
       "      <td>0.89</td>\n",
       "      <td>1.32</td>\n",
       "      <td>0.88</td>\n",
       "      <td>1.26</td>\n",
       "      <td>0.3698</td>\n",
       "      <td>41.4993</td>\n",
       "      <td>16,299,000</td>\n",
       "      <td>118,230,000</td>\n",
       "    </tr>\n",
       "    <tr>\n",
       "      <th>4</th>\n",
       "      <td>600873</td>\n",
       "      <td>????</td>\n",
       "      <td>1995-02-23</td>\n",
       "      <td>1.21</td>\n",
       "      <td>1.51</td>\n",
       "      <td>1.18</td>\n",
       "      <td>1.51</td>\n",
       "      <td>0.2531</td>\n",
       "      <td>20.0730</td>\n",
       "      <td>18,309,200</td>\n",
       "      <td>158,378,000</td>\n",
       "    </tr>\n",
       "  </tbody>\n",
       "</table>\n",
       "</div>"
      ],
      "text/plain": [
       "       ID  NAME        DATE  OPENING  HIGHEST  LOWEST  CLOSING PRICE_CHANGE  \\\n",
       "0  600873  ????  1995-02-17     0.83     0.95    0.83     0.90           --   \n",
       "1  600873  ????  1995-02-20     0.88     0.90    0.86     0.87      -0.0287   \n",
       "2  600873  ????  1995-02-21     0.87     0.89    0.85     0.89       0.0180   \n",
       "3  600873  ????  1995-02-22     0.89     1.32    0.88     1.26       0.3698   \n",
       "4  600873  ????  1995-02-23     1.21     1.51    1.18     1.51       0.2531   \n",
       "\n",
       "  PERCENTAGE_CHANGE TRADING_VOLUME TRANSACTION_AMOUNT  \n",
       "0                --     11,954,900         69,198,000  \n",
       "1           -3.1825      3,859,200         22,417,000  \n",
       "2            2.0616      2,091,500         12,031,000  \n",
       "3           41.4993     16,299,000        118,230,000  \n",
       "4           20.0730     18,309,200        158,378,000  "
      ]
     },
     "metadata": {},
     "output_type": "display_data"
    },
    {
     "data": {
      "application/vnd.microsoft.datawrangler.viewer.v0+json": {
       "columns": [
        {
         "name": "index",
         "rawType": "int64",
         "type": "integer"
        },
        {
         "name": "ID",
         "rawType": "int64",
         "type": "integer"
        },
        {
         "name": "NAME",
         "rawType": "object",
         "type": "string"
        },
        {
         "name": "DATE",
         "rawType": "object",
         "type": "string"
        },
        {
         "name": "OPENING",
         "rawType": "object",
         "type": "string"
        },
        {
         "name": "HIGHEST",
         "rawType": "object",
         "type": "string"
        },
        {
         "name": "LOWEST",
         "rawType": "object",
         "type": "string"
        },
        {
         "name": "CLOSING",
         "rawType": "object",
         "type": "string"
        },
        {
         "name": "PRICE_CHANGE",
         "rawType": "object",
         "type": "string"
        },
        {
         "name": "PERCENTAGE_CHANGE",
         "rawType": "object",
         "type": "string"
        },
        {
         "name": "TRADING_VOLUME",
         "rawType": "object",
         "type": "string"
        },
        {
         "name": "TRANSACTION_AMOUNT",
         "rawType": "object",
         "type": "string"
        }
       ],
       "conversionMethod": "pd.DataFrame",
       "ref": "c1bf99d8-ae0a-4afe-82bd-675f4f3a4713",
       "rows": [
        [
         "0",
         "1",
         "????",
         "1990-12-19",
         "96.0500",
         "99.9800",
         "95.7900",
         "99.9800",
         "--",
         "--",
         "126,000",
         "494,000"
        ],
        [
         "1",
         "1",
         "????",
         "1990-12-20",
         "104.3000",
         "104.3900",
         "99.9800",
         "104.3900",
         "4.4100",
         "4.4109",
         "19,700",
         "84,000"
        ],
        [
         "2",
         "1",
         "????",
         "1990-12-21",
         "109.0700",
         "109.1300",
         "103.7300",
         "109.1300",
         "4.7400",
         "4.5407",
         "2,800",
         "16,000"
        ],
        [
         "3",
         "1",
         "????",
         "1990-12-24",
         "113.5700",
         "114.5500",
         "109.1300",
         "114.5500",
         "5.4200",
         "4.9666",
         "3,200",
         "31,000"
        ],
        [
         "4",
         "1",
         "????",
         "1990-12-25",
         "120.0900",
         "120.2500",
         "114.5500",
         "120.2500",
         "5.7000",
         "4.9760",
         "1,500",
         "6,000"
        ]
       ],
       "shape": {
        "columns": 11,
        "rows": 5
       }
      },
      "text/html": [
       "<div>\n",
       "<style scoped>\n",
       "    .dataframe tbody tr th:only-of-type {\n",
       "        vertical-align: middle;\n",
       "    }\n",
       "\n",
       "    .dataframe tbody tr th {\n",
       "        vertical-align: top;\n",
       "    }\n",
       "\n",
       "    .dataframe thead th {\n",
       "        text-align: right;\n",
       "    }\n",
       "</style>\n",
       "<table border=\"1\" class=\"dataframe\">\n",
       "  <thead>\n",
       "    <tr style=\"text-align: right;\">\n",
       "      <th></th>\n",
       "      <th>ID</th>\n",
       "      <th>NAME</th>\n",
       "      <th>DATE</th>\n",
       "      <th>OPENING</th>\n",
       "      <th>HIGHEST</th>\n",
       "      <th>LOWEST</th>\n",
       "      <th>CLOSING</th>\n",
       "      <th>PRICE_CHANGE</th>\n",
       "      <th>PERCENTAGE_CHANGE</th>\n",
       "      <th>TRADING_VOLUME</th>\n",
       "      <th>TRANSACTION_AMOUNT</th>\n",
       "    </tr>\n",
       "  </thead>\n",
       "  <tbody>\n",
       "    <tr>\n",
       "      <th>0</th>\n",
       "      <td>1</td>\n",
       "      <td>????</td>\n",
       "      <td>1990-12-19</td>\n",
       "      <td>96.0500</td>\n",
       "      <td>99.9800</td>\n",
       "      <td>95.7900</td>\n",
       "      <td>99.9800</td>\n",
       "      <td>--</td>\n",
       "      <td>--</td>\n",
       "      <td>126,000</td>\n",
       "      <td>494,000</td>\n",
       "    </tr>\n",
       "    <tr>\n",
       "      <th>1</th>\n",
       "      <td>1</td>\n",
       "      <td>????</td>\n",
       "      <td>1990-12-20</td>\n",
       "      <td>104.3000</td>\n",
       "      <td>104.3900</td>\n",
       "      <td>99.9800</td>\n",
       "      <td>104.3900</td>\n",
       "      <td>4.4100</td>\n",
       "      <td>4.4109</td>\n",
       "      <td>19,700</td>\n",
       "      <td>84,000</td>\n",
       "    </tr>\n",
       "    <tr>\n",
       "      <th>2</th>\n",
       "      <td>1</td>\n",
       "      <td>????</td>\n",
       "      <td>1990-12-21</td>\n",
       "      <td>109.0700</td>\n",
       "      <td>109.1300</td>\n",
       "      <td>103.7300</td>\n",
       "      <td>109.1300</td>\n",
       "      <td>4.7400</td>\n",
       "      <td>4.5407</td>\n",
       "      <td>2,800</td>\n",
       "      <td>16,000</td>\n",
       "    </tr>\n",
       "    <tr>\n",
       "      <th>3</th>\n",
       "      <td>1</td>\n",
       "      <td>????</td>\n",
       "      <td>1990-12-24</td>\n",
       "      <td>113.5700</td>\n",
       "      <td>114.5500</td>\n",
       "      <td>109.1300</td>\n",
       "      <td>114.5500</td>\n",
       "      <td>5.4200</td>\n",
       "      <td>4.9666</td>\n",
       "      <td>3,200</td>\n",
       "      <td>31,000</td>\n",
       "    </tr>\n",
       "    <tr>\n",
       "      <th>4</th>\n",
       "      <td>1</td>\n",
       "      <td>????</td>\n",
       "      <td>1990-12-25</td>\n",
       "      <td>120.0900</td>\n",
       "      <td>120.2500</td>\n",
       "      <td>114.5500</td>\n",
       "      <td>120.2500</td>\n",
       "      <td>5.7000</td>\n",
       "      <td>4.9760</td>\n",
       "      <td>1,500</td>\n",
       "      <td>6,000</td>\n",
       "    </tr>\n",
       "  </tbody>\n",
       "</table>\n",
       "</div>"
      ],
      "text/plain": [
       "   ID  NAME        DATE   OPENING   HIGHEST    LOWEST   CLOSING PRICE_CHANGE  \\\n",
       "0   1  ????  1990-12-19   96.0500   99.9800   95.7900   99.9800           --   \n",
       "1   1  ????  1990-12-20  104.3000  104.3900   99.9800  104.3900       4.4100   \n",
       "2   1  ????  1990-12-21  109.0700  109.1300  103.7300  109.1300       4.7400   \n",
       "3   1  ????  1990-12-24  113.5700  114.5500  109.1300  114.5500       5.4200   \n",
       "4   1  ????  1990-12-25  120.0900  120.2500  114.5500  120.2500       5.7000   \n",
       "\n",
       "  PERCENTAGE_CHANGE TRADING_VOLUME TRANSACTION_AMOUNT  \n",
       "0                --        126,000            494,000  \n",
       "1            4.4109         19,700             84,000  \n",
       "2            4.5407          2,800             16,000  \n",
       "3            4.9666          3,200             31,000  \n",
       "4            4.9760          1,500              6,000  "
      ]
     },
     "metadata": {},
     "output_type": "display_data"
    }
   ],
   "source": [
    "chosen_stock_file_path = r'D:\\Important Files\\Repositories\\Machine-Learning-Project-related\\Dissertation Project 1\\Data\\600873_UTF-8.CSV'\n",
    "df_chosen_stock = pd.read_csv(chosen_stock_file_path)\n",
    "market_portfolio_file_path = r'D:\\Important Files\\Repositories\\Machine-Learning-Project-related\\Dissertation Project 1\\Data\\000001_UTF-8.CSV'\n",
    "df_market_portfolio = pd.read_csv(market_portfolio_file_path)\n",
    "display(df_chosen_stock.head())\n",
    "display(df_market_portfolio.head())"
   ]
  },
  {
   "cell_type": "markdown",
   "metadata": {},
   "source": [
    "## Change the DATE column into pd Datetime dataframe"
   ]
  },
  {
   "cell_type": "code",
   "execution_count": null,
   "metadata": {},
   "outputs": [
    {
     "name": "stdout",
     "output_type": "stream",
     "text": [
      "<class 'pandas.core.frame.DataFrame'>\n",
      "RangeIndex: 6903 entries, 0 to 6902\n",
      "Data columns (total 11 columns):\n",
      " #   Column              Non-Null Count  Dtype         \n",
      "---  ------              --------------  -----         \n",
      " 0   ID                  6903 non-null   int64         \n",
      " 1   NAME                6903 non-null   object        \n",
      " 2   DATE                6903 non-null   datetime64[ns]\n",
      " 3   OPENING             6903 non-null   float64       \n",
      " 4   HIGHEST             6903 non-null   float64       \n",
      " 5   LOWEST              6903 non-null   float64       \n",
      " 6   CLOSING             6903 non-null   float64       \n",
      " 7   PRICE_CHANGE        6903 non-null   object        \n",
      " 8   PERCENTAGE_CHANGE   6903 non-null   object        \n",
      " 9   TRADING_VOLUME      6903 non-null   object        \n",
      " 10  TRANSACTION_AMOUNT  6903 non-null   object        \n",
      "dtypes: datetime64[ns](1), float64(4), int64(1), object(5)\n",
      "memory usage: 593.4+ KB\n"
     ]
    },
    {
     "data": {
      "text/plain": [
       "None"
      ]
     },
     "metadata": {},
     "output_type": "display_data"
    },
    {
     "name": "stdout",
     "output_type": "stream",
     "text": [
      "<class 'pandas.core.frame.DataFrame'>\n",
      "RangeIndex: 8348 entries, 0 to 8347\n",
      "Data columns (total 11 columns):\n",
      " #   Column              Non-Null Count  Dtype         \n",
      "---  ------              --------------  -----         \n",
      " 0   ID                  8348 non-null   int64         \n",
      " 1   NAME                8348 non-null   object        \n",
      " 2   DATE                8348 non-null   datetime64[ns]\n",
      " 3   OPENING             8348 non-null   object        \n",
      " 4   HIGHEST             8348 non-null   object        \n",
      " 5   LOWEST              8348 non-null   object        \n",
      " 6   CLOSING             8348 non-null   object        \n",
      " 7   PRICE_CHANGE        8348 non-null   object        \n",
      " 8   PERCENTAGE_CHANGE   8348 non-null   object        \n",
      " 9   TRADING_VOLUME      8348 non-null   object        \n",
      " 10  TRANSACTION_AMOUNT  8348 non-null   object        \n",
      "dtypes: datetime64[ns](1), int64(1), object(9)\n",
      "memory usage: 717.5+ KB\n"
     ]
    },
    {
     "data": {
      "text/plain": [
       "None"
      ]
     },
     "metadata": {},
     "output_type": "display_data"
    }
   ],
   "source": [
    "df_chosen_stock_cp = df_chosen_stock\n",
    "df_market_portfolio_cp = df_market_portfolio\n",
    "df_chosen_stock_cp['DATE'] = pd.to_datetime(df_chosen_stock_cp['DATE'])\n",
    "df_market_portfolio_cp['DATE'] = pd.to_datetime(df_market_portfolio_cp['DATE'])\n",
    "display(df_chosen_stock.info())\n",
    "display(df_market_portfolio.info())\n"
   ]
  },
  {
   "cell_type": "markdown",
   "metadata": {},
   "source": [
    "## Drop useless columns & Convert string to float for closing price."
   ]
  },
  {
   "cell_type": "code",
   "execution_count": 25,
   "metadata": {},
   "outputs": [
    {
     "data": {
      "application/vnd.microsoft.datawrangler.viewer.v0+json": {
       "columns": [
        {
         "name": "index",
         "rawType": "int64",
         "type": "integer"
        },
        {
         "name": "DATE",
         "rawType": "datetime64[ns]",
         "type": "datetime"
        },
        {
         "name": "CLOSING",
         "rawType": "float64",
         "type": "float"
        }
       ],
       "conversionMethod": "pd.DataFrame",
       "ref": "c48e3eb9-fbda-4c72-adea-770c59ebd98d",
       "rows": [
        [
         "0",
         "1995-02-17 00:00:00",
         "0.9"
        ],
        [
         "1",
         "1995-02-20 00:00:00",
         "0.87"
        ],
        [
         "2",
         "1995-02-21 00:00:00",
         "0.89"
        ],
        [
         "3",
         "1995-02-22 00:00:00",
         "1.26"
        ],
        [
         "4",
         "1995-02-23 00:00:00",
         "1.51"
        ]
       ],
       "shape": {
        "columns": 2,
        "rows": 5
       }
      },
      "text/html": [
       "<div>\n",
       "<style scoped>\n",
       "    .dataframe tbody tr th:only-of-type {\n",
       "        vertical-align: middle;\n",
       "    }\n",
       "\n",
       "    .dataframe tbody tr th {\n",
       "        vertical-align: top;\n",
       "    }\n",
       "\n",
       "    .dataframe thead th {\n",
       "        text-align: right;\n",
       "    }\n",
       "</style>\n",
       "<table border=\"1\" class=\"dataframe\">\n",
       "  <thead>\n",
       "    <tr style=\"text-align: right;\">\n",
       "      <th></th>\n",
       "      <th>DATE</th>\n",
       "      <th>CLOSING</th>\n",
       "    </tr>\n",
       "  </thead>\n",
       "  <tbody>\n",
       "    <tr>\n",
       "      <th>0</th>\n",
       "      <td>1995-02-17</td>\n",
       "      <td>0.90</td>\n",
       "    </tr>\n",
       "    <tr>\n",
       "      <th>1</th>\n",
       "      <td>1995-02-20</td>\n",
       "      <td>0.87</td>\n",
       "    </tr>\n",
       "    <tr>\n",
       "      <th>2</th>\n",
       "      <td>1995-02-21</td>\n",
       "      <td>0.89</td>\n",
       "    </tr>\n",
       "    <tr>\n",
       "      <th>3</th>\n",
       "      <td>1995-02-22</td>\n",
       "      <td>1.26</td>\n",
       "    </tr>\n",
       "    <tr>\n",
       "      <th>4</th>\n",
       "      <td>1995-02-23</td>\n",
       "      <td>1.51</td>\n",
       "    </tr>\n",
       "  </tbody>\n",
       "</table>\n",
       "</div>"
      ],
      "text/plain": [
       "        DATE  CLOSING\n",
       "0 1995-02-17     0.90\n",
       "1 1995-02-20     0.87\n",
       "2 1995-02-21     0.89\n",
       "3 1995-02-22     1.26\n",
       "4 1995-02-23     1.51"
      ]
     },
     "metadata": {},
     "output_type": "display_data"
    },
    {
     "data": {
      "application/vnd.microsoft.datawrangler.viewer.v0+json": {
       "columns": [
        {
         "name": "index",
         "rawType": "int64",
         "type": "integer"
        },
        {
         "name": "DATE",
         "rawType": "datetime64[ns]",
         "type": "datetime"
        },
        {
         "name": "CLOSING",
         "rawType": "float64",
         "type": "float"
        }
       ],
       "conversionMethod": "pd.DataFrame",
       "ref": "14e0c381-3c58-4f13-928c-3630ba56ca1b",
       "rows": [
        [
         "0",
         "1990-12-19 00:00:00",
         "99.98"
        ],
        [
         "1",
         "1990-12-20 00:00:00",
         "104.39"
        ],
        [
         "2",
         "1990-12-21 00:00:00",
         "109.13"
        ],
        [
         "3",
         "1990-12-24 00:00:00",
         "114.55"
        ],
        [
         "4",
         "1990-12-25 00:00:00",
         "120.25"
        ]
       ],
       "shape": {
        "columns": 2,
        "rows": 5
       }
      },
      "text/html": [
       "<div>\n",
       "<style scoped>\n",
       "    .dataframe tbody tr th:only-of-type {\n",
       "        vertical-align: middle;\n",
       "    }\n",
       "\n",
       "    .dataframe tbody tr th {\n",
       "        vertical-align: top;\n",
       "    }\n",
       "\n",
       "    .dataframe thead th {\n",
       "        text-align: right;\n",
       "    }\n",
       "</style>\n",
       "<table border=\"1\" class=\"dataframe\">\n",
       "  <thead>\n",
       "    <tr style=\"text-align: right;\">\n",
       "      <th></th>\n",
       "      <th>DATE</th>\n",
       "      <th>CLOSING</th>\n",
       "    </tr>\n",
       "  </thead>\n",
       "  <tbody>\n",
       "    <tr>\n",
       "      <th>0</th>\n",
       "      <td>1990-12-19</td>\n",
       "      <td>99.98</td>\n",
       "    </tr>\n",
       "    <tr>\n",
       "      <th>1</th>\n",
       "      <td>1990-12-20</td>\n",
       "      <td>104.39</td>\n",
       "    </tr>\n",
       "    <tr>\n",
       "      <th>2</th>\n",
       "      <td>1990-12-21</td>\n",
       "      <td>109.13</td>\n",
       "    </tr>\n",
       "    <tr>\n",
       "      <th>3</th>\n",
       "      <td>1990-12-24</td>\n",
       "      <td>114.55</td>\n",
       "    </tr>\n",
       "    <tr>\n",
       "      <th>4</th>\n",
       "      <td>1990-12-25</td>\n",
       "      <td>120.25</td>\n",
       "    </tr>\n",
       "  </tbody>\n",
       "</table>\n",
       "</div>"
      ],
      "text/plain": [
       "        DATE  CLOSING\n",
       "0 1990-12-19    99.98\n",
       "1 1990-12-20   104.39\n",
       "2 1990-12-21   109.13\n",
       "3 1990-12-24   114.55\n",
       "4 1990-12-25   120.25"
      ]
     },
     "metadata": {},
     "output_type": "display_data"
    },
    {
     "name": "stdout",
     "output_type": "stream",
     "text": [
      "<class 'pandas.core.frame.DataFrame'>\n",
      "RangeIndex: 6903 entries, 0 to 6902\n",
      "Data columns (total 2 columns):\n",
      " #   Column   Non-Null Count  Dtype         \n",
      "---  ------   --------------  -----         \n",
      " 0   DATE     6903 non-null   datetime64[ns]\n",
      " 1   CLOSING  6903 non-null   float64       \n",
      "dtypes: datetime64[ns](1), float64(1)\n",
      "memory usage: 108.0 KB\n"
     ]
    },
    {
     "data": {
      "text/plain": [
       "None"
      ]
     },
     "metadata": {},
     "output_type": "display_data"
    },
    {
     "name": "stdout",
     "output_type": "stream",
     "text": [
      "<class 'pandas.core.frame.DataFrame'>\n",
      "RangeIndex: 8348 entries, 0 to 8347\n",
      "Data columns (total 2 columns):\n",
      " #   Column   Non-Null Count  Dtype         \n",
      "---  ------   --------------  -----         \n",
      " 0   DATE     8348 non-null   datetime64[ns]\n",
      " 1   CLOSING  8348 non-null   float64       \n",
      "dtypes: datetime64[ns](1), float64(1)\n",
      "memory usage: 130.6 KB\n"
     ]
    },
    {
     "data": {
      "text/plain": [
       "None"
      ]
     },
     "metadata": {},
     "output_type": "display_data"
    }
   ],
   "source": [
    "df_market_portfolio_cp = df_market_portfolio_cp[['DATE', 'CLOSING']]\n",
    "df_chosen_stock_cp = df_chosen_stock_cp[['DATE','CLOSING']]\n",
    "df_market_portfolio_cp['CLOSING'] = df_market_portfolio_cp['CLOSING'].replace({',': ''}, regex=True).astype('float64')\n",
    "display(df_chosen_stock_cp.head())\n",
    "display(df_market_portfolio_cp.head())\n",
    "display(df_chosen_stock_cp.info())\n",
    "display(df_market_portfolio_cp.info())"
   ]
  },
  {
   "cell_type": "markdown",
   "metadata": {},
   "source": [
    "## Change the data into the same shape based on time."
   ]
  },
  {
   "cell_type": "code",
   "execution_count": null,
   "metadata": {},
   "outputs": [
    {
     "data": {
      "application/vnd.microsoft.datawrangler.viewer.v0+json": {
       "columns": [
        {
         "name": "index",
         "rawType": "int64",
         "type": "integer"
        },
        {
         "name": "DATE",
         "rawType": "datetime64[ns]",
         "type": "datetime"
        },
        {
         "name": "Chosen Stock Closing Price",
         "rawType": "float64",
         "type": "float"
        },
        {
         "name": "Market Portfolio Closing Price",
         "rawType": "float64",
         "type": "float"
        }
       ],
       "conversionMethod": "pd.DataFrame",
       "ref": "c037ec94-e140-4638-a985-2162bfc664a1",
       "rows": [
        [
         "0",
         "1995-02-17 00:00:00",
         "0.9",
         "533.76"
        ],
        [
         "1",
         "1995-02-20 00:00:00",
         "0.87",
         "534.96"
        ],
        [
         "2",
         "1995-02-21 00:00:00",
         "0.89",
         "541.14"
        ],
        [
         "3",
         "1995-02-22 00:00:00",
         "1.26",
         "594.64"
        ],
        [
         "4",
         "1995-02-23 00:00:00",
         "1.51",
         "589.12"
        ]
       ],
       "shape": {
        "columns": 3,
        "rows": 5
       }
      },
      "text/html": [
       "<div>\n",
       "<style scoped>\n",
       "    .dataframe tbody tr th:only-of-type {\n",
       "        vertical-align: middle;\n",
       "    }\n",
       "\n",
       "    .dataframe tbody tr th {\n",
       "        vertical-align: top;\n",
       "    }\n",
       "\n",
       "    .dataframe thead th {\n",
       "        text-align: right;\n",
       "    }\n",
       "</style>\n",
       "<table border=\"1\" class=\"dataframe\">\n",
       "  <thead>\n",
       "    <tr style=\"text-align: right;\">\n",
       "      <th></th>\n",
       "      <th>DATE</th>\n",
       "      <th>Chosen Stock Closing Price</th>\n",
       "      <th>Market Portfolio Closing Price</th>\n",
       "    </tr>\n",
       "  </thead>\n",
       "  <tbody>\n",
       "    <tr>\n",
       "      <th>0</th>\n",
       "      <td>1995-02-17</td>\n",
       "      <td>0.90</td>\n",
       "      <td>533.76</td>\n",
       "    </tr>\n",
       "    <tr>\n",
       "      <th>1</th>\n",
       "      <td>1995-02-20</td>\n",
       "      <td>0.87</td>\n",
       "      <td>534.96</td>\n",
       "    </tr>\n",
       "    <tr>\n",
       "      <th>2</th>\n",
       "      <td>1995-02-21</td>\n",
       "      <td>0.89</td>\n",
       "      <td>541.14</td>\n",
       "    </tr>\n",
       "    <tr>\n",
       "      <th>3</th>\n",
       "      <td>1995-02-22</td>\n",
       "      <td>1.26</td>\n",
       "      <td>594.64</td>\n",
       "    </tr>\n",
       "    <tr>\n",
       "      <th>4</th>\n",
       "      <td>1995-02-23</td>\n",
       "      <td>1.51</td>\n",
       "      <td>589.12</td>\n",
       "    </tr>\n",
       "  </tbody>\n",
       "</table>\n",
       "</div>"
      ],
      "text/plain": [
       "        DATE  Chosen Stock Closing Price  Market Portfolio Closing Price\n",
       "0 1995-02-17                        0.90                          533.76\n",
       "1 1995-02-20                        0.87                          534.96\n",
       "2 1995-02-21                        0.89                          541.14\n",
       "3 1995-02-22                        1.26                          594.64\n",
       "4 1995-02-23                        1.51                          589.12"
      ]
     },
     "metadata": {},
     "output_type": "display_data"
    },
    {
     "name": "stdout",
     "output_type": "stream",
     "text": [
      "<class 'pandas.core.frame.DataFrame'>\n",
      "RangeIndex: 6903 entries, 0 to 6902\n",
      "Data columns (total 3 columns):\n",
      " #   Column                          Non-Null Count  Dtype         \n",
      "---  ------                          --------------  -----         \n",
      " 0   DATE                            6903 non-null   datetime64[ns]\n",
      " 1   Chosen Stock Closing Price      6903 non-null   float64       \n",
      " 2   Market Portfolio Closing Price  6903 non-null   float64       \n",
      "dtypes: datetime64[ns](1), float64(2)\n",
      "memory usage: 161.9 KB\n"
     ]
    },
    {
     "data": {
      "text/plain": [
       "None"
      ]
     },
     "metadata": {},
     "output_type": "display_data"
    }
   ],
   "source": [
    "df = pd.merge(df_chosen_stock_cp, df_market_portfolio_cp, on='DATE', how='inner')\n",
    "df = df.rename(columns = {'CLOSING_x': 'Chosen Stock Closing Price', 'CLOSING_y': 'Market Portfolio Closing Price'})\n",
    "df.dropna(inplace = True)\n",
    "display(df.head())\n",
    "display(df.info())"
   ]
  },
  {
   "cell_type": "markdown",
   "metadata": {},
   "source": [
    "## Getting R_f"
   ]
  },
  {
   "cell_type": "code",
   "execution_count": null,
   "metadata": {},
   "outputs": [],
   "source": []
  }
 ],
 "metadata": {
  "kernelspec": {
   "display_name": ".venv",
   "language": "python",
   "name": "python3"
  },
  "language_info": {
   "codemirror_mode": {
    "name": "ipython",
    "version": 3
   },
   "file_extension": ".py",
   "mimetype": "text/x-python",
   "name": "python",
   "nbconvert_exporter": "python",
   "pygments_lexer": "ipython3",
   "version": "3.11.8"
  }
 },
 "nbformat": 4,
 "nbformat_minor": 2
}
