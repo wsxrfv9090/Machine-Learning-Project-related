{
 "cells": [
  {
   "cell_type": "markdown",
   "metadata": {},
   "source": [
    "# Import"
   ]
  },
  {
   "cell_type": "code",
   "execution_count": 136,
   "metadata": {},
   "outputs": [],
   "source": [
    "import numpy as np\n",
    "from math import sqrt\n",
    "import matplotlib.pyplot as plt\n",
    "import warnings\n",
    "from matplotlib import style\n",
    "from collections import Counter\n",
    "import pandas as pd\n",
    "import random\n",
    "import file_operations\n",
    "import os\n",
    "style.use('fivethirtyeight')"
   ]
  },
  {
   "cell_type": "markdown",
   "metadata": {},
   "source": [
    "# Build my own KNN algorithm"
   ]
  },
  {
   "cell_type": "markdown",
   "metadata": {},
   "source": [
    "## Initiate a simple dataset to test"
   ]
  },
  {
   "cell_type": "code",
   "execution_count": 137,
   "metadata": {},
   "outputs": [],
   "source": [
    "dataset = {'k': [[1, 2], [2, 3], [3, 1]], 'r': [[6, 5], [7, 7], [8, 6]]}\n",
    "new_point = [5, 7]"
   ]
  },
  {
   "cell_type": "code",
   "execution_count": 138,
   "metadata": {},
   "outputs": [
    {
     "name": "stdout",
     "output_type": "stream",
     "text": [
      "2\n"
     ]
    }
   ],
   "source": [
    "print(len(dataset))"
   ]
  },
  {
   "cell_type": "markdown",
   "metadata": {},
   "source": [
    "## Graphing"
   ]
  },
  {
   "cell_type": "code",
   "execution_count": 139,
   "metadata": {},
   "outputs": [
    {
     "data": {
      "image/png": "[encoded data removed]",
      "text/plain": [
       "<Figure size 640x480 with 1 Axes>"
      ]
     },
     "metadata": {},
     "output_type": "display_data"
    }
   ],
   "source": [
    "[[plt.scatter(ii[0], ii[1], s = 100, color = i) for ii in dataset[i]] for i in dataset]\n",
    "plt.scatter(new_point[0], new_point[1], s = 100, color = 'b')\n",
    "plt.show()"
   ]
  },
  {
   "cell_type": "markdown",
   "metadata": {},
   "source": [
    "## Implement K nearest neighbor (Self-Built)"
   ]
  },
  {
   "cell_type": "code",
   "execution_count": 140,
   "metadata": {},
   "outputs": [
    {
     "name": "stdout",
     "output_type": "stream",
     "text": [
      "r 1.0\n"
     ]
    }
   ],
   "source": [
    "def k_nearest_neighbor(data, predict, k = 3):\n",
    "    if len(data) >= k:\n",
    "        warnings.warn('K is set to a value less than total voting groups! Idiot!')\n",
    "    distances = []\n",
    "    for group in data:\n",
    "        for features in data[group]:\n",
    "            euclidean_distance = np.linalg.norm(np.array(features) - np.array(predict))\n",
    "            distances.append([euclidean_distance, group])\n",
    "            \n",
    "    votes = [i[1] for i in sorted(distances)[:k]]\n",
    "    vote_result = Counter(votes).most_common(1)[0][0]\n",
    "    \n",
    "    confidence = Counter(votes).most_common(1)[0][1] / k\n",
    "    \n",
    "    return vote_result, confidence\n",
    "\n",
    "result, confidence1 = k_nearest_neighbor(dataset, new_point, k = 3)\n",
    "print(result, confidence1)"
   ]
  },
  {
   "cell_type": "markdown",
   "metadata": {},
   "source": [
    "# Use actual data to test my algorithm"
   ]
  },
  {
   "cell_type": "markdown",
   "metadata": {},
   "source": [
    "## Import file"
   ]
  },
  {
   "cell_type": "code",
   "execution_count": 141,
   "metadata": {},
   "outputs": [
    {
     "name": "stdout",
     "output_type": "stream",
     "text": [
      "d:\\Important Files\\Repositories\\Machine-Learning-Project-related\\Project 5 KNN\n",
      "Project directory created under 'd:\\Important Files\\Repositories\\Machine-Learning-Project-related\\Project 5 KNN'\n",
      "Project data directory created under 'd:\\Important Files\\Repositories\\Machine-Learning-Project-related\\Project 5 KNN\\Data'\n",
      "Project output directory created under 'd:\\Important Files\\Repositories\\Machine-Learning-Project-related\\Project 5 KNN\\Output'\n"
     ]
    },
    {
     "data": {
      "application/vnd.microsoft.datawrangler.viewer.v0+json": {
       "columns": [
        {
         "name": "index",
         "rawType": "int64",
         "type": "integer"
        },
        {
         "name": "id",
         "rawType": "int64",
         "type": "integer"
        },
        {
         "name": "clump_thickness",
         "rawType": "int64",
         "type": "integer"
        },
        {
         "name": "unif_cell_size",
         "rawType": "int64",
         "type": "integer"
        },
        {
         "name": "unif_cell_shape",
         "rawType": "int64",
         "type": "integer"
        },
        {
         "name": "marg_adhesion",
         "rawType": "int64",
         "type": "integer"
        },
        {
         "name": "single_spith_cell_size",
         "rawType": "int64",
         "type": "integer"
        },
        {
         "name": "bare_nuclei",
         "rawType": "object",
         "type": "string"
        },
        {
         "name": "bland_chrom",
         "rawType": "int64",
         "type": "integer"
        },
        {
         "name": "norm_nucleoli",
         "rawType": "int64",
         "type": "integer"
        },
        {
         "name": "mitoses",
         "rawType": "int64",
         "type": "integer"
        },
        {
         "name": "class",
         "rawType": "int64",
         "type": "integer"
        }
       ],
       "conversionMethod": "pd.DataFrame",
       "ref": "0d433c16-0671-4dc9-b216-561380fb1bdd",
       "rows": [
        [
         "0",
         "1000025",
         "5",
         "1",
         "1",
         "1",
         "2",
         "1",
         "3",
         "1",
         "1",
         "2"
        ],
        [
         "1",
         "1002945",
         "5",
         "4",
         "4",
         "5",
         "7",
         "10",
         "3",
         "2",
         "1",
         "2"
        ],
        [
         "2",
         "1015425",
         "3",
         "1",
         "1",
         "1",
         "2",
         "2",
         "3",
         "1",
         "1",
         "2"
        ],
        [
         "3",
         "1016277",
         "6",
         "8",
         "8",
         "1",
         "3",
         "4",
         "3",
         "7",
         "1",
         "2"
        ],
        [
         "4",
         "1017023",
         "4",
         "1",
         "1",
         "3",
         "2",
         "1",
         "3",
         "1",
         "1",
         "2"
        ],
        [
         "5",
         "1017122",
         "8",
         "10",
         "10",
         "8",
         "7",
         "10",
         "9",
         "7",
         "1",
         "4"
        ],
        [
         "6",
         "1018099",
         "1",
         "1",
         "1",
         "1",
         "2",
         "10",
         "3",
         "1",
         "1",
         "2"
        ],
        [
         "7",
         "1018561",
         "2",
         "1",
         "2",
         "1",
         "2",
         "1",
         "3",
         "1",
         "1",
         "2"
        ],
        [
         "8",
         "1033078",
         "2",
         "1",
         "1",
         "1",
         "2",
         "1",
         "1",
         "1",
         "5",
         "2"
        ],
        [
         "9",
         "1033078",
         "4",
         "2",
         "1",
         "1",
         "2",
         "1",
         "2",
         "1",
         "1",
         "2"
        ],
        [
         "10",
         "1035283",
         "1",
         "1",
         "1",
         "1",
         "1",
         "1",
         "3",
         "1",
         "1",
         "2"
        ],
        [
         "11",
         "1036172",
         "2",
         "1",
         "1",
         "1",
         "2",
         "1",
         "2",
         "1",
         "1",
         "2"
        ],
        [
         "12",
         "1041801",
         "5",
         "3",
         "3",
         "3",
         "2",
         "3",
         "4",
         "4",
         "1",
         "4"
        ],
        [
         "13",
         "1043999",
         "1",
         "1",
         "1",
         "1",
         "2",
         "3",
         "3",
         "1",
         "1",
         "2"
        ],
        [
         "14",
         "1044572",
         "8",
         "7",
         "5",
         "10",
         "7",
         "9",
         "5",
         "5",
         "4",
         "4"
        ],
        [
         "15",
         "1047630",
         "7",
         "4",
         "6",
         "4",
         "6",
         "1",
         "4",
         "3",
         "1",
         "4"
        ],
        [
         "16",
         "1048672",
         "4",
         "1",
         "1",
         "1",
         "2",
         "1",
         "2",
         "1",
         "1",
         "2"
        ],
        [
         "17",
         "1049815",
         "4",
         "1",
         "1",
         "1",
         "2",
         "1",
         "3",
         "1",
         "1",
         "2"
        ],
        [
         "18",
         "1050670",
         "10",
         "7",
         "7",
         "6",
         "4",
         "10",
         "4",
         "1",
         "2",
         "4"
        ],
        [
         "19",
         "1050718",
         "6",
         "1",
         "1",
         "1",
         "2",
         "1",
         "3",
         "1",
         "1",
         "2"
        ],
        [
         "20",
         "1054590",
         "7",
         "3",
         "2",
         "10",
         "5",
         "10",
         "5",
         "4",
         "4",
         "4"
        ],
        [
         "21",
         "1054593",
         "10",
         "5",
         "5",
         "3",
         "6",
         "7",
         "7",
         "10",
         "1",
         "4"
        ],
        [
         "22",
         "1056784",
         "3",
         "1",
         "1",
         "1",
         "2",
         "1",
         "2",
         "1",
         "1",
         "2"
        ],
        [
         "23",
         "1057013",
         "8",
         "4",
         "5",
         "1",
         "2",
         "?",
         "7",
         "3",
         "1",
         "4"
        ],
        [
         "24",
         "1059552",
         "1",
         "1",
         "1",
         "1",
         "2",
         "1",
         "3",
         "1",
         "1",
         "2"
        ],
        [
         "25",
         "1065726",
         "5",
         "2",
         "3",
         "4",
         "2",
         "7",
         "3",
         "6",
         "1",
         "4"
        ],
        [
         "26",
         "1066373",
         "3",
         "2",
         "1",
         "1",
         "1",
         "1",
         "2",
         "1",
         "1",
         "2"
        ],
        [
         "27",
         "1066979",
         "5",
         "1",
         "1",
         "1",
         "2",
         "1",
         "2",
         "1",
         "1",
         "2"
        ],
        [
         "28",
         "1067444",
         "2",
         "1",
         "1",
         "1",
         "2",
         "1",
         "2",
         "1",
         "1",
         "2"
        ],
        [
         "29",
         "1070935",
         "1",
         "1",
         "3",
         "1",
         "2",
         "1",
         "1",
         "1",
         "1",
         "2"
        ],
        [
         "30",
         "1070935",
         "3",
         "1",
         "1",
         "1",
         "1",
         "1",
         "2",
         "1",
         "1",
         "2"
        ],
        [
         "31",
         "1071760",
         "2",
         "1",
         "1",
         "1",
         "2",
         "1",
         "3",
         "1",
         "1",
         "2"
        ],
        [
         "32",
         "1072179",
         "10",
         "7",
         "7",
         "3",
         "8",
         "5",
         "7",
         "4",
         "3",
         "4"
        ],
        [
         "33",
         "1074610",
         "2",
         "1",
         "1",
         "2",
         "2",
         "1",
         "3",
         "1",
         "1",
         "2"
        ],
        [
         "34",
         "1075123",
         "3",
         "1",
         "2",
         "1",
         "2",
         "1",
         "2",
         "1",
         "1",
         "2"
        ],
        [
         "35",
         "1079304",
         "2",
         "1",
         "1",
         "1",
         "2",
         "1",
         "2",
         "1",
         "1",
         "2"
        ],
        [
         "36",
         "1080185",
         "10",
         "10",
         "10",
         "8",
         "6",
         "1",
         "8",
         "9",
         "1",
         "4"
        ],
        [
         "37",
         "1081791",
         "6",
         "2",
         "1",
         "1",
         "1",
         "1",
         "7",
         "1",
         "1",
         "2"
        ],
        [
         "38",
         "1084584",
         "5",
         "4",
         "4",
         "9",
         "2",
         "10",
         "5",
         "6",
         "1",
         "4"
        ],
        [
         "39",
         "1091262",
         "2",
         "5",
         "3",
         "3",
         "6",
         "7",
         "7",
         "5",
         "1",
         "4"
        ],
        [
         "40",
         "1096800",
         "6",
         "6",
         "6",
         "9",
         "6",
         "?",
         "7",
         "8",
         "1",
         "2"
        ],
        [
         "41",
         "1099510",
         "10",
         "4",
         "3",
         "1",
         "3",
         "3",
         "6",
         "5",
         "2",
         "4"
        ],
        [
         "42",
         "1100524",
         "6",
         "10",
         "10",
         "2",
         "8",
         "10",
         "7",
         "3",
         "3",
         "4"
        ],
        [
         "43",
         "1102573",
         "5",
         "6",
         "5",
         "6",
         "10",
         "1",
         "3",
         "1",
         "1",
         "4"
        ],
        [
         "44",
         "1103608",
         "10",
         "10",
         "10",
         "4",
         "8",
         "1",
         "8",
         "10",
         "1",
         "4"
        ],
        [
         "45",
         "1103722",
         "1",
         "1",
         "1",
         "1",
         "2",
         "1",
         "2",
         "1",
         "2",
         "2"
        ],
        [
         "46",
         "1105257",
         "3",
         "7",
         "7",
         "4",
         "4",
         "9",
         "4",
         "8",
         "1",
         "4"
        ],
        [
         "47",
         "1105524",
         "1",
         "1",
         "1",
         "1",
         "2",
         "1",
         "2",
         "1",
         "1",
         "2"
        ],
        [
         "48",
         "1106095",
         "4",
         "1",
         "1",
         "3",
         "2",
         "1",
         "3",
         "1",
         "1",
         "2"
        ],
        [
         "49",
         "1106829",
         "7",
         "8",
         "7",
         "2",
         "4",
         "8",
         "3",
         "8",
         "2",
         "4"
        ]
       ],
       "shape": {
        "columns": 11,
        "rows": 699
       }
      },
      "text/html": [
       "<div>\n",
       "<style scoped>\n",
       "    .dataframe tbody tr th:only-of-type {\n",
       "        vertical-align: middle;\n",
       "    }\n",
       "\n",
       "    .dataframe tbody tr th {\n",
       "        vertical-align: top;\n",
       "    }\n",
       "\n",
       "    .dataframe thead th {\n",
       "        text-align: right;\n",
       "    }\n",
       "</style>\n",
       "<table border=\"1\" class=\"dataframe\">\n",
       "  <thead>\n",
       "    <tr style=\"text-align: right;\">\n",
       "      <th></th>\n",
       "      <th>id</th>\n",
       "      <th>clump_thickness</th>\n",
       "      <th>unif_cell_size</th>\n",
       "      <th>unif_cell_shape</th>\n",
       "      <th>marg_adhesion</th>\n",
       "      <th>single_spith_cell_size</th>\n",
       "      <th>bare_nuclei</th>\n",
       "      <th>bland_chrom</th>\n",
       "      <th>norm_nucleoli</th>\n",
       "      <th>mitoses</th>\n",
       "      <th>class</th>\n",
       "    </tr>\n",
       "  </thead>\n",
       "  <tbody>\n",
       "    <tr>\n",
       "      <th>0</th>\n",
       "      <td>1000025</td>\n",
       "      <td>5</td>\n",
       "      <td>1</td>\n",
       "      <td>1</td>\n",
       "      <td>1</td>\n",
       "      <td>2</td>\n",
       "      <td>1</td>\n",
       "      <td>3</td>\n",
       "      <td>1</td>\n",
       "      <td>1</td>\n",
       "      <td>2</td>\n",
       "    </tr>\n",
       "    <tr>\n",
       "      <th>1</th>\n",
       "      <td>1002945</td>\n",
       "      <td>5</td>\n",
       "      <td>4</td>\n",
       "      <td>4</td>\n",
       "      <td>5</td>\n",
       "      <td>7</td>\n",
       "      <td>10</td>\n",
       "      <td>3</td>\n",
       "      <td>2</td>\n",
       "      <td>1</td>\n",
       "      <td>2</td>\n",
       "    </tr>\n",
       "    <tr>\n",
       "      <th>2</th>\n",
       "      <td>1015425</td>\n",
       "      <td>3</td>\n",
       "      <td>1</td>\n",
       "      <td>1</td>\n",
       "      <td>1</td>\n",
       "      <td>2</td>\n",
       "      <td>2</td>\n",
       "      <td>3</td>\n",
       "      <td>1</td>\n",
       "      <td>1</td>\n",
       "      <td>2</td>\n",
       "    </tr>\n",
       "    <tr>\n",
       "      <th>3</th>\n",
       "      <td>1016277</td>\n",
       "      <td>6</td>\n",
       "      <td>8</td>\n",
       "      <td>8</td>\n",
       "      <td>1</td>\n",
       "      <td>3</td>\n",
       "      <td>4</td>\n",
       "      <td>3</td>\n",
       "      <td>7</td>\n",
       "      <td>1</td>\n",
       "      <td>2</td>\n",
       "    </tr>\n",
       "    <tr>\n",
       "      <th>4</th>\n",
       "      <td>1017023</td>\n",
       "      <td>4</td>\n",
       "      <td>1</td>\n",
       "      <td>1</td>\n",
       "      <td>3</td>\n",
       "      <td>2</td>\n",
       "      <td>1</td>\n",
       "      <td>3</td>\n",
       "      <td>1</td>\n",
       "      <td>1</td>\n",
       "      <td>2</td>\n",
       "    </tr>\n",
       "    <tr>\n",
       "      <th>...</th>\n",
       "      <td>...</td>\n",
       "      <td>...</td>\n",
       "      <td>...</td>\n",
       "      <td>...</td>\n",
       "      <td>...</td>\n",
       "      <td>...</td>\n",
       "      <td>...</td>\n",
       "      <td>...</td>\n",
       "      <td>...</td>\n",
       "      <td>...</td>\n",
       "      <td>...</td>\n",
       "    </tr>\n",
       "    <tr>\n",
       "      <th>694</th>\n",
       "      <td>776715</td>\n",
       "      <td>3</td>\n",
       "      <td>1</td>\n",
       "      <td>1</td>\n",
       "      <td>1</td>\n",
       "      <td>3</td>\n",
       "      <td>2</td>\n",
       "      <td>1</td>\n",
       "      <td>1</td>\n",
       "      <td>1</td>\n",
       "      <td>2</td>\n",
       "    </tr>\n",
       "    <tr>\n",
       "      <th>695</th>\n",
       "      <td>841769</td>\n",
       "      <td>2</td>\n",
       "      <td>1</td>\n",
       "      <td>1</td>\n",
       "      <td>1</td>\n",
       "      <td>2</td>\n",
       "      <td>1</td>\n",
       "      <td>1</td>\n",
       "      <td>1</td>\n",
       "      <td>1</td>\n",
       "      <td>2</td>\n",
       "    </tr>\n",
       "    <tr>\n",
       "      <th>696</th>\n",
       "      <td>888820</td>\n",
       "      <td>5</td>\n",
       "      <td>10</td>\n",
       "      <td>10</td>\n",
       "      <td>3</td>\n",
       "      <td>7</td>\n",
       "      <td>3</td>\n",
       "      <td>8</td>\n",
       "      <td>10</td>\n",
       "      <td>2</td>\n",
       "      <td>4</td>\n",
       "    </tr>\n",
       "    <tr>\n",
       "      <th>697</th>\n",
       "      <td>897471</td>\n",
       "      <td>4</td>\n",
       "      <td>8</td>\n",
       "      <td>6</td>\n",
       "      <td>4</td>\n",
       "      <td>3</td>\n",
       "      <td>4</td>\n",
       "      <td>10</td>\n",
       "      <td>6</td>\n",
       "      <td>1</td>\n",
       "      <td>4</td>\n",
       "    </tr>\n",
       "    <tr>\n",
       "      <th>698</th>\n",
       "      <td>897471</td>\n",
       "      <td>4</td>\n",
       "      <td>8</td>\n",
       "      <td>8</td>\n",
       "      <td>5</td>\n",
       "      <td>4</td>\n",
       "      <td>5</td>\n",
       "      <td>10</td>\n",
       "      <td>4</td>\n",
       "      <td>1</td>\n",
       "      <td>4</td>\n",
       "    </tr>\n",
       "  </tbody>\n",
       "</table>\n",
       "<p>699 rows × 11 columns</p>\n",
       "</div>"
      ],
      "text/plain": [
       "          id  clump_thickness  unif_cell_size  unif_cell_shape  marg_adhesion  \\\n",
       "0    1000025                5               1                1              1   \n",
       "1    1002945                5               4                4              5   \n",
       "2    1015425                3               1                1              1   \n",
       "3    1016277                6               8                8              1   \n",
       "4    1017023                4               1                1              3   \n",
       "..       ...              ...             ...              ...            ...   \n",
       "694   776715                3               1                1              1   \n",
       "695   841769                2               1                1              1   \n",
       "696   888820                5              10               10              3   \n",
       "697   897471                4               8                6              4   \n",
       "698   897471                4               8                8              5   \n",
       "\n",
       "     single_spith_cell_size bare_nuclei  bland_chrom  norm_nucleoli  mitoses  \\\n",
       "0                         2           1            3              1        1   \n",
       "1                         7          10            3              2        1   \n",
       "2                         2           2            3              1        1   \n",
       "3                         3           4            3              7        1   \n",
       "4                         2           1            3              1        1   \n",
       "..                      ...         ...          ...            ...      ...   \n",
       "694                       3           2            1              1        1   \n",
       "695                       2           1            1              1        1   \n",
       "696                       7           3            8             10        2   \n",
       "697                       3           4           10              6        1   \n",
       "698                       4           5           10              4        1   \n",
       "\n",
       "     class  \n",
       "0        2  \n",
       "1        2  \n",
       "2        2  \n",
       "3        2  \n",
       "4        2  \n",
       "..     ...  \n",
       "694      2  \n",
       "695      2  \n",
       "696      4  \n",
       "697      4  \n",
       "698      4  \n",
       "\n",
       "[699 rows x 11 columns]"
      ]
     },
     "metadata": {},
     "output_type": "display_data"
    }
   ],
   "source": [
    "current_dir = os.getcwd()\n",
    "print(current_dir)\n",
    "paths = file_operations.create_project_path('Project 5 KNN')\n",
    "file_name = 'breast-cancer-wisconsin.data'\n",
    "file_path = os.path.join(paths[\"data_dir\"], file_name)\n",
    "df = pd.read_csv(file_path)\n",
    "display(df)"
   ]
  },
  {
   "cell_type": "code",
   "execution_count": 142,
   "metadata": {},
   "outputs": [],
   "source": [
    "df.replace('?', np.nan, inplace = True)\n",
    "df.dropna(inplace = True)\n",
    "# df.replace('?', -99999, inplace = True)\n",
    "df.drop(['id'], axis = 1, inplace = True)"
   ]
  },
  {
   "cell_type": "code",
   "execution_count": 143,
   "metadata": {},
   "outputs": [
    {
     "name": "stdout",
     "output_type": "stream",
     "text": [
      "[[5.0, 1.0, 1.0, 1.0, 2.0, 1.0, 3.0, 1.0, 1.0, 2.0], [5.0, 4.0, 4.0, 5.0, 7.0, 10.0, 3.0, 2.0, 1.0, 2.0], [3.0, 1.0, 1.0, 1.0, 2.0, 2.0, 3.0, 1.0, 1.0, 2.0], [6.0, 8.0, 8.0, 1.0, 3.0, 4.0, 3.0, 7.0, 1.0, 2.0], [4.0, 1.0, 1.0, 3.0, 2.0, 1.0, 3.0, 1.0, 1.0, 2.0]]\n"
     ]
    }
   ],
   "source": [
    "full_data = df.astype('float64').values.tolist()\n",
    "print(full_data[:5])"
   ]
  },
  {
   "cell_type": "markdown",
   "metadata": {},
   "source": [
    "## Randomize the data"
   ]
  },
  {
   "cell_type": "code",
   "execution_count": 144,
   "metadata": {},
   "outputs": [
    {
     "name": "stdout",
     "output_type": "stream",
     "text": [
      "[[2.0, 1.0, 1.0, 1.0, 2.0, 1.0, 1.0, 1.0, 5.0, 2.0], [3.0, 6.0, 4.0, 10.0, 3.0, 3.0, 3.0, 4.0, 1.0, 4.0], [10.0, 5.0, 8.0, 10.0, 3.0, 10.0, 5.0, 1.0, 3.0, 4.0], [2.0, 1.0, 1.0, 1.0, 2.0, 1.0, 1.0, 1.0, 1.0, 2.0], [2.0, 1.0, 1.0, 1.0, 2.0, 5.0, 1.0, 1.0, 1.0, 2.0]]\n"
     ]
    }
   ],
   "source": [
    "random.shuffle(full_data)\n",
    "print(full_data[:5])"
   ]
  },
  {
   "cell_type": "markdown",
   "metadata": {},
   "source": [
    "## Train test split"
   ]
  },
  {
   "cell_type": "code",
   "execution_count": 145,
   "metadata": {},
   "outputs": [],
   "source": [
    "test_size = 0.2\n",
    "train_set = {2: [], 4: []}\n",
    "test_set = {2: [], 4: []}\n",
    "delimeter = -int(test_size * len(full_data))\n",
    "train_data = full_data[:delimeter]\n",
    "test_data = full_data[delimeter:]"
   ]
  },
  {
   "cell_type": "markdown",
   "metadata": {},
   "source": [
    "## Populating the data"
   ]
  },
  {
   "cell_type": "code",
   "execution_count": 146,
   "metadata": {},
   "outputs": [],
   "source": [
    "for i in train_data:\n",
    "    train_set[i[-1]].append(i[:-1])\n",
    "    \n",
    "for i in test_data:\n",
    "    test_set[i[-1]].append(i[:-1])"
   ]
  },
  {
   "cell_type": "markdown",
   "metadata": {},
   "source": [
    "## Getting the accuracy"
   ]
  },
  {
   "cell_type": "code",
   "execution_count": 147,
   "metadata": {},
   "outputs": [
    {
     "name": "stdout",
     "output_type": "stream",
     "text": [
      "1.0\n",
      "0.8\n",
      "1.0\n",
      "0.6\n",
      "1.0\n",
      "0.8\n",
      "0.8\n",
      "0.9485294117647058\n"
     ]
    }
   ],
   "source": [
    "correct = 0\n",
    "total = 0\n",
    "\n",
    "for group in test_set:\n",
    "    for data in test_set[group]:\n",
    "        vote, confidence2 = k_nearest_neighbor(train_set, data, k = 5)\n",
    "        if group == vote:\n",
    "            correct += 1\n",
    "        else:\n",
    "            print(confidence2)\n",
    "        total += 1\n",
    "        \n",
    "accuracy = correct / total\n",
    "print(accuracy)"
   ]
  }
 ],
 "metadata": {
  "kernelspec": {
   "display_name": ".venv",
   "language": "python",
   "name": "python3"
  },
  "language_info": {
   "codemirror_mode": {
    "name": "ipython",
    "version": 3
   },
   "file_extension": ".py",
   "mimetype": "text/x-python",
   "name": "python",
   "nbconvert_exporter": "python",
   "pygments_lexer": "ipython3",
   "version": "3.11.8"
  }
 },
 "nbformat": 4,
 "nbformat_minor": 2
}
