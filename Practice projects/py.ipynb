{
 "cells": [
  {
   "cell_type": "markdown",
   "metadata": {},
   "source": [
    "# Assignments"
   ]
  },
  {
   "cell_type": "markdown",
   "metadata": {},
   "source": [
    "## Numpy"
   ]
  },
  {
   "cell_type": "code",
   "execution_count": 5,
   "metadata": {},
   "outputs": [],
   "source": [
    "import numpy as np"
   ]
  },
  {
   "cell_type": "markdown",
   "metadata": {},
   "source": [
    "Do a matrix add subtract and multiplication function using numpy.\n"
   ]
  },
  {
   "cell_type": "code",
   "execution_count": null,
   "metadata": {},
   "outputs": [],
   "source": [
    "inputMatrix = []\n",
    "def initMatrix(inputMatrix):\n",
    "    i = int(input(\"Enter the rows of the matrix: \"))\n",
    "    j = int(input(\"Enter the columns of the matrix: \"))\n",
    "    for x in range(i):\n",
    "        row = []\n",
    "        for y in range(j):\n",
    "            row.append(int(input(\"Enter the element: \")))\n",
    "        inputMatrix.append(row)\n",
    "    return np.array(inputMatrix)\n",
    "\n",
    "matrix = initMatrix(inputMatrix)\n",
    "def printMatrix(matrix):\n",
    "    print(matrix)\n",
    "\n",
    "printMatrix(matrix)"
   ]
  }
 ],
 "metadata": {
  "kernelspec": {
   "display_name": ".venv",
   "language": "python",
   "name": "python3"
  },
  "language_info": {
   "codemirror_mode": {
    "name": "ipython",
    "version": 3
   },
   "file_extension": ".py",
   "mimetype": "text/x-python",
   "name": "python",
   "nbconvert_exporter": "python",
   "pygments_lexer": "ipython3",
   "version": "3.11.8"
  }
 },
 "nbformat": 4,
 "nbformat_minor": 2
}
