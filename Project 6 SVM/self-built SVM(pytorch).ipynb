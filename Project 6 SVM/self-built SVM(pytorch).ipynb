{
 "cells": [
  {
   "cell_type": "markdown",
   "metadata": {},
   "source": [
    "This is me trying to integrate all of the things I've learned: 1. SVM, SVC, torch, torch, pandas, numpy\n",
    "\n",
    "The objective is to build a SVM algorithm that takes the data set un compute using SVM kernel trick to find the best hyperplain."
   ]
  },
  {
   "cell_type": "markdown",
   "metadata": {},
   "source": [
    "# Importing and Reading the data"
   ]
  },
  {
   "cell_type": "markdown",
   "metadata": {},
   "source": [
    "## Importing"
   ]
  },
  {
   "cell_type": "code",
   "execution_count": 42,
   "metadata": {},
   "outputs": [],
   "source": [
    "import torch\n",
    "import pandas as pd\n",
    "import numpy as np\n",
    "import file_operations\n",
    "import os"
   ]
  },
  {
   "cell_type": "markdown",
   "metadata": {},
   "source": [
    "## Reading"
   ]
  },
  {
   "cell_type": "code",
   "execution_count": 43,
   "metadata": {},
   "outputs": [
    {
     "name": "stdout",
     "output_type": "stream",
     "text": [
      "d:\\Important Files\\Repositories\\Machine-Learning-Project-related\\Project 6 SVM\n",
      "Project directory created under 'd:\\Important Files\\Repositories\\Machine-Learning-Project-related\\Project 6 SVM'\n",
      "Project data directory created under 'd:\\Important Files\\Repositories\\Machine-Learning-Project-related\\Project 6 SVM\\Data'\n",
      "Project output directory created under 'd:\\Important Files\\Repositories\\Machine-Learning-Project-related\\Project 6 SVM\\Output'\n"
     ]
    },
    {
     "data": {
      "application/vnd.microsoft.datawrangler.viewer.v0+json": {
       "columns": [
        {
         "name": "index",
         "rawType": "int64",
         "type": "integer"
        },
        {
         "name": "id",
         "rawType": "int64",
         "type": "integer"
        },
        {
         "name": "clump_thickness",
         "rawType": "int64",
         "type": "integer"
        },
        {
         "name": "unif_cell_size",
         "rawType": "int64",
         "type": "integer"
        },
        {
         "name": "unif_cell_shape",
         "rawType": "int64",
         "type": "integer"
        },
        {
         "name": "marg_adhesion",
         "rawType": "int64",
         "type": "integer"
        },
        {
         "name": "single_spith_cell_size",
         "rawType": "int64",
         "type": "integer"
        },
        {
         "name": "bare_nuclei",
         "rawType": "object",
         "type": "string"
        },
        {
         "name": "bland_chrom",
         "rawType": "int64",
         "type": "integer"
        },
        {
         "name": "norm_nucleoli",
         "rawType": "int64",
         "type": "integer"
        },
        {
         "name": "mitoses",
         "rawType": "int64",
         "type": "integer"
        },
        {
         "name": "class",
         "rawType": "int64",
         "type": "integer"
        }
       ],
       "conversionMethod": "pd.DataFrame",
       "ref": "eea516fd-fa02-452d-906f-3e100a5e194d",
       "rows": [
        [
         "0",
         "1000025",
         "5",
         "1",
         "1",
         "1",
         "2",
         "1",
         "3",
         "1",
         "1",
         "2"
        ],
        [
         "1",
         "1002945",
         "5",
         "4",
         "4",
         "5",
         "7",
         "10",
         "3",
         "2",
         "1",
         "2"
        ],
        [
         "2",
         "1015425",
         "3",
         "1",
         "1",
         "1",
         "2",
         "2",
         "3",
         "1",
         "1",
         "2"
        ],
        [
         "3",
         "1016277",
         "6",
         "8",
         "8",
         "1",
         "3",
         "4",
         "3",
         "7",
         "1",
         "2"
        ],
        [
         "4",
         "1017023",
         "4",
         "1",
         "1",
         "3",
         "2",
         "1",
         "3",
         "1",
         "1",
         "2"
        ],
        [
         "5",
         "1017122",
         "8",
         "10",
         "10",
         "8",
         "7",
         "10",
         "9",
         "7",
         "1",
         "4"
        ],
        [
         "6",
         "1018099",
         "1",
         "1",
         "1",
         "1",
         "2",
         "10",
         "3",
         "1",
         "1",
         "2"
        ],
        [
         "7",
         "1018561",
         "2",
         "1",
         "2",
         "1",
         "2",
         "1",
         "3",
         "1",
         "1",
         "2"
        ],
        [
         "8",
         "1033078",
         "2",
         "1",
         "1",
         "1",
         "2",
         "1",
         "1",
         "1",
         "5",
         "2"
        ],
        [
         "9",
         "1033078",
         "4",
         "2",
         "1",
         "1",
         "2",
         "1",
         "2",
         "1",
         "1",
         "2"
        ],
        [
         "10",
         "1035283",
         "1",
         "1",
         "1",
         "1",
         "1",
         "1",
         "3",
         "1",
         "1",
         "2"
        ],
        [
         "11",
         "1036172",
         "2",
         "1",
         "1",
         "1",
         "2",
         "1",
         "2",
         "1",
         "1",
         "2"
        ],
        [
         "12",
         "1041801",
         "5",
         "3",
         "3",
         "3",
         "2",
         "3",
         "4",
         "4",
         "1",
         "4"
        ],
        [
         "13",
         "1043999",
         "1",
         "1",
         "1",
         "1",
         "2",
         "3",
         "3",
         "1",
         "1",
         "2"
        ],
        [
         "14",
         "1044572",
         "8",
         "7",
         "5",
         "10",
         "7",
         "9",
         "5",
         "5",
         "4",
         "4"
        ],
        [
         "15",
         "1047630",
         "7",
         "4",
         "6",
         "4",
         "6",
         "1",
         "4",
         "3",
         "1",
         "4"
        ],
        [
         "16",
         "1048672",
         "4",
         "1",
         "1",
         "1",
         "2",
         "1",
         "2",
         "1",
         "1",
         "2"
        ],
        [
         "17",
         "1049815",
         "4",
         "1",
         "1",
         "1",
         "2",
         "1",
         "3",
         "1",
         "1",
         "2"
        ],
        [
         "18",
         "1050670",
         "10",
         "7",
         "7",
         "6",
         "4",
         "10",
         "4",
         "1",
         "2",
         "4"
        ],
        [
         "19",
         "1050718",
         "6",
         "1",
         "1",
         "1",
         "2",
         "1",
         "3",
         "1",
         "1",
         "2"
        ],
        [
         "20",
         "1054590",
         "7",
         "3",
         "2",
         "10",
         "5",
         "10",
         "5",
         "4",
         "4",
         "4"
        ],
        [
         "21",
         "1054593",
         "10",
         "5",
         "5",
         "3",
         "6",
         "7",
         "7",
         "10",
         "1",
         "4"
        ],
        [
         "22",
         "1056784",
         "3",
         "1",
         "1",
         "1",
         "2",
         "1",
         "2",
         "1",
         "1",
         "2"
        ],
        [
         "23",
         "1057013",
         "8",
         "4",
         "5",
         "1",
         "2",
         "?",
         "7",
         "3",
         "1",
         "4"
        ],
        [
         "24",
         "1059552",
         "1",
         "1",
         "1",
         "1",
         "2",
         "1",
         "3",
         "1",
         "1",
         "2"
        ],
        [
         "25",
         "1065726",
         "5",
         "2",
         "3",
         "4",
         "2",
         "7",
         "3",
         "6",
         "1",
         "4"
        ],
        [
         "26",
         "1066373",
         "3",
         "2",
         "1",
         "1",
         "1",
         "1",
         "2",
         "1",
         "1",
         "2"
        ],
        [
         "27",
         "1066979",
         "5",
         "1",
         "1",
         "1",
         "2",
         "1",
         "2",
         "1",
         "1",
         "2"
        ],
        [
         "28",
         "1067444",
         "2",
         "1",
         "1",
         "1",
         "2",
         "1",
         "2",
         "1",
         "1",
         "2"
        ],
        [
         "29",
         "1070935",
         "1",
         "1",
         "3",
         "1",
         "2",
         "1",
         "1",
         "1",
         "1",
         "2"
        ],
        [
         "30",
         "1070935",
         "3",
         "1",
         "1",
         "1",
         "1",
         "1",
         "2",
         "1",
         "1",
         "2"
        ],
        [
         "31",
         "1071760",
         "2",
         "1",
         "1",
         "1",
         "2",
         "1",
         "3",
         "1",
         "1",
         "2"
        ],
        [
         "32",
         "1072179",
         "10",
         "7",
         "7",
         "3",
         "8",
         "5",
         "7",
         "4",
         "3",
         "4"
        ],
        [
         "33",
         "1074610",
         "2",
         "1",
         "1",
         "2",
         "2",
         "1",
         "3",
         "1",
         "1",
         "2"
        ],
        [
         "34",
         "1075123",
         "3",
         "1",
         "2",
         "1",
         "2",
         "1",
         "2",
         "1",
         "1",
         "2"
        ],
        [
         "35",
         "1079304",
         "2",
         "1",
         "1",
         "1",
         "2",
         "1",
         "2",
         "1",
         "1",
         "2"
        ],
        [
         "36",
         "1080185",
         "10",
         "10",
         "10",
         "8",
         "6",
         "1",
         "8",
         "9",
         "1",
         "4"
        ],
        [
         "37",
         "1081791",
         "6",
         "2",
         "1",
         "1",
         "1",
         "1",
         "7",
         "1",
         "1",
         "2"
        ],
        [
         "38",
         "1084584",
         "5",
         "4",
         "4",
         "9",
         "2",
         "10",
         "5",
         "6",
         "1",
         "4"
        ],
        [
         "39",
         "1091262",
         "2",
         "5",
         "3",
         "3",
         "6",
         "7",
         "7",
         "5",
         "1",
         "4"
        ],
        [
         "40",
         "1096800",
         "6",
         "6",
         "6",
         "9",
         "6",
         "?",
         "7",
         "8",
         "1",
         "2"
        ],
        [
         "41",
         "1099510",
         "10",
         "4",
         "3",
         "1",
         "3",
         "3",
         "6",
         "5",
         "2",
         "4"
        ],
        [
         "42",
         "1100524",
         "6",
         "10",
         "10",
         "2",
         "8",
         "10",
         "7",
         "3",
         "3",
         "4"
        ],
        [
         "43",
         "1102573",
         "5",
         "6",
         "5",
         "6",
         "10",
         "1",
         "3",
         "1",
         "1",
         "4"
        ],
        [
         "44",
         "1103608",
         "10",
         "10",
         "10",
         "4",
         "8",
         "1",
         "8",
         "10",
         "1",
         "4"
        ],
        [
         "45",
         "1103722",
         "1",
         "1",
         "1",
         "1",
         "2",
         "1",
         "2",
         "1",
         "2",
         "2"
        ],
        [
         "46",
         "1105257",
         "3",
         "7",
         "7",
         "4",
         "4",
         "9",
         "4",
         "8",
         "1",
         "4"
        ],
        [
         "47",
         "1105524",
         "1",
         "1",
         "1",
         "1",
         "2",
         "1",
         "2",
         "1",
         "1",
         "2"
        ],
        [
         "48",
         "1106095",
         "4",
         "1",
         "1",
         "3",
         "2",
         "1",
         "3",
         "1",
         "1",
         "2"
        ],
        [
         "49",
         "1106829",
         "7",
         "8",
         "7",
         "2",
         "4",
         "8",
         "3",
         "8",
         "2",
         "4"
        ]
       ],
       "shape": {
        "columns": 11,
        "rows": 699
       }
      },
      "text/html": [
       "<div>\n",
       "<style scoped>\n",
       "    .dataframe tbody tr th:only-of-type {\n",
       "        vertical-align: middle;\n",
       "    }\n",
       "\n",
       "    .dataframe tbody tr th {\n",
       "        vertical-align: top;\n",
       "    }\n",
       "\n",
       "    .dataframe thead th {\n",
       "        text-align: right;\n",
       "    }\n",
       "</style>\n",
       "<table border=\"1\" class=\"dataframe\">\n",
       "  <thead>\n",
       "    <tr style=\"text-align: right;\">\n",
       "      <th></th>\n",
       "      <th>id</th>\n",
       "      <th>clump_thickness</th>\n",
       "      <th>unif_cell_size</th>\n",
       "      <th>unif_cell_shape</th>\n",
       "      <th>marg_adhesion</th>\n",
       "      <th>single_spith_cell_size</th>\n",
       "      <th>bare_nuclei</th>\n",
       "      <th>bland_chrom</th>\n",
       "      <th>norm_nucleoli</th>\n",
       "      <th>mitoses</th>\n",
       "      <th>class</th>\n",
       "    </tr>\n",
       "  </thead>\n",
       "  <tbody>\n",
       "    <tr>\n",
       "      <th>0</th>\n",
       "      <td>1000025</td>\n",
       "      <td>5</td>\n",
       "      <td>1</td>\n",
       "      <td>1</td>\n",
       "      <td>1</td>\n",
       "      <td>2</td>\n",
       "      <td>1</td>\n",
       "      <td>3</td>\n",
       "      <td>1</td>\n",
       "      <td>1</td>\n",
       "      <td>2</td>\n",
       "    </tr>\n",
       "    <tr>\n",
       "      <th>1</th>\n",
       "      <td>1002945</td>\n",
       "      <td>5</td>\n",
       "      <td>4</td>\n",
       "      <td>4</td>\n",
       "      <td>5</td>\n",
       "      <td>7</td>\n",
       "      <td>10</td>\n",
       "      <td>3</td>\n",
       "      <td>2</td>\n",
       "      <td>1</td>\n",
       "      <td>2</td>\n",
       "    </tr>\n",
       "    <tr>\n",
       "      <th>2</th>\n",
       "      <td>1015425</td>\n",
       "      <td>3</td>\n",
       "      <td>1</td>\n",
       "      <td>1</td>\n",
       "      <td>1</td>\n",
       "      <td>2</td>\n",
       "      <td>2</td>\n",
       "      <td>3</td>\n",
       "      <td>1</td>\n",
       "      <td>1</td>\n",
       "      <td>2</td>\n",
       "    </tr>\n",
       "    <tr>\n",
       "      <th>3</th>\n",
       "      <td>1016277</td>\n",
       "      <td>6</td>\n",
       "      <td>8</td>\n",
       "      <td>8</td>\n",
       "      <td>1</td>\n",
       "      <td>3</td>\n",
       "      <td>4</td>\n",
       "      <td>3</td>\n",
       "      <td>7</td>\n",
       "      <td>1</td>\n",
       "      <td>2</td>\n",
       "    </tr>\n",
       "    <tr>\n",
       "      <th>4</th>\n",
       "      <td>1017023</td>\n",
       "      <td>4</td>\n",
       "      <td>1</td>\n",
       "      <td>1</td>\n",
       "      <td>3</td>\n",
       "      <td>2</td>\n",
       "      <td>1</td>\n",
       "      <td>3</td>\n",
       "      <td>1</td>\n",
       "      <td>1</td>\n",
       "      <td>2</td>\n",
       "    </tr>\n",
       "    <tr>\n",
       "      <th>...</th>\n",
       "      <td>...</td>\n",
       "      <td>...</td>\n",
       "      <td>...</td>\n",
       "      <td>...</td>\n",
       "      <td>...</td>\n",
       "      <td>...</td>\n",
       "      <td>...</td>\n",
       "      <td>...</td>\n",
       "      <td>...</td>\n",
       "      <td>...</td>\n",
       "      <td>...</td>\n",
       "    </tr>\n",
       "    <tr>\n",
       "      <th>694</th>\n",
       "      <td>776715</td>\n",
       "      <td>3</td>\n",
       "      <td>1</td>\n",
       "      <td>1</td>\n",
       "      <td>1</td>\n",
       "      <td>3</td>\n",
       "      <td>2</td>\n",
       "      <td>1</td>\n",
       "      <td>1</td>\n",
       "      <td>1</td>\n",
       "      <td>2</td>\n",
       "    </tr>\n",
       "    <tr>\n",
       "      <th>695</th>\n",
       "      <td>841769</td>\n",
       "      <td>2</td>\n",
       "      <td>1</td>\n",
       "      <td>1</td>\n",
       "      <td>1</td>\n",
       "      <td>2</td>\n",
       "      <td>1</td>\n",
       "      <td>1</td>\n",
       "      <td>1</td>\n",
       "      <td>1</td>\n",
       "      <td>2</td>\n",
       "    </tr>\n",
       "    <tr>\n",
       "      <th>696</th>\n",
       "      <td>888820</td>\n",
       "      <td>5</td>\n",
       "      <td>10</td>\n",
       "      <td>10</td>\n",
       "      <td>3</td>\n",
       "      <td>7</td>\n",
       "      <td>3</td>\n",
       "      <td>8</td>\n",
       "      <td>10</td>\n",
       "      <td>2</td>\n",
       "      <td>4</td>\n",
       "    </tr>\n",
       "    <tr>\n",
       "      <th>697</th>\n",
       "      <td>897471</td>\n",
       "      <td>4</td>\n",
       "      <td>8</td>\n",
       "      <td>6</td>\n",
       "      <td>4</td>\n",
       "      <td>3</td>\n",
       "      <td>4</td>\n",
       "      <td>10</td>\n",
       "      <td>6</td>\n",
       "      <td>1</td>\n",
       "      <td>4</td>\n",
       "    </tr>\n",
       "    <tr>\n",
       "      <th>698</th>\n",
       "      <td>897471</td>\n",
       "      <td>4</td>\n",
       "      <td>8</td>\n",
       "      <td>8</td>\n",
       "      <td>5</td>\n",
       "      <td>4</td>\n",
       "      <td>5</td>\n",
       "      <td>10</td>\n",
       "      <td>4</td>\n",
       "      <td>1</td>\n",
       "      <td>4</td>\n",
       "    </tr>\n",
       "  </tbody>\n",
       "</table>\n",
       "<p>699 rows × 11 columns</p>\n",
       "</div>"
      ],
      "text/plain": [
       "          id  clump_thickness  unif_cell_size  unif_cell_shape  marg_adhesion  \\\n",
       "0    1000025                5               1                1              1   \n",
       "1    1002945                5               4                4              5   \n",
       "2    1015425                3               1                1              1   \n",
       "3    1016277                6               8                8              1   \n",
       "4    1017023                4               1                1              3   \n",
       "..       ...              ...             ...              ...            ...   \n",
       "694   776715                3               1                1              1   \n",
       "695   841769                2               1                1              1   \n",
       "696   888820                5              10               10              3   \n",
       "697   897471                4               8                6              4   \n",
       "698   897471                4               8                8              5   \n",
       "\n",
       "     single_spith_cell_size bare_nuclei  bland_chrom  norm_nucleoli  mitoses  \\\n",
       "0                         2           1            3              1        1   \n",
       "1                         7          10            3              2        1   \n",
       "2                         2           2            3              1        1   \n",
       "3                         3           4            3              7        1   \n",
       "4                         2           1            3              1        1   \n",
       "..                      ...         ...          ...            ...      ...   \n",
       "694                       3           2            1              1        1   \n",
       "695                       2           1            1              1        1   \n",
       "696                       7           3            8             10        2   \n",
       "697                       3           4           10              6        1   \n",
       "698                       4           5           10              4        1   \n",
       "\n",
       "     class  \n",
       "0        2  \n",
       "1        2  \n",
       "2        2  \n",
       "3        2  \n",
       "4        2  \n",
       "..     ...  \n",
       "694      2  \n",
       "695      2  \n",
       "696      4  \n",
       "697      4  \n",
       "698      4  \n",
       "\n",
       "[699 rows x 11 columns]"
      ]
     },
     "metadata": {},
     "output_type": "display_data"
    },
    {
     "name": "stdout",
     "output_type": "stream",
     "text": [
      "<class 'pandas.core.frame.DataFrame'>\n",
      "RangeIndex: 699 entries, 0 to 698\n",
      "Data columns (total 11 columns):\n",
      " #   Column                  Non-Null Count  Dtype \n",
      "---  ------                  --------------  ----- \n",
      " 0   id                      699 non-null    int64 \n",
      " 1   clump_thickness         699 non-null    int64 \n",
      " 2   unif_cell_size          699 non-null    int64 \n",
      " 3   unif_cell_shape         699 non-null    int64 \n",
      " 4   marg_adhesion           699 non-null    int64 \n",
      " 5   single_spith_cell_size  699 non-null    int64 \n",
      " 6   bare_nuclei             699 non-null    object\n",
      " 7   bland_chrom             699 non-null    int64 \n",
      " 8   norm_nucleoli           699 non-null    int64 \n",
      " 9   mitoses                 699 non-null    int64 \n",
      " 10  class                   699 non-null    int64 \n",
      "dtypes: int64(10), object(1)\n",
      "memory usage: 60.2+ KB\n"
     ]
    },
    {
     "data": {
      "text/plain": [
       "None"
      ]
     },
     "metadata": {},
     "output_type": "display_data"
    }
   ],
   "source": [
    "current_dir = os.getcwd()\n",
    "print(current_dir)\n",
    "paths = file_operations.create_project_path(\"Project 6 SVM\")\n",
    "file_name = 'breast-cancer-wisconsin.data'\n",
    "file_path = os.path.join(paths[\"data_dir\"], file_name)\n",
    "df = pd.read_csv(file_path)\n",
    "display(df)\n",
    "display(df.info())"
   ]
  },
  {
   "cell_type": "markdown",
   "metadata": {},
   "source": [
    "# Dataframe preprocessing"
   ]
  },
  {
   "cell_type": "code",
   "execution_count": 44,
   "metadata": {},
   "outputs": [],
   "source": [
    "df.replace('?', np.nan, inplace = True)\n",
    "df.dropna(inplace = True)\n",
    "df.drop(['id'], axis = 1, inplace = True)"
   ]
  },
  {
   "cell_type": "code",
   "execution_count": 48,
   "metadata": {},
   "outputs": [],
   "source": [
    "from sklearn import model_selection, svm\n",
    "X = np.array(df.drop(['class'], axis = 1)).astype('float64')\n",
    "y = np.array(df['class']).astype('float64')"
   ]
  },
  {
   "cell_type": "markdown",
   "metadata": {},
   "source": [
    "# Getting the scikit learn version of accuracy."
   ]
  },
  {
   "cell_type": "code",
   "execution_count": 49,
   "metadata": {},
   "outputs": [
    {
     "name": "stdout",
     "output_type": "stream",
     "text": [
      "10000\n",
      "0.970024817518212\n",
      "CPU times: total: 35.8 s\n",
      "Wall time: 35.8 s\n"
     ]
    }
   ],
   "source": [
    "%%time\n",
    "sk_accuracy_sum = 0\n",
    "count = 0\n",
    "for count in range(0, 10000):\n",
    "    X_train, X_test, y_train, y_test = model_selection.train_test_split(X, y, test_size = 0.2)\n",
    "    clf = svm.SVC()\n",
    "    clf.fit(X_train, y_train)\n",
    "    accuracy = clf.score(X_test, y_test)\n",
    "    sk_accuracy_sum += accuracy\n",
    "    count += 1\n",
    "\n",
    "print(count)\n",
    "print(sk_accuracy_sum / count)"
   ]
  },
  {
   "cell_type": "markdown",
   "metadata": {},
   "source": [
    "# Creating My Own GPU accelerated version(Binary Classification):"
   ]
  },
  {
   "cell_type": "markdown",
   "metadata": {},
   "source": [
    "## Thoughts:\n",
    "1. Checking the dimensions"
   ]
  },
  {
   "cell_type": "code",
   "execution_count": 50,
   "metadata": {},
   "outputs": [
    {
     "name": "stdout",
     "output_type": "stream",
     "text": [
      "<class 'numpy.ndarray'>\n",
      "(683, 9)\n"
     ]
    }
   ],
   "source": [
    "print(type(X))\n",
    "print(X.shape)"
   ]
  },
  {
   "cell_type": "markdown",
   "metadata": {},
   "source": [
    "2. The feature is 9 dimensional, so the hyper plain best seperating hyperplain should be 8 dimensional.\n",
    "3. transfer numpy array into tensor stored on gpu.\n",
    "4. Create a randomly shuffle function to shuffle the rows but not columns of X.\n",
    "5. Create a SVC weights tensor for later train to train on. \n",
    "    The objective is to find the best weights, because SVC in this case is a normal equation of 8 dimensions, we need to find the coefficients for this equation. when found, the equation is the best seperating huperplain.\n",
    "6. Randomize weights for the SVC\n",
    "7. A function to find out a single n dimentional point to a (n-1) dimentional span's shortest vector, then multiply that vector with a classifier vector to determine wheather or not that they are reversed vectors with each other.\n",
    "    This will help determine wheather a dot is on the best seperating heperplain's \"positive side\" or \"negative side\".\n",
    "\n",
    "    Note that the first vector will be considered the \"class 1\" vector, meaning that it's relation to the best seperating hyperplain will be considered \"Class 1\"\n",
    "\n",
    "    For example:\n",
    "        if a dot is [1, 2], the line best seperating hyperplain is y = x, then the shortest vector from the dot to the hyper plain is [1.5, 1.5] - [1, 2] = [0.5, -0.5]\n",
    "        the the direction of this vector [0.5, -0.5] will be considered \"class 1\". The vectors opposed to this vector will be considered \"class 2\""
   ]
  },
  {
   "cell_type": "markdown",
   "metadata": {},
   "source": [
    "## 3. Tranfer numpy into tensor stored on gpu."
   ]
  },
  {
   "cell_type": "markdown",
   "metadata": {},
   "source": [
    "### Checking availability"
   ]
  },
  {
   "cell_type": "code",
   "execution_count": 51,
   "metadata": {},
   "outputs": [
    {
     "name": "stdout",
     "output_type": "stream",
     "text": [
      "Current device: Cuda.\n"
     ]
    }
   ],
   "source": [
    "device = \"cuda\" if torch.cuda.is_available() else \"cpu\"\n",
    "print(f\"Current device: {device.capitalize()}.\")"
   ]
  },
  {
   "cell_type": "markdown",
   "metadata": {},
   "source": [
    "### Transformation."
   ]
  },
  {
   "cell_type": "code",
   "execution_count": 56,
   "metadata": {},
   "outputs": [
    {
     "name": "stdout",
     "output_type": "stream",
     "text": [
      "torch.Size([683, 9])\n",
      "torch.Size([683])\n"
     ]
    }
   ],
   "source": [
    "X_gpu = torch.tensor(X, device = device)\n",
    "y_gpu = torch.tensor(y, device = device)\n",
    "print(X_gpu.shape)\n",
    "print(y_gpu.shape)"
   ]
  },
  {
   "cell_type": "markdown",
   "metadata": {},
   "source": [
    "## 4. Shuffle the tensors' row vectors."
   ]
  },
  {
   "cell_type": "code",
   "execution_count": null,
   "metadata": {},
   "outputs": [
    {
     "data": {
      "text/plain": [
       "torch.Size([683, 9])"
      ]
     },
     "execution_count": 120,
     "metadata": {},
     "output_type": "execute_result"
    }
   ],
   "source": [
    "indices = torch.randperm(X_gpu.shape[0])\n",
    "X_gpu = X_gpu[indices]"
   ]
  },
  {
   "cell_type": "markdown",
   "metadata": {},
   "source": [
    "## 5. Find soft margin and SVC between each features.(Handling outliers and misclassification)"
   ]
  },
  {
   "cell_type": "markdown",
   "metadata": {},
   "source": [
    "Equations for the SVC:\n",
    "\n",
    "`Ax_1 + Bx_2 + Cx_3 + ... + Hx_8 + b = 0`"
   ]
  },
  {
   "cell_type": "markdown",
   "metadata": {},
   "source": [
    "`W = [A, B, C, D, E, F, G, H]`\n",
    "\n",
    "`X = [x_1, x_2, x_3, x_4, x_5, x_6, x_7, x_8]`\n",
    "\n",
    "`b` is a constant"
   ]
  },
  {
   "cell_type": "markdown",
   "metadata": {},
   "source": [
    "### Create a random "
   ]
  },
  {
   "cell_type": "code",
   "execution_count": 141,
   "metadata": {},
   "outputs": [
    {
     "name": "stdout",
     "output_type": "stream",
     "text": [
      "torch.Size([1, 8])\n",
      "tensor([[0.8905, 0.5573, 0.9193, 0.3907, 0.9963, 0.7898, 0.4790, 0.8196]],\n",
      "       device='cuda:0', dtype=torch.float64)\n",
      "torch.float64\n",
      "tensor(0., device='cuda:0', dtype=torch.float64)\n"
     ]
    }
   ],
   "source": [
    "# print(X.shape)\n",
    "# (683, 9)\n",
    "# Randomizing a weight matrix to adjust.\n",
    "SVC_weights = torch.rand(1, X.shape[1] - 1, dtype = torch.float64, device = device)\n",
    "SVC_bias = torch.tensor(0.0, dtype=torch.float64, device=device)\n",
    "print(SVC_weights.shape)\n",
    "print(SVC_weights)\n",
    "print(SVC_weights.dtype)\n",
    "print(SVC_bias)"
   ]
  },
  {
   "cell_type": "markdown",
   "metadata": {},
   "source": [
    "### Function to culculate the n dimensional direction vector."
   ]
  },
  {
   "cell_type": "code",
   "execution_count": null,
   "metadata": {},
   "outputs": [],
   "source": [
    "def cal_n_point_dir_vec(n_point, hyperplain_weights, hyperplain_bias):\n",
    "    # n point should be n dimensional row vector\n",
    "    # hyperplain_weights shoule be a (n - 1) row vector(row vector: 1 by n)\n",
    "    # hyperplain_bias should be a float 64 number\n",
    "    \n",
    "    # Check input valitility function HERE:\n",
    "    \n",
    "    "
   ]
  }
 ],
 "metadata": {
  "kernelspec": {
   "display_name": ".venv",
   "language": "python",
   "name": "python3"
  },
  "language_info": {
   "codemirror_mode": {
    "name": "ipython",
    "version": 3
   },
   "file_extension": ".py",
   "mimetype": "text/x-python",
   "name": "python",
   "nbconvert_exporter": "python",
   "pygments_lexer": "ipython3",
   "version": "3.11.8"
  }
 },
 "nbformat": 4,
 "nbformat_minor": 2
}
