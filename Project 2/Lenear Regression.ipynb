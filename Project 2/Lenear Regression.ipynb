{
    "cells": [
        {
            "cell_type": "markdown",
            "metadata": {},
            "source": [
                "# Importing"
            ]
        },
        {
            "cell_type": "code",
            "execution_count": null,
            "metadata": {},
            "outputs": [],
            "source": [
                "import pandas as pd\n",
                "import math\n",
                "import numpy as np\n",
                "from sklearn import preprocessing, model_selection\n",
                "from sklearn.linear_model import LinearRegression"
            ]
        },
        {
            "cell_type": "markdown",
            "metadata": {},
            "source": [
                "Use to plot the data"
            ]
        },
        {
            "cell_type": "code",
            "execution_count": 250,
            "metadata": {},
            "outputs": [],
            "source": [
                "import matplotlib.pyplot as plt\n"
            ]
        },
        {
            "cell_type": "markdown",
            "metadata": {},
            "source": [
                "Use to make data look better"
            ]
        },
        {
            "cell_type": "code",
            "execution_count": 251,
            "metadata": {},
            "outputs": [],
            "source": [
                "from matplotlib import style"
            ]
        },
        {
            "cell_type": "markdown",
            "metadata": {},
            "source": [
                "Use to specify the style of the plot"
            ]
        },
        {
            "cell_type": "code",
            "execution_count": 252,
            "metadata": {},
            "outputs": [],
            "source": [
                "style.use('ggplot')"
            ]
        },
        {
            "cell_type": "markdown",
            "metadata": {},
            "source": [
                "# Selecting Files"
            ]
        },
        {
            "cell_type": "code",
            "execution_count": 253,
            "metadata": {},
            "outputs": [],
            "source": [
                "file_path = r'D:\\ImportanFiles\\Coding Related\\Repositories\\Machine Learning project related\\Project 2\\Data\\600873_metadata_utf8.csv'\n",
                "stock_df = pd.read_csv(file_path)"
            ]
        },
        {
            "cell_type": "markdown",
            "metadata": {},
            "source": [
                "# Calculating nessasary indexes\n",
                "and add them to the stock_df dataframe"
            ]
        },
        {
            "cell_type": "code",
            "execution_count": 254,
            "metadata": {},
            "outputs": [
                {
                    "data": {
                        "text/html": [
                            "<div>\n",
                            "<style scoped>\n",
                            "    .dataframe tbody tr th:only-of-type {\n",
                            "        vertical-align: middle;\n",
                            "    }\n",
                            "\n",
                            "    .dataframe tbody tr th {\n",
                            "        vertical-align: top;\n",
                            "    }\n",
                            "\n",
                            "    .dataframe thead th {\n",
                            "        text-align: right;\n",
                            "    }\n",
                            "</style>\n",
                            "<table border=\"1\" class=\"dataframe\">\n",
                            "  <thead>\n",
                            "    <tr style=\"text-align: right;\">\n",
                            "      <th></th>\n",
                            "      <th>Stock Code</th>\n",
                            "      <th>Stock Name</th>\n",
                            "      <th>Trading Time</th>\n",
                            "      <th>Opening Price</th>\n",
                            "      <th>Highest Price</th>\n",
                            "      <th>Lowest Price</th>\n",
                            "      <th>Closing Price</th>\n",
                            "      <th>Price Change</th>\n",
                            "      <th>Price Change Percentage</th>\n",
                            "      <th>Trading Volume</th>\n",
                            "      <th>Trading Amount</th>\n",
                            "      <th>HL_PCT</th>\n",
                            "      <th>PCT_change</th>\n",
                            "    </tr>\n",
                            "  </thead>\n",
                            "  <tbody>\n",
                            "    <tr>\n",
                            "      <th>0</th>\n",
                            "      <td>600873</td>\n",
                            "      <td>梅花生物</td>\n",
                            "      <td>2/17/1995</td>\n",
                            "      <td>5.50</td>\n",
                            "      <td>6.25</td>\n",
                            "      <td>5.50</td>\n",
                            "      <td>5.95</td>\n",
                            "      <td>--</td>\n",
                            "      <td>--</td>\n",
                            "      <td>11,954,900</td>\n",
                            "      <td>69,198,000</td>\n",
                            "      <td>5.042017</td>\n",
                            "      <td>8.181818</td>\n",
                            "    </tr>\n",
                            "    <tr>\n",
                            "      <th>1</th>\n",
                            "      <td>600873</td>\n",
                            "      <td>梅花生物</td>\n",
                            "      <td>2/20/1995</td>\n",
                            "      <td>5.81</td>\n",
                            "      <td>5.95</td>\n",
                            "      <td>5.70</td>\n",
                            "      <td>5.76</td>\n",
                            "      <td>-0.19</td>\n",
                            "      <td>-3.1933</td>\n",
                            "      <td>3,859,200</td>\n",
                            "      <td>22,417,000</td>\n",
                            "      <td>3.298611</td>\n",
                            "      <td>-0.860585</td>\n",
                            "    </tr>\n",
                            "    <tr>\n",
                            "      <th>2</th>\n",
                            "      <td>600873</td>\n",
                            "      <td>梅花生物</td>\n",
                            "      <td>2/21/1995</td>\n",
                            "      <td>5.75</td>\n",
                            "      <td>5.88</td>\n",
                            "      <td>5.61</td>\n",
                            "      <td>5.88</td>\n",
                            "      <td>0.12</td>\n",
                            "      <td>2.0833</td>\n",
                            "      <td>2,091,500</td>\n",
                            "      <td>12,031,000</td>\n",
                            "      <td>0.000000</td>\n",
                            "      <td>2.260870</td>\n",
                            "    </tr>\n",
                            "    <tr>\n",
                            "      <th>3</th>\n",
                            "      <td>600873</td>\n",
                            "      <td>梅花生物</td>\n",
                            "      <td>2/22/1995</td>\n",
                            "      <td>5.86</td>\n",
                            "      <td>8.69</td>\n",
                            "      <td>5.80</td>\n",
                            "      <td>8.32</td>\n",
                            "      <td>2.44</td>\n",
                            "      <td>41.4966</td>\n",
                            "      <td>16,299,000</td>\n",
                            "      <td>118,230,000</td>\n",
                            "      <td>4.447115</td>\n",
                            "      <td>41.979522</td>\n",
                            "    </tr>\n",
                            "    <tr>\n",
                            "      <th>4</th>\n",
                            "      <td>600873</td>\n",
                            "      <td>梅花生物</td>\n",
                            "      <td>2/23/1995</td>\n",
                            "      <td>7.98</td>\n",
                            "      <td>9.99</td>\n",
                            "      <td>7.81</td>\n",
                            "      <td>9.99</td>\n",
                            "      <td>1.67</td>\n",
                            "      <td>20.0721</td>\n",
                            "      <td>18,309,200</td>\n",
                            "      <td>158,378,000</td>\n",
                            "      <td>0.000000</td>\n",
                            "      <td>25.187970</td>\n",
                            "    </tr>\n",
                            "  </tbody>\n",
                            "</table>\n",
                            "</div>"
                        ],
                        "text/plain": [
                            "   Stock Code Stock Name Trading Time  Opening Price  Highest Price  \\\n",
                            "0      600873       梅花生物    2/17/1995           5.50           6.25   \n",
                            "1      600873       梅花生物    2/20/1995           5.81           5.95   \n",
                            "2      600873       梅花生物    2/21/1995           5.75           5.88   \n",
                            "3      600873       梅花生物    2/22/1995           5.86           8.69   \n",
                            "4      600873       梅花生物    2/23/1995           7.98           9.99   \n",
                            "\n",
                            "   Lowest Price  Closing Price Price Change Price Change Percentage  \\\n",
                            "0          5.50           5.95           --                      --   \n",
                            "1          5.70           5.76        -0.19                 -3.1933   \n",
                            "2          5.61           5.88         0.12                  2.0833   \n",
                            "3          5.80           8.32         2.44                 41.4966   \n",
                            "4          7.81           9.99         1.67                 20.0721   \n",
                            "\n",
                            "  Trading Volume Trading Amount    HL_PCT  PCT_change  \n",
                            "0     11,954,900     69,198,000  5.042017    8.181818  \n",
                            "1      3,859,200     22,417,000  3.298611   -0.860585  \n",
                            "2      2,091,500     12,031,000  0.000000    2.260870  \n",
                            "3     16,299,000    118,230,000  4.447115   41.979522  \n",
                            "4     18,309,200    158,378,000  0.000000   25.187970  "
                        ]
                    },
                    "metadata": {},
                    "output_type": "display_data"
                }
            ],
            "source": [
                "stock_df['HL_PCT'] = (stock_df['Highest Price'] - stock_df['Closing Price']) / stock_df['Closing Price'] * 100.0\n",
                "stock_df['PCT_change'] = (stock_df['Closing Price'] - stock_df['Opening Price']) / stock_df['Opening Price'] * 100.0\n",
                "display(stock_df.head())"
            ]
        },
        {
            "cell_type": "markdown",
            "metadata": {},
            "source": [
                "# Change the trading time into pandas datetime data type."
            ]
        },
        {
            "cell_type": "code",
            "execution_count": 255,
            "metadata": {},
            "outputs": [
                {
                    "name": "stdout",
                    "output_type": "stream",
                    "text": [
                        "datetime64[ns]\n"
                    ]
                }
            ],
            "source": [
                "stock_df['Trading Time'] = pd.to_datetime(stock_df['Trading Time'])\n",
                "print(stock_df['Trading Time'].dtype)"
            ]
        },
        {
            "cell_type": "markdown",
            "metadata": {},
            "source": [
                "# Choose data columns we want and drop the rest"
            ]
        },
        {
            "cell_type": "code",
            "execution_count": 256,
            "metadata": {},
            "outputs": [
                {
                    "data": {
                        "text/html": [
                            "<div>\n",
                            "<style scoped>\n",
                            "    .dataframe tbody tr th:only-of-type {\n",
                            "        vertical-align: middle;\n",
                            "    }\n",
                            "\n",
                            "    .dataframe tbody tr th {\n",
                            "        vertical-align: top;\n",
                            "    }\n",
                            "\n",
                            "    .dataframe thead th {\n",
                            "        text-align: right;\n",
                            "    }\n",
                            "</style>\n",
                            "<table border=\"1\" class=\"dataframe\">\n",
                            "  <thead>\n",
                            "    <tr style=\"text-align: right;\">\n",
                            "      <th></th>\n",
                            "      <th>Trading Time</th>\n",
                            "      <th>Closing Price</th>\n",
                            "      <th>HL_PCT</th>\n",
                            "      <th>PCT_change</th>\n",
                            "      <th>Trading Volume</th>\n",
                            "    </tr>\n",
                            "  </thead>\n",
                            "  <tbody>\n",
                            "    <tr>\n",
                            "      <th>0</th>\n",
                            "      <td>1995-02-17</td>\n",
                            "      <td>5.95</td>\n",
                            "      <td>5.042017</td>\n",
                            "      <td>8.181818</td>\n",
                            "      <td>11,954,900</td>\n",
                            "    </tr>\n",
                            "    <tr>\n",
                            "      <th>1</th>\n",
                            "      <td>1995-02-20</td>\n",
                            "      <td>5.76</td>\n",
                            "      <td>3.298611</td>\n",
                            "      <td>-0.860585</td>\n",
                            "      <td>3,859,200</td>\n",
                            "    </tr>\n",
                            "    <tr>\n",
                            "      <th>2</th>\n",
                            "      <td>1995-02-21</td>\n",
                            "      <td>5.88</td>\n",
                            "      <td>0.000000</td>\n",
                            "      <td>2.260870</td>\n",
                            "      <td>2,091,500</td>\n",
                            "    </tr>\n",
                            "    <tr>\n",
                            "      <th>3</th>\n",
                            "      <td>1995-02-22</td>\n",
                            "      <td>8.32</td>\n",
                            "      <td>4.447115</td>\n",
                            "      <td>41.979522</td>\n",
                            "      <td>16,299,000</td>\n",
                            "    </tr>\n",
                            "    <tr>\n",
                            "      <th>4</th>\n",
                            "      <td>1995-02-23</td>\n",
                            "      <td>9.99</td>\n",
                            "      <td>0.000000</td>\n",
                            "      <td>25.187970</td>\n",
                            "      <td>18,309,200</td>\n",
                            "    </tr>\n",
                            "  </tbody>\n",
                            "</table>\n",
                            "</div>"
                        ],
                        "text/plain": [
                            "  Trading Time  Closing Price    HL_PCT  PCT_change Trading Volume\n",
                            "0   1995-02-17           5.95  5.042017    8.181818     11,954,900\n",
                            "1   1995-02-20           5.76  3.298611   -0.860585      3,859,200\n",
                            "2   1995-02-21           5.88  0.000000    2.260870      2,091,500\n",
                            "3   1995-02-22           8.32  4.447115   41.979522     16,299,000\n",
                            "4   1995-02-23           9.99  0.000000   25.187970     18,309,200"
                        ]
                    },
                    "metadata": {},
                    "output_type": "display_data"
                }
            ],
            "source": [
                "stock_df = stock_df[['Trading Time', 'Closing Price', 'HL_PCT', 'PCT_change', 'Trading Volume']]\n",
                "display(stock_df.head())"
            ]
        },
        {
            "cell_type": "markdown",
            "metadata": {},
            "source": [
                "Remove commas and convert to numeric, since in metadata the trading volume contain commas"
            ]
        },
        {
            "cell_type": "code",
            "execution_count": 257,
            "metadata": {},
            "outputs": [
                {
                    "data": {
                        "text/html": [
                            "<div>\n",
                            "<style scoped>\n",
                            "    .dataframe tbody tr th:only-of-type {\n",
                            "        vertical-align: middle;\n",
                            "    }\n",
                            "\n",
                            "    .dataframe tbody tr th {\n",
                            "        vertical-align: top;\n",
                            "    }\n",
                            "\n",
                            "    .dataframe thead th {\n",
                            "        text-align: right;\n",
                            "    }\n",
                            "</style>\n",
                            "<table border=\"1\" class=\"dataframe\">\n",
                            "  <thead>\n",
                            "    <tr style=\"text-align: right;\">\n",
                            "      <th></th>\n",
                            "      <th>Trading Time</th>\n",
                            "      <th>Closing Price</th>\n",
                            "      <th>HL_PCT</th>\n",
                            "      <th>PCT_change</th>\n",
                            "      <th>Trading Volume</th>\n",
                            "    </tr>\n",
                            "  </thead>\n",
                            "  <tbody>\n",
                            "    <tr>\n",
                            "      <th>0</th>\n",
                            "      <td>1995-02-17</td>\n",
                            "      <td>5.95</td>\n",
                            "      <td>5.042017</td>\n",
                            "      <td>8.181818</td>\n",
                            "      <td>11954900.0</td>\n",
                            "    </tr>\n",
                            "    <tr>\n",
                            "      <th>1</th>\n",
                            "      <td>1995-02-20</td>\n",
                            "      <td>5.76</td>\n",
                            "      <td>3.298611</td>\n",
                            "      <td>-0.860585</td>\n",
                            "      <td>3859200.0</td>\n",
                            "    </tr>\n",
                            "    <tr>\n",
                            "      <th>2</th>\n",
                            "      <td>1995-02-21</td>\n",
                            "      <td>5.88</td>\n",
                            "      <td>0.000000</td>\n",
                            "      <td>2.260870</td>\n",
                            "      <td>2091500.0</td>\n",
                            "    </tr>\n",
                            "    <tr>\n",
                            "      <th>3</th>\n",
                            "      <td>1995-02-22</td>\n",
                            "      <td>8.32</td>\n",
                            "      <td>4.447115</td>\n",
                            "      <td>41.979522</td>\n",
                            "      <td>16299000.0</td>\n",
                            "    </tr>\n",
                            "    <tr>\n",
                            "      <th>4</th>\n",
                            "      <td>1995-02-23</td>\n",
                            "      <td>9.99</td>\n",
                            "      <td>0.000000</td>\n",
                            "      <td>25.187970</td>\n",
                            "      <td>18309200.0</td>\n",
                            "    </tr>\n",
                            "  </tbody>\n",
                            "</table>\n",
                            "</div>"
                        ],
                        "text/plain": [
                            "  Trading Time  Closing Price    HL_PCT  PCT_change  Trading Volume\n",
                            "0   1995-02-17           5.95  5.042017    8.181818      11954900.0\n",
                            "1   1995-02-20           5.76  3.298611   -0.860585       3859200.0\n",
                            "2   1995-02-21           5.88  0.000000    2.260870       2091500.0\n",
                            "3   1995-02-22           8.32  4.447115   41.979522      16299000.0\n",
                            "4   1995-02-23           9.99  0.000000   25.187970      18309200.0"
                        ]
                    },
                    "metadata": {},
                    "output_type": "display_data"
                }
            ],
            "source": [
                "stock_df['Trading Volume'] = stock_df['Trading Volume'].replace({',': ''}, regex=True).astype(float)\n",
                "display(stock_df.head())"
            ]
        },
        {
            "cell_type": "markdown",
            "metadata": {},
            "source": [
                "# Setting up a name for target column attribute"
            ]
        },
        {
            "cell_type": "code",
            "execution_count": 258,
            "metadata": {},
            "outputs": [],
            "source": [
                "forecast_col = 'Closing Price'"
            ]
        },
        {
            "cell_type": "markdown",
            "metadata": {},
            "source": [
                "# Tell the code how many days ahead will it be forcasting"
            ]
        },
        {
            "cell_type": "code",
            "execution_count": 259,
            "metadata": {},
            "outputs": [
                {
                    "name": "stdout",
                    "output_type": "stream",
                    "text": [
                        "6885 7\n"
                    ]
                }
            ],
            "source": [
                "forecast_out = int(math.ceil(0.001*len(stock_df)))\n",
                "print(len(stock_df), forecast_out)\n",
                "# The 0.001 percentage of the data is 7 days, so we are predicting the closing price for the 7 days later"
            ]
        },
        {
            "cell_type": "markdown",
            "metadata": {},
            "source": [
                "# Managing the answers\n",
                "The answer is the closing price 7(forcast_out) days later.\n",
                "\n",
                "We then shift the data's targeted attributes up for 7 days and assign them into the 'Label' column."
            ]
        },
        {
            "cell_type": "code",
            "execution_count": 260,
            "metadata": {},
            "outputs": [
                {
                    "name": "stdout",
                    "output_type": "stream",
                    "text": [
                        "7\n"
                    ]
                },
                {
                    "data": {
                        "text/html": [
                            "<div>\n",
                            "<style scoped>\n",
                            "    .dataframe tbody tr th:only-of-type {\n",
                            "        vertical-align: middle;\n",
                            "    }\n",
                            "\n",
                            "    .dataframe tbody tr th {\n",
                            "        vertical-align: top;\n",
                            "    }\n",
                            "\n",
                            "    .dataframe thead th {\n",
                            "        text-align: right;\n",
                            "    }\n",
                            "</style>\n",
                            "<table border=\"1\" class=\"dataframe\">\n",
                            "  <thead>\n",
                            "    <tr style=\"text-align: right;\">\n",
                            "      <th></th>\n",
                            "      <th>Trading Time</th>\n",
                            "      <th>Closing Price</th>\n",
                            "      <th>HL_PCT</th>\n",
                            "      <th>PCT_change</th>\n",
                            "      <th>Trading Volume</th>\n",
                            "      <th>Label</th>\n",
                            "    </tr>\n",
                            "  </thead>\n",
                            "  <tbody>\n",
                            "    <tr>\n",
                            "      <th>6875</th>\n",
                            "      <td>2025-01-14</td>\n",
                            "      <td>9.67</td>\n",
                            "      <td>1.034126</td>\n",
                            "      <td>0.729167</td>\n",
                            "      <td>20879042.0</td>\n",
                            "      <td>9.76</td>\n",
                            "    </tr>\n",
                            "    <tr>\n",
                            "      <th>6876</th>\n",
                            "      <td>2025-01-15</td>\n",
                            "      <td>9.79</td>\n",
                            "      <td>0.817160</td>\n",
                            "      <td>1.240951</td>\n",
                            "      <td>26232207.0</td>\n",
                            "      <td>9.83</td>\n",
                            "    </tr>\n",
                            "    <tr>\n",
                            "      <th>6877</th>\n",
                            "      <td>2025-01-16</td>\n",
                            "      <td>9.78</td>\n",
                            "      <td>1.635992</td>\n",
                            "      <td>-0.710660</td>\n",
                            "      <td>18791900.0</td>\n",
                            "      <td>10.03</td>\n",
                            "    </tr>\n",
                            "    <tr>\n",
                            "      <th>6878</th>\n",
                            "      <td>2025-01-17</td>\n",
                            "      <td>9.82</td>\n",
                            "      <td>0.712831</td>\n",
                            "      <td>0.511771</td>\n",
                            "      <td>17211802.0</td>\n",
                            "      <td>NaN</td>\n",
                            "    </tr>\n",
                            "    <tr>\n",
                            "      <th>6879</th>\n",
                            "      <td>2025-01-20</td>\n",
                            "      <td>9.84</td>\n",
                            "      <td>1.626016</td>\n",
                            "      <td>-0.505561</td>\n",
                            "      <td>19425301.0</td>\n",
                            "      <td>NaN</td>\n",
                            "    </tr>\n",
                            "    <tr>\n",
                            "      <th>6880</th>\n",
                            "      <td>2025-01-21</td>\n",
                            "      <td>9.72</td>\n",
                            "      <td>1.748971</td>\n",
                            "      <td>-1.419878</td>\n",
                            "      <td>17641072.0</td>\n",
                            "      <td>NaN</td>\n",
                            "    </tr>\n",
                            "    <tr>\n",
                            "      <th>6881</th>\n",
                            "      <td>2025-01-22</td>\n",
                            "      <td>9.78</td>\n",
                            "      <td>0.204499</td>\n",
                            "      <td>1.033058</td>\n",
                            "      <td>15627117.0</td>\n",
                            "      <td>NaN</td>\n",
                            "    </tr>\n",
                            "    <tr>\n",
                            "      <th>6882</th>\n",
                            "      <td>2025-01-23</td>\n",
                            "      <td>9.76</td>\n",
                            "      <td>1.639344</td>\n",
                            "      <td>-0.712106</td>\n",
                            "      <td>11882532.0</td>\n",
                            "      <td>NaN</td>\n",
                            "    </tr>\n",
                            "    <tr>\n",
                            "      <th>6883</th>\n",
                            "      <td>2025-01-24</td>\n",
                            "      <td>9.83</td>\n",
                            "      <td>0.305188</td>\n",
                            "      <td>0.820513</td>\n",
                            "      <td>15612997.0</td>\n",
                            "      <td>NaN</td>\n",
                            "    </tr>\n",
                            "    <tr>\n",
                            "      <th>6884</th>\n",
                            "      <td>2025-01-27</td>\n",
                            "      <td>10.03</td>\n",
                            "      <td>0.897308</td>\n",
                            "      <td>1.930894</td>\n",
                            "      <td>19881690.0</td>\n",
                            "      <td>NaN</td>\n",
                            "    </tr>\n",
                            "  </tbody>\n",
                            "</table>\n",
                            "</div>"
                        ],
                        "text/plain": [
                            "     Trading Time  Closing Price    HL_PCT  PCT_change  Trading Volume  Label\n",
                            "6875   2025-01-14           9.67  1.034126    0.729167      20879042.0   9.76\n",
                            "6876   2025-01-15           9.79  0.817160    1.240951      26232207.0   9.83\n",
                            "6877   2025-01-16           9.78  1.635992   -0.710660      18791900.0  10.03\n",
                            "6878   2025-01-17           9.82  0.712831    0.511771      17211802.0    NaN\n",
                            "6879   2025-01-20           9.84  1.626016   -0.505561      19425301.0    NaN\n",
                            "6880   2025-01-21           9.72  1.748971   -1.419878      17641072.0    NaN\n",
                            "6881   2025-01-22           9.78  0.204499    1.033058      15627117.0    NaN\n",
                            "6882   2025-01-23           9.76  1.639344   -0.712106      11882532.0    NaN\n",
                            "6883   2025-01-24           9.83  0.305188    0.820513      15612997.0    NaN\n",
                            "6884   2025-01-27          10.03  0.897308    1.930894      19881690.0    NaN"
                        ]
                    },
                    "metadata": {},
                    "output_type": "display_data"
                }
            ],
            "source": [
                "stock_df['Label'] = stock_df[forecast_col].shift(-forecast_out)\n",
                "print(forecast_out)\n",
                "display(stock_df.tail(10))"
            ]
        },
        {
            "cell_type": "markdown",
            "metadata": {},
            "source": [
                "# Spliting and Managing the features\n",
                "\n",
                "Split the dataframe where X is the features and y is the answer\n",
                "\n",
                "1. Remove answer(label) from X which is the features\n",
                "2. Scale the features.\n",
                "3. Store remoced answers into y\n",
                "4. drop NaN values created by the shifting, since shift up will create a 7 days of label section NaN values, so make sure to drop these when you create 'Label' column. \n",
                "5. By doing these following two blocks, you split the original data into 4 parts: \n",
                "\n",
                "   1. (original days - forcast_out days)'s data without answers: `X`\n",
                "   2. (original days - forcast_out days)'s answers without data: `y`\n",
                "   3. (forcast_out days)'s data without answers: `X_lately`\n",
                "stock_df.dropna(inplace = True)\n",
                "   1. (forcast_out days)'s answers which are NaN values because of the shifting, and is removed by the `stock_df.dropna(inplace = True)` line following."
            ]
        },
        {
            "cell_type": "code",
            "execution_count": 261,
            "metadata": {},
            "outputs": [
                {
                    "data": {
                        "text/plain": [
                            "0      1995-02-17\n",
                            "1      1995-02-20\n",
                            "2      1995-02-21\n",
                            "3      1995-02-22\n",
                            "4      1995-02-23\n",
                            "          ...    \n",
                            "6873   2025-01-10\n",
                            "6874   2025-01-13\n",
                            "6875   2025-01-14\n",
                            "6876   2025-01-15\n",
                            "6877   2025-01-16\n",
                            "Name: Trading Time, Length: 6878, dtype: datetime64[ns]"
                        ]
                    },
                    "metadata": {},
                    "output_type": "display_data"
                },
                {
                    "data": {
                        "text/plain": [
                            "6878   2025-01-17\n",
                            "6879   2025-01-20\n",
                            "6880   2025-01-21\n",
                            "6881   2025-01-22\n",
                            "6882   2025-01-23\n",
                            "6883   2025-01-24\n",
                            "6884   2025-01-27\n",
                            "Name: Trading Time, dtype: datetime64[ns]"
                        ]
                    },
                    "metadata": {},
                    "output_type": "display_data"
                }
            ],
            "source": [
                "dates = stock_df['Trading Time'][:-forecast_out]\n",
                "dates_lately = stock_df['Trading Time'][-forecast_out:]\n",
                "\n",
                "display(dates)\n",
                "display(dates_lately)"
            ]
        },
        {
            "cell_type": "code",
            "execution_count": 262,
            "metadata": {},
            "outputs": [],
            "source": [
                "X = np.array(stock_df.drop(['Label', 'Trading Time'], axis = 1))\n",
                "X = preprocessing.scale(X)\n",
                "X = X[:-forecast_out]\n",
                "X_lately = X[-forecast_out:]\n",
                "\n",
                "# display(X)\n",
                "# display(X_lately)\n",
                "# display(stock_df.tail(10))"
            ]
        },
        {
            "cell_type": "markdown",
            "metadata": {},
            "source": [
                "## Removing NaN values caused by the shifting"
            ]
        },
        {
            "cell_type": "code",
            "execution_count": 263,
            "metadata": {},
            "outputs": [],
            "source": [
                "stock_df.dropna(inplace = True)"
            ]
        },
        {
            "cell_type": "code",
            "execution_count": 264,
            "metadata": {},
            "outputs": [
                {
                    "data": {
                        "text/plain": [
                            "array([ 8.1 ,  8.23,  8.18, ...,  9.76,  9.83, 10.03], shape=(6878,))"
                        ]
                    },
                    "metadata": {},
                    "output_type": "display_data"
                },
                {
                    "data": {
                        "text/html": [
                            "<div>\n",
                            "<style scoped>\n",
                            "    .dataframe tbody tr th:only-of-type {\n",
                            "        vertical-align: middle;\n",
                            "    }\n",
                            "\n",
                            "    .dataframe tbody tr th {\n",
                            "        vertical-align: top;\n",
                            "    }\n",
                            "\n",
                            "    .dataframe thead th {\n",
                            "        text-align: right;\n",
                            "    }\n",
                            "</style>\n",
                            "<table border=\"1\" class=\"dataframe\">\n",
                            "  <thead>\n",
                            "    <tr style=\"text-align: right;\">\n",
                            "      <th></th>\n",
                            "      <th>Trading Time</th>\n",
                            "      <th>Closing Price</th>\n",
                            "      <th>HL_PCT</th>\n",
                            "      <th>PCT_change</th>\n",
                            "      <th>Trading Volume</th>\n",
                            "      <th>Label</th>\n",
                            "    </tr>\n",
                            "  </thead>\n",
                            "  <tbody>\n",
                            "    <tr>\n",
                            "      <th>6868</th>\n",
                            "      <td>2025-01-03</td>\n",
                            "      <td>9.83</td>\n",
                            "      <td>2.950153</td>\n",
                            "      <td>-0.807265</td>\n",
                            "      <td>26463900.0</td>\n",
                            "      <td>9.67</td>\n",
                            "    </tr>\n",
                            "    <tr>\n",
                            "      <th>6869</th>\n",
                            "      <td>2025-01-06</td>\n",
                            "      <td>9.89</td>\n",
                            "      <td>1.314459</td>\n",
                            "      <td>0.406091</td>\n",
                            "      <td>23598802.0</td>\n",
                            "      <td>9.79</td>\n",
                            "    </tr>\n",
                            "    <tr>\n",
                            "      <th>6870</th>\n",
                            "      <td>2025-01-07</td>\n",
                            "      <td>9.81</td>\n",
                            "      <td>1.630989</td>\n",
                            "      <td>-0.808898</td>\n",
                            "      <td>24758020.0</td>\n",
                            "      <td>9.78</td>\n",
                            "    </tr>\n",
                            "    <tr>\n",
                            "      <th>6871</th>\n",
                            "      <td>2025-01-08</td>\n",
                            "      <td>9.71</td>\n",
                            "      <td>1.132853</td>\n",
                            "      <td>-0.512295</td>\n",
                            "      <td>33416543.0</td>\n",
                            "      <td>9.82</td>\n",
                            "    </tr>\n",
                            "    <tr>\n",
                            "      <th>6872</th>\n",
                            "      <td>2025-01-09</td>\n",
                            "      <td>9.58</td>\n",
                            "      <td>1.670146</td>\n",
                            "      <td>-0.519211</td>\n",
                            "      <td>19952842.0</td>\n",
                            "      <td>9.84</td>\n",
                            "    </tr>\n",
                            "    <tr>\n",
                            "      <th>6873</th>\n",
                            "      <td>2025-01-10</td>\n",
                            "      <td>9.44</td>\n",
                            "      <td>1.800847</td>\n",
                            "      <td>-1.666667</td>\n",
                            "      <td>14697048.0</td>\n",
                            "      <td>9.72</td>\n",
                            "    </tr>\n",
                            "    <tr>\n",
                            "      <th>6874</th>\n",
                            "      <td>2025-01-13</td>\n",
                            "      <td>9.61</td>\n",
                            "      <td>0.416233</td>\n",
                            "      <td>2.125399</td>\n",
                            "      <td>25370178.0</td>\n",
                            "      <td>9.78</td>\n",
                            "    </tr>\n",
                            "    <tr>\n",
                            "      <th>6875</th>\n",
                            "      <td>2025-01-14</td>\n",
                            "      <td>9.67</td>\n",
                            "      <td>1.034126</td>\n",
                            "      <td>0.729167</td>\n",
                            "      <td>20879042.0</td>\n",
                            "      <td>9.76</td>\n",
                            "    </tr>\n",
                            "    <tr>\n",
                            "      <th>6876</th>\n",
                            "      <td>2025-01-15</td>\n",
                            "      <td>9.79</td>\n",
                            "      <td>0.817160</td>\n",
                            "      <td>1.240951</td>\n",
                            "      <td>26232207.0</td>\n",
                            "      <td>9.83</td>\n",
                            "    </tr>\n",
                            "    <tr>\n",
                            "      <th>6877</th>\n",
                            "      <td>2025-01-16</td>\n",
                            "      <td>9.78</td>\n",
                            "      <td>1.635992</td>\n",
                            "      <td>-0.710660</td>\n",
                            "      <td>18791900.0</td>\n",
                            "      <td>10.03</td>\n",
                            "    </tr>\n",
                            "  </tbody>\n",
                            "</table>\n",
                            "</div>"
                        ],
                        "text/plain": [
                            "     Trading Time  Closing Price    HL_PCT  PCT_change  Trading Volume  Label\n",
                            "6868   2025-01-03           9.83  2.950153   -0.807265      26463900.0   9.67\n",
                            "6869   2025-01-06           9.89  1.314459    0.406091      23598802.0   9.79\n",
                            "6870   2025-01-07           9.81  1.630989   -0.808898      24758020.0   9.78\n",
                            "6871   2025-01-08           9.71  1.132853   -0.512295      33416543.0   9.82\n",
                            "6872   2025-01-09           9.58  1.670146   -0.519211      19952842.0   9.84\n",
                            "6873   2025-01-10           9.44  1.800847   -1.666667      14697048.0   9.72\n",
                            "6874   2025-01-13           9.61  0.416233    2.125399      25370178.0   9.78\n",
                            "6875   2025-01-14           9.67  1.034126    0.729167      20879042.0   9.76\n",
                            "6876   2025-01-15           9.79  0.817160    1.240951      26232207.0   9.83\n",
                            "6877   2025-01-16           9.78  1.635992   -0.710660      18791900.0  10.03"
                        ]
                    },
                    "metadata": {},
                    "output_type": "display_data"
                }
            ],
            "source": [
                "y = np.array(stock_df['Label'])\n",
                "display(y)\n",
                "display(stock_df.tail(10))"
            ]
        },
        {
            "cell_type": "markdown",
            "metadata": {},
            "source": [
                "You can see they have the same shape in axis = 1."
            ]
        },
        {
            "cell_type": "markdown",
            "metadata": {},
            "source": [
                "# Split data into traning and testing."
            ]
        },
        {
            "cell_type": "markdown",
            "metadata": {},
            "source": [
                "Set shuffle = False because by default it will shuffle and this will mess up the date relationships which is something we want"
            ]
        },
        {
            "cell_type": "code",
            "execution_count": 265,
            "metadata": {},
            "outputs": [],
            "source": [
                "X_train, X_test, y_train, y_test, dates_train, dates_test = model_selection.train_test_split(X, y, dates, test_size = 0.2)"
            ]
        },
        {
            "cell_type": "markdown",
            "metadata": {},
            "source": [
                "# Training the model(classifier)\n",
                "`n_jobs = -1` means to run using as many threads as possible, make it faster."
            ]
        },
        {
            "cell_type": "code",
            "execution_count": 266,
            "metadata": {},
            "outputs": [],
            "source": [
                "clf = LinearRegression(n_jobs = -1)\n",
                "clf.fit(X_train, y_train)\n",
                "accuracy = clf.score(X_test, y_test)"
            ]
        },
        {
            "cell_type": "markdown",
            "metadata": {},
            "source": [
                "# Getting the prediction for the shifted days that has no answers.\n",
                "And print the result:"
            ]
        },
        {
            "cell_type": "code",
            "execution_count": 267,
            "metadata": {},
            "outputs": [
                {
                    "name": "stdout",
                    "output_type": "stream",
                    "text": [
                        "Forecast result: [9.65444882 9.55106751 9.43582859 9.53986004 9.62128672 9.72318729\n",
                        " 9.7478436 ]\n",
                        "With the accuracy of: 0.9697570800369313\n",
                        "Forecast out of 7 days.\n"
                    ]
                }
            ],
            "source": [
                "forecast_set = clf.predict(X_lately)\n",
                "print(\"Forecast result: \" + str(forecast_set) + \"\\n\" + \"With the accuracy of: \" + str(accuracy) + \"\\n\" + \"Forecast out of \" + str(forecast_out) + \" days.\")"
            ]
        },
        {
            "cell_type": "markdown",
            "metadata": {},
            "source": [
                "# Merging all sections together for matplot lib\n",
                "\n",
                "1. dates_train\n",
                "2. dates_test\n",
                "3. dates_lately\n",
                "\n",
                "This being the X axis\n",
                "\n",
                "and\n",
                "\n",
                "\n",
                "1. y_train\n",
                "2. y_test\n",
                "3. forcast out\n",
                "\n",
                "This being the Y axis"
            ]
        },
        {
            "cell_type": "code",
            "execution_count": 268,
            "metadata": {},
            "outputs": [
                {
                    "data": {
                        "text/html": [
                            "<div>\n",
                            "<style scoped>\n",
                            "    .dataframe tbody tr th:only-of-type {\n",
                            "        vertical-align: middle;\n",
                            "    }\n",
                            "\n",
                            "    .dataframe tbody tr th {\n",
                            "        vertical-align: top;\n",
                            "    }\n",
                            "\n",
                            "    .dataframe thead th {\n",
                            "        text-align: right;\n",
                            "    }\n",
                            "</style>\n",
                            "<table border=\"1\" class=\"dataframe\">\n",
                            "  <thead>\n",
                            "    <tr style=\"text-align: right;\">\n",
                            "      <th></th>\n",
                            "      <th>Closing Price</th>\n",
                            "    </tr>\n",
                            "    <tr>\n",
                            "      <th>Date</th>\n",
                            "      <th></th>\n",
                            "    </tr>\n",
                            "  </thead>\n",
                            "  <tbody>\n",
                            "    <tr>\n",
                            "      <th>1995-02-17</th>\n",
                            "      <td>8.100000</td>\n",
                            "    </tr>\n",
                            "    <tr>\n",
                            "      <th>1995-02-20</th>\n",
                            "      <td>8.230000</td>\n",
                            "    </tr>\n",
                            "    <tr>\n",
                            "      <th>1995-02-21</th>\n",
                            "      <td>8.180000</td>\n",
                            "    </tr>\n",
                            "    <tr>\n",
                            "      <th>1995-02-22</th>\n",
                            "      <td>8.900000</td>\n",
                            "    </tr>\n",
                            "    <tr>\n",
                            "      <th>1995-02-23</th>\n",
                            "      <td>10.530000</td>\n",
                            "    </tr>\n",
                            "    <tr>\n",
                            "      <th>...</th>\n",
                            "      <td>...</td>\n",
                            "    </tr>\n",
                            "    <tr>\n",
                            "      <th>2025-01-21</th>\n",
                            "      <td>9.435829</td>\n",
                            "    </tr>\n",
                            "    <tr>\n",
                            "      <th>2025-01-22</th>\n",
                            "      <td>9.539860</td>\n",
                            "    </tr>\n",
                            "    <tr>\n",
                            "      <th>2025-01-23</th>\n",
                            "      <td>9.621287</td>\n",
                            "    </tr>\n",
                            "    <tr>\n",
                            "      <th>2025-01-24</th>\n",
                            "      <td>9.723187</td>\n",
                            "    </tr>\n",
                            "    <tr>\n",
                            "      <th>2025-01-27</th>\n",
                            "      <td>9.747844</td>\n",
                            "    </tr>\n",
                            "  </tbody>\n",
                            "</table>\n",
                            "<p>6885 rows × 1 columns</p>\n",
                            "</div>"
                        ],
                        "text/plain": [
                            "            Closing Price\n",
                            "Date                     \n",
                            "1995-02-17       8.100000\n",
                            "1995-02-20       8.230000\n",
                            "1995-02-21       8.180000\n",
                            "1995-02-22       8.900000\n",
                            "1995-02-23      10.530000\n",
                            "...                   ...\n",
                            "2025-01-21       9.435829\n",
                            "2025-01-22       9.539860\n",
                            "2025-01-23       9.621287\n",
                            "2025-01-24       9.723187\n",
                            "2025-01-27       9.747844\n",
                            "\n",
                            "[6885 rows x 1 columns]"
                        ]
                    },
                    "metadata": {},
                    "output_type": "display_data"
                }
            ],
            "source": [
                "y_train = y_train.reshape(-1, 1)\n",
                "y_test = y_test.reshape(-1, 1)\n",
                "forecast_set = forecast_set.reshape(-1, 1)\n",
                "\n",
                "dates_train = np.array(dates_train).reshape(-1, 1)\n",
                "dates_test  = np.array(dates_test).reshape(-1, 1)\n",
                "dates_lately = np.array(dates_lately).reshape(-1, 1)\n",
                "\n",
                "all_dates = np.vstack((dates_train, dates_test, dates_lately)).flatten()\n",
                "all_targets = np.vstack((y_train, y_test, forecast_set)).flatten()\n",
                "\n",
                "df_combined = pd.DataFrame({\n",
                "    \"Date\": all_dates,\n",
                "    \"Closing Price\": all_targets\n",
                "})\n",
                "\n",
                "df_combined.set_index('Date', inplace = True)\n",
                "df_combined.sort_values(by = 'Date', inplace = True)\n",
                "display(df_combined)\n"
            ]
        },
        {
            "cell_type": "markdown",
            "metadata": {},
            "source": [
                "## Using matplotlib to Show the graph"
            ]
        },
        {
            "cell_type": "code",
            "execution_count": 269,
            "metadata": {},
            "outputs": [
                {
                    "data": {
                        "image/png": "[encoded data removed]",
                        "text/plain": [
                            "<Figure size 1200x600 with 1 Axes>"
                        ]
                    },
                    "metadata": {},
                    "output_type": "display_data"
                }
            ],
            "source": [
                "plt.figure(figsize = (12, 6))\n",
                "df_combined['Closing Price'][:-forecast_out].plot(label = 'Training Data')\n",
                "df_combined['Closing Price'][-forecast_out:].plot(label = 'Forecast Data')\n",
                "plt.legend(loc = 4)\n",
                "plt.xlabel('Date')\n",
                "plt.ylabel('Closing Price')\n",
                "plt.show()"
            ]
        },
        {
            "cell_type": "code",
            "execution_count": 270,
            "metadata": {},
            "outputs": [
                {
                    "name": "stdout",
                    "output_type": "stream",
                    "text": [
                        "<class 'pandas.core.frame.DataFrame'>\n",
                        "DatetimeIndex: 6885 entries, 1995-02-17 to 2025-01-27\n",
                        "Data columns (total 1 columns):\n",
                        " #   Column         Non-Null Count  Dtype  \n",
                        "---  ------         --------------  -----  \n",
                        " 0   Closing Price  6885 non-null   float64\n",
                        "dtypes: float64(1)\n",
                        "memory usage: 107.6 KB\n"
                    ]
                },
                {
                    "data": {
                        "text/html": [
                            "<div>\n",
                            "<style scoped>\n",
                            "    .dataframe tbody tr th:only-of-type {\n",
                            "        vertical-align: middle;\n",
                            "    }\n",
                            "\n",
                            "    .dataframe tbody tr th {\n",
                            "        vertical-align: top;\n",
                            "    }\n",
                            "\n",
                            "    .dataframe thead th {\n",
                            "        text-align: right;\n",
                            "    }\n",
                            "</style>\n",
                            "<table border=\"1\" class=\"dataframe\">\n",
                            "  <thead>\n",
                            "    <tr style=\"text-align: right;\">\n",
                            "      <th></th>\n",
                            "      <th>Closing Price</th>\n",
                            "    </tr>\n",
                            "    <tr>\n",
                            "      <th>Date</th>\n",
                            "      <th></th>\n",
                            "    </tr>\n",
                            "  </thead>\n",
                            "  <tbody>\n",
                            "    <tr>\n",
                            "      <th>2011-03-25</th>\n",
                            "      <td>47.67</td>\n",
                            "    </tr>\n",
                            "    <tr>\n",
                            "      <th>2011-03-03</th>\n",
                            "      <td>44.10</td>\n",
                            "    </tr>\n",
                            "    <tr>\n",
                            "      <th>2011-02-10</th>\n",
                            "      <td>43.86</td>\n",
                            "    </tr>\n",
                            "    <tr>\n",
                            "      <th>2011-02-28</th>\n",
                            "      <td>43.83</td>\n",
                            "    </tr>\n",
                            "    <tr>\n",
                            "      <th>2011-03-24</th>\n",
                            "      <td>43.82</td>\n",
                            "    </tr>\n",
                            "    <tr>\n",
                            "      <th>...</th>\n",
                            "      <td>...</td>\n",
                            "    </tr>\n",
                            "    <tr>\n",
                            "      <th>2005-07-12</th>\n",
                            "      <td>2.48</td>\n",
                            "    </tr>\n",
                            "    <tr>\n",
                            "      <th>2005-07-01</th>\n",
                            "      <td>2.47</td>\n",
                            "    </tr>\n",
                            "    <tr>\n",
                            "      <th>2005-07-08</th>\n",
                            "      <td>2.44</td>\n",
                            "    </tr>\n",
                            "    <tr>\n",
                            "      <th>2005-07-07</th>\n",
                            "      <td>2.41</td>\n",
                            "    </tr>\n",
                            "    <tr>\n",
                            "      <th>2005-06-30</th>\n",
                            "      <td>2.39</td>\n",
                            "    </tr>\n",
                            "  </tbody>\n",
                            "</table>\n",
                            "<p>6885 rows × 1 columns</p>\n",
                            "</div>"
                        ],
                        "text/plain": [
                            "            Closing Price\n",
                            "Date                     \n",
                            "2011-03-25          47.67\n",
                            "2011-03-03          44.10\n",
                            "2011-02-10          43.86\n",
                            "2011-02-28          43.83\n",
                            "2011-03-24          43.82\n",
                            "...                   ...\n",
                            "2005-07-12           2.48\n",
                            "2005-07-01           2.47\n",
                            "2005-07-08           2.44\n",
                            "2005-07-07           2.41\n",
                            "2005-06-30           2.39\n",
                            "\n",
                            "[6885 rows x 1 columns]"
                        ]
                    },
                    "execution_count": 270,
                    "metadata": {},
                    "output_type": "execute_result"
                }
            ],
            "source": [
                "df_combined.info()\n",
                "df_combined.columns\n",
                "df_combined.describe()\n",
                "df_combined.sort_values(by = 'Closing Price', ascending = False)\n"
            ]
        }
    ],
    "metadata": {
        "kernelspec": {
            "display_name": ".venv",
            "language": "python",
            "name": "python3"
        },
        "language_info": {
            "codemirror_mode": {
                "name": "ipython",
                "version": 3
            },
            "file_extension": ".py",
            "mimetype": "text/x-python",
            "name": "python",
            "nbconvert_exporter": "python",
            "pygments_lexer": "ipython3",
            "version": "3.11.8"
        }
    },
    "nbformat": 4,
    "nbformat_minor": 2
}
