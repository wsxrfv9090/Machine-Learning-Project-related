{
    "cells": [
        {
            "cell_type": "markdown",
            "metadata": {},
            "source": [
                "# Importing"
            ]
        },
        {
            "cell_type": "code",
            "execution_count": 1,
            "metadata": {},
            "outputs": [],
            "source": [
                "import pandas as pd\n",
                "import math\n",
                "import numpy as np\n",
                "from sklearn import preprocessing, model_selection\n",
                "from sklearn.linear_model import LinearRegression"
            ]
        },
        {
            "cell_type": "markdown",
            "metadata": {},
            "source": [
                "Use to plot the data"
            ]
        },
        {
            "cell_type": "code",
            "execution_count": 2,
            "metadata": {},
            "outputs": [],
            "source": [
                "import matplotlib.pyplot as plt\n"
            ]
        },
        {
            "cell_type": "markdown",
            "metadata": {},
            "source": [
                "Use to make data look better"
            ]
        },
        {
            "cell_type": "code",
            "execution_count": 3,
            "metadata": {},
            "outputs": [],
            "source": [
                "from matplotlib import style"
            ]
        },
        {
            "cell_type": "markdown",
            "metadata": {},
            "source": [
                "Use to specify the style of the plot"
            ]
        },
        {
            "cell_type": "code",
            "execution_count": 4,
            "metadata": {},
            "outputs": [],
            "source": [
                "style.use('ggplot')"
            ]
        },
        {
            "cell_type": "code",
            "execution_count": 5,
            "metadata": {},
            "outputs": [],
            "source": [
                "import joblib"
            ]
        },
        {
            "cell_type": "markdown",
            "metadata": {},
            "source": [
                "# Selecting Files"
            ]
        },
        {
            "cell_type": "code",
            "execution_count": 6,
            "metadata": {},
            "outputs": [],
            "source": [
                "file_path = r'D:\\ImportanFiles\\Coding Related\\Repositories\\Machine Learning project related\\Project 2\\Data\\603300_utf-8.csv'\n",
                "stock_df = pd.read_csv(file_path)"
            ]
        },
        {
            "cell_type": "markdown",
            "metadata": {},
            "source": [
                "# Calculating nessasary indexes\n",
                "and add them to the stock_df dataframe"
            ]
        },
        {
            "cell_type": "code",
            "execution_count": 7,
            "metadata": {},
            "outputs": [
                {
                    "data": {
                        "application/vnd.microsoft.datawrangler.viewer.v0+json": {
                            "columns": [
                                {
                                    "name": "index",
                                    "rawType": "int64",
                                    "type": "integer"
                                },
                                {
                                    "name": "Stock Code",
                                    "rawType": "int64",
                                    "type": "integer"
                                },
                                {
                                    "name": "Stock Name",
                                    "rawType": "object",
                                    "type": "string"
                                },
                                {
                                    "name": "Trading Time",
                                    "rawType": "object",
                                    "type": "string"
                                },
                                {
                                    "name": "Opening Price",
                                    "rawType": "float64",
                                    "type": "float"
                                },
                                {
                                    "name": "Highest Price",
                                    "rawType": "float64",
                                    "type": "float"
                                },
                                {
                                    "name": "Lowest Price",
                                    "rawType": "float64",
                                    "type": "float"
                                },
                                {
                                    "name": "Closing Price",
                                    "rawType": "float64",
                                    "type": "float"
                                },
                                {
                                    "name": "Price Change",
                                    "rawType": "object",
                                    "type": "string"
                                },
                                {
                                    "name": "Price Change Percentage",
                                    "rawType": "object",
                                    "type": "string"
                                },
                                {
                                    "name": "Trading Volume",
                                    "rawType": "object",
                                    "type": "string"
                                },
                                {
                                    "name": "Trading Amount",
                                    "rawType": "object",
                                    "type": "string"
                                },
                                {
                                    "name": "HL_PCT",
                                    "rawType": "float64",
                                    "type": "float"
                                },
                                {
                                    "name": "PCT_change",
                                    "rawType": "float64",
                                    "type": "float"
                                }
                            ],
                            "conversionMethod": "pd.DataFrame",
                            "ref": "38f40edb-1dc7-4e8f-8b34-1da7ca4bfb4e",
                            "rows": [
                                [
                                    "0",
                                    "603300",
                                    "????",
                                    "2015-05-29",
                                    "2.12",
                                    "2.12",
                                    "2.12",
                                    "2.12",
                                    "--",
                                    "--",
                                    "13,700",
                                    "162,208",
                                    "0.0",
                                    "0.0"
                                ],
                                [
                                    "1",
                                    "603300",
                                    "????",
                                    "2015-06-01",
                                    "2.33",
                                    "2.33",
                                    "2.33",
                                    "2.33",
                                    "0.2110",
                                    "9.9660",
                                    "5,700",
                                    "74,214",
                                    "0.0",
                                    "0.0"
                                ],
                                [
                                    "2",
                                    "603300",
                                    "????",
                                    "2015-06-02",
                                    "2.56",
                                    "2.56",
                                    "2.56",
                                    "2.56",
                                    "0.2324",
                                    "9.9820",
                                    "3,400",
                                    "48,688",
                                    "0.0",
                                    "0.0"
                                ],
                                [
                                    "3",
                                    "603300",
                                    "????",
                                    "2015-06-03",
                                    "2.82",
                                    "2.82",
                                    "2.82",
                                    "2.82",
                                    "0.2558",
                                    "9.9898",
                                    "13,300",
                                    "209,475",
                                    "0.0",
                                    "0.0"
                                ],
                                [
                                    "4",
                                    "603300",
                                    "????",
                                    "2015-06-04",
                                    "3.1",
                                    "3.1",
                                    "3.1",
                                    "3.1",
                                    "0.2825",
                                    "10.0305",
                                    "9,700",
                                    "168,101",
                                    "0.0",
                                    "0.0"
                                ]
                            ],
                            "shape": {
                                "columns": 13,
                                "rows": 5
                            }
                        },
                        "text/html": [
                            "<div>\n",
                            "<style scoped>\n",
                            "    .dataframe tbody tr th:only-of-type {\n",
                            "        vertical-align: middle;\n",
                            "    }\n",
                            "\n",
                            "    .dataframe tbody tr th {\n",
                            "        vertical-align: top;\n",
                            "    }\n",
                            "\n",
                            "    .dataframe thead th {\n",
                            "        text-align: right;\n",
                            "    }\n",
                            "</style>\n",
                            "<table border=\"1\" class=\"dataframe\">\n",
                            "  <thead>\n",
                            "    <tr style=\"text-align: right;\">\n",
                            "      <th></th>\n",
                            "      <th>Stock Code</th>\n",
                            "      <th>Stock Name</th>\n",
                            "      <th>Trading Time</th>\n",
                            "      <th>Opening Price</th>\n",
                            "      <th>Highest Price</th>\n",
                            "      <th>Lowest Price</th>\n",
                            "      <th>Closing Price</th>\n",
                            "      <th>Price Change</th>\n",
                            "      <th>Price Change Percentage</th>\n",
                            "      <th>Trading Volume</th>\n",
                            "      <th>Trading Amount</th>\n",
                            "      <th>HL_PCT</th>\n",
                            "      <th>PCT_change</th>\n",
                            "    </tr>\n",
                            "  </thead>\n",
                            "  <tbody>\n",
                            "    <tr>\n",
                            "      <th>0</th>\n",
                            "      <td>603300</td>\n",
                            "      <td>????</td>\n",
                            "      <td>2015-05-29</td>\n",
                            "      <td>2.12</td>\n",
                            "      <td>2.12</td>\n",
                            "      <td>2.12</td>\n",
                            "      <td>2.12</td>\n",
                            "      <td>--</td>\n",
                            "      <td>--</td>\n",
                            "      <td>13,700</td>\n",
                            "      <td>162,208</td>\n",
                            "      <td>0.0</td>\n",
                            "      <td>0.0</td>\n",
                            "    </tr>\n",
                            "    <tr>\n",
                            "      <th>1</th>\n",
                            "      <td>603300</td>\n",
                            "      <td>????</td>\n",
                            "      <td>2015-06-01</td>\n",
                            "      <td>2.33</td>\n",
                            "      <td>2.33</td>\n",
                            "      <td>2.33</td>\n",
                            "      <td>2.33</td>\n",
                            "      <td>0.2110</td>\n",
                            "      <td>9.9660</td>\n",
                            "      <td>5,700</td>\n",
                            "      <td>74,214</td>\n",
                            "      <td>0.0</td>\n",
                            "      <td>0.0</td>\n",
                            "    </tr>\n",
                            "    <tr>\n",
                            "      <th>2</th>\n",
                            "      <td>603300</td>\n",
                            "      <td>????</td>\n",
                            "      <td>2015-06-02</td>\n",
                            "      <td>2.56</td>\n",
                            "      <td>2.56</td>\n",
                            "      <td>2.56</td>\n",
                            "      <td>2.56</td>\n",
                            "      <td>0.2324</td>\n",
                            "      <td>9.9820</td>\n",
                            "      <td>3,400</td>\n",
                            "      <td>48,688</td>\n",
                            "      <td>0.0</td>\n",
                            "      <td>0.0</td>\n",
                            "    </tr>\n",
                            "    <tr>\n",
                            "      <th>3</th>\n",
                            "      <td>603300</td>\n",
                            "      <td>????</td>\n",
                            "      <td>2015-06-03</td>\n",
                            "      <td>2.82</td>\n",
                            "      <td>2.82</td>\n",
                            "      <td>2.82</td>\n",
                            "      <td>2.82</td>\n",
                            "      <td>0.2558</td>\n",
                            "      <td>9.9898</td>\n",
                            "      <td>13,300</td>\n",
                            "      <td>209,475</td>\n",
                            "      <td>0.0</td>\n",
                            "      <td>0.0</td>\n",
                            "    </tr>\n",
                            "    <tr>\n",
                            "      <th>4</th>\n",
                            "      <td>603300</td>\n",
                            "      <td>????</td>\n",
                            "      <td>2015-06-04</td>\n",
                            "      <td>3.10</td>\n",
                            "      <td>3.10</td>\n",
                            "      <td>3.10</td>\n",
                            "      <td>3.10</td>\n",
                            "      <td>0.2825</td>\n",
                            "      <td>10.0305</td>\n",
                            "      <td>9,700</td>\n",
                            "      <td>168,101</td>\n",
                            "      <td>0.0</td>\n",
                            "      <td>0.0</td>\n",
                            "    </tr>\n",
                            "  </tbody>\n",
                            "</table>\n",
                            "</div>"
                        ],
                        "text/plain": [
                            "   Stock Code Stock Name Trading Time  Opening Price  Highest Price  \\\n",
                            "0      603300       ????   2015-05-29           2.12           2.12   \n",
                            "1      603300       ????   2015-06-01           2.33           2.33   \n",
                            "2      603300       ????   2015-06-02           2.56           2.56   \n",
                            "3      603300       ????   2015-06-03           2.82           2.82   \n",
                            "4      603300       ????   2015-06-04           3.10           3.10   \n",
                            "\n",
                            "   Lowest Price  Closing Price Price Change Price Change Percentage  \\\n",
                            "0          2.12           2.12           --                      --   \n",
                            "1          2.33           2.33       0.2110                  9.9660   \n",
                            "2          2.56           2.56       0.2324                  9.9820   \n",
                            "3          2.82           2.82       0.2558                  9.9898   \n",
                            "4          3.10           3.10       0.2825                 10.0305   \n",
                            "\n",
                            "  Trading Volume Trading Amount  HL_PCT  PCT_change  \n",
                            "0         13,700        162,208     0.0         0.0  \n",
                            "1          5,700         74,214     0.0         0.0  \n",
                            "2          3,400         48,688     0.0         0.0  \n",
                            "3         13,300        209,475     0.0         0.0  \n",
                            "4          9,700        168,101     0.0         0.0  "
                        ]
                    },
                    "metadata": {},
                    "output_type": "display_data"
                }
            ],
            "source": [
                "stock_df['HL_PCT'] = (stock_df['Highest Price'] - stock_df['Closing Price']) / stock_df['Closing Price'] * 100.0\n",
                "stock_df['PCT_change'] = (stock_df['Closing Price'] - stock_df['Opening Price']) / stock_df['Opening Price'] * 100.0\n",
                "display(stock_df.head())"
            ]
        },
        {
            "cell_type": "markdown",
            "metadata": {},
            "source": [
                "# Change the trading time into pandas datetime data type."
            ]
        },
        {
            "cell_type": "code",
            "execution_count": 8,
            "metadata": {},
            "outputs": [
                {
                    "name": "stdout",
                    "output_type": "stream",
                    "text": [
                        "datetime64[ns]\n"
                    ]
                }
            ],
            "source": [
                "stock_df['Trading Time'] = pd.to_datetime(stock_df['Trading Time'])\n",
                "print(stock_df['Trading Time'].dtype)"
            ]
        },
        {
            "cell_type": "markdown",
            "metadata": {},
            "source": [
                "# Choose data columns we want and drop the rest"
            ]
        },
        {
            "cell_type": "code",
            "execution_count": 9,
            "metadata": {},
            "outputs": [
                {
                    "data": {
                        "application/vnd.microsoft.datawrangler.viewer.v0+json": {
                            "columns": [
                                {
                                    "name": "index",
                                    "rawType": "int64",
                                    "type": "integer"
                                },
                                {
                                    "name": "Trading Time",
                                    "rawType": "datetime64[ns]",
                                    "type": "datetime"
                                },
                                {
                                    "name": "Closing Price",
                                    "rawType": "float64",
                                    "type": "float"
                                },
                                {
                                    "name": "HL_PCT",
                                    "rawType": "float64",
                                    "type": "float"
                                },
                                {
                                    "name": "PCT_change",
                                    "rawType": "float64",
                                    "type": "float"
                                },
                                {
                                    "name": "Trading Volume",
                                    "rawType": "object",
                                    "type": "string"
                                }
                            ],
                            "conversionMethod": "pd.DataFrame",
                            "ref": "86747e35-0773-4993-99fa-c4a43b648d8b",
                            "rows": [
                                [
                                    "0",
                                    "2015-05-29 00:00:00",
                                    "2.12",
                                    "0.0",
                                    "0.0",
                                    "13,700"
                                ],
                                [
                                    "1",
                                    "2015-06-01 00:00:00",
                                    "2.33",
                                    "0.0",
                                    "0.0",
                                    "5,700"
                                ],
                                [
                                    "2",
                                    "2015-06-02 00:00:00",
                                    "2.56",
                                    "0.0",
                                    "0.0",
                                    "3,400"
                                ],
                                [
                                    "3",
                                    "2015-06-03 00:00:00",
                                    "2.82",
                                    "0.0",
                                    "0.0",
                                    "13,300"
                                ],
                                [
                                    "4",
                                    "2015-06-04 00:00:00",
                                    "3.1",
                                    "0.0",
                                    "0.0",
                                    "9,700"
                                ]
                            ],
                            "shape": {
                                "columns": 5,
                                "rows": 5
                            }
                        },
                        "text/html": [
                            "<div>\n",
                            "<style scoped>\n",
                            "    .dataframe tbody tr th:only-of-type {\n",
                            "        vertical-align: middle;\n",
                            "    }\n",
                            "\n",
                            "    .dataframe tbody tr th {\n",
                            "        vertical-align: top;\n",
                            "    }\n",
                            "\n",
                            "    .dataframe thead th {\n",
                            "        text-align: right;\n",
                            "    }\n",
                            "</style>\n",
                            "<table border=\"1\" class=\"dataframe\">\n",
                            "  <thead>\n",
                            "    <tr style=\"text-align: right;\">\n",
                            "      <th></th>\n",
                            "      <th>Trading Time</th>\n",
                            "      <th>Closing Price</th>\n",
                            "      <th>HL_PCT</th>\n",
                            "      <th>PCT_change</th>\n",
                            "      <th>Trading Volume</th>\n",
                            "    </tr>\n",
                            "  </thead>\n",
                            "  <tbody>\n",
                            "    <tr>\n",
                            "      <th>0</th>\n",
                            "      <td>2015-05-29</td>\n",
                            "      <td>2.12</td>\n",
                            "      <td>0.0</td>\n",
                            "      <td>0.0</td>\n",
                            "      <td>13,700</td>\n",
                            "    </tr>\n",
                            "    <tr>\n",
                            "      <th>1</th>\n",
                            "      <td>2015-06-01</td>\n",
                            "      <td>2.33</td>\n",
                            "      <td>0.0</td>\n",
                            "      <td>0.0</td>\n",
                            "      <td>5,700</td>\n",
                            "    </tr>\n",
                            "    <tr>\n",
                            "      <th>2</th>\n",
                            "      <td>2015-06-02</td>\n",
                            "      <td>2.56</td>\n",
                            "      <td>0.0</td>\n",
                            "      <td>0.0</td>\n",
                            "      <td>3,400</td>\n",
                            "    </tr>\n",
                            "    <tr>\n",
                            "      <th>3</th>\n",
                            "      <td>2015-06-03</td>\n",
                            "      <td>2.82</td>\n",
                            "      <td>0.0</td>\n",
                            "      <td>0.0</td>\n",
                            "      <td>13,300</td>\n",
                            "    </tr>\n",
                            "    <tr>\n",
                            "      <th>4</th>\n",
                            "      <td>2015-06-04</td>\n",
                            "      <td>3.10</td>\n",
                            "      <td>0.0</td>\n",
                            "      <td>0.0</td>\n",
                            "      <td>9,700</td>\n",
                            "    </tr>\n",
                            "  </tbody>\n",
                            "</table>\n",
                            "</div>"
                        ],
                        "text/plain": [
                            "  Trading Time  Closing Price  HL_PCT  PCT_change Trading Volume\n",
                            "0   2015-05-29           2.12     0.0         0.0         13,700\n",
                            "1   2015-06-01           2.33     0.0         0.0          5,700\n",
                            "2   2015-06-02           2.56     0.0         0.0          3,400\n",
                            "3   2015-06-03           2.82     0.0         0.0         13,300\n",
                            "4   2015-06-04           3.10     0.0         0.0          9,700"
                        ]
                    },
                    "metadata": {},
                    "output_type": "display_data"
                }
            ],
            "source": [
                "stock_df = stock_df[['Trading Time', 'Closing Price', 'HL_PCT', 'PCT_change', 'Trading Volume']]\n",
                "display(stock_df.head())"
            ]
        },
        {
            "cell_type": "markdown",
            "metadata": {},
            "source": [
                "Remove commas and convert to numeric, since in metadata the trading volume contain commas"
            ]
        },
        {
            "cell_type": "code",
            "execution_count": 10,
            "metadata": {},
            "outputs": [
                {
                    "data": {
                        "application/vnd.microsoft.datawrangler.viewer.v0+json": {
                            "columns": [
                                {
                                    "name": "index",
                                    "rawType": "int64",
                                    "type": "integer"
                                },
                                {
                                    "name": "Trading Time",
                                    "rawType": "datetime64[ns]",
                                    "type": "datetime"
                                },
                                {
                                    "name": "Closing Price",
                                    "rawType": "float64",
                                    "type": "float"
                                },
                                {
                                    "name": "HL_PCT",
                                    "rawType": "float64",
                                    "type": "float"
                                },
                                {
                                    "name": "PCT_change",
                                    "rawType": "float64",
                                    "type": "float"
                                },
                                {
                                    "name": "Trading Volume",
                                    "rawType": "float64",
                                    "type": "float"
                                }
                            ],
                            "conversionMethod": "pd.DataFrame",
                            "ref": "be7d67a5-1d0e-4357-b94b-c93536268847",
                            "rows": [
                                [
                                    "0",
                                    "2015-05-29 00:00:00",
                                    "2.12",
                                    "0.0",
                                    "0.0",
                                    "13700.0"
                                ],
                                [
                                    "1",
                                    "2015-06-01 00:00:00",
                                    "2.33",
                                    "0.0",
                                    "0.0",
                                    "5700.0"
                                ],
                                [
                                    "2",
                                    "2015-06-02 00:00:00",
                                    "2.56",
                                    "0.0",
                                    "0.0",
                                    "3400.0"
                                ],
                                [
                                    "3",
                                    "2015-06-03 00:00:00",
                                    "2.82",
                                    "0.0",
                                    "0.0",
                                    "13300.0"
                                ],
                                [
                                    "4",
                                    "2015-06-04 00:00:00",
                                    "3.1",
                                    "0.0",
                                    "0.0",
                                    "9700.0"
                                ]
                            ],
                            "shape": {
                                "columns": 5,
                                "rows": 5
                            }
                        },
                        "text/html": [
                            "<div>\n",
                            "<style scoped>\n",
                            "    .dataframe tbody tr th:only-of-type {\n",
                            "        vertical-align: middle;\n",
                            "    }\n",
                            "\n",
                            "    .dataframe tbody tr th {\n",
                            "        vertical-align: top;\n",
                            "    }\n",
                            "\n",
                            "    .dataframe thead th {\n",
                            "        text-align: right;\n",
                            "    }\n",
                            "</style>\n",
                            "<table border=\"1\" class=\"dataframe\">\n",
                            "  <thead>\n",
                            "    <tr style=\"text-align: right;\">\n",
                            "      <th></th>\n",
                            "      <th>Trading Time</th>\n",
                            "      <th>Closing Price</th>\n",
                            "      <th>HL_PCT</th>\n",
                            "      <th>PCT_change</th>\n",
                            "      <th>Trading Volume</th>\n",
                            "    </tr>\n",
                            "  </thead>\n",
                            "  <tbody>\n",
                            "    <tr>\n",
                            "      <th>0</th>\n",
                            "      <td>2015-05-29</td>\n",
                            "      <td>2.12</td>\n",
                            "      <td>0.0</td>\n",
                            "      <td>0.0</td>\n",
                            "      <td>13700.0</td>\n",
                            "    </tr>\n",
                            "    <tr>\n",
                            "      <th>1</th>\n",
                            "      <td>2015-06-01</td>\n",
                            "      <td>2.33</td>\n",
                            "      <td>0.0</td>\n",
                            "      <td>0.0</td>\n",
                            "      <td>5700.0</td>\n",
                            "    </tr>\n",
                            "    <tr>\n",
                            "      <th>2</th>\n",
                            "      <td>2015-06-02</td>\n",
                            "      <td>2.56</td>\n",
                            "      <td>0.0</td>\n",
                            "      <td>0.0</td>\n",
                            "      <td>3400.0</td>\n",
                            "    </tr>\n",
                            "    <tr>\n",
                            "      <th>3</th>\n",
                            "      <td>2015-06-03</td>\n",
                            "      <td>2.82</td>\n",
                            "      <td>0.0</td>\n",
                            "      <td>0.0</td>\n",
                            "      <td>13300.0</td>\n",
                            "    </tr>\n",
                            "    <tr>\n",
                            "      <th>4</th>\n",
                            "      <td>2015-06-04</td>\n",
                            "      <td>3.10</td>\n",
                            "      <td>0.0</td>\n",
                            "      <td>0.0</td>\n",
                            "      <td>9700.0</td>\n",
                            "    </tr>\n",
                            "  </tbody>\n",
                            "</table>\n",
                            "</div>"
                        ],
                        "text/plain": [
                            "  Trading Time  Closing Price  HL_PCT  PCT_change  Trading Volume\n",
                            "0   2015-05-29           2.12     0.0         0.0         13700.0\n",
                            "1   2015-06-01           2.33     0.0         0.0          5700.0\n",
                            "2   2015-06-02           2.56     0.0         0.0          3400.0\n",
                            "3   2015-06-03           2.82     0.0         0.0         13300.0\n",
                            "4   2015-06-04           3.10     0.0         0.0          9700.0"
                        ]
                    },
                    "metadata": {},
                    "output_type": "display_data"
                }
            ],
            "source": [
                "stock_df['Trading Volume'] = stock_df['Trading Volume'].replace({',': ''}, regex=True).astype(float)\n",
                "display(stock_df.head())"
            ]
        },
        {
            "cell_type": "markdown",
            "metadata": {},
            "source": [
                "# Setting up a name for target column attribute"
            ]
        },
        {
            "cell_type": "code",
            "execution_count": 11,
            "metadata": {},
            "outputs": [],
            "source": [
                "forecast_col = 'Closing Price'"
            ]
        },
        {
            "cell_type": "markdown",
            "metadata": {},
            "source": [
                "# Tell the code how many days ahead will it be forcasting"
            ]
        },
        {
            "cell_type": "code",
            "execution_count": 12,
            "metadata": {},
            "outputs": [
                {
                    "name": "stdout",
                    "output_type": "stream",
                    "text": [
                        "2347 3\n"
                    ]
                }
            ],
            "source": [
                "forecast_out = int(math.ceil(0.001*len(stock_df)))\n",
                "print(len(stock_df), forecast_out)\n",
                "# The 0.001 percentage of the data is 7 days, so we are predicting the closing price for the 7 days later"
            ]
        },
        {
            "cell_type": "markdown",
            "metadata": {},
            "source": [
                "# Managing the answers\n",
                "The answer is the closing price 7(forcast_out) days later.\n",
                "\n",
                "We then shift the data's targeted attributes up for 7 days and assign them into the 'Label' column."
            ]
        },
        {
            "cell_type": "code",
            "execution_count": 13,
            "metadata": {},
            "outputs": [
                {
                    "name": "stdout",
                    "output_type": "stream",
                    "text": [
                        "3\n"
                    ]
                },
                {
                    "data": {
                        "application/vnd.microsoft.datawrangler.viewer.v0+json": {
                            "columns": [
                                {
                                    "name": "index",
                                    "rawType": "int64",
                                    "type": "integer"
                                },
                                {
                                    "name": "Trading Time",
                                    "rawType": "datetime64[ns]",
                                    "type": "datetime"
                                },
                                {
                                    "name": "Closing Price",
                                    "rawType": "float64",
                                    "type": "float"
                                },
                                {
                                    "name": "HL_PCT",
                                    "rawType": "float64",
                                    "type": "float"
                                },
                                {
                                    "name": "PCT_change",
                                    "rawType": "float64",
                                    "type": "float"
                                },
                                {
                                    "name": "Trading Volume",
                                    "rawType": "float64",
                                    "type": "float"
                                },
                                {
                                    "name": "Label",
                                    "rawType": "float64",
                                    "type": "float"
                                }
                            ],
                            "conversionMethod": "pd.DataFrame",
                            "ref": "c238a7a7-a6f3-40f7-bc99-93cc7bf036bb",
                            "rows": [
                                [
                                    "2337",
                                    "2025-02-17 00:00:00",
                                    "8.0",
                                    "7.250000000000001",
                                    "-6.75990675990676",
                                    "505246495.0",
                                    "9.07"
                                ],
                                [
                                    "2338",
                                    "2025-02-18 00:00:00",
                                    "8.8",
                                    "0.0",
                                    "14.285714285714294",
                                    "669145270.0",
                                    "9.98"
                                ],
                                [
                                    "2339",
                                    "2025-02-19 00:00:00",
                                    "9.07",
                                    "4.630650496141123",
                                    "-0.32967032967032267",
                                    "631089223.0",
                                    "10.5"
                                ],
                                [
                                    "2340",
                                    "2025-02-20 00:00:00",
                                    "9.07",
                                    "8.930540242557889",
                                    "0.33185840707965863",
                                    "495482881.0",
                                    "10.0"
                                ],
                                [
                                    "2341",
                                    "2025-02-21 00:00:00",
                                    "9.98",
                                    "0.0",
                                    "8.008658008658012",
                                    "449182206.0",
                                    "10.43"
                                ],
                                [
                                    "2342",
                                    "2025-02-24 00:00:00",
                                    "10.5",
                                    "4.571428571428576",
                                    "6.167846309403432",
                                    "590193231.0",
                                    "11.03"
                                ],
                                [
                                    "2343",
                                    "2025-02-25 00:00:00",
                                    "10.0",
                                    "5.9999999999999964",
                                    "2.4590163934426252",
                                    "414005331.0",
                                    "9.99"
                                ],
                                [
                                    "2344",
                                    "2025-02-26 00:00:00",
                                    "10.43",
                                    "5.2732502396931995",
                                    "-0.6666666666666694",
                                    "440843503.0",
                                    null
                                ],
                                [
                                    "2345",
                                    "2025-02-27 00:00:00",
                                    "11.03",
                                    "2.1758839528558496",
                                    "8.992094861660082",
                                    "482724475.0",
                                    null
                                ],
                                [
                                    "2346",
                                    "2025-02-28 00:00:00",
                                    "9.99",
                                    "6.8068068068068035",
                                    "-5.75471698113207",
                                    "456895504.0",
                                    null
                                ]
                            ],
                            "shape": {
                                "columns": 6,
                                "rows": 10
                            }
                        },
                        "text/html": [
                            "<div>\n",
                            "<style scoped>\n",
                            "    .dataframe tbody tr th:only-of-type {\n",
                            "        vertical-align: middle;\n",
                            "    }\n",
                            "\n",
                            "    .dataframe tbody tr th {\n",
                            "        vertical-align: top;\n",
                            "    }\n",
                            "\n",
                            "    .dataframe thead th {\n",
                            "        text-align: right;\n",
                            "    }\n",
                            "</style>\n",
                            "<table border=\"1\" class=\"dataframe\">\n",
                            "  <thead>\n",
                            "    <tr style=\"text-align: right;\">\n",
                            "      <th></th>\n",
                            "      <th>Trading Time</th>\n",
                            "      <th>Closing Price</th>\n",
                            "      <th>HL_PCT</th>\n",
                            "      <th>PCT_change</th>\n",
                            "      <th>Trading Volume</th>\n",
                            "      <th>Label</th>\n",
                            "    </tr>\n",
                            "  </thead>\n",
                            "  <tbody>\n",
                            "    <tr>\n",
                            "      <th>2337</th>\n",
                            "      <td>2025-02-17</td>\n",
                            "      <td>8.00</td>\n",
                            "      <td>7.250000</td>\n",
                            "      <td>-6.759907</td>\n",
                            "      <td>505246495.0</td>\n",
                            "      <td>9.07</td>\n",
                            "    </tr>\n",
                            "    <tr>\n",
                            "      <th>2338</th>\n",
                            "      <td>2025-02-18</td>\n",
                            "      <td>8.80</td>\n",
                            "      <td>0.000000</td>\n",
                            "      <td>14.285714</td>\n",
                            "      <td>669145270.0</td>\n",
                            "      <td>9.98</td>\n",
                            "    </tr>\n",
                            "    <tr>\n",
                            "      <th>2339</th>\n",
                            "      <td>2025-02-19</td>\n",
                            "      <td>9.07</td>\n",
                            "      <td>4.630650</td>\n",
                            "      <td>-0.329670</td>\n",
                            "      <td>631089223.0</td>\n",
                            "      <td>10.50</td>\n",
                            "    </tr>\n",
                            "    <tr>\n",
                            "      <th>2340</th>\n",
                            "      <td>2025-02-20</td>\n",
                            "      <td>9.07</td>\n",
                            "      <td>8.930540</td>\n",
                            "      <td>0.331858</td>\n",
                            "      <td>495482881.0</td>\n",
                            "      <td>10.00</td>\n",
                            "    </tr>\n",
                            "    <tr>\n",
                            "      <th>2341</th>\n",
                            "      <td>2025-02-21</td>\n",
                            "      <td>9.98</td>\n",
                            "      <td>0.000000</td>\n",
                            "      <td>8.008658</td>\n",
                            "      <td>449182206.0</td>\n",
                            "      <td>10.43</td>\n",
                            "    </tr>\n",
                            "    <tr>\n",
                            "      <th>2342</th>\n",
                            "      <td>2025-02-24</td>\n",
                            "      <td>10.50</td>\n",
                            "      <td>4.571429</td>\n",
                            "      <td>6.167846</td>\n",
                            "      <td>590193231.0</td>\n",
                            "      <td>11.03</td>\n",
                            "    </tr>\n",
                            "    <tr>\n",
                            "      <th>2343</th>\n",
                            "      <td>2025-02-25</td>\n",
                            "      <td>10.00</td>\n",
                            "      <td>6.000000</td>\n",
                            "      <td>2.459016</td>\n",
                            "      <td>414005331.0</td>\n",
                            "      <td>9.99</td>\n",
                            "    </tr>\n",
                            "    <tr>\n",
                            "      <th>2344</th>\n",
                            "      <td>2025-02-26</td>\n",
                            "      <td>10.43</td>\n",
                            "      <td>5.273250</td>\n",
                            "      <td>-0.666667</td>\n",
                            "      <td>440843503.0</td>\n",
                            "      <td>NaN</td>\n",
                            "    </tr>\n",
                            "    <tr>\n",
                            "      <th>2345</th>\n",
                            "      <td>2025-02-27</td>\n",
                            "      <td>11.03</td>\n",
                            "      <td>2.175884</td>\n",
                            "      <td>8.992095</td>\n",
                            "      <td>482724475.0</td>\n",
                            "      <td>NaN</td>\n",
                            "    </tr>\n",
                            "    <tr>\n",
                            "      <th>2346</th>\n",
                            "      <td>2025-02-28</td>\n",
                            "      <td>9.99</td>\n",
                            "      <td>6.806807</td>\n",
                            "      <td>-5.754717</td>\n",
                            "      <td>456895504.0</td>\n",
                            "      <td>NaN</td>\n",
                            "    </tr>\n",
                            "  </tbody>\n",
                            "</table>\n",
                            "</div>"
                        ],
                        "text/plain": [
                            "     Trading Time  Closing Price    HL_PCT  PCT_change  Trading Volume  Label\n",
                            "2337   2025-02-17           8.00  7.250000   -6.759907     505246495.0   9.07\n",
                            "2338   2025-02-18           8.80  0.000000   14.285714     669145270.0   9.98\n",
                            "2339   2025-02-19           9.07  4.630650   -0.329670     631089223.0  10.50\n",
                            "2340   2025-02-20           9.07  8.930540    0.331858     495482881.0  10.00\n",
                            "2341   2025-02-21           9.98  0.000000    8.008658     449182206.0  10.43\n",
                            "2342   2025-02-24          10.50  4.571429    6.167846     590193231.0  11.03\n",
                            "2343   2025-02-25          10.00  6.000000    2.459016     414005331.0   9.99\n",
                            "2344   2025-02-26          10.43  5.273250   -0.666667     440843503.0    NaN\n",
                            "2345   2025-02-27          11.03  2.175884    8.992095     482724475.0    NaN\n",
                            "2346   2025-02-28           9.99  6.806807   -5.754717     456895504.0    NaN"
                        ]
                    },
                    "metadata": {},
                    "output_type": "display_data"
                }
            ],
            "source": [
                "stock_df['Label'] = stock_df[forecast_col].shift(-forecast_out)\n",
                "print(forecast_out)\n",
                "display(stock_df.tail(10))"
            ]
        },
        {
            "cell_type": "markdown",
            "metadata": {},
            "source": [
                "# Spliting and Managing the features\n",
                "\n",
                "Split the dataframe where X is the features and y is the answer\n",
                "\n",
                "1. Remove answer(label) from X which is the features\n",
                "2. Scale the features.\n",
                "3. Store remoced answers into y\n",
                "4. drop NaN values created by the shifting, since shift up will create a 7 days of label section NaN values, so make sure to drop these when you create 'Label' column. \n",
                "5. By doing these following two blocks, you split the original data into 4 parts: \n",
                "\n",
                "   1. (original days - forcast_out days)'s data without answers: `X`\n",
                "   2. (original days - forcast_out days)'s answers without data: `y`\n",
                "   3. (forcast_out days)'s data without answers: `X_lately`\n",
                "stock_df.dropna(inplace = True)\n",
                "   1. (forcast_out days)'s answers which are NaN values because of the shifting, and is removed by the `stock_df.dropna(inplace = True)` line following."
            ]
        },
        {
            "cell_type": "code",
            "execution_count": 14,
            "metadata": {},
            "outputs": [
                {
                    "data": {
                        "text/plain": [
                            "0      2015-05-29\n",
                            "1      2015-06-01\n",
                            "2      2015-06-02\n",
                            "3      2015-06-03\n",
                            "4      2015-06-04\n",
                            "          ...    \n",
                            "2339   2025-02-19\n",
                            "2340   2025-02-20\n",
                            "2341   2025-02-21\n",
                            "2342   2025-02-24\n",
                            "2343   2025-02-25\n",
                            "Name: Trading Time, Length: 2344, dtype: datetime64[ns]"
                        ]
                    },
                    "metadata": {},
                    "output_type": "display_data"
                },
                {
                    "data": {
                        "text/plain": [
                            "2344   2025-02-26\n",
                            "2345   2025-02-27\n",
                            "2346   2025-02-28\n",
                            "Name: Trading Time, dtype: datetime64[ns]"
                        ]
                    },
                    "metadata": {},
                    "output_type": "display_data"
                }
            ],
            "source": [
                "dates = stock_df['Trading Time'][:-forecast_out]\n",
                "dates_lately = stock_df['Trading Time'][-forecast_out:]\n",
                "\n",
                "display(dates)\n",
                "display(dates_lately)"
            ]
        },
        {
            "cell_type": "code",
            "execution_count": 15,
            "metadata": {},
            "outputs": [
                {
                    "data": {
                        "text/plain": [
                            "array([[-1.59114831, -1.00810594, -0.0488493 , -0.39227954],\n",
                            "       [-1.45333066, -1.00810594, -0.0488493 , -0.39246151],\n",
                            "       [-1.30238753, -1.00810594, -0.0488493 , -0.39251382],\n",
                            "       ...,\n",
                            "       [ 3.56716933, -1.00810594,  2.63275563,  9.82455585],\n",
                            "       [ 3.90843207,  1.20304775,  2.01638149, 13.03200787],\n",
                            "       [ 3.58029482,  1.89403327,  0.77452342,  9.02441885]],\n",
                            "      shape=(2344, 4))"
                        ]
                    },
                    "metadata": {},
                    "output_type": "display_data"
                },
                {
                    "data": {
                        "text/plain": [
                            "array([[ 3.56716933, -1.00810594,  2.63275563,  9.82455585],\n",
                            "       [ 3.90843207,  1.20304775,  2.01638149, 13.03200787],\n",
                            "       [ 3.58029482,  1.89403327,  0.77452342,  9.02441885]])"
                        ]
                    },
                    "metadata": {},
                    "output_type": "display_data"
                },
                {
                    "data": {
                        "application/vnd.microsoft.datawrangler.viewer.v0+json": {
                            "columns": [
                                {
                                    "name": "index",
                                    "rawType": "int64",
                                    "type": "integer"
                                },
                                {
                                    "name": "Trading Time",
                                    "rawType": "datetime64[ns]",
                                    "type": "datetime"
                                },
                                {
                                    "name": "Closing Price",
                                    "rawType": "float64",
                                    "type": "float"
                                },
                                {
                                    "name": "HL_PCT",
                                    "rawType": "float64",
                                    "type": "float"
                                },
                                {
                                    "name": "PCT_change",
                                    "rawType": "float64",
                                    "type": "float"
                                },
                                {
                                    "name": "Trading Volume",
                                    "rawType": "float64",
                                    "type": "float"
                                },
                                {
                                    "name": "Label",
                                    "rawType": "float64",
                                    "type": "float"
                                }
                            ],
                            "conversionMethod": "pd.DataFrame",
                            "ref": "9ed95b04-475a-4bdc-9c2f-83312f1db47a",
                            "rows": [
                                [
                                    "2337",
                                    "2025-02-17 00:00:00",
                                    "8.0",
                                    "7.250000000000001",
                                    "-6.75990675990676",
                                    "505246495.0",
                                    "9.07"
                                ],
                                [
                                    "2338",
                                    "2025-02-18 00:00:00",
                                    "8.8",
                                    "0.0",
                                    "14.285714285714294",
                                    "669145270.0",
                                    "9.98"
                                ],
                                [
                                    "2339",
                                    "2025-02-19 00:00:00",
                                    "9.07",
                                    "4.630650496141123",
                                    "-0.32967032967032267",
                                    "631089223.0",
                                    "10.5"
                                ],
                                [
                                    "2340",
                                    "2025-02-20 00:00:00",
                                    "9.07",
                                    "8.930540242557889",
                                    "0.33185840707965863",
                                    "495482881.0",
                                    "10.0"
                                ],
                                [
                                    "2341",
                                    "2025-02-21 00:00:00",
                                    "9.98",
                                    "0.0",
                                    "8.008658008658012",
                                    "449182206.0",
                                    "10.43"
                                ],
                                [
                                    "2342",
                                    "2025-02-24 00:00:00",
                                    "10.5",
                                    "4.571428571428576",
                                    "6.167846309403432",
                                    "590193231.0",
                                    "11.03"
                                ],
                                [
                                    "2343",
                                    "2025-02-25 00:00:00",
                                    "10.0",
                                    "5.9999999999999964",
                                    "2.4590163934426252",
                                    "414005331.0",
                                    "9.99"
                                ],
                                [
                                    "2344",
                                    "2025-02-26 00:00:00",
                                    "10.43",
                                    "5.2732502396931995",
                                    "-0.6666666666666694",
                                    "440843503.0",
                                    null
                                ],
                                [
                                    "2345",
                                    "2025-02-27 00:00:00",
                                    "11.03",
                                    "2.1758839528558496",
                                    "8.992094861660082",
                                    "482724475.0",
                                    null
                                ],
                                [
                                    "2346",
                                    "2025-02-28 00:00:00",
                                    "9.99",
                                    "6.8068068068068035",
                                    "-5.75471698113207",
                                    "456895504.0",
                                    null
                                ]
                            ],
                            "shape": {
                                "columns": 6,
                                "rows": 10
                            }
                        },
                        "text/html": [
                            "<div>\n",
                            "<style scoped>\n",
                            "    .dataframe tbody tr th:only-of-type {\n",
                            "        vertical-align: middle;\n",
                            "    }\n",
                            "\n",
                            "    .dataframe tbody tr th {\n",
                            "        vertical-align: top;\n",
                            "    }\n",
                            "\n",
                            "    .dataframe thead th {\n",
                            "        text-align: right;\n",
                            "    }\n",
                            "</style>\n",
                            "<table border=\"1\" class=\"dataframe\">\n",
                            "  <thead>\n",
                            "    <tr style=\"text-align: right;\">\n",
                            "      <th></th>\n",
                            "      <th>Trading Time</th>\n",
                            "      <th>Closing Price</th>\n",
                            "      <th>HL_PCT</th>\n",
                            "      <th>PCT_change</th>\n",
                            "      <th>Trading Volume</th>\n",
                            "      <th>Label</th>\n",
                            "    </tr>\n",
                            "  </thead>\n",
                            "  <tbody>\n",
                            "    <tr>\n",
                            "      <th>2337</th>\n",
                            "      <td>2025-02-17</td>\n",
                            "      <td>8.00</td>\n",
                            "      <td>7.250000</td>\n",
                            "      <td>-6.759907</td>\n",
                            "      <td>505246495.0</td>\n",
                            "      <td>9.07</td>\n",
                            "    </tr>\n",
                            "    <tr>\n",
                            "      <th>2338</th>\n",
                            "      <td>2025-02-18</td>\n",
                            "      <td>8.80</td>\n",
                            "      <td>0.000000</td>\n",
                            "      <td>14.285714</td>\n",
                            "      <td>669145270.0</td>\n",
                            "      <td>9.98</td>\n",
                            "    </tr>\n",
                            "    <tr>\n",
                            "      <th>2339</th>\n",
                            "      <td>2025-02-19</td>\n",
                            "      <td>9.07</td>\n",
                            "      <td>4.630650</td>\n",
                            "      <td>-0.329670</td>\n",
                            "      <td>631089223.0</td>\n",
                            "      <td>10.50</td>\n",
                            "    </tr>\n",
                            "    <tr>\n",
                            "      <th>2340</th>\n",
                            "      <td>2025-02-20</td>\n",
                            "      <td>9.07</td>\n",
                            "      <td>8.930540</td>\n",
                            "      <td>0.331858</td>\n",
                            "      <td>495482881.0</td>\n",
                            "      <td>10.00</td>\n",
                            "    </tr>\n",
                            "    <tr>\n",
                            "      <th>2341</th>\n",
                            "      <td>2025-02-21</td>\n",
                            "      <td>9.98</td>\n",
                            "      <td>0.000000</td>\n",
                            "      <td>8.008658</td>\n",
                            "      <td>449182206.0</td>\n",
                            "      <td>10.43</td>\n",
                            "    </tr>\n",
                            "    <tr>\n",
                            "      <th>2342</th>\n",
                            "      <td>2025-02-24</td>\n",
                            "      <td>10.50</td>\n",
                            "      <td>4.571429</td>\n",
                            "      <td>6.167846</td>\n",
                            "      <td>590193231.0</td>\n",
                            "      <td>11.03</td>\n",
                            "    </tr>\n",
                            "    <tr>\n",
                            "      <th>2343</th>\n",
                            "      <td>2025-02-25</td>\n",
                            "      <td>10.00</td>\n",
                            "      <td>6.000000</td>\n",
                            "      <td>2.459016</td>\n",
                            "      <td>414005331.0</td>\n",
                            "      <td>9.99</td>\n",
                            "    </tr>\n",
                            "    <tr>\n",
                            "      <th>2344</th>\n",
                            "      <td>2025-02-26</td>\n",
                            "      <td>10.43</td>\n",
                            "      <td>5.273250</td>\n",
                            "      <td>-0.666667</td>\n",
                            "      <td>440843503.0</td>\n",
                            "      <td>NaN</td>\n",
                            "    </tr>\n",
                            "    <tr>\n",
                            "      <th>2345</th>\n",
                            "      <td>2025-02-27</td>\n",
                            "      <td>11.03</td>\n",
                            "      <td>2.175884</td>\n",
                            "      <td>8.992095</td>\n",
                            "      <td>482724475.0</td>\n",
                            "      <td>NaN</td>\n",
                            "    </tr>\n",
                            "    <tr>\n",
                            "      <th>2346</th>\n",
                            "      <td>2025-02-28</td>\n",
                            "      <td>9.99</td>\n",
                            "      <td>6.806807</td>\n",
                            "      <td>-5.754717</td>\n",
                            "      <td>456895504.0</td>\n",
                            "      <td>NaN</td>\n",
                            "    </tr>\n",
                            "  </tbody>\n",
                            "</table>\n",
                            "</div>"
                        ],
                        "text/plain": [
                            "     Trading Time  Closing Price    HL_PCT  PCT_change  Trading Volume  Label\n",
                            "2337   2025-02-17           8.00  7.250000   -6.759907     505246495.0   9.07\n",
                            "2338   2025-02-18           8.80  0.000000   14.285714     669145270.0   9.98\n",
                            "2339   2025-02-19           9.07  4.630650   -0.329670     631089223.0  10.50\n",
                            "2340   2025-02-20           9.07  8.930540    0.331858     495482881.0  10.00\n",
                            "2341   2025-02-21           9.98  0.000000    8.008658     449182206.0  10.43\n",
                            "2342   2025-02-24          10.50  4.571429    6.167846     590193231.0  11.03\n",
                            "2343   2025-02-25          10.00  6.000000    2.459016     414005331.0   9.99\n",
                            "2344   2025-02-26          10.43  5.273250   -0.666667     440843503.0    NaN\n",
                            "2345   2025-02-27          11.03  2.175884    8.992095     482724475.0    NaN\n",
                            "2346   2025-02-28           9.99  6.806807   -5.754717     456895504.0    NaN"
                        ]
                    },
                    "metadata": {},
                    "output_type": "display_data"
                }
            ],
            "source": [
                "X = np.array(stock_df.drop(['Label', 'Trading Time'], axis = 1))\n",
                "X = preprocessing.scale(X)\n",
                "X = X[:-forecast_out]\n",
                "X_lately = X[-forecast_out:]\n",
                "\n",
                "display(X)\n",
                "display(X_lately)\n",
                "display(stock_df.tail(10))"
            ]
        },
        {
            "cell_type": "markdown",
            "metadata": {},
            "source": [
                "## Removing NaN values caused by the shifting"
            ]
        },
        {
            "cell_type": "code",
            "execution_count": 16,
            "metadata": {},
            "outputs": [],
            "source": [
                "stock_df.dropna(inplace = True)"
            ]
        },
        {
            "cell_type": "code",
            "execution_count": 17,
            "metadata": {},
            "outputs": [
                {
                    "data": {
                        "text/plain": [
                            "array([ 2.82,  3.1 ,  3.41, ..., 10.43, 11.03,  9.99], shape=(2344,))"
                        ]
                    },
                    "metadata": {},
                    "output_type": "display_data"
                },
                {
                    "data": {
                        "application/vnd.microsoft.datawrangler.viewer.v0+json": {
                            "columns": [
                                {
                                    "name": "index",
                                    "rawType": "int64",
                                    "type": "integer"
                                },
                                {
                                    "name": "Trading Time",
                                    "rawType": "datetime64[ns]",
                                    "type": "datetime"
                                },
                                {
                                    "name": "Closing Price",
                                    "rawType": "float64",
                                    "type": "float"
                                },
                                {
                                    "name": "HL_PCT",
                                    "rawType": "float64",
                                    "type": "float"
                                },
                                {
                                    "name": "PCT_change",
                                    "rawType": "float64",
                                    "type": "float"
                                },
                                {
                                    "name": "Trading Volume",
                                    "rawType": "float64",
                                    "type": "float"
                                },
                                {
                                    "name": "Label",
                                    "rawType": "float64",
                                    "type": "float"
                                }
                            ],
                            "conversionMethod": "pd.DataFrame",
                            "ref": "858057ce-7cd8-4545-93ca-b48d050bcada",
                            "rows": [
                                [
                                    "2334",
                                    "2025-02-12 00:00:00",
                                    "8.14",
                                    "2.3341523341523276",
                                    "1.750000000000007",
                                    "714707604.0",
                                    "8.0"
                                ],
                                [
                                    "2335",
                                    "2025-02-13 00:00:00",
                                    "8.95",
                                    "0.0",
                                    "5.791962174940879",
                                    "644307479.0",
                                    "8.8"
                                ],
                                [
                                    "2336",
                                    "2025-02-14 00:00:00",
                                    "8.53",
                                    "4.33763188745605",
                                    "0.23501762632196915",
                                    "522612008.0",
                                    "9.07"
                                ],
                                [
                                    "2337",
                                    "2025-02-17 00:00:00",
                                    "8.0",
                                    "7.250000000000001",
                                    "-6.75990675990676",
                                    "505246495.0",
                                    "9.07"
                                ],
                                [
                                    "2338",
                                    "2025-02-18 00:00:00",
                                    "8.8",
                                    "0.0",
                                    "14.285714285714294",
                                    "669145270.0",
                                    "9.98"
                                ],
                                [
                                    "2339",
                                    "2025-02-19 00:00:00",
                                    "9.07",
                                    "4.630650496141123",
                                    "-0.32967032967032267",
                                    "631089223.0",
                                    "10.5"
                                ],
                                [
                                    "2340",
                                    "2025-02-20 00:00:00",
                                    "9.07",
                                    "8.930540242557889",
                                    "0.33185840707965863",
                                    "495482881.0",
                                    "10.0"
                                ],
                                [
                                    "2341",
                                    "2025-02-21 00:00:00",
                                    "9.98",
                                    "0.0",
                                    "8.008658008658012",
                                    "449182206.0",
                                    "10.43"
                                ],
                                [
                                    "2342",
                                    "2025-02-24 00:00:00",
                                    "10.5",
                                    "4.571428571428576",
                                    "6.167846309403432",
                                    "590193231.0",
                                    "11.03"
                                ],
                                [
                                    "2343",
                                    "2025-02-25 00:00:00",
                                    "10.0",
                                    "5.9999999999999964",
                                    "2.4590163934426252",
                                    "414005331.0",
                                    "9.99"
                                ]
                            ],
                            "shape": {
                                "columns": 6,
                                "rows": 10
                            }
                        },
                        "text/html": [
                            "<div>\n",
                            "<style scoped>\n",
                            "    .dataframe tbody tr th:only-of-type {\n",
                            "        vertical-align: middle;\n",
                            "    }\n",
                            "\n",
                            "    .dataframe tbody tr th {\n",
                            "        vertical-align: top;\n",
                            "    }\n",
                            "\n",
                            "    .dataframe thead th {\n",
                            "        text-align: right;\n",
                            "    }\n",
                            "</style>\n",
                            "<table border=\"1\" class=\"dataframe\">\n",
                            "  <thead>\n",
                            "    <tr style=\"text-align: right;\">\n",
                            "      <th></th>\n",
                            "      <th>Trading Time</th>\n",
                            "      <th>Closing Price</th>\n",
                            "      <th>HL_PCT</th>\n",
                            "      <th>PCT_change</th>\n",
                            "      <th>Trading Volume</th>\n",
                            "      <th>Label</th>\n",
                            "    </tr>\n",
                            "  </thead>\n",
                            "  <tbody>\n",
                            "    <tr>\n",
                            "      <th>2334</th>\n",
                            "      <td>2025-02-12</td>\n",
                            "      <td>8.14</td>\n",
                            "      <td>2.334152</td>\n",
                            "      <td>1.750000</td>\n",
                            "      <td>714707604.0</td>\n",
                            "      <td>8.00</td>\n",
                            "    </tr>\n",
                            "    <tr>\n",
                            "      <th>2335</th>\n",
                            "      <td>2025-02-13</td>\n",
                            "      <td>8.95</td>\n",
                            "      <td>0.000000</td>\n",
                            "      <td>5.791962</td>\n",
                            "      <td>644307479.0</td>\n",
                            "      <td>8.80</td>\n",
                            "    </tr>\n",
                            "    <tr>\n",
                            "      <th>2336</th>\n",
                            "      <td>2025-02-14</td>\n",
                            "      <td>8.53</td>\n",
                            "      <td>4.337632</td>\n",
                            "      <td>0.235018</td>\n",
                            "      <td>522612008.0</td>\n",
                            "      <td>9.07</td>\n",
                            "    </tr>\n",
                            "    <tr>\n",
                            "      <th>2337</th>\n",
                            "      <td>2025-02-17</td>\n",
                            "      <td>8.00</td>\n",
                            "      <td>7.250000</td>\n",
                            "      <td>-6.759907</td>\n",
                            "      <td>505246495.0</td>\n",
                            "      <td>9.07</td>\n",
                            "    </tr>\n",
                            "    <tr>\n",
                            "      <th>2338</th>\n",
                            "      <td>2025-02-18</td>\n",
                            "      <td>8.80</td>\n",
                            "      <td>0.000000</td>\n",
                            "      <td>14.285714</td>\n",
                            "      <td>669145270.0</td>\n",
                            "      <td>9.98</td>\n",
                            "    </tr>\n",
                            "    <tr>\n",
                            "      <th>2339</th>\n",
                            "      <td>2025-02-19</td>\n",
                            "      <td>9.07</td>\n",
                            "      <td>4.630650</td>\n",
                            "      <td>-0.329670</td>\n",
                            "      <td>631089223.0</td>\n",
                            "      <td>10.50</td>\n",
                            "    </tr>\n",
                            "    <tr>\n",
                            "      <th>2340</th>\n",
                            "      <td>2025-02-20</td>\n",
                            "      <td>9.07</td>\n",
                            "      <td>8.930540</td>\n",
                            "      <td>0.331858</td>\n",
                            "      <td>495482881.0</td>\n",
                            "      <td>10.00</td>\n",
                            "    </tr>\n",
                            "    <tr>\n",
                            "      <th>2341</th>\n",
                            "      <td>2025-02-21</td>\n",
                            "      <td>9.98</td>\n",
                            "      <td>0.000000</td>\n",
                            "      <td>8.008658</td>\n",
                            "      <td>449182206.0</td>\n",
                            "      <td>10.43</td>\n",
                            "    </tr>\n",
                            "    <tr>\n",
                            "      <th>2342</th>\n",
                            "      <td>2025-02-24</td>\n",
                            "      <td>10.50</td>\n",
                            "      <td>4.571429</td>\n",
                            "      <td>6.167846</td>\n",
                            "      <td>590193231.0</td>\n",
                            "      <td>11.03</td>\n",
                            "    </tr>\n",
                            "    <tr>\n",
                            "      <th>2343</th>\n",
                            "      <td>2025-02-25</td>\n",
                            "      <td>10.00</td>\n",
                            "      <td>6.000000</td>\n",
                            "      <td>2.459016</td>\n",
                            "      <td>414005331.0</td>\n",
                            "      <td>9.99</td>\n",
                            "    </tr>\n",
                            "  </tbody>\n",
                            "</table>\n",
                            "</div>"
                        ],
                        "text/plain": [
                            "     Trading Time  Closing Price    HL_PCT  PCT_change  Trading Volume  Label\n",
                            "2334   2025-02-12           8.14  2.334152    1.750000     714707604.0   8.00\n",
                            "2335   2025-02-13           8.95  0.000000    5.791962     644307479.0   8.80\n",
                            "2336   2025-02-14           8.53  4.337632    0.235018     522612008.0   9.07\n",
                            "2337   2025-02-17           8.00  7.250000   -6.759907     505246495.0   9.07\n",
                            "2338   2025-02-18           8.80  0.000000   14.285714     669145270.0   9.98\n",
                            "2339   2025-02-19           9.07  4.630650   -0.329670     631089223.0  10.50\n",
                            "2340   2025-02-20           9.07  8.930540    0.331858     495482881.0  10.00\n",
                            "2341   2025-02-21           9.98  0.000000    8.008658     449182206.0  10.43\n",
                            "2342   2025-02-24          10.50  4.571429    6.167846     590193231.0  11.03\n",
                            "2343   2025-02-25          10.00  6.000000    2.459016     414005331.0   9.99"
                        ]
                    },
                    "metadata": {},
                    "output_type": "display_data"
                }
            ],
            "source": [
                "y = np.array(stock_df['Label'])\n",
                "display(y)\n",
                "display(stock_df.tail(10))"
            ]
        },
        {
            "cell_type": "markdown",
            "metadata": {},
            "source": [
                "You can see they have the same shape in axis = 1."
            ]
        },
        {
            "cell_type": "markdown",
            "metadata": {},
            "source": [
                "# Split data into traning and testing."
            ]
        },
        {
            "cell_type": "markdown",
            "metadata": {},
            "source": [
                "Set shuffle = False because by default it will shuffle and this will mess up the date relationships which is something we want"
            ]
        },
        {
            "cell_type": "code",
            "execution_count": 18,
            "metadata": {},
            "outputs": [],
            "source": [
                "X_train, X_test, y_train, y_test, dates_train, dates_test = model_selection.train_test_split(X, y, dates, test_size = 0.2)"
            ]
        },
        {
            "cell_type": "markdown",
            "metadata": {},
            "source": [
                "# Training the model(classifier)\n",
                "`n_jobs = -1` means to run using as many threads as possible, make it faster."
            ]
        },
        {
            "cell_type": "code",
            "execution_count": 19,
            "metadata": {},
            "outputs": [],
            "source": [
                "clf = LinearRegression(n_jobs = -1)\n",
                "clf.fit(X_train, y_train)\n",
                "accuracy = clf.score(X_test, y_test)"
            ]
        },
        {
            "cell_type": "markdown",
            "metadata": {},
            "source": [
                "# Saving the model\n",
                "And load the model:"
            ]
        },
        {
            "cell_type": "code",
            "execution_count": 20,
            "metadata": {},
            "outputs": [],
            "source": [
                "joblib.dump(clf, 'stock_prediction_model.pkl')\n",
                "loaded_model = joblib.load('stock_prediction_model.pkl')"
            ]
        },
        {
            "cell_type": "markdown",
            "metadata": {},
            "source": [
                "Store the loaded model into clf for education purposes"
            ]
        },
        {
            "cell_type": "code",
            "execution_count": 21,
            "metadata": {},
            "outputs": [],
            "source": [
                "clf = loaded_model"
            ]
        },
        {
            "cell_type": "markdown",
            "metadata": {},
            "source": [
                "# Getting the prediction for the shifted days that has no answers.\n",
                "And print the result:"
            ]
        },
        {
            "cell_type": "code",
            "execution_count": 22,
            "metadata": {},
            "outputs": [
                {
                    "name": "stdout",
                    "output_type": "stream",
                    "text": [
                        "Forecast result: [10.36892536 11.00327351 10.31134466]\n",
                        "With the accuracy of: 0.9525875235197545\n",
                        "Forecast out of 3 days.\n"
                    ]
                }
            ],
            "source": [
                "forecast_set = clf.predict(X_lately)\n",
                "print(\"Forecast result: \" + str(forecast_set) + \"\\n\" + \"With the accuracy of: \" + str(accuracy) + \"\\n\" + \"Forecast out of \" + str(forecast_out) + \" days.\")"
            ]
        },
        {
            "cell_type": "markdown",
            "metadata": {},
            "source": [
                "# Merging all sections together for matplot lib\n",
                "\n",
                "1. dates_train\n",
                "2. dates_test\n",
                "3. dates_lately\n",
                "\n",
                "This being the X axis\n",
                "\n",
                "and\n",
                "\n",
                "\n",
                "1. y_train\n",
                "2. y_test\n",
                "3. forcast out\n",
                "\n",
                "This being the Y axis"
            ]
        },
        {
            "cell_type": "code",
            "execution_count": 23,
            "metadata": {},
            "outputs": [
                {
                    "data": {
                        "application/vnd.microsoft.datawrangler.viewer.v0+json": {
                            "columns": [
                                {
                                    "name": "Date",
                                    "rawType": "datetime64[ns]",
                                    "type": "datetime"
                                },
                                {
                                    "name": "Closing Price",
                                    "rawType": "float64",
                                    "type": "float"
                                }
                            ],
                            "conversionMethod": "pd.DataFrame",
                            "ref": "da7292cc-0e6b-4606-85f5-79955471ea9e",
                            "rows": [
                                [
                                    "2015-05-29 00:00:00",
                                    "2.82"
                                ],
                                [
                                    "2015-06-01 00:00:00",
                                    "3.1"
                                ],
                                [
                                    "2015-06-02 00:00:00",
                                    "3.41"
                                ],
                                [
                                    "2015-06-03 00:00:00",
                                    "3.75"
                                ],
                                [
                                    "2015-06-04 00:00:00",
                                    "4.13"
                                ],
                                [
                                    "2015-06-05 00:00:00",
                                    "4.54"
                                ],
                                [
                                    "2015-06-08 00:00:00",
                                    "4.99"
                                ],
                                [
                                    "2015-06-09 00:00:00",
                                    "5.49"
                                ],
                                [
                                    "2015-06-10 00:00:00",
                                    "6.04"
                                ],
                                [
                                    "2015-06-11 00:00:00",
                                    "6.64"
                                ],
                                [
                                    "2015-06-12 00:00:00",
                                    "7.31"
                                ],
                                [
                                    "2015-06-15 00:00:00",
                                    "6.58"
                                ],
                                [
                                    "2015-06-16 00:00:00",
                                    "5.92"
                                ],
                                [
                                    "2015-06-17 00:00:00",
                                    "5.45"
                                ],
                                [
                                    "2015-06-18 00:00:00",
                                    "5.38"
                                ],
                                [
                                    "2015-06-19 00:00:00",
                                    "4.94"
                                ],
                                [
                                    "2015-06-23 00:00:00",
                                    "4.45"
                                ],
                                [
                                    "2015-06-24 00:00:00",
                                    "4.01"
                                ],
                                [
                                    "2015-06-25 00:00:00",
                                    "4.36"
                                ],
                                [
                                    "2015-06-26 00:00:00",
                                    "4.14"
                                ],
                                [
                                    "2015-06-29 00:00:00",
                                    "3.73"
                                ],
                                [
                                    "2015-06-30 00:00:00",
                                    "3.37"
                                ],
                                [
                                    "2015-07-01 00:00:00",
                                    "3.71"
                                ],
                                [
                                    "2015-07-02 00:00:00",
                                    "3.34"
                                ],
                                [
                                    "2015-07-03 00:00:00",
                                    "3.01"
                                ],
                                [
                                    "2015-07-06 00:00:00",
                                    "3.31"
                                ],
                                [
                                    "2015-07-07 00:00:00",
                                    "3.64"
                                ],
                                [
                                    "2015-07-08 00:00:00",
                                    "4.0"
                                ],
                                [
                                    "2015-07-09 00:00:00",
                                    "4.12"
                                ],
                                [
                                    "2015-07-10 00:00:00",
                                    "3.71"
                                ],
                                [
                                    "2015-07-13 00:00:00",
                                    "3.63"
                                ],
                                [
                                    "2015-07-14 00:00:00",
                                    "3.86"
                                ],
                                [
                                    "2015-07-15 00:00:00",
                                    "3.84"
                                ],
                                [
                                    "2015-07-16 00:00:00",
                                    "4.13"
                                ],
                                [
                                    "2015-07-17 00:00:00",
                                    "4.23"
                                ],
                                [
                                    "2015-07-20 00:00:00",
                                    "4.65"
                                ],
                                [
                                    "2015-07-21 00:00:00",
                                    "4.54"
                                ],
                                [
                                    "2015-07-22 00:00:00",
                                    "4.08"
                                ],
                                [
                                    "2015-07-23 00:00:00",
                                    "3.68"
                                ],
                                [
                                    "2015-07-24 00:00:00",
                                    "4.05"
                                ],
                                [
                                    "2015-07-27 00:00:00",
                                    "4.13"
                                ],
                                [
                                    "2015-07-28 00:00:00",
                                    "4.55"
                                ],
                                [
                                    "2015-07-29 00:00:00",
                                    "5.0"
                                ],
                                [
                                    "2015-07-30 00:00:00",
                                    "4.79"
                                ],
                                [
                                    "2015-07-31 00:00:00",
                                    "5.27"
                                ],
                                [
                                    "2015-08-03 00:00:00",
                                    "5.8"
                                ],
                                [
                                    "2015-08-04 00:00:00",
                                    "5.78"
                                ],
                                [
                                    "2015-08-05 00:00:00",
                                    "5.83"
                                ],
                                [
                                    "2015-08-06 00:00:00",
                                    "6.05"
                                ],
                                [
                                    "2015-08-07 00:00:00",
                                    "5.46"
                                ]
                            ],
                            "shape": {
                                "columns": 1,
                                "rows": 2347
                            }
                        },
                        "text/html": [
                            "<div>\n",
                            "<style scoped>\n",
                            "    .dataframe tbody tr th:only-of-type {\n",
                            "        vertical-align: middle;\n",
                            "    }\n",
                            "\n",
                            "    .dataframe tbody tr th {\n",
                            "        vertical-align: top;\n",
                            "    }\n",
                            "\n",
                            "    .dataframe thead th {\n",
                            "        text-align: right;\n",
                            "    }\n",
                            "</style>\n",
                            "<table border=\"1\" class=\"dataframe\">\n",
                            "  <thead>\n",
                            "    <tr style=\"text-align: right;\">\n",
                            "      <th></th>\n",
                            "      <th>Closing Price</th>\n",
                            "    </tr>\n",
                            "    <tr>\n",
                            "      <th>Date</th>\n",
                            "      <th></th>\n",
                            "    </tr>\n",
                            "  </thead>\n",
                            "  <tbody>\n",
                            "    <tr>\n",
                            "      <th>2015-05-29</th>\n",
                            "      <td>2.820000</td>\n",
                            "    </tr>\n",
                            "    <tr>\n",
                            "      <th>2015-06-01</th>\n",
                            "      <td>3.100000</td>\n",
                            "    </tr>\n",
                            "    <tr>\n",
                            "      <th>2015-06-02</th>\n",
                            "      <td>3.410000</td>\n",
                            "    </tr>\n",
                            "    <tr>\n",
                            "      <th>2015-06-03</th>\n",
                            "      <td>3.750000</td>\n",
                            "    </tr>\n",
                            "    <tr>\n",
                            "      <th>2015-06-04</th>\n",
                            "      <td>4.130000</td>\n",
                            "    </tr>\n",
                            "    <tr>\n",
                            "      <th>...</th>\n",
                            "      <td>...</td>\n",
                            "    </tr>\n",
                            "    <tr>\n",
                            "      <th>2025-02-24</th>\n",
                            "      <td>11.030000</td>\n",
                            "    </tr>\n",
                            "    <tr>\n",
                            "      <th>2025-02-25</th>\n",
                            "      <td>9.990000</td>\n",
                            "    </tr>\n",
                            "    <tr>\n",
                            "      <th>2025-02-26</th>\n",
                            "      <td>10.368925</td>\n",
                            "    </tr>\n",
                            "    <tr>\n",
                            "      <th>2025-02-27</th>\n",
                            "      <td>11.003274</td>\n",
                            "    </tr>\n",
                            "    <tr>\n",
                            "      <th>2025-02-28</th>\n",
                            "      <td>10.311345</td>\n",
                            "    </tr>\n",
                            "  </tbody>\n",
                            "</table>\n",
                            "<p>2347 rows × 1 columns</p>\n",
                            "</div>"
                        ],
                        "text/plain": [
                            "            Closing Price\n",
                            "Date                     \n",
                            "2015-05-29       2.820000\n",
                            "2015-06-01       3.100000\n",
                            "2015-06-02       3.410000\n",
                            "2015-06-03       3.750000\n",
                            "2015-06-04       4.130000\n",
                            "...                   ...\n",
                            "2025-02-24      11.030000\n",
                            "2025-02-25       9.990000\n",
                            "2025-02-26      10.368925\n",
                            "2025-02-27      11.003274\n",
                            "2025-02-28      10.311345\n",
                            "\n",
                            "[2347 rows x 1 columns]"
                        ]
                    },
                    "metadata": {},
                    "output_type": "display_data"
                }
            ],
            "source": [
                "y_train = y_train.reshape(-1, 1)\n",
                "y_test = y_test.reshape(-1, 1)\n",
                "forecast_set = forecast_set.reshape(-1, 1)\n",
                "\n",
                "dates_train = np.array(dates_train).reshape(-1, 1)\n",
                "dates_test  = np.array(dates_test).reshape(-1, 1)\n",
                "dates_lately = np.array(dates_lately).reshape(-1, 1)\n",
                "\n",
                "all_dates = np.vstack((dates_train, dates_test, dates_lately)).flatten()\n",
                "all_targets = np.vstack((y_train, y_test, forecast_set)).flatten()\n",
                "\n",
                "df_combined = pd.DataFrame({\n",
                "    \"Date\": all_dates,\n",
                "    \"Closing Price\": all_targets\n",
                "})\n",
                "\n",
                "df_combined.set_index('Date', inplace = True)\n",
                "df_combined.sort_values(by = 'Date', inplace = True)\n",
                "display(df_combined)\n"
            ]
        },
        {
            "cell_type": "markdown",
            "metadata": {},
            "source": [
                "## Using matplotlib to Show the graph"
            ]
        },
        {
            "cell_type": "code",
            "execution_count": 24,
            "metadata": {},
            "outputs": [
                {
                    "data": {
                        "image/png": "[encoded data removed]",
                        "text/plain": [
                            "<Figure size 1200x600 with 1 Axes>"
                        ]
                    },
                    "metadata": {},
                    "output_type": "display_data"
                }
            ],
            "source": [
                "plt.figure(figsize = (12, 6))\n",
                "df_combined['Closing Price'][:-forecast_out].plot(label = 'Training Data')\n",
                "df_combined['Closing Price'][-forecast_out:].plot(label = 'Forecast Data')\n",
                "plt.legend(loc = 4)\n",
                "plt.xlabel('Date')\n",
                "plt.ylabel('Closing Price')\n",
                "plt.show()"
            ]
        },
        {
            "cell_type": "code",
            "execution_count": 25,
            "metadata": {},
            "outputs": [
                {
                    "name": "stdout",
                    "output_type": "stream",
                    "text": [
                        "<class 'pandas.core.frame.DataFrame'>\n",
                        "DatetimeIndex: 2347 entries, 2015-05-29 to 2025-02-28\n",
                        "Data columns (total 1 columns):\n",
                        " #   Column         Non-Null Count  Dtype  \n",
                        "---  ------         --------------  -----  \n",
                        " 0   Closing Price  2347 non-null   float64\n",
                        "dtypes: float64(1)\n",
                        "memory usage: 36.7 KB\n"
                    ]
                },
                {
                    "data": {
                        "application/vnd.microsoft.datawrangler.viewer.v0+json": {
                            "columns": [
                                {
                                    "name": "Date",
                                    "rawType": "datetime64[ns]",
                                    "type": "datetime"
                                },
                                {
                                    "name": "Closing Price",
                                    "rawType": "float64",
                                    "type": "float"
                                }
                            ],
                            "conversionMethod": "pd.DataFrame",
                            "ref": "f5dc2efb-7c55-4e08-b8ea-a35303f24478",
                            "rows": [
                                [
                                    "2025-02-24 00:00:00",
                                    "11.03"
                                ],
                                [
                                    "2025-02-27 00:00:00",
                                    "11.003273509355328"
                                ],
                                [
                                    "2025-02-19 00:00:00",
                                    "10.5"
                                ],
                                [
                                    "2025-02-21 00:00:00",
                                    "10.43"
                                ],
                                [
                                    "2025-02-26 00:00:00",
                                    "10.36892536396252"
                                ],
                                [
                                    "2025-02-28 00:00:00",
                                    "10.311344664291955"
                                ],
                                [
                                    "2025-02-20 00:00:00",
                                    "10.0"
                                ],
                                [
                                    "2025-02-25 00:00:00",
                                    "9.99"
                                ],
                                [
                                    "2025-02-18 00:00:00",
                                    "9.98"
                                ],
                                [
                                    "2015-12-31 00:00:00",
                                    "9.83"
                                ],
                                [
                                    "2016-01-05 00:00:00",
                                    "9.44"
                                ],
                                [
                                    "2015-12-22 00:00:00",
                                    "9.21"
                                ],
                                [
                                    "2025-02-17 00:00:00",
                                    "9.07"
                                ],
                                [
                                    "2025-02-14 00:00:00",
                                    "9.07"
                                ],
                                [
                                    "2025-02-10 00:00:00",
                                    "8.95"
                                ],
                                [
                                    "2015-12-30 00:00:00",
                                    "8.94"
                                ],
                                [
                                    "2016-01-04 00:00:00",
                                    "8.85"
                                ],
                                [
                                    "2025-02-13 00:00:00",
                                    "8.8"
                                ],
                                [
                                    "2015-12-25 00:00:00",
                                    "8.74"
                                ],
                                [
                                    "2017-02-13 00:00:00",
                                    "8.71"
                                ],
                                [
                                    "2015-12-21 00:00:00",
                                    "8.67"
                                ],
                                [
                                    "2015-12-24 00:00:00",
                                    "8.63"
                                ],
                                [
                                    "2015-12-28 00:00:00",
                                    "8.61"
                                ],
                                [
                                    "2017-02-14 00:00:00",
                                    "8.58"
                                ],
                                [
                                    "2015-12-18 00:00:00",
                                    "8.57"
                                ],
                                [
                                    "2017-02-16 00:00:00",
                                    "8.56"
                                ],
                                [
                                    "2017-02-15 00:00:00",
                                    "8.56"
                                ],
                                [
                                    "2017-02-17 00:00:00",
                                    "8.55"
                                ],
                                [
                                    "2025-02-11 00:00:00",
                                    "8.53"
                                ],
                                [
                                    "2016-01-06 00:00:00",
                                    "8.5"
                                ],
                                [
                                    "2016-01-15 00:00:00",
                                    "8.49"
                                ],
                                [
                                    "2017-02-20 00:00:00",
                                    "8.36"
                                ],
                                [
                                    "2017-02-09 00:00:00",
                                    "8.33"
                                ],
                                [
                                    "2015-12-17 00:00:00",
                                    "8.32"
                                ],
                                [
                                    "2015-12-29 00:00:00",
                                    "8.31"
                                ],
                                [
                                    "2016-01-07 00:00:00",
                                    "8.31"
                                ],
                                [
                                    "2017-02-21 00:00:00",
                                    "8.3"
                                ],
                                [
                                    "2015-12-23 00:00:00",
                                    "8.29"
                                ],
                                [
                                    "2017-02-10 00:00:00",
                                    "8.2"
                                ],
                                [
                                    "2016-01-11 00:00:00",
                                    "8.17"
                                ],
                                [
                                    "2025-02-07 00:00:00",
                                    "8.14"
                                ],
                                [
                                    "2017-02-22 00:00:00",
                                    "8.12"
                                ],
                                [
                                    "2017-02-08 00:00:00",
                                    "8.12"
                                ],
                                [
                                    "2016-01-08 00:00:00",
                                    "8.08"
                                ],
                                [
                                    "2025-02-12 00:00:00",
                                    "8.0"
                                ],
                                [
                                    "2016-01-14 00:00:00",
                                    "7.97"
                                ],
                                [
                                    "2025-02-06 00:00:00",
                                    "7.96"
                                ],
                                [
                                    "2016-01-20 00:00:00",
                                    "7.88"
                                ],
                                [
                                    "2016-01-19 00:00:00",
                                    "7.87"
                                ],
                                [
                                    "2017-02-07 00:00:00",
                                    "7.85"
                                ]
                            ],
                            "shape": {
                                "columns": 1,
                                "rows": 2347
                            }
                        },
                        "text/html": [
                            "<div>\n",
                            "<style scoped>\n",
                            "    .dataframe tbody tr th:only-of-type {\n",
                            "        vertical-align: middle;\n",
                            "    }\n",
                            "\n",
                            "    .dataframe tbody tr th {\n",
                            "        vertical-align: top;\n",
                            "    }\n",
                            "\n",
                            "    .dataframe thead th {\n",
                            "        text-align: right;\n",
                            "    }\n",
                            "</style>\n",
                            "<table border=\"1\" class=\"dataframe\">\n",
                            "  <thead>\n",
                            "    <tr style=\"text-align: right;\">\n",
                            "      <th></th>\n",
                            "      <th>Closing Price</th>\n",
                            "    </tr>\n",
                            "    <tr>\n",
                            "      <th>Date</th>\n",
                            "      <th></th>\n",
                            "    </tr>\n",
                            "  </thead>\n",
                            "  <tbody>\n",
                            "    <tr>\n",
                            "      <th>2025-02-24</th>\n",
                            "      <td>11.030000</td>\n",
                            "    </tr>\n",
                            "    <tr>\n",
                            "      <th>2025-02-27</th>\n",
                            "      <td>11.003274</td>\n",
                            "    </tr>\n",
                            "    <tr>\n",
                            "      <th>2025-02-19</th>\n",
                            "      <td>10.500000</td>\n",
                            "    </tr>\n",
                            "    <tr>\n",
                            "      <th>2025-02-21</th>\n",
                            "      <td>10.430000</td>\n",
                            "    </tr>\n",
                            "    <tr>\n",
                            "      <th>2025-02-26</th>\n",
                            "      <td>10.368925</td>\n",
                            "    </tr>\n",
                            "    <tr>\n",
                            "      <th>...</th>\n",
                            "      <td>...</td>\n",
                            "    </tr>\n",
                            "    <tr>\n",
                            "      <th>2019-01-24</th>\n",
                            "      <td>1.580000</td>\n",
                            "    </tr>\n",
                            "    <tr>\n",
                            "      <th>2018-10-10</th>\n",
                            "      <td>1.570000</td>\n",
                            "    </tr>\n",
                            "    <tr>\n",
                            "      <th>2019-01-29</th>\n",
                            "      <td>1.560000</td>\n",
                            "    </tr>\n",
                            "    <tr>\n",
                            "      <th>2018-10-15</th>\n",
                            "      <td>1.540000</td>\n",
                            "    </tr>\n",
                            "    <tr>\n",
                            "      <th>2019-01-28</th>\n",
                            "      <td>1.510000</td>\n",
                            "    </tr>\n",
                            "  </tbody>\n",
                            "</table>\n",
                            "<p>2347 rows × 1 columns</p>\n",
                            "</div>"
                        ],
                        "text/plain": [
                            "            Closing Price\n",
                            "Date                     \n",
                            "2025-02-24      11.030000\n",
                            "2025-02-27      11.003274\n",
                            "2025-02-19      10.500000\n",
                            "2025-02-21      10.430000\n",
                            "2025-02-26      10.368925\n",
                            "...                   ...\n",
                            "2019-01-24       1.580000\n",
                            "2018-10-10       1.570000\n",
                            "2019-01-29       1.560000\n",
                            "2018-10-15       1.540000\n",
                            "2019-01-28       1.510000\n",
                            "\n",
                            "[2347 rows x 1 columns]"
                        ]
                    },
                    "execution_count": 25,
                    "metadata": {},
                    "output_type": "execute_result"
                }
            ],
            "source": [
                "df_combined.info()\n",
                "df_combined.columns\n",
                "df_combined.describe()\n",
                "df_combined.sort_values(by = 'Closing Price', ascending = False)\n"
            ]
        }
    ],
    "metadata": {
        "kernelspec": {
            "display_name": ".venv",
            "language": "python",
            "name": "python3"
        },
        "language_info": {
            "codemirror_mode": {
                "name": "ipython",
                "version": 3
            },
            "file_extension": ".py",
            "mimetype": "text/x-python",
            "name": "python",
            "nbconvert_exporter": "python",
            "pygments_lexer": "ipython3",
            "version": "3.11.8"
        }
    },
    "nbformat": 4,
    "nbformat_minor": 2
}
