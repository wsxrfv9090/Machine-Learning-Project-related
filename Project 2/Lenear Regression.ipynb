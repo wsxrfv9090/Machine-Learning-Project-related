{
    "cells": [
        {
            "cell_type": "markdown",
            "metadata": {},
            "source": [
                "# Importing"
            ]
        },
        {
            "cell_type": "code",
            "execution_count": 1,
            "metadata": {},
            "outputs": [],
            "source": [
                "import pandas as pd\n",
                "import math\n",
                "import numpy as np\n",
                "from sklearn import preprocessing, model_selection\n",
                "from sklearn.linear_model import LinearRegression"
            ]
        },
        {
            "cell_type": "markdown",
            "metadata": {},
            "source": [
                "Use to plot the data"
            ]
        },
        {
            "cell_type": "code",
            "execution_count": 2,
            "metadata": {},
            "outputs": [],
            "source": [
                "import matplotlib.pyplot as plt\n"
            ]
        },
        {
            "cell_type": "markdown",
            "metadata": {},
            "source": [
                "Use to make data look better"
            ]
        },
        {
            "cell_type": "code",
            "execution_count": 3,
            "metadata": {},
            "outputs": [],
            "source": [
                "from matplotlib import style"
            ]
        },
        {
            "cell_type": "markdown",
            "metadata": {},
            "source": [
                "Use to specify the style of the plot"
            ]
        },
        {
            "cell_type": "code",
            "execution_count": 4,
            "metadata": {},
            "outputs": [],
            "source": [
                "style.use('ggplot')"
            ]
        },
        {
            "cell_type": "code",
            "execution_count": 5,
            "metadata": {},
            "outputs": [],
            "source": [
                "import joblib"
            ]
        },
        {
            "cell_type": "markdown",
            "metadata": {},
            "source": [
                "# Selecting Files"
            ]
        },
        {
            "cell_type": "code",
            "execution_count": 6,
            "metadata": {},
            "outputs": [],
            "source": [
                "file_path = r'D:\\Important Files\\Repositories\\Machine-Learning-Project-related\\Project 2\\Data\\600873_metadata_utf8.csv'\n",
                "stock_df = pd.read_csv(file_path)"
            ]
        },
        {
            "cell_type": "markdown",
            "metadata": {},
            "source": [
                "# Calculating nessasary indexes\n",
                "and add them to the stock_df dataframe"
            ]
        },
        {
            "cell_type": "code",
            "execution_count": 7,
            "metadata": {},
            "outputs": [
                {
                    "data": {
                        "application/vnd.microsoft.datawrangler.viewer.v0+json": {
                            "columns": [
                                {
                                    "name": "index",
                                    "rawType": "int64",
                                    "type": "integer"
                                },
                                {
                                    "name": "Stock Code",
                                    "rawType": "int64",
                                    "type": "integer"
                                },
                                {
                                    "name": "Stock Name",
                                    "rawType": "object",
                                    "type": "string"
                                },
                                {
                                    "name": "Trading Time",
                                    "rawType": "object",
                                    "type": "string"
                                },
                                {
                                    "name": "Opening Price",
                                    "rawType": "float64",
                                    "type": "float"
                                },
                                {
                                    "name": "Highest Price",
                                    "rawType": "float64",
                                    "type": "float"
                                },
                                {
                                    "name": "Lowest Price",
                                    "rawType": "float64",
                                    "type": "float"
                                },
                                {
                                    "name": "Closing Price",
                                    "rawType": "float64",
                                    "type": "float"
                                },
                                {
                                    "name": "Price Change",
                                    "rawType": "object",
                                    "type": "string"
                                },
                                {
                                    "name": "Price Change Percentage",
                                    "rawType": "object",
                                    "type": "string"
                                },
                                {
                                    "name": "Trading Volume",
                                    "rawType": "object",
                                    "type": "string"
                                },
                                {
                                    "name": "Trading Amount",
                                    "rawType": "object",
                                    "type": "string"
                                },
                                {
                                    "name": "HL_PCT",
                                    "rawType": "float64",
                                    "type": "float"
                                },
                                {
                                    "name": "PCT_change",
                                    "rawType": "float64",
                                    "type": "float"
                                }
                            ],
                            "conversionMethod": "pd.DataFrame",
                            "ref": "71d35754-de2e-4778-b7e4-4adfd1aec651",
                            "rows": [
                                [
                                    "0",
                                    "600873",
                                    "????",
                                    "2/17/1995",
                                    "0.83",
                                    "0.95",
                                    "0.83",
                                    "0.9",
                                    "--",
                                    "--",
                                    "11,954,900",
                                    "69,198,000",
                                    "5.555555555555548",
                                    "8.433734939759043"
                                ],
                                [
                                    "1",
                                    "600873",
                                    "????",
                                    "2/20/1995",
                                    "0.88",
                                    "0.9",
                                    "0.86",
                                    "0.87",
                                    "-0.0287",
                                    "-3.1825",
                                    "3,859,200",
                                    "22,417,000",
                                    "3.448275862068969",
                                    "-1.1363636363636374"
                                ],
                                [
                                    "2",
                                    "600873",
                                    "????",
                                    "2/21/1995",
                                    "0.87",
                                    "0.89",
                                    "0.85",
                                    "0.89",
                                    "0.018",
                                    "2.0616",
                                    "2,091,500",
                                    "12,031,000",
                                    "0.0",
                                    "2.2988505747126458"
                                ],
                                [
                                    "3",
                                    "600873",
                                    "????",
                                    "2/22/1995",
                                    "0.89",
                                    "1.32",
                                    "0.88",
                                    "1.26",
                                    "0.3698",
                                    "41.4993",
                                    "16,299,000",
                                    "118,230,000",
                                    "4.761904761904765",
                                    "41.57303370786517"
                                ],
                                [
                                    "4",
                                    "600873",
                                    "????",
                                    "2/23/1995",
                                    "1.21",
                                    "1.51",
                                    "1.18",
                                    "1.51",
                                    "0.2531",
                                    "20.073",
                                    "18,309,200",
                                    "158,378,000",
                                    "0.0",
                                    "24.79338842975207"
                                ]
                            ],
                            "shape": {
                                "columns": 13,
                                "rows": 5
                            }
                        },
                        "text/html": [
                            "<div>\n",
                            "<style scoped>\n",
                            "    .dataframe tbody tr th:only-of-type {\n",
                            "        vertical-align: middle;\n",
                            "    }\n",
                            "\n",
                            "    .dataframe tbody tr th {\n",
                            "        vertical-align: top;\n",
                            "    }\n",
                            "\n",
                            "    .dataframe thead th {\n",
                            "        text-align: right;\n",
                            "    }\n",
                            "</style>\n",
                            "<table border=\"1\" class=\"dataframe\">\n",
                            "  <thead>\n",
                            "    <tr style=\"text-align: right;\">\n",
                            "      <th></th>\n",
                            "      <th>Stock Code</th>\n",
                            "      <th>Stock Name</th>\n",
                            "      <th>Trading Time</th>\n",
                            "      <th>Opening Price</th>\n",
                            "      <th>Highest Price</th>\n",
                            "      <th>Lowest Price</th>\n",
                            "      <th>Closing Price</th>\n",
                            "      <th>Price Change</th>\n",
                            "      <th>Price Change Percentage</th>\n",
                            "      <th>Trading Volume</th>\n",
                            "      <th>Trading Amount</th>\n",
                            "      <th>HL_PCT</th>\n",
                            "      <th>PCT_change</th>\n",
                            "    </tr>\n",
                            "  </thead>\n",
                            "  <tbody>\n",
                            "    <tr>\n",
                            "      <th>0</th>\n",
                            "      <td>600873</td>\n",
                            "      <td>????</td>\n",
                            "      <td>2/17/1995</td>\n",
                            "      <td>0.83</td>\n",
                            "      <td>0.95</td>\n",
                            "      <td>0.83</td>\n",
                            "      <td>0.90</td>\n",
                            "      <td>--</td>\n",
                            "      <td>--</td>\n",
                            "      <td>11,954,900</td>\n",
                            "      <td>69,198,000</td>\n",
                            "      <td>5.555556</td>\n",
                            "      <td>8.433735</td>\n",
                            "    </tr>\n",
                            "    <tr>\n",
                            "      <th>1</th>\n",
                            "      <td>600873</td>\n",
                            "      <td>????</td>\n",
                            "      <td>2/20/1995</td>\n",
                            "      <td>0.88</td>\n",
                            "      <td>0.90</td>\n",
                            "      <td>0.86</td>\n",
                            "      <td>0.87</td>\n",
                            "      <td>-0.0287</td>\n",
                            "      <td>-3.1825</td>\n",
                            "      <td>3,859,200</td>\n",
                            "      <td>22,417,000</td>\n",
                            "      <td>3.448276</td>\n",
                            "      <td>-1.136364</td>\n",
                            "    </tr>\n",
                            "    <tr>\n",
                            "      <th>2</th>\n",
                            "      <td>600873</td>\n",
                            "      <td>????</td>\n",
                            "      <td>2/21/1995</td>\n",
                            "      <td>0.87</td>\n",
                            "      <td>0.89</td>\n",
                            "      <td>0.85</td>\n",
                            "      <td>0.89</td>\n",
                            "      <td>0.018</td>\n",
                            "      <td>2.0616</td>\n",
                            "      <td>2,091,500</td>\n",
                            "      <td>12,031,000</td>\n",
                            "      <td>0.000000</td>\n",
                            "      <td>2.298851</td>\n",
                            "    </tr>\n",
                            "    <tr>\n",
                            "      <th>3</th>\n",
                            "      <td>600873</td>\n",
                            "      <td>????</td>\n",
                            "      <td>2/22/1995</td>\n",
                            "      <td>0.89</td>\n",
                            "      <td>1.32</td>\n",
                            "      <td>0.88</td>\n",
                            "      <td>1.26</td>\n",
                            "      <td>0.3698</td>\n",
                            "      <td>41.4993</td>\n",
                            "      <td>16,299,000</td>\n",
                            "      <td>118,230,000</td>\n",
                            "      <td>4.761905</td>\n",
                            "      <td>41.573034</td>\n",
                            "    </tr>\n",
                            "    <tr>\n",
                            "      <th>4</th>\n",
                            "      <td>600873</td>\n",
                            "      <td>????</td>\n",
                            "      <td>2/23/1995</td>\n",
                            "      <td>1.21</td>\n",
                            "      <td>1.51</td>\n",
                            "      <td>1.18</td>\n",
                            "      <td>1.51</td>\n",
                            "      <td>0.2531</td>\n",
                            "      <td>20.073</td>\n",
                            "      <td>18,309,200</td>\n",
                            "      <td>158,378,000</td>\n",
                            "      <td>0.000000</td>\n",
                            "      <td>24.793388</td>\n",
                            "    </tr>\n",
                            "  </tbody>\n",
                            "</table>\n",
                            "</div>"
                        ],
                        "text/plain": [
                            "   Stock Code Stock Name Trading Time  Opening Price  Highest Price  \\\n",
                            "0      600873       ????    2/17/1995           0.83           0.95   \n",
                            "1      600873       ????    2/20/1995           0.88           0.90   \n",
                            "2      600873       ????    2/21/1995           0.87           0.89   \n",
                            "3      600873       ????    2/22/1995           0.89           1.32   \n",
                            "4      600873       ????    2/23/1995           1.21           1.51   \n",
                            "\n",
                            "   Lowest Price  Closing Price Price Change Price Change Percentage  \\\n",
                            "0          0.83           0.90           --                      --   \n",
                            "1          0.86           0.87      -0.0287                 -3.1825   \n",
                            "2          0.85           0.89        0.018                  2.0616   \n",
                            "3          0.88           1.26       0.3698                 41.4993   \n",
                            "4          1.18           1.51       0.2531                  20.073   \n",
                            "\n",
                            "  Trading Volume Trading Amount    HL_PCT  PCT_change  \n",
                            "0     11,954,900     69,198,000  5.555556    8.433735  \n",
                            "1      3,859,200     22,417,000  3.448276   -1.136364  \n",
                            "2      2,091,500     12,031,000  0.000000    2.298851  \n",
                            "3     16,299,000    118,230,000  4.761905   41.573034  \n",
                            "4     18,309,200    158,378,000  0.000000   24.793388  "
                        ]
                    },
                    "metadata": {},
                    "output_type": "display_data"
                }
            ],
            "source": [
                "stock_df['HL_PCT'] = (stock_df['Highest Price'] - stock_df['Closing Price']) / stock_df['Closing Price'] * 100.0\n",
                "stock_df['PCT_change'] = (stock_df['Closing Price'] - stock_df['Opening Price']) / stock_df['Opening Price'] * 100.0\n",
                "display(stock_df.head())"
            ]
        },
        {
            "cell_type": "markdown",
            "metadata": {},
            "source": [
                "# Change the trading time into pandas datetime data type."
            ]
        },
        {
            "cell_type": "code",
            "execution_count": 8,
            "metadata": {},
            "outputs": [
                {
                    "name": "stdout",
                    "output_type": "stream",
                    "text": [
                        "datetime64[ns]\n"
                    ]
                }
            ],
            "source": [
                "stock_df['Trading Time'] = pd.to_datetime(stock_df['Trading Time'])\n",
                "print(stock_df['Trading Time'].dtype)"
            ]
        },
        {
            "cell_type": "markdown",
            "metadata": {},
            "source": [
                "# Choose data columns we want and drop the rest"
            ]
        },
        {
            "cell_type": "code",
            "execution_count": 9,
            "metadata": {},
            "outputs": [
                {
                    "data": {
                        "application/vnd.microsoft.datawrangler.viewer.v0+json": {
                            "columns": [
                                {
                                    "name": "index",
                                    "rawType": "int64",
                                    "type": "integer"
                                },
                                {
                                    "name": "Trading Time",
                                    "rawType": "datetime64[ns]",
                                    "type": "datetime"
                                },
                                {
                                    "name": "Closing Price",
                                    "rawType": "float64",
                                    "type": "float"
                                },
                                {
                                    "name": "HL_PCT",
                                    "rawType": "float64",
                                    "type": "float"
                                },
                                {
                                    "name": "PCT_change",
                                    "rawType": "float64",
                                    "type": "float"
                                },
                                {
                                    "name": "Trading Volume",
                                    "rawType": "object",
                                    "type": "string"
                                }
                            ],
                            "conversionMethod": "pd.DataFrame",
                            "ref": "23889d1e-d18f-4d81-9a47-e1f5841ff9f3",
                            "rows": [
                                [
                                    "0",
                                    "1995-02-17 00:00:00",
                                    "0.9",
                                    "5.555555555555548",
                                    "8.433734939759043",
                                    "11,954,900"
                                ],
                                [
                                    "1",
                                    "1995-02-20 00:00:00",
                                    "0.87",
                                    "3.448275862068969",
                                    "-1.1363636363636374",
                                    "3,859,200"
                                ],
                                [
                                    "2",
                                    "1995-02-21 00:00:00",
                                    "0.89",
                                    "0.0",
                                    "2.2988505747126458",
                                    "2,091,500"
                                ],
                                [
                                    "3",
                                    "1995-02-22 00:00:00",
                                    "1.26",
                                    "4.761904761904765",
                                    "41.57303370786517",
                                    "16,299,000"
                                ],
                                [
                                    "4",
                                    "1995-02-23 00:00:00",
                                    "1.51",
                                    "0.0",
                                    "24.79338842975207",
                                    "18,309,200"
                                ]
                            ],
                            "shape": {
                                "columns": 5,
                                "rows": 5
                            }
                        },
                        "text/html": [
                            "<div>\n",
                            "<style scoped>\n",
                            "    .dataframe tbody tr th:only-of-type {\n",
                            "        vertical-align: middle;\n",
                            "    }\n",
                            "\n",
                            "    .dataframe tbody tr th {\n",
                            "        vertical-align: top;\n",
                            "    }\n",
                            "\n",
                            "    .dataframe thead th {\n",
                            "        text-align: right;\n",
                            "    }\n",
                            "</style>\n",
                            "<table border=\"1\" class=\"dataframe\">\n",
                            "  <thead>\n",
                            "    <tr style=\"text-align: right;\">\n",
                            "      <th></th>\n",
                            "      <th>Trading Time</th>\n",
                            "      <th>Closing Price</th>\n",
                            "      <th>HL_PCT</th>\n",
                            "      <th>PCT_change</th>\n",
                            "      <th>Trading Volume</th>\n",
                            "    </tr>\n",
                            "  </thead>\n",
                            "  <tbody>\n",
                            "    <tr>\n",
                            "      <th>0</th>\n",
                            "      <td>1995-02-17</td>\n",
                            "      <td>0.90</td>\n",
                            "      <td>5.555556</td>\n",
                            "      <td>8.433735</td>\n",
                            "      <td>11,954,900</td>\n",
                            "    </tr>\n",
                            "    <tr>\n",
                            "      <th>1</th>\n",
                            "      <td>1995-02-20</td>\n",
                            "      <td>0.87</td>\n",
                            "      <td>3.448276</td>\n",
                            "      <td>-1.136364</td>\n",
                            "      <td>3,859,200</td>\n",
                            "    </tr>\n",
                            "    <tr>\n",
                            "      <th>2</th>\n",
                            "      <td>1995-02-21</td>\n",
                            "      <td>0.89</td>\n",
                            "      <td>0.000000</td>\n",
                            "      <td>2.298851</td>\n",
                            "      <td>2,091,500</td>\n",
                            "    </tr>\n",
                            "    <tr>\n",
                            "      <th>3</th>\n",
                            "      <td>1995-02-22</td>\n",
                            "      <td>1.26</td>\n",
                            "      <td>4.761905</td>\n",
                            "      <td>41.573034</td>\n",
                            "      <td>16,299,000</td>\n",
                            "    </tr>\n",
                            "    <tr>\n",
                            "      <th>4</th>\n",
                            "      <td>1995-02-23</td>\n",
                            "      <td>1.51</td>\n",
                            "      <td>0.000000</td>\n",
                            "      <td>24.793388</td>\n",
                            "      <td>18,309,200</td>\n",
                            "    </tr>\n",
                            "  </tbody>\n",
                            "</table>\n",
                            "</div>"
                        ],
                        "text/plain": [
                            "  Trading Time  Closing Price    HL_PCT  PCT_change Trading Volume\n",
                            "0   1995-02-17           0.90  5.555556    8.433735     11,954,900\n",
                            "1   1995-02-20           0.87  3.448276   -1.136364      3,859,200\n",
                            "2   1995-02-21           0.89  0.000000    2.298851      2,091,500\n",
                            "3   1995-02-22           1.26  4.761905   41.573034     16,299,000\n",
                            "4   1995-02-23           1.51  0.000000   24.793388     18,309,200"
                        ]
                    },
                    "metadata": {},
                    "output_type": "display_data"
                }
            ],
            "source": [
                "stock_df = stock_df[['Trading Time', 'Closing Price', 'HL_PCT', 'PCT_change', 'Trading Volume']]\n",
                "display(stock_df.head())"
            ]
        },
        {
            "cell_type": "markdown",
            "metadata": {},
            "source": [
                "Remove commas and convert to numeric, since in metadata the trading volume contain commas"
            ]
        },
        {
            "cell_type": "code",
            "execution_count": 10,
            "metadata": {},
            "outputs": [
                {
                    "data": {
                        "application/vnd.microsoft.datawrangler.viewer.v0+json": {
                            "columns": [
                                {
                                    "name": "index",
                                    "rawType": "int64",
                                    "type": "integer"
                                },
                                {
                                    "name": "Trading Time",
                                    "rawType": "datetime64[ns]",
                                    "type": "datetime"
                                },
                                {
                                    "name": "Closing Price",
                                    "rawType": "float64",
                                    "type": "float"
                                },
                                {
                                    "name": "HL_PCT",
                                    "rawType": "float64",
                                    "type": "float"
                                },
                                {
                                    "name": "PCT_change",
                                    "rawType": "float64",
                                    "type": "float"
                                },
                                {
                                    "name": "Trading Volume",
                                    "rawType": "float64",
                                    "type": "float"
                                }
                            ],
                            "conversionMethod": "pd.DataFrame",
                            "ref": "6ead3106-2e06-473c-a566-9a0d5182566c",
                            "rows": [
                                [
                                    "0",
                                    "1995-02-17 00:00:00",
                                    "0.9",
                                    "5.555555555555548",
                                    "8.433734939759043",
                                    "11954900.0"
                                ],
                                [
                                    "1",
                                    "1995-02-20 00:00:00",
                                    "0.87",
                                    "3.448275862068969",
                                    "-1.1363636363636374",
                                    "3859200.0"
                                ],
                                [
                                    "2",
                                    "1995-02-21 00:00:00",
                                    "0.89",
                                    "0.0",
                                    "2.2988505747126458",
                                    "2091500.0"
                                ],
                                [
                                    "3",
                                    "1995-02-22 00:00:00",
                                    "1.26",
                                    "4.761904761904765",
                                    "41.57303370786517",
                                    "16299000.0"
                                ],
                                [
                                    "4",
                                    "1995-02-23 00:00:00",
                                    "1.51",
                                    "0.0",
                                    "24.79338842975207",
                                    "18309200.0"
                                ]
                            ],
                            "shape": {
                                "columns": 5,
                                "rows": 5
                            }
                        },
                        "text/html": [
                            "<div>\n",
                            "<style scoped>\n",
                            "    .dataframe tbody tr th:only-of-type {\n",
                            "        vertical-align: middle;\n",
                            "    }\n",
                            "\n",
                            "    .dataframe tbody tr th {\n",
                            "        vertical-align: top;\n",
                            "    }\n",
                            "\n",
                            "    .dataframe thead th {\n",
                            "        text-align: right;\n",
                            "    }\n",
                            "</style>\n",
                            "<table border=\"1\" class=\"dataframe\">\n",
                            "  <thead>\n",
                            "    <tr style=\"text-align: right;\">\n",
                            "      <th></th>\n",
                            "      <th>Trading Time</th>\n",
                            "      <th>Closing Price</th>\n",
                            "      <th>HL_PCT</th>\n",
                            "      <th>PCT_change</th>\n",
                            "      <th>Trading Volume</th>\n",
                            "    </tr>\n",
                            "  </thead>\n",
                            "  <tbody>\n",
                            "    <tr>\n",
                            "      <th>0</th>\n",
                            "      <td>1995-02-17</td>\n",
                            "      <td>0.90</td>\n",
                            "      <td>5.555556</td>\n",
                            "      <td>8.433735</td>\n",
                            "      <td>11954900.0</td>\n",
                            "    </tr>\n",
                            "    <tr>\n",
                            "      <th>1</th>\n",
                            "      <td>1995-02-20</td>\n",
                            "      <td>0.87</td>\n",
                            "      <td>3.448276</td>\n",
                            "      <td>-1.136364</td>\n",
                            "      <td>3859200.0</td>\n",
                            "    </tr>\n",
                            "    <tr>\n",
                            "      <th>2</th>\n",
                            "      <td>1995-02-21</td>\n",
                            "      <td>0.89</td>\n",
                            "      <td>0.000000</td>\n",
                            "      <td>2.298851</td>\n",
                            "      <td>2091500.0</td>\n",
                            "    </tr>\n",
                            "    <tr>\n",
                            "      <th>3</th>\n",
                            "      <td>1995-02-22</td>\n",
                            "      <td>1.26</td>\n",
                            "      <td>4.761905</td>\n",
                            "      <td>41.573034</td>\n",
                            "      <td>16299000.0</td>\n",
                            "    </tr>\n",
                            "    <tr>\n",
                            "      <th>4</th>\n",
                            "      <td>1995-02-23</td>\n",
                            "      <td>1.51</td>\n",
                            "      <td>0.000000</td>\n",
                            "      <td>24.793388</td>\n",
                            "      <td>18309200.0</td>\n",
                            "    </tr>\n",
                            "  </tbody>\n",
                            "</table>\n",
                            "</div>"
                        ],
                        "text/plain": [
                            "  Trading Time  Closing Price    HL_PCT  PCT_change  Trading Volume\n",
                            "0   1995-02-17           0.90  5.555556    8.433735      11954900.0\n",
                            "1   1995-02-20           0.87  3.448276   -1.136364       3859200.0\n",
                            "2   1995-02-21           0.89  0.000000    2.298851       2091500.0\n",
                            "3   1995-02-22           1.26  4.761905   41.573034      16299000.0\n",
                            "4   1995-02-23           1.51  0.000000   24.793388      18309200.0"
                        ]
                    },
                    "metadata": {},
                    "output_type": "display_data"
                }
            ],
            "source": [
                "stock_df['Trading Volume'] = stock_df['Trading Volume'].replace({',': ''}, regex=True).astype(float)\n",
                "display(stock_df.head())"
            ]
        },
        {
            "cell_type": "markdown",
            "metadata": {},
            "source": [
                "# Setting up a name for target column attribute"
            ]
        },
        {
            "cell_type": "code",
            "execution_count": 11,
            "metadata": {},
            "outputs": [],
            "source": [
                "forecast_col = 'Closing Price'"
            ]
        },
        {
            "cell_type": "markdown",
            "metadata": {},
            "source": [
                "# Tell the code how many days ahead will it be forcasting"
            ]
        },
        {
            "cell_type": "code",
            "execution_count": 12,
            "metadata": {},
            "outputs": [
                {
                    "name": "stdout",
                    "output_type": "stream",
                    "text": [
                        "6895 7\n"
                    ]
                }
            ],
            "source": [
                "forecast_out = int(math.ceil(0.001*len(stock_df)))\n",
                "print(len(stock_df), forecast_out)\n",
                "# The 0.001 percentage of the data is 7 days, so we are predicting the closing price for the 7 days later"
            ]
        },
        {
            "cell_type": "markdown",
            "metadata": {},
            "source": [
                "# Managing the answers\n",
                "The answer is the closing price 7(forcast_out) days later.\n",
                "\n",
                "We then shift the data's targeted attributes up for 7 days and assign them into the 'Label' column."
            ]
        },
        {
            "cell_type": "code",
            "execution_count": 13,
            "metadata": {},
            "outputs": [
                {
                    "name": "stdout",
                    "output_type": "stream",
                    "text": [
                        "7\n"
                    ]
                },
                {
                    "data": {
                        "application/vnd.microsoft.datawrangler.viewer.v0+json": {
                            "columns": [
                                {
                                    "name": "index",
                                    "rawType": "int64",
                                    "type": "integer"
                                },
                                {
                                    "name": "Trading Time",
                                    "rawType": "datetime64[ns]",
                                    "type": "datetime"
                                },
                                {
                                    "name": "Closing Price",
                                    "rawType": "float64",
                                    "type": "float"
                                },
                                {
                                    "name": "HL_PCT",
                                    "rawType": "float64",
                                    "type": "float"
                                },
                                {
                                    "name": "PCT_change",
                                    "rawType": "float64",
                                    "type": "float"
                                },
                                {
                                    "name": "Trading Volume",
                                    "rawType": "float64",
                                    "type": "float"
                                },
                                {
                                    "name": "Label",
                                    "rawType": "float64",
                                    "type": "float"
                                }
                            ],
                            "conversionMethod": "pd.DataFrame",
                            "ref": "915dc2d4-fa4f-4bd7-ae9e-beaee3b2e089",
                            "rows": [
                                [
                                    "6885",
                                    "2025-02-05 00:00:00",
                                    "9.81",
                                    "2.85423037716615",
                                    "-2.485089463220676",
                                    "18847731.0",
                                    "9.92"
                                ],
                                [
                                    "6886",
                                    "2025-02-06 00:00:00",
                                    "9.91",
                                    "0.20181634712411275",
                                    "0.8138351983723303",
                                    "17526552.0",
                                    "9.53"
                                ],
                                [
                                    "6887",
                                    "2025-02-07 00:00:00",
                                    "9.92",
                                    "0.8064516129032264",
                                    "0.0",
                                    "19920528.0",
                                    "9.56"
                                ],
                                [
                                    "6888",
                                    "2025-02-10 00:00:00",
                                    "9.89",
                                    "1.9211324570272952",
                                    "-0.30241935483870325",
                                    "21891171.0",
                                    null
                                ],
                                [
                                    "6889",
                                    "2025-02-11 00:00:00",
                                    "10.08",
                                    "0.2976190476190413",
                                    "1.8181818181818152",
                                    "23935584.0",
                                    null
                                ],
                                [
                                    "6890",
                                    "2025-02-12 00:00:00",
                                    "10.0",
                                    "1.3000000000000078",
                                    "-0.7936507936507943",
                                    "15858940.0",
                                    null
                                ],
                                [
                                    "6891",
                                    "2025-02-13 00:00:00",
                                    "9.9",
                                    "1.2121212121212042",
                                    "-0.9999999999999963",
                                    "18667000.0",
                                    null
                                ],
                                [
                                    "6892",
                                    "2025-02-14 00:00:00",
                                    "9.92",
                                    "0.5040322580645233",
                                    "-0.3015075376884358",
                                    "11836145.0",
                                    null
                                ],
                                [
                                    "6893",
                                    "2025-02-17 00:00:00",
                                    "9.53",
                                    "2.413431269674716",
                                    "-2.3565573770491848",
                                    "59141487.0",
                                    null
                                ],
                                [
                                    "6894",
                                    "2025-02-18 00:00:00",
                                    "9.56",
                                    "1.464435146443502",
                                    "0.6315789473684263",
                                    "23726945.0",
                                    null
                                ]
                            ],
                            "shape": {
                                "columns": 6,
                                "rows": 10
                            }
                        },
                        "text/html": [
                            "<div>\n",
                            "<style scoped>\n",
                            "    .dataframe tbody tr th:only-of-type {\n",
                            "        vertical-align: middle;\n",
                            "    }\n",
                            "\n",
                            "    .dataframe tbody tr th {\n",
                            "        vertical-align: top;\n",
                            "    }\n",
                            "\n",
                            "    .dataframe thead th {\n",
                            "        text-align: right;\n",
                            "    }\n",
                            "</style>\n",
                            "<table border=\"1\" class=\"dataframe\">\n",
                            "  <thead>\n",
                            "    <tr style=\"text-align: right;\">\n",
                            "      <th></th>\n",
                            "      <th>Trading Time</th>\n",
                            "      <th>Closing Price</th>\n",
                            "      <th>HL_PCT</th>\n",
                            "      <th>PCT_change</th>\n",
                            "      <th>Trading Volume</th>\n",
                            "      <th>Label</th>\n",
                            "    </tr>\n",
                            "  </thead>\n",
                            "  <tbody>\n",
                            "    <tr>\n",
                            "      <th>6885</th>\n",
                            "      <td>2025-02-05</td>\n",
                            "      <td>9.81</td>\n",
                            "      <td>2.854230</td>\n",
                            "      <td>-2.485089</td>\n",
                            "      <td>18847731.0</td>\n",
                            "      <td>9.92</td>\n",
                            "    </tr>\n",
                            "    <tr>\n",
                            "      <th>6886</th>\n",
                            "      <td>2025-02-06</td>\n",
                            "      <td>9.91</td>\n",
                            "      <td>0.201816</td>\n",
                            "      <td>0.813835</td>\n",
                            "      <td>17526552.0</td>\n",
                            "      <td>9.53</td>\n",
                            "    </tr>\n",
                            "    <tr>\n",
                            "      <th>6887</th>\n",
                            "      <td>2025-02-07</td>\n",
                            "      <td>9.92</td>\n",
                            "      <td>0.806452</td>\n",
                            "      <td>0.000000</td>\n",
                            "      <td>19920528.0</td>\n",
                            "      <td>9.56</td>\n",
                            "    </tr>\n",
                            "    <tr>\n",
                            "      <th>6888</th>\n",
                            "      <td>2025-02-10</td>\n",
                            "      <td>9.89</td>\n",
                            "      <td>1.921132</td>\n",
                            "      <td>-0.302419</td>\n",
                            "      <td>21891171.0</td>\n",
                            "      <td>NaN</td>\n",
                            "    </tr>\n",
                            "    <tr>\n",
                            "      <th>6889</th>\n",
                            "      <td>2025-02-11</td>\n",
                            "      <td>10.08</td>\n",
                            "      <td>0.297619</td>\n",
                            "      <td>1.818182</td>\n",
                            "      <td>23935584.0</td>\n",
                            "      <td>NaN</td>\n",
                            "    </tr>\n",
                            "    <tr>\n",
                            "      <th>6890</th>\n",
                            "      <td>2025-02-12</td>\n",
                            "      <td>10.00</td>\n",
                            "      <td>1.300000</td>\n",
                            "      <td>-0.793651</td>\n",
                            "      <td>15858940.0</td>\n",
                            "      <td>NaN</td>\n",
                            "    </tr>\n",
                            "    <tr>\n",
                            "      <th>6891</th>\n",
                            "      <td>2025-02-13</td>\n",
                            "      <td>9.90</td>\n",
                            "      <td>1.212121</td>\n",
                            "      <td>-1.000000</td>\n",
                            "      <td>18667000.0</td>\n",
                            "      <td>NaN</td>\n",
                            "    </tr>\n",
                            "    <tr>\n",
                            "      <th>6892</th>\n",
                            "      <td>2025-02-14</td>\n",
                            "      <td>9.92</td>\n",
                            "      <td>0.504032</td>\n",
                            "      <td>-0.301508</td>\n",
                            "      <td>11836145.0</td>\n",
                            "      <td>NaN</td>\n",
                            "    </tr>\n",
                            "    <tr>\n",
                            "      <th>6893</th>\n",
                            "      <td>2025-02-17</td>\n",
                            "      <td>9.53</td>\n",
                            "      <td>2.413431</td>\n",
                            "      <td>-2.356557</td>\n",
                            "      <td>59141487.0</td>\n",
                            "      <td>NaN</td>\n",
                            "    </tr>\n",
                            "    <tr>\n",
                            "      <th>6894</th>\n",
                            "      <td>2025-02-18</td>\n",
                            "      <td>9.56</td>\n",
                            "      <td>1.464435</td>\n",
                            "      <td>0.631579</td>\n",
                            "      <td>23726945.0</td>\n",
                            "      <td>NaN</td>\n",
                            "    </tr>\n",
                            "  </tbody>\n",
                            "</table>\n",
                            "</div>"
                        ],
                        "text/plain": [
                            "     Trading Time  Closing Price    HL_PCT  PCT_change  Trading Volume  Label\n",
                            "6885   2025-02-05           9.81  2.854230   -2.485089      18847731.0   9.92\n",
                            "6886   2025-02-06           9.91  0.201816    0.813835      17526552.0   9.53\n",
                            "6887   2025-02-07           9.92  0.806452    0.000000      19920528.0   9.56\n",
                            "6888   2025-02-10           9.89  1.921132   -0.302419      21891171.0    NaN\n",
                            "6889   2025-02-11          10.08  0.297619    1.818182      23935584.0    NaN\n",
                            "6890   2025-02-12          10.00  1.300000   -0.793651      15858940.0    NaN\n",
                            "6891   2025-02-13           9.90  1.212121   -1.000000      18667000.0    NaN\n",
                            "6892   2025-02-14           9.92  0.504032   -0.301508      11836145.0    NaN\n",
                            "6893   2025-02-17           9.53  2.413431   -2.356557      59141487.0    NaN\n",
                            "6894   2025-02-18           9.56  1.464435    0.631579      23726945.0    NaN"
                        ]
                    },
                    "metadata": {},
                    "output_type": "display_data"
                }
            ],
            "source": [
                "stock_df['Label'] = stock_df[forecast_col].shift(-forecast_out)\n",
                "print(forecast_out)\n",
                "display(stock_df.tail(10))"
            ]
        },
        {
            "cell_type": "markdown",
            "metadata": {},
            "source": [
                "# Spliting and Managing the features\n",
                "\n",
                "Split the dataframe where X is the features and y is the answer\n",
                "\n",
                "1. Remove answer(label) from X which is the features\n",
                "2. Scale the features.\n",
                "3. Store remoced answers into y\n",
                "4. drop NaN values created by the shifting, since shift up will create a 7 days of label section NaN values, so make sure to drop these when you create 'Label' column. \n",
                "5. By doing these following two blocks, you split the original data into 4 parts: \n",
                "\n",
                "   1. (original days - forcast_out days)'s data without answers: `X`\n",
                "   2. (original days - forcast_out days)'s answers without data: `y`\n",
                "   3. (forcast_out days)'s data without answers: `X_lately`\n",
                "stock_df.dropna(inplace = True)\n",
                "   1. (forcast_out days)'s answers which are NaN values because of the shifting, and is removed by the `stock_df.dropna(inplace = True)` line following."
            ]
        },
        {
            "cell_type": "code",
            "execution_count": 14,
            "metadata": {},
            "outputs": [
                {
                    "data": {
                        "text/plain": [
                            "0      1995-02-17\n",
                            "1      1995-02-20\n",
                            "2      1995-02-21\n",
                            "3      1995-02-22\n",
                            "4      1995-02-23\n",
                            "          ...    \n",
                            "6883   2025-01-24\n",
                            "6884   2025-01-27\n",
                            "6885   2025-02-05\n",
                            "6886   2025-02-06\n",
                            "6887   2025-02-07\n",
                            "Name: Trading Time, Length: 6888, dtype: datetime64[ns]"
                        ]
                    },
                    "metadata": {},
                    "output_type": "display_data"
                },
                {
                    "data": {
                        "text/plain": [
                            "6888   2025-02-10\n",
                            "6889   2025-02-11\n",
                            "6890   2025-02-12\n",
                            "6891   2025-02-13\n",
                            "6892   2025-02-14\n",
                            "6893   2025-02-17\n",
                            "6894   2025-02-18\n",
                            "Name: Trading Time, dtype: datetime64[ns]"
                        ]
                    },
                    "metadata": {},
                    "output_type": "display_data"
                }
            ],
            "source": [
                "dates = stock_df['Trading Time'][:-forecast_out]\n",
                "dates_lately = stock_df['Trading Time'][-forecast_out:]\n",
                "\n",
                "display(dates)\n",
                "display(dates_lately)"
            ]
        },
        {
            "cell_type": "code",
            "execution_count": 15,
            "metadata": {},
            "outputs": [],
            "source": [
                "X = np.array(stock_df.drop(['Label', 'Trading Time'], axis = 1))\n",
                "X = preprocessing.scale(X)\n",
                "X = X[:-forecast_out]\n",
                "X_lately = X[-forecast_out:]\n",
                "\n",
                "# display(X)\n",
                "# display(X_lately)\n",
                "# display(stock_df.tail(10))"
            ]
        },
        {
            "cell_type": "markdown",
            "metadata": {},
            "source": [
                "## Removing NaN values caused by the shifting"
            ]
        },
        {
            "cell_type": "code",
            "execution_count": 16,
            "metadata": {},
            "outputs": [],
            "source": [
                "stock_df.dropna(inplace = True)"
            ]
        },
        {
            "cell_type": "code",
            "execution_count": 17,
            "metadata": {},
            "outputs": [
                {
                    "data": {
                        "text/plain": [
                            "array([1.23, 1.25, 1.24, ..., 9.92, 9.53, 9.56], shape=(6888,))"
                        ]
                    },
                    "metadata": {},
                    "output_type": "display_data"
                },
                {
                    "data": {
                        "application/vnd.microsoft.datawrangler.viewer.v0+json": {
                            "columns": [
                                {
                                    "name": "index",
                                    "rawType": "int64",
                                    "type": "integer"
                                },
                                {
                                    "name": "Trading Time",
                                    "rawType": "datetime64[ns]",
                                    "type": "datetime"
                                },
                                {
                                    "name": "Closing Price",
                                    "rawType": "float64",
                                    "type": "float"
                                },
                                {
                                    "name": "HL_PCT",
                                    "rawType": "float64",
                                    "type": "float"
                                },
                                {
                                    "name": "PCT_change",
                                    "rawType": "float64",
                                    "type": "float"
                                },
                                {
                                    "name": "Trading Volume",
                                    "rawType": "float64",
                                    "type": "float"
                                },
                                {
                                    "name": "Label",
                                    "rawType": "float64",
                                    "type": "float"
                                }
                            ],
                            "conversionMethod": "pd.DataFrame",
                            "ref": "d93db14d-9f9b-4e9c-b585-9c49cd45d4d8",
                            "rows": [
                                [
                                    "6878",
                                    "2025-01-17 00:00:00",
                                    "9.82",
                                    "0.7128309572301454",
                                    "0.5117707267144392",
                                    "17211802.0",
                                    "9.81"
                                ],
                                [
                                    "6879",
                                    "2025-01-20 00:00:00",
                                    "9.84",
                                    "1.6260162601626031",
                                    "-0.5055611729019283",
                                    "19425301.0",
                                    "9.91"
                                ],
                                [
                                    "6880",
                                    "2025-01-21 00:00:00",
                                    "9.72",
                                    "1.7489711934156371",
                                    "-1.4198782961460326",
                                    "17641072.0",
                                    "9.92"
                                ],
                                [
                                    "6881",
                                    "2025-01-22 00:00:00",
                                    "9.78",
                                    "0.20449897750512627",
                                    "1.0330578512396658",
                                    "15627117.0",
                                    "9.89"
                                ],
                                [
                                    "6882",
                                    "2025-01-23 00:00:00",
                                    "9.76",
                                    "1.6393442622950833",
                                    "-0.7121057985757913",
                                    "11882532.0",
                                    "10.08"
                                ],
                                [
                                    "6883",
                                    "2025-01-24 00:00:00",
                                    "9.83",
                                    "0.3051881993896171",
                                    "0.8205128205128212",
                                    "15612997.0",
                                    "10.0"
                                ],
                                [
                                    "6884",
                                    "2025-01-27 00:00:00",
                                    "10.03",
                                    "0.8973080757726806",
                                    "1.9308943089430843",
                                    "19881690.0",
                                    "9.9"
                                ],
                                [
                                    "6885",
                                    "2025-02-05 00:00:00",
                                    "9.81",
                                    "2.85423037716615",
                                    "-2.485089463220676",
                                    "18847731.0",
                                    "9.92"
                                ],
                                [
                                    "6886",
                                    "2025-02-06 00:00:00",
                                    "9.91",
                                    "0.20181634712411275",
                                    "0.8138351983723303",
                                    "17526552.0",
                                    "9.53"
                                ],
                                [
                                    "6887",
                                    "2025-02-07 00:00:00",
                                    "9.92",
                                    "0.8064516129032264",
                                    "0.0",
                                    "19920528.0",
                                    "9.56"
                                ]
                            ],
                            "shape": {
                                "columns": 6,
                                "rows": 10
                            }
                        },
                        "text/html": [
                            "<div>\n",
                            "<style scoped>\n",
                            "    .dataframe tbody tr th:only-of-type {\n",
                            "        vertical-align: middle;\n",
                            "    }\n",
                            "\n",
                            "    .dataframe tbody tr th {\n",
                            "        vertical-align: top;\n",
                            "    }\n",
                            "\n",
                            "    .dataframe thead th {\n",
                            "        text-align: right;\n",
                            "    }\n",
                            "</style>\n",
                            "<table border=\"1\" class=\"dataframe\">\n",
                            "  <thead>\n",
                            "    <tr style=\"text-align: right;\">\n",
                            "      <th></th>\n",
                            "      <th>Trading Time</th>\n",
                            "      <th>Closing Price</th>\n",
                            "      <th>HL_PCT</th>\n",
                            "      <th>PCT_change</th>\n",
                            "      <th>Trading Volume</th>\n",
                            "      <th>Label</th>\n",
                            "    </tr>\n",
                            "  </thead>\n",
                            "  <tbody>\n",
                            "    <tr>\n",
                            "      <th>6878</th>\n",
                            "      <td>2025-01-17</td>\n",
                            "      <td>9.82</td>\n",
                            "      <td>0.712831</td>\n",
                            "      <td>0.511771</td>\n",
                            "      <td>17211802.0</td>\n",
                            "      <td>9.81</td>\n",
                            "    </tr>\n",
                            "    <tr>\n",
                            "      <th>6879</th>\n",
                            "      <td>2025-01-20</td>\n",
                            "      <td>9.84</td>\n",
                            "      <td>1.626016</td>\n",
                            "      <td>-0.505561</td>\n",
                            "      <td>19425301.0</td>\n",
                            "      <td>9.91</td>\n",
                            "    </tr>\n",
                            "    <tr>\n",
                            "      <th>6880</th>\n",
                            "      <td>2025-01-21</td>\n",
                            "      <td>9.72</td>\n",
                            "      <td>1.748971</td>\n",
                            "      <td>-1.419878</td>\n",
                            "      <td>17641072.0</td>\n",
                            "      <td>9.92</td>\n",
                            "    </tr>\n",
                            "    <tr>\n",
                            "      <th>6881</th>\n",
                            "      <td>2025-01-22</td>\n",
                            "      <td>9.78</td>\n",
                            "      <td>0.204499</td>\n",
                            "      <td>1.033058</td>\n",
                            "      <td>15627117.0</td>\n",
                            "      <td>9.89</td>\n",
                            "    </tr>\n",
                            "    <tr>\n",
                            "      <th>6882</th>\n",
                            "      <td>2025-01-23</td>\n",
                            "      <td>9.76</td>\n",
                            "      <td>1.639344</td>\n",
                            "      <td>-0.712106</td>\n",
                            "      <td>11882532.0</td>\n",
                            "      <td>10.08</td>\n",
                            "    </tr>\n",
                            "    <tr>\n",
                            "      <th>6883</th>\n",
                            "      <td>2025-01-24</td>\n",
                            "      <td>9.83</td>\n",
                            "      <td>0.305188</td>\n",
                            "      <td>0.820513</td>\n",
                            "      <td>15612997.0</td>\n",
                            "      <td>10.00</td>\n",
                            "    </tr>\n",
                            "    <tr>\n",
                            "      <th>6884</th>\n",
                            "      <td>2025-01-27</td>\n",
                            "      <td>10.03</td>\n",
                            "      <td>0.897308</td>\n",
                            "      <td>1.930894</td>\n",
                            "      <td>19881690.0</td>\n",
                            "      <td>9.90</td>\n",
                            "    </tr>\n",
                            "    <tr>\n",
                            "      <th>6885</th>\n",
                            "      <td>2025-02-05</td>\n",
                            "      <td>9.81</td>\n",
                            "      <td>2.854230</td>\n",
                            "      <td>-2.485089</td>\n",
                            "      <td>18847731.0</td>\n",
                            "      <td>9.92</td>\n",
                            "    </tr>\n",
                            "    <tr>\n",
                            "      <th>6886</th>\n",
                            "      <td>2025-02-06</td>\n",
                            "      <td>9.91</td>\n",
                            "      <td>0.201816</td>\n",
                            "      <td>0.813835</td>\n",
                            "      <td>17526552.0</td>\n",
                            "      <td>9.53</td>\n",
                            "    </tr>\n",
                            "    <tr>\n",
                            "      <th>6887</th>\n",
                            "      <td>2025-02-07</td>\n",
                            "      <td>9.92</td>\n",
                            "      <td>0.806452</td>\n",
                            "      <td>0.000000</td>\n",
                            "      <td>19920528.0</td>\n",
                            "      <td>9.56</td>\n",
                            "    </tr>\n",
                            "  </tbody>\n",
                            "</table>\n",
                            "</div>"
                        ],
                        "text/plain": [
                            "     Trading Time  Closing Price    HL_PCT  PCT_change  Trading Volume  Label\n",
                            "6878   2025-01-17           9.82  0.712831    0.511771      17211802.0   9.81\n",
                            "6879   2025-01-20           9.84  1.626016   -0.505561      19425301.0   9.91\n",
                            "6880   2025-01-21           9.72  1.748971   -1.419878      17641072.0   9.92\n",
                            "6881   2025-01-22           9.78  0.204499    1.033058      15627117.0   9.89\n",
                            "6882   2025-01-23           9.76  1.639344   -0.712106      11882532.0  10.08\n",
                            "6883   2025-01-24           9.83  0.305188    0.820513      15612997.0  10.00\n",
                            "6884   2025-01-27          10.03  0.897308    1.930894      19881690.0   9.90\n",
                            "6885   2025-02-05           9.81  2.854230   -2.485089      18847731.0   9.92\n",
                            "6886   2025-02-06           9.91  0.201816    0.813835      17526552.0   9.53\n",
                            "6887   2025-02-07           9.92  0.806452    0.000000      19920528.0   9.56"
                        ]
                    },
                    "metadata": {},
                    "output_type": "display_data"
                }
            ],
            "source": [
                "y = np.array(stock_df['Label'])\n",
                "display(y)\n",
                "display(stock_df.tail(10))"
            ]
        },
        {
            "cell_type": "markdown",
            "metadata": {},
            "source": [
                "You can see they have the same shape in axis = 1."
            ]
        },
        {
            "cell_type": "markdown",
            "metadata": {},
            "source": [
                "# Split data into traning and testing."
            ]
        },
        {
            "cell_type": "markdown",
            "metadata": {},
            "source": [
                "Set shuffle = False because by default it will shuffle and this will mess up the date relationships which is something we want"
            ]
        },
        {
            "cell_type": "code",
            "execution_count": 18,
            "metadata": {},
            "outputs": [],
            "source": [
                "X_train, X_test, y_train, y_test, dates_train, dates_test = model_selection.train_test_split(X, y, dates, test_size = 0.2)"
            ]
        },
        {
            "cell_type": "markdown",
            "metadata": {},
            "source": [
                "# Training the model(classifier)\n",
                "`n_jobs = -1` means to run using as many threads as possible, make it faster."
            ]
        },
        {
            "cell_type": "code",
            "execution_count": 19,
            "metadata": {},
            "outputs": [],
            "source": [
                "clf = LinearRegression(n_jobs = -1)\n",
                "clf.fit(X_train, y_train)\n",
                "accuracy = clf.score(X_test, y_test)"
            ]
        },
        {
            "cell_type": "markdown",
            "metadata": {},
            "source": [
                "# Saving the model\n",
                "And load the model:"
            ]
        },
        {
            "cell_type": "code",
            "execution_count": 20,
            "metadata": {},
            "outputs": [],
            "source": [
                "joblib.dump(clf, 'stock_prediction_model.pkl')\n",
                "loaded_model = joblib.load('stock_prediction_model.pkl')"
            ]
        },
        {
            "cell_type": "markdown",
            "metadata": {},
            "source": [
                "Store the loaded model into clf for education purposes"
            ]
        },
        {
            "cell_type": "code",
            "execution_count": 21,
            "metadata": {},
            "outputs": [],
            "source": [
                "clf = loaded_model"
            ]
        },
        {
            "cell_type": "markdown",
            "metadata": {},
            "source": [
                "# Getting the prediction for the shifted days that has no answers.\n",
                "And print the result:"
            ]
        },
        {
            "cell_type": "code",
            "execution_count": 22,
            "metadata": {},
            "outputs": [
                {
                    "name": "stdout",
                    "output_type": "stream",
                    "text": [
                        "Forecast result: [9.74840563 9.7324361  9.79861398 9.99141584 9.78414439 9.87790674\n",
                        " 9.8888596 ]\n",
                        "With the accuracy of: 0.9865878997419362\n",
                        "Forecast out of 7 days.\n"
                    ]
                }
            ],
            "source": [
                "forecast_set = clf.predict(X_lately)\n",
                "print(\"Forecast result: \" + str(forecast_set) + \"\\n\" + \"With the accuracy of: \" + str(accuracy) + \"\\n\" + \"Forecast out of \" + str(forecast_out) + \" days.\")"
            ]
        },
        {
            "cell_type": "markdown",
            "metadata": {},
            "source": [
                "# Merging all sections together for matplot lib\n",
                "\n",
                "1. dates_train\n",
                "2. dates_test\n",
                "3. dates_lately\n",
                "\n",
                "This being the X axis\n",
                "\n",
                "and\n",
                "\n",
                "\n",
                "1. y_train\n",
                "2. y_test\n",
                "3. forcast out\n",
                "\n",
                "This being the Y axis"
            ]
        },
        {
            "cell_type": "code",
            "execution_count": 23,
            "metadata": {},
            "outputs": [
                {
                    "data": {
                        "application/vnd.microsoft.datawrangler.viewer.v0+json": {
                            "columns": [
                                {
                                    "name": "Date",
                                    "rawType": "datetime64[ns]",
                                    "type": "datetime"
                                },
                                {
                                    "name": "Closing Price",
                                    "rawType": "float64",
                                    "type": "float"
                                }
                            ],
                            "conversionMethod": "pd.DataFrame",
                            "ref": "756a4e01-7825-47f7-ad4e-b028a6be833e",
                            "rows": [
                                [
                                    "1995-02-17 00:00:00",
                                    "1.23"
                                ],
                                [
                                    "1995-02-20 00:00:00",
                                    "1.25"
                                ],
                                [
                                    "1995-02-21 00:00:00",
                                    "1.24"
                                ],
                                [
                                    "1995-02-22 00:00:00",
                                    "1.35"
                                ],
                                [
                                    "1995-02-23 00:00:00",
                                    "1.6"
                                ],
                                [
                                    "1995-02-24 00:00:00",
                                    "1.61"
                                ],
                                [
                                    "1995-02-27 00:00:00",
                                    "1.61"
                                ],
                                [
                                    "1995-02-28 00:00:00",
                                    "1.54"
                                ],
                                [
                                    "1995-03-01 00:00:00",
                                    "1.49"
                                ],
                                [
                                    "1995-03-02 00:00:00",
                                    "1.49"
                                ],
                                [
                                    "1995-03-03 00:00:00",
                                    "1.48"
                                ],
                                [
                                    "1995-03-06 00:00:00",
                                    "1.4"
                                ],
                                [
                                    "1995-03-07 00:00:00",
                                    "1.41"
                                ],
                                [
                                    "1995-03-08 00:00:00",
                                    "1.47"
                                ],
                                [
                                    "1995-03-09 00:00:00",
                                    "1.49"
                                ],
                                [
                                    "1995-03-10 00:00:00",
                                    "1.51"
                                ],
                                [
                                    "1995-03-13 00:00:00",
                                    "1.58"
                                ],
                                [
                                    "1995-03-14 00:00:00",
                                    "1.56"
                                ],
                                [
                                    "1995-03-15 00:00:00",
                                    "1.57"
                                ],
                                [
                                    "1995-03-16 00:00:00",
                                    "1.59"
                                ],
                                [
                                    "1995-03-17 00:00:00",
                                    "1.56"
                                ],
                                [
                                    "1995-03-20 00:00:00",
                                    "1.58"
                                ],
                                [
                                    "1995-03-21 00:00:00",
                                    "1.53"
                                ],
                                [
                                    "1995-03-22 00:00:00",
                                    "1.55"
                                ],
                                [
                                    "1995-03-23 00:00:00",
                                    "1.76"
                                ],
                                [
                                    "1995-03-24 00:00:00",
                                    "1.77"
                                ],
                                [
                                    "1995-03-27 00:00:00",
                                    "1.71"
                                ],
                                [
                                    "1995-03-28 00:00:00",
                                    "1.83"
                                ],
                                [
                                    "1995-03-29 00:00:00",
                                    "1.91"
                                ],
                                [
                                    "1995-03-30 00:00:00",
                                    "1.99"
                                ],
                                [
                                    "1995-03-31 00:00:00",
                                    "1.87"
                                ],
                                [
                                    "1995-04-03 00:00:00",
                                    "1.94"
                                ],
                                [
                                    "1995-04-04 00:00:00",
                                    "1.91"
                                ],
                                [
                                    "1995-04-05 00:00:00",
                                    "1.94"
                                ],
                                [
                                    "1995-04-06 00:00:00",
                                    "1.95"
                                ],
                                [
                                    "1995-04-07 00:00:00",
                                    "1.97"
                                ],
                                [
                                    "1995-04-10 00:00:00",
                                    "2.03"
                                ],
                                [
                                    "1995-04-11 00:00:00",
                                    "2.09"
                                ],
                                [
                                    "1995-04-12 00:00:00",
                                    "2.05"
                                ],
                                [
                                    "1995-04-13 00:00:00",
                                    "2.0"
                                ],
                                [
                                    "1995-04-14 00:00:00",
                                    "2.02"
                                ],
                                [
                                    "1995-04-17 00:00:00",
                                    "1.95"
                                ],
                                [
                                    "1995-04-18 00:00:00",
                                    "1.88"
                                ],
                                [
                                    "1995-04-19 00:00:00",
                                    "1.89"
                                ],
                                [
                                    "1995-04-20 00:00:00",
                                    "1.89"
                                ],
                                [
                                    "1995-04-21 00:00:00",
                                    "1.91"
                                ],
                                [
                                    "1995-04-24 00:00:00",
                                    "1.88"
                                ],
                                [
                                    "1995-04-25 00:00:00",
                                    "1.88"
                                ],
                                [
                                    "1995-04-26 00:00:00",
                                    "1.86"
                                ],
                                [
                                    "1995-04-27 00:00:00",
                                    "1.9"
                                ]
                            ],
                            "shape": {
                                "columns": 1,
                                "rows": 6895
                            }
                        },
                        "text/html": [
                            "<div>\n",
                            "<style scoped>\n",
                            "    .dataframe tbody tr th:only-of-type {\n",
                            "        vertical-align: middle;\n",
                            "    }\n",
                            "\n",
                            "    .dataframe tbody tr th {\n",
                            "        vertical-align: top;\n",
                            "    }\n",
                            "\n",
                            "    .dataframe thead th {\n",
                            "        text-align: right;\n",
                            "    }\n",
                            "</style>\n",
                            "<table border=\"1\" class=\"dataframe\">\n",
                            "  <thead>\n",
                            "    <tr style=\"text-align: right;\">\n",
                            "      <th></th>\n",
                            "      <th>Closing Price</th>\n",
                            "    </tr>\n",
                            "    <tr>\n",
                            "      <th>Date</th>\n",
                            "      <th></th>\n",
                            "    </tr>\n",
                            "  </thead>\n",
                            "  <tbody>\n",
                            "    <tr>\n",
                            "      <th>1995-02-17</th>\n",
                            "      <td>1.230000</td>\n",
                            "    </tr>\n",
                            "    <tr>\n",
                            "      <th>1995-02-20</th>\n",
                            "      <td>1.250000</td>\n",
                            "    </tr>\n",
                            "    <tr>\n",
                            "      <th>1995-02-21</th>\n",
                            "      <td>1.240000</td>\n",
                            "    </tr>\n",
                            "    <tr>\n",
                            "      <th>1995-02-22</th>\n",
                            "      <td>1.350000</td>\n",
                            "    </tr>\n",
                            "    <tr>\n",
                            "      <th>1995-02-23</th>\n",
                            "      <td>1.600000</td>\n",
                            "    </tr>\n",
                            "    <tr>\n",
                            "      <th>...</th>\n",
                            "      <td>...</td>\n",
                            "    </tr>\n",
                            "    <tr>\n",
                            "      <th>2025-02-12</th>\n",
                            "      <td>9.798614</td>\n",
                            "    </tr>\n",
                            "    <tr>\n",
                            "      <th>2025-02-13</th>\n",
                            "      <td>9.991416</td>\n",
                            "    </tr>\n",
                            "    <tr>\n",
                            "      <th>2025-02-14</th>\n",
                            "      <td>9.784144</td>\n",
                            "    </tr>\n",
                            "    <tr>\n",
                            "      <th>2025-02-17</th>\n",
                            "      <td>9.877907</td>\n",
                            "    </tr>\n",
                            "    <tr>\n",
                            "      <th>2025-02-18</th>\n",
                            "      <td>9.888860</td>\n",
                            "    </tr>\n",
                            "  </tbody>\n",
                            "</table>\n",
                            "<p>6895 rows × 1 columns</p>\n",
                            "</div>"
                        ],
                        "text/plain": [
                            "            Closing Price\n",
                            "Date                     \n",
                            "1995-02-17       1.230000\n",
                            "1995-02-20       1.250000\n",
                            "1995-02-21       1.240000\n",
                            "1995-02-22       1.350000\n",
                            "1995-02-23       1.600000\n",
                            "...                   ...\n",
                            "2025-02-12       9.798614\n",
                            "2025-02-13       9.991416\n",
                            "2025-02-14       9.784144\n",
                            "2025-02-17       9.877907\n",
                            "2025-02-18       9.888860\n",
                            "\n",
                            "[6895 rows x 1 columns]"
                        ]
                    },
                    "metadata": {},
                    "output_type": "display_data"
                }
            ],
            "source": [
                "y_train = y_train.reshape(-1, 1)\n",
                "y_test = y_test.reshape(-1, 1)\n",
                "forecast_set = forecast_set.reshape(-1, 1)\n",
                "\n",
                "dates_train = np.array(dates_train).reshape(-1, 1)\n",
                "dates_test  = np.array(dates_test).reshape(-1, 1)\n",
                "dates_lately = np.array(dates_lately).reshape(-1, 1)\n",
                "\n",
                "all_dates = np.vstack((dates_train, dates_test, dates_lately)).flatten()\n",
                "all_targets = np.vstack((y_train, y_test, forecast_set)).flatten()\n",
                "\n",
                "df_combined = pd.DataFrame({\n",
                "    \"Date\": all_dates,\n",
                "    \"Closing Price\": all_targets\n",
                "})\n",
                "\n",
                "df_combined.set_index('Date', inplace = True)\n",
                "df_combined.sort_values(by = 'Date', inplace = True)\n",
                "display(df_combined)\n"
            ]
        },
        {
            "cell_type": "markdown",
            "metadata": {},
            "source": [
                "## Using matplotlib to Show the graph"
            ]
        },
        {
            "cell_type": "code",
            "execution_count": 24,
            "metadata": {},
            "outputs": [
                {
                    "data": {
                        "image/png": "[encoded data removed]",
                        "text/plain": [
                            "<Figure size 1200x600 with 1 Axes>"
                        ]
                    },
                    "metadata": {},
                    "output_type": "display_data"
                }
            ],
            "source": [
                "plt.figure(figsize = (12, 6))\n",
                "df_combined['Closing Price'][:-forecast_out].plot(label = 'Training Data')\n",
                "df_combined['Closing Price'][-forecast_out:].plot(label = 'Forecast Data')\n",
                "plt.legend(loc = 4)\n",
                "plt.xlabel('Date')\n",
                "plt.ylabel('Closing Price')\n",
                "plt.show()"
            ]
        },
        {
            "cell_type": "code",
            "execution_count": 27,
            "metadata": {},
            "outputs": [
                {
                    "name": "stdout",
                    "output_type": "stream",
                    "text": [
                        "<class 'pandas.core.frame.DataFrame'>\n",
                        "DatetimeIndex: 6895 entries, 1995-02-17 to 2025-02-18\n",
                        "Data columns (total 1 columns):\n",
                        " #   Column         Non-Null Count  Dtype  \n",
                        "---  ------         --------------  -----  \n",
                        " 0   Closing Price  6895 non-null   float64\n",
                        "dtypes: float64(1)\n",
                        "memory usage: 107.7 KB\n"
                    ]
                },
                {
                    "data": {
                        "application/vnd.microsoft.datawrangler.viewer.v0+json": {
                            "columns": [
                                {
                                    "name": "Date",
                                    "rawType": "datetime64[ns]",
                                    "type": "datetime"
                                },
                                {
                                    "name": "Closing Price",
                                    "rawType": "float64",
                                    "type": "float"
                                }
                            ],
                            "conversionMethod": "pd.DataFrame",
                            "ref": "ad52fb70-6b79-4ee5-92d7-79f9f5a17d9c",
                            "rows": [
                                [
                                    "2022-06-28 00:00:00",
                                    "11.64"
                                ],
                                [
                                    "2022-06-29 00:00:00",
                                    "11.55"
                                ],
                                [
                                    "2011-03-29 00:00:00",
                                    "11.3"
                                ],
                                [
                                    "2024-12-03 00:00:00",
                                    "11.05"
                                ],
                                [
                                    "2022-07-01 00:00:00",
                                    "11.03"
                                ],
                                [
                                    "2022-06-27 00:00:00",
                                    "10.97"
                                ],
                                [
                                    "2022-06-30 00:00:00",
                                    "10.96"
                                ],
                                [
                                    "2024-04-25 00:00:00",
                                    "10.95"
                                ],
                                [
                                    "2024-12-02 00:00:00",
                                    "10.91"
                                ],
                                [
                                    "2024-04-30 00:00:00",
                                    "10.9"
                                ],
                                [
                                    "2024-04-26 00:00:00",
                                    "10.89"
                                ],
                                [
                                    "2024-04-22 00:00:00",
                                    "10.88"
                                ],
                                [
                                    "2024-04-29 00:00:00",
                                    "10.85"
                                ],
                                [
                                    "2022-07-05 00:00:00",
                                    "10.81"
                                ],
                                [
                                    "2024-12-10 00:00:00",
                                    "10.81"
                                ],
                                [
                                    "2024-04-23 00:00:00",
                                    "10.79"
                                ],
                                [
                                    "2024-12-04 00:00:00",
                                    "10.79"
                                ],
                                [
                                    "2024-12-06 00:00:00",
                                    "10.78"
                                ],
                                [
                                    "2024-12-09 00:00:00",
                                    "10.77"
                                ],
                                [
                                    "2022-07-04 00:00:00",
                                    "10.75"
                                ],
                                [
                                    "2024-09-19 00:00:00",
                                    "10.73"
                                ],
                                [
                                    "2024-11-27 00:00:00",
                                    "10.72"
                                ],
                                [
                                    "2024-05-08 00:00:00",
                                    "10.71"
                                ],
                                [
                                    "2024-04-24 00:00:00",
                                    "10.71"
                                ],
                                [
                                    "2024-12-05 00:00:00",
                                    "10.7"
                                ],
                                [
                                    "2024-11-26 00:00:00",
                                    "10.69"
                                ],
                                [
                                    "2024-12-11 00:00:00",
                                    "10.69"
                                ],
                                [
                                    "2024-05-10 00:00:00",
                                    "10.69"
                                ],
                                [
                                    "2024-05-06 00:00:00",
                                    "10.68"
                                ],
                                [
                                    "2024-11-20 00:00:00",
                                    "10.68"
                                ],
                                [
                                    "2024-05-13 00:00:00",
                                    "10.68"
                                ],
                                [
                                    "2024-09-20 00:00:00",
                                    "10.68"
                                ],
                                [
                                    "2024-05-15 00:00:00",
                                    "10.66"
                                ],
                                [
                                    "2024-05-16 00:00:00",
                                    "10.64"
                                ],
                                [
                                    "2024-05-24 00:00:00",
                                    "10.64"
                                ],
                                [
                                    "2024-12-16 00:00:00",
                                    "10.63"
                                ],
                                [
                                    "2024-05-09 00:00:00",
                                    "10.63"
                                ],
                                [
                                    "2024-05-07 00:00:00",
                                    "10.63"
                                ],
                                [
                                    "2024-05-20 00:00:00",
                                    "10.62"
                                ],
                                [
                                    "2024-05-21 00:00:00",
                                    "10.61"
                                ],
                                [
                                    "2024-12-13 00:00:00",
                                    "10.6"
                                ],
                                [
                                    "2024-11-28 00:00:00",
                                    "10.59"
                                ],
                                [
                                    "2024-05-28 00:00:00",
                                    "10.59"
                                ],
                                [
                                    "2024-12-12 00:00:00",
                                    "10.58"
                                ],
                                [
                                    "2024-05-14 00:00:00",
                                    "10.57"
                                ],
                                [
                                    "2022-07-11 00:00:00",
                                    "10.57"
                                ],
                                [
                                    "2024-11-12 00:00:00",
                                    "10.57"
                                ],
                                [
                                    "2024-11-29 00:00:00",
                                    "10.56"
                                ],
                                [
                                    "2024-11-13 00:00:00",
                                    "10.55"
                                ],
                                [
                                    "2022-06-24 00:00:00",
                                    "10.54"
                                ]
                            ],
                            "shape": {
                                "columns": 1,
                                "rows": 6895
                            }
                        },
                        "text/html": [
                            "<div>\n",
                            "<style scoped>\n",
                            "    .dataframe tbody tr th:only-of-type {\n",
                            "        vertical-align: middle;\n",
                            "    }\n",
                            "\n",
                            "    .dataframe tbody tr th {\n",
                            "        vertical-align: top;\n",
                            "    }\n",
                            "\n",
                            "    .dataframe thead th {\n",
                            "        text-align: right;\n",
                            "    }\n",
                            "</style>\n",
                            "<table border=\"1\" class=\"dataframe\">\n",
                            "  <thead>\n",
                            "    <tr style=\"text-align: right;\">\n",
                            "      <th></th>\n",
                            "      <th>Closing Price</th>\n",
                            "    </tr>\n",
                            "    <tr>\n",
                            "      <th>Date</th>\n",
                            "      <th></th>\n",
                            "    </tr>\n",
                            "  </thead>\n",
                            "  <tbody>\n",
                            "    <tr>\n",
                            "      <th>2022-06-28</th>\n",
                            "      <td>11.64</td>\n",
                            "    </tr>\n",
                            "    <tr>\n",
                            "      <th>2022-06-29</th>\n",
                            "      <td>11.55</td>\n",
                            "    </tr>\n",
                            "    <tr>\n",
                            "      <th>2011-03-29</th>\n",
                            "      <td>11.30</td>\n",
                            "    </tr>\n",
                            "    <tr>\n",
                            "      <th>2024-12-03</th>\n",
                            "      <td>11.05</td>\n",
                            "    </tr>\n",
                            "    <tr>\n",
                            "      <th>2022-07-01</th>\n",
                            "      <td>11.03</td>\n",
                            "    </tr>\n",
                            "    <tr>\n",
                            "      <th>...</th>\n",
                            "      <td>...</td>\n",
                            "    </tr>\n",
                            "    <tr>\n",
                            "      <th>2005-07-01</th>\n",
                            "      <td>0.54</td>\n",
                            "    </tr>\n",
                            "    <tr>\n",
                            "      <th>2005-07-12</th>\n",
                            "      <td>0.54</td>\n",
                            "    </tr>\n",
                            "    <tr>\n",
                            "      <th>2005-07-07</th>\n",
                            "      <td>0.53</td>\n",
                            "    </tr>\n",
                            "    <tr>\n",
                            "      <th>2005-07-08</th>\n",
                            "      <td>0.53</td>\n",
                            "    </tr>\n",
                            "    <tr>\n",
                            "      <th>2005-06-30</th>\n",
                            "      <td>0.52</td>\n",
                            "    </tr>\n",
                            "  </tbody>\n",
                            "</table>\n",
                            "<p>6895 rows × 1 columns</p>\n",
                            "</div>"
                        ],
                        "text/plain": [
                            "            Closing Price\n",
                            "Date                     \n",
                            "2022-06-28          11.64\n",
                            "2022-06-29          11.55\n",
                            "2011-03-29          11.30\n",
                            "2024-12-03          11.05\n",
                            "2022-07-01          11.03\n",
                            "...                   ...\n",
                            "2005-07-01           0.54\n",
                            "2005-07-12           0.54\n",
                            "2005-07-07           0.53\n",
                            "2005-07-08           0.53\n",
                            "2005-06-30           0.52\n",
                            "\n",
                            "[6895 rows x 1 columns]"
                        ]
                    },
                    "execution_count": 27,
                    "metadata": {},
                    "output_type": "execute_result"
                }
            ],
            "source": [
                "df_combined.info()\n",
                "df_combined.columns\n",
                "df_combined.describe()\n",
                "df_combined.sort_values(by = 'Closing Price', ascending = False)\n"
            ]
        }
    ],
    "metadata": {
        "kernelspec": {
            "display_name": ".venv",
            "language": "python",
            "name": "python3"
        },
        "language_info": {
            "codemirror_mode": {
                "name": "ipython",
                "version": 3
            },
            "file_extension": ".py",
            "mimetype": "text/x-python",
            "name": "python",
            "nbconvert_exporter": "python",
            "pygments_lexer": "ipython3",
            "version": "3.11.8"
        }
    },
    "nbformat": 4,
    "nbformat_minor": 2
}
